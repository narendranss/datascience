{
  "cells": [
    {
      "cell_type": "markdown",
      "metadata": {
        "id": "-ul_H9KM5j-H"
      },
      "source": [
        "\n",
        "# NLP Dataset: Stackoverflow QnA Quality Analysis \n",
        "\n",
        "---\n",
        "\n"
      ]
    },
    {
      "cell_type": "markdown",
      "metadata": {
        "id": "MtHAx4Ci6C_9"
      },
      "source": [
        "\n",
        "# Import Libraries/Dataset\n",
        "\n",
        "1. Import the required libraries and the dataset (use Google Drive if required).\n",
        "\n",
        "2. Check the GPU available (recommended- use free GPU provided by Google Colab)."
      ]
    },
    {
      "cell_type": "markdown",
      "metadata": {
        "id": "hExBnIVvTkQX"
      },
      "source": [
        "## 1. Import the required libraries and the dataset (use Google Drive if required)"
      ]
    },
    {
      "cell_type": "code",
      "execution_count": 1,
      "metadata": {
        "id": "gkNat4T7WYwa"
      },
      "outputs": [],
      "source": [
        "#Importing Required Librarires\n",
        "\n",
        "# Data analysis libraries\n",
        "import numpy as np\n",
        "import pandas as pd\n",
        "\n",
        "# Analytical processing libraries\n",
        "from sklearn.model_selection import train_test_split\n",
        "\n",
        "# Neural Net Libraries\n",
        "import tensorflow as tf\n",
        "import tensorflow_datasets as tfds\n",
        "import tensorflow_hub as hub\n",
        "\n",
        "from tensorflow.keras.models import Sequential\n",
        "from tensorflow.keras.layers import Dense, Flatten, Dropout\n",
        "\n",
        "# Visualization libraries\n",
        "import matplotlib.pyplot as plt\n",
        "from matplotlib.pyplot import figure\n",
        "import seaborn as sns\n",
        "from plotly import graph_objs as go\n",
        "\n",
        "import warnings\n",
        "warnings.filterwarnings('always')\n",
        "warnings.filterwarnings('ignore')"
      ]
    },
    {
      "cell_type": "markdown",
      "metadata": {
        "id": "Zoa0K0jfTpL8"
      },
      "source": [
        "## 2. Check the GPU available (recommended- use free GPU provided by Google Colab)."
      ]
    },
    {
      "cell_type": "code",
      "execution_count": 2,
      "metadata": {
        "colab": {
          "base_uri": "https://localhost:8080/"
        },
        "id": "LefCcPnXWY82",
        "outputId": "9d289c70-7e7f-45cc-c586-6a95e777073a"
      },
      "outputs": [
        {
          "data": {
            "text/plain": [
              "[PhysicalDevice(name='/physical_device:GPU:0', device_type='GPU')]"
            ]
          },
          "execution_count": 2,
          "metadata": {
            "tags": []
          },
          "output_type": "execute_result"
        }
      ],
      "source": [
        "tf.config.list_physical_devices('GPU')"
      ]
    },
    {
      "cell_type": "code",
      "execution_count": 3,
      "metadata": {
        "colab": {
          "base_uri": "https://localhost:8080/"
        },
        "id": "kVU8Bd3SXpj4",
        "outputId": "92f4e91f-fcee-4c84-e08b-6f314c6f636d"
      },
      "outputs": [
        {
          "name": "stdout",
          "output_type": "stream",
          "text": [
            "Tue Jul 13 15:21:36 2021       \n",
            "+-----------------------------------------------------------------------------+\n",
            "| NVIDIA-SMI 470.42.01    Driver Version: 460.32.03    CUDA Version: 11.2     |\n",
            "|-------------------------------+----------------------+----------------------+\n",
            "| GPU  Name        Persistence-M| Bus-Id        Disp.A | Volatile Uncorr. ECC |\n",
            "| Fan  Temp  Perf  Pwr:Usage/Cap|         Memory-Usage | GPU-Util  Compute M. |\n",
            "|                               |                      |               MIG M. |\n",
            "|===============================+======================+======================|\n",
            "|   0  Tesla T4            Off  | 00000000:00:04.0 Off |                    0 |\n",
            "| N/A   56C    P8    10W /  70W |      3MiB / 15109MiB |      0%      Default |\n",
            "|                               |                      |                  N/A |\n",
            "+-------------------------------+----------------------+----------------------+\n",
            "                                                                               \n",
            "+-----------------------------------------------------------------------------+\n",
            "| Processes:                                                                  |\n",
            "|  GPU   GI   CI        PID   Type   Process name                  GPU Memory |\n",
            "|        ID   ID                                                   Usage      |\n",
            "|=============================================================================|\n",
            "|  No running processes found                                                 |\n",
            "+-----------------------------------------------------------------------------+\n"
          ]
        }
      ],
      "source": [
        "!nvidia-smi"
      ]
    },
    {
      "cell_type": "markdown",
      "metadata": {
        "id": "w3ve4bc6Ws9f"
      },
      "source": [
        "## Extra: Importing Dataset from Kaggle with Kaggle API and User API Access Token."
      ]
    },
    {
      "cell_type": "code",
      "execution_count": 4,
      "metadata": {
        "colab": {
          "base_uri": "https://localhost:8080/"
        },
        "id": "cR3Ux-xB6Wor",
        "outputId": "2bb72b1d-5e61-49e6-f4ce-82af30307c3c"
      },
      "outputs": [
        {
          "name": "stdout",
          "output_type": "stream",
          "text": [
            "Processing /root/.cache/pip/wheels/a1/6a/26/d30b7499ff85a4a4593377a87ecf55f7d08af42f0de9b60303/kaggle-1.5.12-cp37-none-any.whl\n",
            "Installing collected packages: kaggle\n",
            "  Found existing installation: kaggle 1.5.12\n",
            "    Uninstalling kaggle-1.5.12:\n",
            "      Successfully uninstalled kaggle-1.5.12\n",
            "Successfully installed kaggle-1.5.12\n"
          ]
        }
      ],
      "source": [
        "!pip install --upgrade --force-reinstall --no-deps kaggle"
      ]
    },
    {
      "cell_type": "code",
      "execution_count": 5,
      "metadata": {
        "colab": {
          "base_uri": "https://localhost:8080/",
          "height": 92,
          "resources": {
            "http://localhost:8080/nbextensions/google.colab/files.js": {
              "data": "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",
              "headers": [
                [
                  "content-type",
                  "application/javascript"
                ]
              ],
              "ok": true,
              "status": 200,
              "status_text": "OK"
            }
          }
        },
        "id": "NuqZzqSSjZeW",
        "outputId": "cce39f30-9e26-4c08-c1a9-aa74e5cec84d"
      },
      "outputs": [
        {
          "data": {
            "text/html": [
              "\n",
              "     <input type=\"file\" id=\"files-6f0b8a12-3506-4ce1-9528-d7d41ec1a5ab\" name=\"files[]\" multiple disabled\n",
              "        style=\"border:none\" />\n",
              "     <output id=\"result-6f0b8a12-3506-4ce1-9528-d7d41ec1a5ab\">\n",
              "      Upload widget is only available when the cell has been executed in the\n",
              "      current browser session. Please rerun this cell to enable.\n",
              "      </output>\n",
              "      <script src=\"/nbextensions/google.colab/files.js\"></script> "
            ],
            "text/plain": [
              "<IPython.core.display.HTML object>"
            ]
          },
          "metadata": {
            "tags": []
          },
          "output_type": "display_data"
        },
        {
          "name": "stdout",
          "output_type": "stream",
          "text": [
            "Saving kaggle.json to kaggle (1).json\n"
          ]
        },
        {
          "data": {
            "text/plain": [
              "{'kaggle.json': b'{\"username\":\"narendranss\",\"key\":\"3747f507a6ffd8354d545ce7636cb503\"}'}"
            ]
          },
          "execution_count": 5,
          "metadata": {
            "tags": []
          },
          "output_type": "execute_result"
        }
      ],
      "source": [
        "# create an API token for your profile in kaggle and download the kaggle.json file and upload it over here\n",
        "from google.colab import files\n",
        "files.upload()"
      ]
    },
    {
      "cell_type": "code",
      "execution_count": 6,
      "metadata": {
        "id": "8JnQqDU3jkvF"
      },
      "outputs": [],
      "source": [
        "# Hint: Run 2 times otherwise permissions are not setting.\n",
        "\n",
        "# ! mkdir ~/.kaggle\n",
        "! cp kaggle.json ~/.kaggle/\n",
        "! chmod 600 ~/.kaggle/kaggle.json"
      ]
    },
    {
      "cell_type": "code",
      "execution_count": 7,
      "metadata": {
        "colab": {
          "base_uri": "https://localhost:8080/"
        },
        "id": "qhIdgXxjjzqO",
        "outputId": "d2175466-41b8-4095-9231-1db7936ffbb8"
      },
      "outputs": [
        {
          "name": "stdout",
          "output_type": "stream",
          "text": [
            "ref                                                         title                                              size  lastUpdated          downloadCount  voteCount  usabilityRating  \n",
            "----------------------------------------------------------  ------------------------------------------------  -----  -------------------  -------------  ---------  ---------------  \n",
            "gpreda/reddit-vaccine-myths                                 Reddit Vaccine Myths                              233KB  2021-07-07 19:18:09           9145        774  1.0              \n",
            "crowww/a-large-scale-fish-dataset                           A Large Scale Fish Dataset                          3GB  2021-04-28 17:03:01           5596        442  0.9375           \n",
            "imsparsh/musicnet-dataset                                   MusicNet Dataset                                   22GB  2021-02-18 14:12:19           2028        160  1.0              \n",
            "dhruvildave/wikibooks-dataset                               Wikibooks Dataset                                   2GB  2021-07-03 18:37:20           2396        181  1.0              \n",
            "promptcloud/careerbuilder-job-listing-2020                  Careerbuilder Job Listing 2020                     42MB  2021-03-05 06:59:52           1340         52  1.0              \n",
            "nickuzmenkov/nih-chest-xrays-tfrecords                      NIH Chest X-rays TFRecords                         11GB  2021-03-09 04:49:23            741         44  0.9411765        \n",
            "fatiimaezzahra/famous-iconic-women                          Famous Iconic Women                               838MB  2021-02-28 14:56:00            939         73  0.75             \n",
            "coloradokb/dandelionimages                                  DandelionImages                                     4GB  2021-02-19 20:03:47            679         34  0.75             \n",
            "alsgroup/end-als                                            End ALS Kaggle Challenge                           12GB  2021-04-08 12:16:37            775        110  0.9375           \n",
            "mathurinache/twitter-edge-nodes                             Twitter Edge Nodes                                342MB  2021-03-08 06:43:04            633         63  1.0              \n",
            "simiotic/github-code-snippets                               GitHub Code Snippets                                7GB  2021-03-03 11:34:39            221         52  1.0              \n",
            "landrykezebou/lvzhdr-tone-mapping-benchmark-dataset-tmonet  LVZ-HDR Tone Mapping Benchmark Dataset (TMO-Net)   24GB  2021-03-01 05:03:40            154         23  0.6875           \n",
            "mathurinache/the-lj-speech-dataset                          The LJ Speech Dataset                               3GB  2021-02-15 09:19:54            235         38  1.0              \n",
            "imsparsh/accentdb-core-extended                             AccentDB - Core & Extended                          6GB  2021-02-17 14:22:54             92         23  0.8125           \n",
            "stuartjames/lights                                          LightS: Light Specularity Dataset                  18GB  2021-02-18 14:32:26             89         24  0.6875           \n",
            "nickuzmenkov/ranzcr-clip-kfold-tfrecords                    RANZCR CLiP KFold TFRecords                         2GB  2021-02-21 13:29:51            101         19  0.875            \n",
            "datasnaek/youtube-new                                       Trending YouTube Video Statistics                 201MB  2019-06-03 00:56:47         144413       4052  0.7941176        \n",
            "zynicide/wine-reviews                                       Wine Reviews                                       51MB  2017-11-27 17:08:04         140023       3108  0.7941176        \n",
            "residentmario/ramen-ratings                                 Ramen Ratings                                      40KB  2018-01-11 16:04:39          24850        609  0.7058824        \n",
            "datasnaek/chess                                             Chess Game Dataset (Lichess)                        3MB  2017-09-04 03:09:09          19884        766  0.8235294        \n"
          ]
        }
      ],
      "source": [
        "! kaggle datasets list"
      ]
    },
    {
      "cell_type": "code",
      "execution_count": 8,
      "metadata": {
        "colab": {
          "base_uri": "https://localhost:8080/"
        },
        "id": "_is8zcp2hTTC",
        "outputId": "7eb0f3b1-dc92-40a3-8a45-23a3e5b59c5a"
      },
      "outputs": [
        {
          "name": "stdout",
          "output_type": "stream",
          "text": [
            "Downloading 60k-stack-overflow-questions-with-quality-rate.zip to /content/sample_data\n",
            " 43% 9.00M/21.0M [00:00<00:00, 34.9MB/s]\n",
            "100% 21.0M/21.0M [00:00<00:00, 67.4MB/s]\n"
          ]
        }
      ],
      "source": [
        "!kaggle datasets download -d imoore/60k-stack-overflow-questions-with-quality-rate -p /content/sample_data/ --unzip"
      ]
    },
    {
      "cell_type": "code",
      "execution_count": 9,
      "metadata": {
        "colab": {
          "base_uri": "https://localhost:8080/"
        },
        "id": "uvkyKZHkkm0P",
        "outputId": "63df5a88-b333-4035-d729-cb885b4472fb"
      },
      "outputs": [
        {
          "name": "stdout",
          "output_type": "stream",
          "text": [
            "/content/sample_data/anscombe.json\n",
            "/content/sample_data/README.md\n",
            "/content/sample_data/valid.csv\n",
            "/content/sample_data/train.csv\n",
            "/content/sample_data/california_housing_test.csv\n",
            "/content/sample_data/mnist_train_small.csv\n",
            "/content/sample_data/mnist_test.csv\n",
            "/content/sample_data/california_housing_train.csv\n"
          ]
        }
      ],
      "source": [
        "import os\n",
        "for dirname, _, filenames in os.walk('/content/sample_data'):\n",
        "    for filename in filenames:\n",
        "        print(os.path.join(dirname, filename))"
      ]
    },
    {
      "cell_type": "markdown",
      "metadata": {
        "id": "e2EyefKoWy2I"
      },
      "source": [
        "## Extra: Exploring Required Dataset"
      ]
    },
    {
      "cell_type": "code",
      "execution_count": 10,
      "metadata": {
        "colab": {
          "base_uri": "https://localhost:8080/",
          "height": 206
        },
        "id": "ptlGJOLMldrv",
        "outputId": "be275468-c387-4164-e1dc-eadb84b70d79"
      },
      "outputs": [
        {
          "data": {
            "text/html": [
              "<div>\n",
              "<style scoped>\n",
              "    .dataframe tbody tr th:only-of-type {\n",
              "        vertical-align: middle;\n",
              "    }\n",
              "\n",
              "    .dataframe tbody tr th {\n",
              "        vertical-align: top;\n",
              "    }\n",
              "\n",
              "    .dataframe thead th {\n",
              "        text-align: right;\n",
              "    }\n",
              "</style>\n",
              "<table border=\"1\" class=\"dataframe\">\n",
              "  <thead>\n",
              "    <tr style=\"text-align: right;\">\n",
              "      <th></th>\n",
              "      <th>Id</th>\n",
              "      <th>Title</th>\n",
              "      <th>Body</th>\n",
              "      <th>Tags</th>\n",
              "      <th>CreationDate</th>\n",
              "      <th>Y</th>\n",
              "    </tr>\n",
              "  </thead>\n",
              "  <tbody>\n",
              "    <tr>\n",
              "      <th>0</th>\n",
              "      <td>34552656</td>\n",
              "      <td>Java: Repeat Task Every Random Seconds</td>\n",
              "      <td>&lt;p&gt;I'm already familiar with repeating tasks e...</td>\n",
              "      <td>&lt;java&gt;&lt;repeat&gt;</td>\n",
              "      <td>2016-01-01 00:21:59</td>\n",
              "      <td>LQ_CLOSE</td>\n",
              "    </tr>\n",
              "    <tr>\n",
              "      <th>1</th>\n",
              "      <td>34553034</td>\n",
              "      <td>Why are Java Optionals immutable?</td>\n",
              "      <td>&lt;p&gt;I'd like to understand why Java 8 Optionals...</td>\n",
              "      <td>&lt;java&gt;&lt;optional&gt;</td>\n",
              "      <td>2016-01-01 02:03:20</td>\n",
              "      <td>HQ</td>\n",
              "    </tr>\n",
              "    <tr>\n",
              "      <th>2</th>\n",
              "      <td>34553174</td>\n",
              "      <td>Text Overlay Image with Darkened Opacity React...</td>\n",
              "      <td>&lt;p&gt;I am attempting to overlay a title over an ...</td>\n",
              "      <td>&lt;javascript&gt;&lt;image&gt;&lt;overlay&gt;&lt;react-native&gt;&lt;opa...</td>\n",
              "      <td>2016-01-01 02:48:24</td>\n",
              "      <td>HQ</td>\n",
              "    </tr>\n",
              "    <tr>\n",
              "      <th>3</th>\n",
              "      <td>34553318</td>\n",
              "      <td>Why ternary operator in swift is so picky?</td>\n",
              "      <td>&lt;p&gt;The question is very simple, but I just cou...</td>\n",
              "      <td>&lt;swift&gt;&lt;operators&gt;&lt;whitespace&gt;&lt;ternary-operato...</td>\n",
              "      <td>2016-01-01 03:30:17</td>\n",
              "      <td>HQ</td>\n",
              "    </tr>\n",
              "    <tr>\n",
              "      <th>4</th>\n",
              "      <td>34553755</td>\n",
              "      <td>hide/show fab with scale animation</td>\n",
              "      <td>&lt;p&gt;I'm using custom floatingactionmenu. I need...</td>\n",
              "      <td>&lt;android&gt;&lt;material-design&gt;&lt;floating-action-but...</td>\n",
              "      <td>2016-01-01 05:21:48</td>\n",
              "      <td>HQ</td>\n",
              "    </tr>\n",
              "  </tbody>\n",
              "</table>\n",
              "</div>"
            ],
            "text/plain": [
              "         Id  ...         Y\n",
              "0  34552656  ...  LQ_CLOSE\n",
              "1  34553034  ...        HQ\n",
              "2  34553174  ...        HQ\n",
              "3  34553318  ...        HQ\n",
              "4  34553755  ...        HQ\n",
              "\n",
              "[5 rows x 6 columns]"
            ]
          },
          "execution_count": 10,
          "metadata": {
            "tags": []
          },
          "output_type": "execute_result"
        }
      ],
      "source": [
        "import pandas as pd\n",
        "\n",
        "df = pd.read_csv(\"/content/sample_data/train.csv\")\n",
        "df.head()"
      ]
    },
    {
      "cell_type": "code",
      "execution_count": 11,
      "metadata": {
        "colab": {
          "base_uri": "https://localhost:8080/"
        },
        "id": "OruoyKNdm882",
        "outputId": "4074930b-4ee2-4710-c29d-803d459dee14"
      },
      "outputs": [
        {
          "name": "stdout",
          "output_type": "stream",
          "text": [
            "<class 'pandas.core.frame.DataFrame'>\n",
            "RangeIndex: 45000 entries, 0 to 44999\n",
            "Data columns (total 6 columns):\n",
            " #   Column        Non-Null Count  Dtype \n",
            "---  ------        --------------  ----- \n",
            " 0   Id            45000 non-null  int64 \n",
            " 1   Title         45000 non-null  object\n",
            " 2   Body          45000 non-null  object\n",
            " 3   Tags          45000 non-null  object\n",
            " 4   CreationDate  45000 non-null  object\n",
            " 5   Y             45000 non-null  object\n",
            "dtypes: int64(1), object(5)\n",
            "memory usage: 2.1+ MB\n"
          ]
        }
      ],
      "source": [
        "df.info()"
      ]
    },
    {
      "cell_type": "code",
      "execution_count": 12,
      "metadata": {
        "colab": {
          "base_uri": "https://localhost:8080/",
          "height": 206
        },
        "id": "SCCTW8VWlule",
        "outputId": "92130f74-1ae7-4f4d-d678-edb64c9cdb08"
      },
      "outputs": [
        {
          "data": {
            "text/html": [
              "<div>\n",
              "<style scoped>\n",
              "    .dataframe tbody tr th:only-of-type {\n",
              "        vertical-align: middle;\n",
              "    }\n",
              "\n",
              "    .dataframe tbody tr th {\n",
              "        vertical-align: top;\n",
              "    }\n",
              "\n",
              "    .dataframe thead th {\n",
              "        text-align: right;\n",
              "    }\n",
              "</style>\n",
              "<table border=\"1\" class=\"dataframe\">\n",
              "  <thead>\n",
              "    <tr style=\"text-align: right;\">\n",
              "      <th></th>\n",
              "      <th>Id</th>\n",
              "      <th>Title</th>\n",
              "      <th>Body</th>\n",
              "      <th>Tags</th>\n",
              "      <th>CreationDate</th>\n",
              "      <th>Y</th>\n",
              "    </tr>\n",
              "  </thead>\n",
              "  <tbody>\n",
              "    <tr>\n",
              "      <th>0</th>\n",
              "      <td>34552974</td>\n",
              "      <td>How to get all the child records from differen...</td>\n",
              "      <td>I am having 4 different tables like \\r\\nselect...</td>\n",
              "      <td>&lt;sql&gt;&lt;sql-server&gt;</td>\n",
              "      <td>2016-01-01 01:44:52</td>\n",
              "      <td>LQ_EDIT</td>\n",
              "    </tr>\n",
              "    <tr>\n",
              "      <th>1</th>\n",
              "      <td>34554721</td>\n",
              "      <td>Retrieve all except some data of the another t...</td>\n",
              "      <td>I have two table m_master and tbl_appointment\\...</td>\n",
              "      <td>&lt;php&gt;&lt;mysql&gt;&lt;sql&gt;&lt;codeigniter&gt;&lt;mysqli&gt;</td>\n",
              "      <td>2016-01-01 08:43:50</td>\n",
              "      <td>LQ_EDIT</td>\n",
              "    </tr>\n",
              "    <tr>\n",
              "      <th>2</th>\n",
              "      <td>34555135</td>\n",
              "      <td>Pandas: read_html</td>\n",
              "      <td>&lt;p&gt;I'm trying to extract US states from wiki U...</td>\n",
              "      <td>&lt;python&gt;&lt;pandas&gt;</td>\n",
              "      <td>2016-01-01 09:55:22</td>\n",
              "      <td>HQ</td>\n",
              "    </tr>\n",
              "    <tr>\n",
              "      <th>3</th>\n",
              "      <td>34555448</td>\n",
              "      <td>Reader Always gimme NULL</td>\n",
              "      <td>I'm so new to C#, I wanna make an application ...</td>\n",
              "      <td>&lt;sql-server&gt;&lt;c#-4.0&gt;</td>\n",
              "      <td>2016-01-01 10:43:45</td>\n",
              "      <td>LQ_EDIT</td>\n",
              "    </tr>\n",
              "    <tr>\n",
              "      <th>4</th>\n",
              "      <td>34555752</td>\n",
              "      <td>php rearrange array elements based on condition</td>\n",
              "      <td>basically i have this array:\\r\\n\\r\\n    array(...</td>\n",
              "      <td>&lt;php&gt;</td>\n",
              "      <td>2016-01-01 11:34:09</td>\n",
              "      <td>LQ_EDIT</td>\n",
              "    </tr>\n",
              "  </tbody>\n",
              "</table>\n",
              "</div>"
            ],
            "text/plain": [
              "         Id  ...        Y\n",
              "0  34552974  ...  LQ_EDIT\n",
              "1  34554721  ...  LQ_EDIT\n",
              "2  34555135  ...       HQ\n",
              "3  34555448  ...  LQ_EDIT\n",
              "4  34555752  ...  LQ_EDIT\n",
              "\n",
              "[5 rows x 6 columns]"
            ]
          },
          "execution_count": 12,
          "metadata": {
            "tags": []
          },
          "output_type": "execute_result"
        }
      ],
      "source": [
        "vdf = pd.read_csv(\"/content/sample_data/valid.csv\")\n",
        "vdf.head()"
      ]
    },
    {
      "cell_type": "markdown",
      "metadata": {
        "id": "Hohe6GmD6MFb"
      },
      "source": [
        "# Data Visualization\n",
        "\n",
        "1. Print at least two Body texts from each class of the dataset, for a sanity check that labels match the text\n",
        "2. Plot a bar graph of class distribution in a dataset. Each bar depicts the number of texts belonging to a particular class(Type). (recommended - matplotlib/seaborn libraries)\n",
        "3. Any other visualizations that seem appropriate for this problem are encouraged but not necessary, for the points.\n",
        "4. Print the shapes of train and test data.\n"
      ]
    },
    {
      "cell_type": "markdown",
      "metadata": {
        "id": "uoMdj03hUeFY"
      },
      "source": [
        "## 1. Print at least two Body texts from each class of the dataset, for a sanity check that labels match the text"
      ]
    },
    {
      "cell_type": "code",
      "execution_count": 13,
      "metadata": {
        "colab": {
          "base_uri": "https://localhost:8080/",
          "height": 237
        },
        "id": "p5JSmhyTaLEK",
        "outputId": "1ae4d851-d8b4-4832-f3b8-423712d612b5"
      },
      "outputs": [
        {
          "data": {
            "text/html": [
              "<div>\n",
              "<style scoped>\n",
              "    .dataframe tbody tr th:only-of-type {\n",
              "        vertical-align: middle;\n",
              "    }\n",
              "\n",
              "    .dataframe tbody tr th {\n",
              "        vertical-align: top;\n",
              "    }\n",
              "\n",
              "    .dataframe thead th {\n",
              "        text-align: right;\n",
              "    }\n",
              "</style>\n",
              "<table border=\"1\" class=\"dataframe\">\n",
              "  <thead>\n",
              "    <tr style=\"text-align: right;\">\n",
              "      <th></th>\n",
              "      <th>Id</th>\n",
              "      <th>Title</th>\n",
              "      <th>Body</th>\n",
              "      <th>Tags</th>\n",
              "      <th>CreationDate</th>\n",
              "      <th>Y</th>\n",
              "    </tr>\n",
              "  </thead>\n",
              "  <tbody>\n",
              "    <tr>\n",
              "      <th>0</th>\n",
              "      <td>34552656</td>\n",
              "      <td>Java: Repeat Task Every Random Seconds</td>\n",
              "      <td>&lt;p&gt;I'm already familiar with repeating tasks e...</td>\n",
              "      <td>&lt;java&gt;&lt;repeat&gt;</td>\n",
              "      <td>2016-01-01 00:21:59</td>\n",
              "      <td>LQ_CLOSE</td>\n",
              "    </tr>\n",
              "    <tr>\n",
              "      <th>1</th>\n",
              "      <td>34553034</td>\n",
              "      <td>Why are Java Optionals immutable?</td>\n",
              "      <td>&lt;p&gt;I'd like to understand why Java 8 Optionals...</td>\n",
              "      <td>&lt;java&gt;&lt;optional&gt;</td>\n",
              "      <td>2016-01-01 02:03:20</td>\n",
              "      <td>HQ</td>\n",
              "    </tr>\n",
              "    <tr>\n",
              "      <th>2</th>\n",
              "      <td>34553174</td>\n",
              "      <td>Text Overlay Image with Darkened Opacity React...</td>\n",
              "      <td>&lt;p&gt;I am attempting to overlay a title over an ...</td>\n",
              "      <td>&lt;javascript&gt;&lt;image&gt;&lt;overlay&gt;&lt;react-native&gt;&lt;opa...</td>\n",
              "      <td>2016-01-01 02:48:24</td>\n",
              "      <td>HQ</td>\n",
              "    </tr>\n",
              "    <tr>\n",
              "      <th>5</th>\n",
              "      <td>34554026</td>\n",
              "      <td>Accessing pointer member of the structure usin...</td>\n",
              "      <td>&lt;p&gt;I have defined integer pointer inside the s...</td>\n",
              "      <td>&lt;c&gt;&lt;pointers&gt;&lt;data-structures&gt;</td>\n",
              "      <td>2016-01-01 06:21:17</td>\n",
              "      <td>LQ_CLOSE</td>\n",
              "    </tr>\n",
              "    <tr>\n",
              "      <th>6</th>\n",
              "      <td>34554206</td>\n",
              "      <td>How To Disable 2nd Saturday 4th Saturday ,Sund...</td>\n",
              "      <td>i want to Disable 2nd Saturday 4th saturday,...</td>\n",
              "      <td>&lt;javascript&gt;&lt;jquery&gt;&lt;jquery-ui&gt;</td>\n",
              "      <td>2016-01-01 06:55:18</td>\n",
              "      <td>LQ_EDIT</td>\n",
              "    </tr>\n",
              "    <tr>\n",
              "      <th>7</th>\n",
              "      <td>34554671</td>\n",
              "      <td>Resizing containers in bootstrap</td>\n",
              "      <td>I am new to bootstrap and i would like to find...</td>\n",
              "      <td>&lt;jquery&gt;&lt;html&gt;&lt;css&gt;&lt;twitter-bootstrap&gt;</td>\n",
              "      <td>2016-01-01 08:32:05</td>\n",
              "      <td>LQ_EDIT</td>\n",
              "    </tr>\n",
              "  </tbody>\n",
              "</table>\n",
              "</div>"
            ],
            "text/plain": [
              "         Id  ...         Y\n",
              "0  34552656  ...  LQ_CLOSE\n",
              "1  34553034  ...        HQ\n",
              "2  34553174  ...        HQ\n",
              "5  34554026  ...  LQ_CLOSE\n",
              "6  34554206  ...   LQ_EDIT\n",
              "7  34554671  ...   LQ_EDIT\n",
              "\n",
              "[6 rows x 6 columns]"
            ]
          },
          "execution_count": 13,
          "metadata": {
            "tags": []
          },
          "output_type": "execute_result"
        }
      ],
      "source": [
        "# Print at least two movie reviews from each class of the dataset, for a sanity check that labels match the text.\n",
        "df.groupby('Y', as_index=False).head(2)"
      ]
    },
    {
      "cell_type": "markdown",
      "metadata": {
        "id": "ClO4gULeUnzV"
      },
      "source": [
        "## 2. Plot a bar graph of class distribution in a dataset. Each bar depicts the number of texts belonging to a particular class(Type). (recommended - matplotlib/seaborn libraries)"
      ]
    },
    {
      "cell_type": "code",
      "execution_count": 14,
      "metadata": {
        "colab": {
          "base_uri": "https://localhost:8080/",
          "height": 395
        },
        "id": "fmK_KYDiAodi",
        "outputId": "63ad8ccd-46bc-4bb2-98c5-3d0bed941138"
      },
      "outputs": [
        {
          "data": {
            "image/png": "[encoded data removed]",
            "text/plain": [
              "<Figure size 1700x400 with 2 Axes>"
            ]
          },
          "metadata": {
            "needs_background": "light",
            "tags": []
          },
          "output_type": "display_data"
        }
      ],
      "source": [
        "#Plot a bar graph of class distribution in a dataset. Each bar depicts the number of texts belonging to a particular class. (recommended - matplotlib/seaborn libraries)\n",
        "\n",
        "fig, axes = plt.subplots(ncols = 2, figsize = (17, 4), dpi = 100)\n",
        "plt.tight_layout()\n",
        "\n",
        "df.groupby('Y').count()['Id'].plot(kind = 'pie', ax = axes[0], labels = ['High Quality (92.9%)', 'Low Quality (Closed) (7.1%)', 'Low Quality (Multiple Edits)'])\n",
        "sns.countplot(x = df['Y'], hue = df['Y'], ax = axes[1])\n",
        "\n",
        "axes[0].set_ylabel('')\n",
        "axes[1].set_ylabel('')\n",
        "axes[1].set_xticklabels(['High Quality', 'Low Quality (Closed)', 'Low Quality (Multiple Edits)'])\n",
        "axes[0].tick_params(axis = 'x', labelsize = 15)\n",
        "axes[0].tick_params(axis = 'y', labelsize = 15)\n",
        "axes[1].tick_params(axis = 'x', labelsize = 15)\n",
        "axes[1].tick_params(axis = 'y', labelsize = 15)\n",
        "\n",
        "axes[0].set_title('Label Distribution in Training Set', fontsize = 13)\n",
        "axes[1].set_title('Label Count in Training Set', fontsize = 13)\n",
        "\n",
        "plt.show()"
      ]
    },
    {
      "cell_type": "markdown",
      "metadata": {
        "id": "GxvTLk-J0F1h"
      },
      "source": [
        "The Data is free of CLASS IMBALANCE, so processing required."
      ]
    },
    {
      "cell_type": "markdown",
      "metadata": {
        "id": "OKg6w5vbU4Dg"
      },
      "source": [
        "## 3. Any other visualizations that seem appropriate for this problem are encouraged but not necessary, for the points."
      ]
    },
    {
      "cell_type": "code",
      "execution_count": 15,
      "metadata": {
        "id": "g49aspzLau7P"
      },
      "outputs": [],
      "source": [
        "# check text quality based on lenght of text\n",
        "df['text'] = df['Title'] + \" \" + df['Body']\n",
        "high = df[df['Y']=='HQ']['text'].str.split().map(lambda x: len(x) if len(x) < 500 else 500)\n",
        "low_open = df[df['Y']=='LQ_EDIT']['text'].str.split().map(lambda x: len(x) if len(x) < 500 else 500)\n",
        "low_closed = df[df['Y']=='LQ_CLOSE']['text'].str.split().map(lambda x: len(x) if len(x) < 500 else 500)"
      ]
    },
    {
      "cell_type": "code",
      "execution_count": 16,
      "metadata": {
        "colab": {
          "base_uri": "https://localhost:8080/",
          "height": 542
        },
        "id": "qaI2XDLV6XXD",
        "outputId": "54f10d69-e6bc-492c-efdb-224290886387"
      },
      "outputs": [
        {
          "data": {
            "text/html": [
              "<html>\n",
              "<head><meta charset=\"utf-8\" /></head>\n",
              "<body>\n",
              "    <div>\n",
              "            <script src=\"https://cdnjs.cloudflare.com/ajax/libs/mathjax/2.7.5/MathJax.js?config=TeX-AMS-MML_SVG\"></script><script type=\"text/javascript\">if (window.MathJax) {MathJax.Hub.Config({SVG: {font: \"STIX-Web\"}});}</script>\n",
              "                <script type=\"text/javascript\">window.PlotlyConfig = {MathJaxConfig: 'local'};</script>\n",
              "        <script src=\"https://cdn.plot.ly/plotly-latest.min.js\"></script>    \n",
              "            <div id=\"461fecb0-bd60-4ede-b82e-0d6fe83d8153\" class=\"plotly-graph-div\" style=\"height:525px; width:100%;\"></div>\n",
              "            <script type=\"text/javascript\">\n",
              "                \n",
              "                    window.PLOTLYENV=window.PLOTLYENV || {};\n",
              "                    \n",
              "                if (document.getElementById(\"461fecb0-bd60-4ede-b82e-0d6fe83d8153\")) {\n",
              "                    Plotly.newPlot(\n",
              "                        '461fecb0-bd60-4ede-b82e-0d6fe83d8153',\n",
              "                        [{\"histfunc\": \"avg\", \"histnorm\": \"probability density\", \"name\": \"HQ\", \"opacity\": 0.6, \"type\": \"histogram\", \"x\": [23, 408, 116, 35, 92, 199, 381, 91, 214, 116, 39, 37, 183, 138, 64, 31, 36, 41, 55, 202, 251, 157, 47, 69, 46, 70, 156, 49, 69, 39, 109, 219, 43, 86, 61, 42, 500, 73, 43, 230, 72, 103, 67, 266, 173, 105, 92, 219, 79, 163, 47, 345, 119, 223, 84, 144, 110, 89, 84, 134, 149, 63, 60, 170, 76, 59, 48, 29, 127, 79, 144, 112, 92, 79, 187, 100, 273, 285, 111, 96, 56, 36, 64, 66, 500, 144, 84, 84, 229, 41, 82, 113, 143, 36, 92, 35, 58, 155, 68, 39, 175, 111, 50, 119, 324, 62, 119, 69, 95, 111, 85, 71, 335, 28, 178, 99, 201, 143, 133, 187, 33, 328, 90, 169, 142, 76, 28, 74, 63, 152, 63, 62, 208, 71, 51, 84, 193, 196, 64, 125, 73, 106, 75, 191, 69, 65, 91, 92, 50, 63, 372, 44, 95, 113, 128, 153, 104, 44, 107, 92, 84, 56, 119, 70, 109, 110, 183, 152, 68, 141, 160, 117, 103, 102, 34, 194, 358, 42, 66, 68, 59, 69, 237, 142, 286, 166, 210, 304, 334, 97, 116, 109, 141, 65, 193, 117, 94, 63, 159, 53, 500, 84, 346, 112, 258, 169, 174, 443, 128, 241, 78, 102, 37, 276, 183, 109, 79, 79, 214, 87, 78, 83, 70, 146, 45, 181, 94, 299, 81, 232, 59, 75, 151, 223, 228, 66, 41, 213, 38, 118, 158, 131, 85, 193, 162, 48, 125, 78, 58, 73, 295, 168, 136, 88, 257, 187, 111, 192, 99, 112, 110, 500, 94, 173, 106, 77, 84, 118, 69, 36, 33, 58, 86, 156, 70, 91, 97, 39, 51, 142, 192, 66, 66, 76, 53, 271, 165, 158, 63, 377, 197, 125, 72, 120, 143, 128, 185, 32, 168, 61, 96, 60, 79, 62, 264, 155, 68, 183, 93, 117, 103, 141, 145, 36, 305, 113, 146, 107, 30, 42, 73, 296, 110, 137, 199, 148, 500, 99, 135, 118, 44, 90, 116, 84, 139, 114, 68, 94, 28, 97, 45, 62, 152, 60, 65, 76, 156, 51, 82, 131, 394, 83, 137, 127, 42, 140, 51, 96, 379, 40, 121, 44, 107, 49, 76, 92, 80, 66, 83, 80, 36, 64, 108, 261, 29, 38, 29, 83, 85, 70, 399, 56, 94, 409, 30, 310, 172, 87, 151, 127, 273, 302, 133, 137, 350, 262, 78, 183, 500, 389, 48, 104, 60, 77, 172, 72, 142, 214, 19, 144, 91, 84, 181, 53, 31, 379, 222, 89, 144, 152, 477, 46, 318, 81, 129, 229, 58, 62, 66, 60, 59, 33, 106, 341, 91, 69, 109, 45, 49, 434, 17, 211, 500, 214, 74, 44, 262, 109, 94, 146, 78, 71, 142, 61, 113, 32, 500, 115, 115, 33, 46, 66, 104, 48, 128, 206, 312, 95, 126, 206, 207, 33, 63, 229, 53, 96, 125, 83, 500, 83, 183, 61, 162, 58, 171, 154, 87, 117, 90, 81, 65, 61, 64, 73, 343, 50, 104, 142, 160, 100, 73, 114, 151, 194, 87, 125, 72, 194, 76, 25, 213, 59, 161, 80, 215, 133, 86, 76, 79, 272, 221, 85, 112, 251, 271, 105, 105, 94, 65, 142, 237, 140, 136, 80, 72, 109, 100, 140, 37, 144, 56, 299, 112, 109, 225, 118, 60, 112, 73, 106, 234, 35, 225, 109, 157, 221, 40, 50, 89, 230, 132, 86, 57, 57, 150, 156, 116, 211, 75, 196, 39, 145, 82, 143, 50, 96, 59, 212, 75, 95, 287, 76, 46, 123, 51, 35, 105, 236, 190, 75, 139, 104, 35, 82, 226, 157, 260, 93, 123, 364, 37, 48, 94, 186, 166, 216, 317, 80, 36, 500, 86, 27, 77, 44, 82, 62, 65, 90, 140, 42, 64, 73, 234, 161, 220, 34, 243, 33, 59, 66, 179, 119, 53, 108, 326, 84, 69, 153, 99, 139, 61, 71, 246, 82, 194, 49, 118, 151, 97, 135, 28, 145, 93, 87, 106, 147, 35, 276, 106, 161, 169, 242, 76, 111, 73, 151, 43, 46, 124, 84, 116, 121, 500, 156, 103, 47, 104, 104, 80, 154, 54, 237, 39, 14, 28, 175, 60, 142, 221, 29, 202, 149, 93, 317, 39, 156, 190, 147, 91, 61, 129, 99, 64, 109, 239, 122, 101, 89, 79, 161, 64, 147, 35, 49, 202, 148, 114, 105, 112, 237, 123, 60, 129, 170, 330, 81, 57, 141, 162, 149, 385, 45, 24, 41, 116, 139, 123, 264, 128, 240, 88, 192, 144, 171, 93, 134, 32, 201, 135, 225, 165, 85, 52, 80, 287, 63, 98, 61, 92, 76, 125, 77, 131, 213, 52, 155, 86, 260, 143, 436, 268, 51, 43, 128, 135, 277, 65, 61, 148, 64, 175, 186, 211, 500, 76, 76, 143, 43, 45, 49, 61, 46, 240, 117, 98, 77, 60, 49, 65, 125, 103, 183, 191, 68, 92, 88, 148, 231, 177, 409, 126, 48, 51, 62, 198, 46, 295, 150, 125, 116, 398, 95, 119, 87, 121, 68, 69, 47, 51, 133, 387, 164, 70, 55, 157, 143, 44, 370, 253, 78, 41, 160, 57, 208, 155, 38, 41, 144, 157, 155, 73, 113, 67, 56, 82, 67, 56, 66, 100, 370, 40, 46, 260, 116, 80, 209, 439, 184, 76, 96, 130, 118, 124, 139, 63, 168, 77, 75, 64, 47, 217, 225, 116, 112, 219, 40, 81, 114, 97, 214, 72, 77, 375, 130, 249, 202, 143, 101, 49, 211, 125, 205, 100, 183, 101, 236, 110, 23, 72, 29, 22, 38, 48, 196, 183, 100, 68, 178, 35, 122, 171, 136, 94, 35, 399, 159, 152, 294, 136, 134, 127, 58, 59, 337, 82, 63, 97, 114, 67, 236, 93, 129, 219, 53, 96, 113, 63, 54, 156, 53, 87, 77, 121, 209, 87, 407, 77, 86, 96, 137, 119, 38, 72, 44, 123, 108, 66, 96, 278, 114, 344, 105, 45, 120, 37, 174, 138, 50, 384, 82, 176, 119, 124, 184, 109, 58, 65, 29, 129, 107, 58, 60, 500, 143, 203, 207, 147, 53, 216, 237, 21, 131, 40, 47, 61, 226, 143, 41, 392, 57, 115, 79, 200, 159, 32, 430, 152, 50, 237, 129, 64, 145, 118, 262, 102, 78, 102, 170, 57, 59, 397, 57, 51, 212, 72, 104, 189, 88, 64, 75, 81, 90, 167, 48, 158, 67, 158, 221, 75, 62, 29, 114, 63, 260, 71, 235, 100, 161, 26, 61, 243, 136, 51, 160, 101, 56, 103, 159, 34, 78, 30, 102, 99, 114, 71, 88, 66, 213, 57, 126, 118, 439, 194, 65, 103, 128, 225, 58, 181, 104, 166, 78, 145, 57, 169, 69, 251, 83, 104, 129, 62, 111, 89, 49, 500, 67, 183, 65, 500, 106, 72, 98, 99, 100, 47, 248, 149, 139, 154, 106, 61, 127, 55, 124, 36, 61, 91, 76, 117, 104, 119, 84, 320, 114, 500, 196, 147, 318, 80, 203, 174, 49, 146, 22, 28, 66, 38, 104, 65, 29, 175, 167, 121, 96, 392, 317, 85, 154, 109, 98, 102, 185, 126, 88, 66, 83, 69, 119, 167, 65, 104, 363, 114, 60, 121, 320, 86, 94, 207, 26, 49, 95, 135, 216, 213, 42, 63, 99, 41, 107, 254, 88, 84, 237, 38, 159, 222, 36, 41, 147, 133, 371, 229, 65, 62, 31, 123, 37, 81, 69, 79, 31, 42, 121, 58, 85, 108, 105, 31, 108, 96, 126, 40, 153, 300, 146, 31, 99, 500, 64, 109, 49, 156, 117, 95, 81, 68, 45, 98, 105, 119, 136, 276, 500, 213, 139, 101, 93, 87, 81, 28, 74, 500, 83, 260, 47, 37, 108, 78, 80, 38, 137, 34, 92, 118, 58, 83, 110, 201, 44, 37, 48, 500, 266, 77, 51, 214, 35, 47, 259, 246, 145, 49, 60, 70, 88, 93, 500, 107, 80, 96, 127, 186, 48, 121, 31, 242, 186, 146, 208, 81, 116, 78, 245, 152, 124, 143, 323, 43, 92, 134, 129, 97, 235, 86, 65, 109, 89, 148, 389, 89, 50, 76, 140, 142, 282, 75, 36, 120, 36, 182, 83, 124, 87, 121, 125, 38, 78, 73, 27, 73, 79, 69, 102, 93, 250, 191, 255, 48, 177, 190, 139, 245, 76, 124, 64, 161, 66, 64, 38, 135, 177, 59, 89, 160, 76, 51, 143, 38, 150, 68, 113, 109, 87, 92, 95, 382, 62, 97, 387, 110, 101, 168, 211, 160, 114, 102, 132, 41, 199, 60, 84, 186, 108, 49, 107, 202, 272, 63, 44, 150, 68, 157, 49, 346, 91, 46, 31, 56, 120, 68, 76, 208, 215, 92, 90, 122, 131, 157, 86, 174, 44, 181, 44, 123, 64, 60, 80, 218, 148, 28, 93, 98, 76, 82, 43, 100, 213, 49, 141, 169, 152, 153, 274, 51, 27, 77, 234, 60, 89, 40, 78, 57, 80, 108, 46, 38, 100, 98, 95, 93, 59, 98, 105, 173, 48, 40, 216, 87, 185, 176, 52, 49, 114, 55, 153, 170, 36, 73, 73, 35, 395, 102, 82, 164, 110, 279, 44, 206, 119, 39, 33, 225, 128, 134, 64, 49, 150, 27, 292, 311, 93, 61, 139, 71, 164, 146, 59, 125, 80, 200, 399, 186, 127, 120, 164, 111, 74, 192, 141, 219, 94, 39, 46, 58, 64, 49, 500, 76, 97, 80, 18, 50, 202, 149, 157, 160, 104, 230, 91, 160, 78, 94, 45, 46, 239, 82, 69, 181, 214, 138, 271, 141, 135, 159, 256, 57, 157, 179, 131, 50, 106, 74, 105, 123, 339, 78, 146, 500, 61, 188, 68, 149, 116, 243, 85, 67, 179, 113, 120, 270, 160, 61, 166, 342, 98, 77, 69, 96, 105, 66, 178, 35, 32, 40, 29, 156, 106, 88, 152, 153, 23, 88, 54, 208, 82, 84, 330, 45, 129, 64, 152, 91, 70, 109, 64, 58, 98, 188, 102, 79, 500, 272, 88, 161, 163, 267, 52, 84, 152, 166, 35, 89, 106, 164, 264, 86, 78, 60, 112, 139, 207, 84, 189, 56, 274, 130, 86, 80, 101, 75, 293, 100, 175, 58, 164, 34, 177, 64, 105, 365, 66, 192, 211, 122, 156, 55, 42, 78, 59, 118, 52, 103, 48, 218, 212, 71, 70, 43, 278, 118, 135, 118, 236, 186, 212, 192, 40, 77, 70, 67, 181, 260, 85, 107, 52, 68, 180, 98, 241, 229, 227, 276, 183, 82, 136, 158, 104, 158, 186, 51, 56, 141, 180, 116, 98, 47, 65, 85, 204, 50, 116, 114, 114, 95, 89, 142, 78, 38, 74, 281, 166, 126, 124, 35, 88, 101, 117, 80, 113, 279, 227, 198, 104, 324, 113, 115, 81, 120, 151, 51, 139, 77, 88, 53, 250, 127, 295, 194, 56, 73, 142, 80, 57, 46, 107, 89, 42, 78, 57, 158, 127, 183, 190, 164, 131, 68, 140, 90, 143, 75, 466, 68, 30, 100, 86, 59, 214, 43, 148, 29, 115, 62, 225, 167, 80, 258, 500, 84, 83, 62, 111, 172, 198, 71, 287, 121, 115, 117, 89, 174, 319, 74, 99, 39, 128, 63, 242, 175, 117, 76, 127, 77, 61, 75, 30, 39, 176, 226, 42, 462, 233, 44, 64, 83, 70, 117, 61, 69, 152, 87, 139, 55, 211, 43, 68, 236, 500, 118, 144, 51, 98, 108, 186, 74, 85, 189, 179, 180, 84, 87, 500, 221, 34, 169, 55, 33, 58, 24, 65, 71, 44, 311, 100, 39, 82, 103, 108, 194, 185, 64, 191, 88, 171, 209, 97, 190, 133, 90, 55, 89, 94, 66, 65, 72, 57, 23, 26, 74, 79, 120, 77, 90, 232, 77, 58, 70, 114, 75, 67, 293, 98, 285, 56, 198, 112, 26, 49, 100, 61, 77, 44, 128, 72, 136, 224, 70, 67, 295, 166, 172, 118, 81, 78, 377, 287, 233, 34, 48, 109, 76, 136, 49, 91, 42, 131, 136, 111, 113, 58, 69, 18, 311, 149, 137, 175, 62, 44, 150, 196, 72, 58, 227, 129, 66, 259, 78, 97, 44, 81, 65, 70, 104, 95, 106, 51, 190, 263, 91, 64, 44, 89, 106, 73, 133, 47, 305, 77, 98, 109, 145, 33, 129, 131, 181, 55, 94, 148, 144, 65, 145, 93, 103, 79, 115, 332, 44, 222, 219, 83, 181, 47, 29, 442, 331, 73, 60, 60, 128, 118, 240, 27, 111, 76, 300, 122, 133, 25, 115, 61, 235, 132, 43, 152, 45, 157, 79, 131, 106, 55, 209, 138, 85, 286, 91, 68, 207, 301, 69, 132, 199, 59, 44, 86, 52, 66, 20, 112, 94, 100, 216, 227, 73, 85, 72, 185, 102, 138, 45, 47, 114, 195, 284, 94, 102, 86, 82, 45, 144, 200, 133, 67, 50, 18, 27, 104, 34, 41, 82, 69, 116, 80, 129, 116, 172, 90, 262, 81, 73, 91, 160, 85, 101, 373, 72, 56, 77, 95, 417, 41, 500, 121, 62, 154, 216, 221, 63, 90, 49, 150, 341, 55, 88, 33, 42, 26, 208, 60, 54, 54, 100, 300, 98, 84, 61, 95, 104, 219, 68, 45, 77, 147, 138, 85, 52, 39, 119, 56, 44, 63, 105, 84, 114, 102, 171, 136, 130, 139, 56, 110, 93, 142, 98, 122, 220, 63, 64, 85, 186, 37, 125, 48, 59, 90, 69, 84, 159, 52, 119, 41, 178, 500, 92, 148, 99, 293, 163, 85, 87, 28, 231, 111, 26, 163, 137, 142, 73, 33, 240, 59, 54, 101, 171, 195, 252, 500, 150, 83, 52, 57, 147, 65, 60, 60, 271, 188, 222, 90, 38, 38, 44, 107, 37, 251, 59, 76, 55, 78, 66, 108, 65, 132, 29, 174, 242, 500, 228, 179, 63, 91, 141, 102, 179, 91, 51, 74, 64, 113, 276, 89, 49, 50, 36, 154, 53, 323, 165, 104, 56, 177, 145, 80, 74, 206, 83, 132, 127, 48, 91, 73, 97, 151, 96, 120, 34, 37, 138, 125, 95, 127, 168, 92, 59, 88, 62, 79, 69, 90, 119, 27, 140, 34, 68, 54, 280, 191, 74, 143, 205, 500, 95, 269, 36, 47, 62, 34, 285, 120, 47, 81, 276, 264, 87, 33, 74, 85, 63, 32, 104, 172, 133, 145, 104, 159, 132, 143, 79, 28, 92, 51, 135, 81, 104, 199, 38, 77, 116, 54, 65, 92, 83, 85, 59, 40, 64, 66, 41, 122, 112, 257, 78, 115, 179, 106, 108, 299, 270, 170, 43, 115, 247, 184, 103, 164, 148, 51, 51, 96, 52, 141, 201, 49, 97, 326, 247, 132, 58, 51, 86, 65, 123, 181, 92, 181, 147, 129, 73, 390, 97, 175, 108, 61, 61, 118, 128, 225, 96, 99, 124, 64, 32, 209, 168, 251, 102, 76, 111, 146, 49, 202, 63, 81, 66, 35, 74, 118, 84, 52, 286, 29, 148, 42, 173, 179, 219, 50, 53, 177, 91, 137, 264, 109, 44, 152, 59, 52, 42, 70, 74, 80, 32, 204, 146, 71, 204, 126, 159, 168, 40, 145, 126, 203, 142, 88, 83, 86, 139, 117, 43, 68, 174, 175, 94, 97, 183, 41, 43, 80, 58, 55, 59, 168, 58, 40, 26, 56, 197, 40, 53, 66, 103, 252, 245, 78, 76, 95, 218, 422, 130, 246, 99, 107, 113, 90, 163, 88, 95, 224, 91, 124, 141, 52, 105, 100, 118, 152, 65, 111, 126, 69, 59, 59, 48, 248, 77, 84, 312, 78, 61, 104, 91, 35, 65, 123, 85, 60, 42, 237, 58, 72, 72, 141, 124, 54, 112, 90, 240, 323, 150, 101, 85, 86, 117, 118, 68, 330, 143, 42, 75, 38, 51, 161, 51, 46, 53, 62, 65, 30, 39, 376, 94, 61, 141, 102, 108, 52, 33, 194, 60, 74, 145, 79, 76, 231, 54, 139, 76, 41, 71, 123, 75, 178, 228, 80, 51, 339, 120, 52, 75, 90, 68, 126, 47, 47, 82, 109, 59, 46, 54, 500, 33, 126, 153, 105, 77, 64, 49, 55, 118, 98, 166, 81, 76, 166, 97, 21, 137, 41, 128, 263, 80, 222, 74, 232, 22, 145, 107, 93, 95, 191, 80, 191, 178, 37, 450, 172, 107, 68, 285, 66, 204, 61, 355, 54, 51, 45, 140, 80, 195, 160, 95, 148, 151, 90, 131, 324, 52, 38, 500, 90, 61, 32, 115, 160, 121, 290, 148, 98, 141, 132, 87, 154, 217, 141, 37, 321, 40, 43, 35, 73, 35, 61, 65, 96, 266, 62, 156, 164, 68, 33, 77, 31, 46, 176, 279, 143, 169, 116, 76, 114, 55, 83, 147, 146, 23, 64, 72, 203, 55, 166, 88, 78, 59, 73, 94, 33, 109, 88, 187, 65, 187, 101, 113, 175, 118, 120, 135, 183, 233, 35, 40, 52, 136, 406, 95, 188, 73, 102, 39, 35, 36, 59, 500, 59, 115, 88, 148, 167, 460, 63, 86, 163, 82, 86, 40, 154, 179, 36, 73, 115, 58, 129, 53, 99, 102, 52, 47, 210, 38, 153, 116, 132, 49, 46, 239, 115, 111, 70, 62, 133, 202, 64, 147, 80, 54, 205, 170, 132, 64, 86, 81, 63, 89, 166, 304, 208, 176, 62, 96, 75, 395, 74, 80, 83, 249, 281, 121, 245, 67, 89, 479, 38, 156, 202, 137, 65, 75, 59, 64, 140, 208, 71, 86, 213, 124, 134, 163, 87, 256, 22, 195, 152, 252, 59, 55, 148, 71, 229, 88, 55, 40, 52, 76, 153, 49, 65, 41, 133, 39, 89, 26, 75, 42, 72, 30, 223, 346, 400, 179, 106, 136, 115, 90, 52, 48, 40, 60, 128, 83, 62, 123, 41, 256, 134, 84, 87, 189, 127, 216, 223, 96, 234, 59, 72, 193, 282, 61, 83, 100, 161, 215, 108, 96, 43, 160, 209, 226, 173, 150, 85, 133, 114, 45, 237, 98, 125, 30, 71, 98, 67, 138, 114, 116, 61, 147, 130, 264, 89, 30, 162, 60, 129, 104, 45, 120, 68, 126, 107, 170, 71, 130, 138, 58, 123, 36, 44, 108, 454, 185, 50, 47, 104, 78, 111, 112, 70, 48, 43, 187, 94, 62, 81, 55, 114, 44, 237, 48, 161, 217, 79, 127, 158, 78, 60, 466, 79, 96, 129, 85, 77, 56, 110, 159, 172, 83, 106, 67, 67, 81, 65, 56, 144, 104, 170, 80, 55, 117, 252, 101, 178, 434, 86, 147, 99, 255, 109, 134, 162, 105, 79, 84, 41, 162, 89, 146, 74, 318, 159, 143, 33, 132, 113, 77, 294, 73, 86, 175, 90, 218, 327, 178, 171, 218, 63, 199, 30, 34, 150, 39, 71, 191, 92, 83, 201, 188, 153, 106, 277, 157, 53, 116, 134, 35, 100, 224, 69, 25, 85, 299, 211, 98, 31, 56, 500, 58, 185, 92, 90, 72, 78, 46, 100, 212, 93, 67, 134, 42, 251, 49, 120, 44, 38, 71, 28, 322, 169, 67, 122, 41, 124, 265, 156, 123, 134, 97, 241, 115, 86, 500, 109, 72, 159, 88, 67, 97, 205, 157, 34, 33, 99, 400, 82, 75, 92, 145, 147, 118, 72, 35, 72, 111, 31, 88, 67, 99, 101, 194, 59, 68, 119, 57, 149, 129, 119, 86, 166, 48, 350, 37, 77, 85, 437, 88, 143, 255, 83, 215, 97, 113, 28, 112, 46, 190, 132, 69, 176, 100, 76, 231, 124, 108, 82, 91, 91, 80, 197, 44, 90, 137, 55, 144, 53, 64, 82, 68, 48, 25, 96, 188, 182, 61, 141, 56, 131, 209, 103, 133, 155, 90, 44, 300, 64, 24, 47, 20, 92, 56, 500, 98, 94, 101, 68, 59, 422, 92, 78, 114, 93, 121, 163, 42, 202, 74, 100, 59, 133, 72, 139, 133, 148, 179, 101, 106, 193, 42, 68, 81, 204, 130, 43, 50, 56, 34, 32, 160, 61, 80, 126, 149, 206, 142, 192, 119, 280, 114, 70, 285, 78, 190, 72, 54, 123, 31, 257, 140, 56, 55, 86, 106, 48, 117, 95, 83, 77, 165, 94, 103, 113, 50, 66, 183, 92, 335, 116, 77, 65, 209, 70, 87, 284, 155, 108, 189, 69, 117, 255, 289, 122, 188, 194, 89, 41, 267, 47, 176, 57, 55, 48, 206, 105, 251, 156, 269, 113, 54, 67, 74, 74, 39, 212, 32, 110, 324, 46, 86, 101, 58, 52, 60, 144, 86, 89, 90, 46, 225, 62, 132, 500, 83, 46, 133, 72, 205, 109, 75, 235, 145, 69, 61, 121, 67, 94, 117, 51, 107, 163, 119, 86, 132, 56, 55, 144, 93, 87, 110, 188, 247, 38, 52, 249, 97, 79, 108, 47, 87, 121, 131, 43, 107, 101, 179, 101, 157, 84, 33, 347, 500, 107, 227, 144, 73, 78, 122, 99, 93, 133, 62, 64, 100, 143, 126, 58, 273, 112, 93, 140, 110, 59, 29, 121, 64, 35, 103, 162, 51, 86, 68, 190, 104, 158, 105, 152, 38, 85, 137, 79, 107, 55, 44, 61, 91, 133, 43, 61, 63, 105, 86, 201, 72, 138, 400, 226, 46, 64, 67, 35, 104, 206, 123, 57, 500, 188, 349, 124, 107, 88, 32, 133, 252, 82, 44, 235, 93, 65, 108, 43, 66, 85, 51, 96, 60, 126, 94, 85, 71, 141, 59, 137, 52, 36, 124, 70, 500, 121, 73, 47, 80, 100, 224, 387, 64, 138, 32, 65, 95, 101, 60, 95, 28, 258, 155, 93, 42, 98, 113, 271, 144, 75, 153, 88, 177, 166, 104, 213, 257, 140, 146, 54, 63, 34, 45, 146, 82, 96, 89, 82, 156, 375, 91, 123, 133, 71, 211, 97, 52, 80, 115, 68, 58, 158, 140, 47, 59, 100, 74, 172, 111, 98, 126, 43, 53, 89, 65, 232, 67, 58, 85, 85, 82, 244, 91, 64, 293, 59, 82, 91, 56, 91, 54, 141, 430, 98, 85, 195, 101, 374, 136, 87, 81, 33, 46, 338, 167, 84, 120, 70, 46, 133, 109, 388, 69, 126, 79, 142, 86, 148, 60, 147, 109, 67, 97, 50, 162, 156, 92, 98, 243, 57, 76, 83, 45, 500, 88, 132, 225, 40, 77, 114, 60, 132, 218, 50, 148, 38, 35, 160, 233, 132, 298, 119, 36, 85, 73, 208, 192, 283, 84, 42, 112, 49, 133, 120, 96, 107, 104, 100, 158, 129, 170, 98, 125, 390, 82, 98, 146, 88, 88, 120, 113, 57, 76, 104, 80, 124, 191, 226, 43, 115, 248, 429, 101, 90, 77, 213, 120, 117, 226, 246, 44, 272, 63, 216, 40, 76, 241, 67, 70, 53, 115, 112, 37, 131, 160, 86, 134, 318, 80, 130, 500, 243, 141, 57, 142, 46, 97, 123, 173, 100, 53, 163, 52, 78, 140, 68, 149, 134, 54, 164, 85, 109, 100, 33, 77, 40, 234, 247, 242, 89, 179, 77, 40, 38, 93, 130, 53, 72, 41, 113, 90, 107, 45, 69, 66, 164, 30, 187, 134, 288, 85, 129, 83, 140, 65, 130, 77, 43, 90, 62, 86, 285, 69, 124, 183, 108, 80, 55, 101, 75, 54, 103, 65, 204, 219, 147, 311, 160, 63, 123, 61, 165, 61, 88, 125, 83, 95, 54, 163, 152, 114, 130, 61, 500, 121, 67, 87, 163, 79, 200, 93, 65, 139, 111, 182, 84, 64, 80, 44, 34, 34, 217, 215, 174, 45, 205, 83, 100, 163, 80, 119, 46, 78, 152, 157, 83, 55, 67, 85, 500, 62, 170, 462, 124, 36, 183, 116, 65, 85, 90, 391, 138, 39, 97, 74, 72, 55, 60, 104, 94, 88, 487, 176, 32, 80, 92, 55, 290, 29, 194, 47, 77, 139, 256, 271, 46, 48, 94, 429, 203, 184, 167, 128, 93, 159, 111, 136, 228, 281, 174, 48, 124, 134, 66, 31, 71, 221, 174, 151, 129, 111, 122, 71, 112, 115, 256, 75, 117, 75, 200, 42, 58, 39, 226, 74, 90, 24, 193, 149, 65, 76, 437, 118, 97, 33, 324, 97, 47, 35, 81, 151, 44, 89, 89, 100, 36, 95, 29, 127, 37, 99, 81, 56, 81, 39, 122, 27, 62, 98, 146, 199, 42, 131, 27, 71, 77, 138, 278, 135, 96, 151, 125, 49, 105, 182, 225, 129, 36, 52, 87, 81, 142, 59, 180, 157, 137, 181, 116, 40, 110, 174, 51, 376, 140, 53, 211, 127, 110, 65, 115, 105, 83, 107, 122, 163, 123, 123, 249, 69, 132, 228, 114, 60, 500, 107, 189, 80, 121, 98, 47, 162, 160, 101, 170, 177, 61, 126, 89, 132, 107, 101, 156, 90, 43, 168, 41, 39, 73, 47, 38, 41, 233, 500, 166, 87, 39, 300, 83, 114, 388, 117, 50, 121, 271, 282, 122, 177, 35, 288, 312, 56, 70, 76, 114, 116, 87, 80, 166, 226, 239, 226, 109, 135, 42, 57, 103, 53, 201, 51, 425, 63, 244, 149, 146, 161, 85, 165, 143, 84, 81, 288, 234, 68, 81, 203, 121, 121, 60, 70, 175, 112, 51, 148, 132, 48, 106, 96, 149, 67, 103, 153, 67, 51, 71, 107, 153, 108, 76, 89, 139, 129, 26, 30, 70, 108, 36, 170, 83, 101, 186, 202, 140, 83, 109, 173, 106, 172, 160, 55, 112, 190, 143, 53, 165, 269, 42, 244, 206, 65, 78, 54, 46, 136, 66, 173, 244, 176, 46, 61, 50, 67, 75, 500, 17, 150, 402, 227, 186, 306, 289, 116, 204, 41, 80, 185, 61, 103, 128, 114, 178, 140, 58, 32, 37, 456, 100, 93, 295, 165, 105, 218, 82, 56, 136, 110, 329, 38, 52, 83, 72, 110, 249, 92, 258, 71, 164, 47, 46, 63, 46, 26, 121, 107, 60, 114, 48, 87, 40, 160, 104, 291, 218, 179, 64, 68, 260, 62, 113, 90, 153, 239, 86, 96, 57, 174, 35, 103, 69, 82, 69, 47, 93, 52, 262, 33, 110, 85, 187, 175, 31, 92, 131, 78, 84, 121, 69, 90, 51, 116, 58, 87, 127, 340, 53, 272, 86, 148, 42, 41, 78, 102, 95, 38, 122, 63, 88, 109, 149, 119, 142, 85, 36, 52, 115, 86, 91, 75, 29, 259, 227, 65, 98, 308, 117, 376, 257, 463, 177, 86, 99, 102, 126, 37, 220, 27, 180, 137, 324, 95, 214, 125, 230, 139, 53, 110, 138, 213, 36, 57, 103, 56, 435, 138, 60, 83, 45, 162, 193, 41, 47, 106, 83, 132, 245, 49, 117, 199, 345, 115, 71, 82, 130, 50, 98, 93, 137, 77, 163, 336, 298, 99, 45, 56, 158, 118, 73, 42, 72, 69, 74, 75, 179, 40, 52, 81, 289, 112, 85, 65, 90, 117, 111, 132, 179, 52, 124, 56, 145, 42, 39, 116, 96, 58, 210, 62, 104, 90, 191, 74, 116, 105, 158, 197, 136, 72, 200, 151, 81, 116, 108, 84, 157, 61, 55, 43, 79, 150, 90, 107, 74, 64, 71, 227, 178, 109, 72, 24, 165, 71, 167, 120, 33, 187, 98, 101, 62, 84, 56, 153, 112, 78, 142, 107, 64, 270, 184, 26, 105, 126, 77, 128, 156, 37, 63, 125, 334, 165, 415, 439, 89, 58, 28, 142, 83, 63, 172, 102, 128, 144, 102, 350, 104, 80, 264, 146, 62, 324, 315, 96, 36, 62, 270, 108, 101, 234, 50, 55, 41, 68, 70, 320, 185, 86, 202, 91, 174, 143, 103, 74, 36, 58, 106, 26, 50, 79, 22, 155, 124, 44, 107, 125, 104, 158, 120, 46, 36, 210, 119, 96, 77, 166, 105, 178, 119, 134, 36, 100, 92, 99, 89, 86, 40, 160, 200, 54, 136, 184, 252, 202, 268, 31, 229, 82, 288, 94, 163, 64, 185, 96, 53, 304, 89, 76, 146, 72, 29, 104, 47, 115, 264, 53, 104, 57, 467, 116, 106, 160, 146, 34, 41, 66, 123, 232, 86, 76, 107, 154, 339, 72, 160, 68, 102, 162, 37, 106, 53, 69, 77, 86, 115, 119, 54, 200, 145, 74, 334, 136, 236, 34, 150, 87, 62, 40, 63, 81, 70, 90, 94, 129, 147, 111, 67, 54, 58, 137, 40, 173, 41, 281, 87, 73, 38, 174, 69, 173, 92, 124, 63, 47, 500, 108, 149, 44, 87, 236, 160, 95, 26, 185, 35, 123, 96, 81, 38, 181, 202, 74, 119, 130, 153, 76, 74, 157, 228, 125, 297, 372, 142, 52, 100, 65, 162, 188, 275, 72, 87, 55, 144, 200, 138, 51, 147, 107, 201, 116, 86, 189, 114, 95, 110, 151, 447, 72, 68, 97, 47, 54, 40, 226, 91, 327, 251, 95, 149, 131, 135, 83, 63, 200, 176, 47, 133, 132, 453, 62, 127, 167, 319, 127, 134, 282, 65, 500, 86, 332, 90, 52, 82, 117, 299, 133, 101, 78, 120, 57, 105, 76, 120, 207, 68, 156, 201, 50, 65, 306, 78, 221, 78, 108, 93, 53, 233, 171, 107, 48, 117, 111, 120, 106, 107, 100, 127, 117, 105, 55, 273, 108, 156, 161, 185, 60, 130, 56, 77, 171, 203, 73, 294, 99, 162, 50, 500, 37, 113, 79, 134, 109, 376, 200, 42, 37, 198, 46, 235, 31, 51, 60, 109, 304, 46, 93, 35, 73, 79, 163, 184, 124, 45, 91, 126, 137, 213, 96, 256, 176, 150, 188, 84, 186, 30, 87, 85, 32, 164, 40, 124, 132, 36, 162, 171, 80, 114, 138, 26, 93, 46, 111, 127, 58, 64, 50, 141, 216, 213, 290, 57, 37, 155, 161, 64, 39, 57, 160, 163, 70, 81, 45, 28, 90, 137, 81, 99, 53, 178, 61, 390, 214, 46, 108, 125, 48, 105, 162, 55, 90, 121, 48, 140, 96, 70, 260, 51, 430, 49, 179, 64, 29, 90, 120, 71, 81, 179, 75, 24, 37, 149, 33, 40, 201, 159, 126, 37, 49, 124, 95, 121, 121, 121, 221, 49, 41, 243, 46, 117, 205, 88, 89, 270, 132, 282, 45, 135, 104, 68, 164, 96, 406, 146, 129, 311, 404, 132, 71, 43, 145, 83, 83, 122, 75, 58, 109, 96, 121, 106, 67, 49, 95, 232, 318, 43, 500, 42, 113, 65, 95, 40, 64, 341, 31, 110, 232, 70, 210, 63, 26, 84, 206, 153, 71, 33, 76, 71, 122, 94, 140, 101, 60, 37, 194, 274, 66, 50, 84, 60, 87, 237, 147, 135, 58, 130, 121, 38, 86, 318, 129, 113, 500, 31, 135, 163, 37, 42, 68, 72, 177, 139, 50, 65, 45, 78, 280, 51, 77, 336, 84, 111, 166, 500, 182, 70, 57, 124, 232, 129, 163, 51, 163, 218, 80, 120, 110, 73, 40, 140, 103, 152, 61, 208, 110, 94, 137, 210, 163, 130, 148, 129, 342, 40, 82, 78, 65, 68, 79, 80, 113, 51, 87, 249, 225, 108, 104, 133, 226, 197, 42, 50, 70, 48, 78, 500, 74, 93, 120, 271, 61, 141, 69, 98, 90, 231, 75, 149, 130, 72, 15, 67, 57, 63, 51, 99, 231, 51, 113, 89, 327, 124, 100, 73, 349, 40, 124, 72, 46, 166, 456, 37, 87, 85, 84, 81, 160, 86, 100, 100, 82, 76, 206, 334, 129, 191, 265, 150, 78, 133, 101, 234, 254, 232, 264, 163, 175, 145, 89, 41, 99, 149, 124, 29, 34, 80, 99, 68, 82, 271, 72, 149, 100, 90, 27, 95, 192, 92, 80, 29, 38, 64, 467, 130, 111, 163, 77, 42, 241, 44, 264, 268, 212, 187, 88, 233, 131, 142, 133, 85, 108, 137, 220, 90, 37, 181, 99, 115, 126, 49, 74, 37, 55, 109, 92, 125, 118, 500, 94, 86, 49, 62, 122, 76, 219, 122, 71, 115, 92, 78, 180, 157, 141, 80, 141, 36, 81, 440, 46, 73, 123, 99, 57, 47, 142, 46, 73, 45, 96, 69, 500, 68, 193, 85, 190, 30, 33, 52, 113, 49, 171, 143, 95, 103, 155, 227, 105, 115, 93, 315, 192, 71, 45, 116, 142, 65, 59, 116, 66, 124, 81, 62, 86, 98, 43, 62, 113, 134, 48, 129, 168, 38, 74, 170, 192, 300, 94, 127, 151, 44, 135, 121, 39, 114, 42, 136, 161, 97, 74, 99, 157, 202, 52, 172, 248, 260, 118, 77, 54, 186, 93, 110, 261, 73, 500, 115, 113, 44, 92, 181, 92, 110, 33, 55, 94, 199, 63, 71, 220, 56, 19, 79, 108, 77, 38, 202, 37, 159, 58, 230, 40, 99, 183, 41, 161, 137, 56, 109, 270, 63, 163, 65, 47, 53, 119, 500, 140, 84, 134, 223, 107, 161, 99, 60, 256, 73, 233, 156, 148, 41, 61, 174, 226, 128, 104, 113, 177, 163, 39, 30, 135, 124, 67, 215, 95, 41, 44, 500, 94, 39, 242, 126, 86, 79, 86, 36, 217, 124, 62, 47, 138, 153, 45, 43, 67, 133, 125, 229, 109, 116, 121, 144, 163, 184, 164, 500, 144, 73, 83, 235, 121, 500, 67, 99, 53, 196, 83, 66, 72, 54, 144, 454, 235, 60, 157, 62, 241, 100, 33, 134, 130, 190, 109, 94, 93, 118, 192, 139, 188, 102, 271, 129, 186, 48, 96, 77, 88, 206, 70, 166, 152, 70, 44, 47, 114, 152, 113, 98, 73, 141, 84, 100, 76, 106, 173, 111, 125, 209, 64, 266, 48, 128, 95, 94, 393, 21, 121, 54, 96, 80, 97, 79, 41, 63, 90, 63, 120, 87, 57, 75, 155, 104, 127, 207, 87, 124, 90, 98, 94, 106, 61, 75, 86, 127, 193, 67, 29, 122, 36, 101, 73, 48, 75, 49, 183, 35, 161, 233, 216, 57, 105, 77, 103, 53, 307, 91, 151, 78, 244, 96, 51, 165, 59, 78, 67, 60, 142, 70, 93, 72, 190, 116, 199, 82, 65, 152, 73, 79, 73, 190, 125, 44, 32, 65, 68, 65, 99, 32, 173, 258, 66, 103, 100, 51, 154, 118, 123, 94, 50, 44, 46, 186, 147, 47, 75, 318, 155, 258, 46, 48, 83, 39, 58, 136, 124, 99, 95, 47, 72, 353, 53, 116, 107, 47, 110, 190, 132, 96, 100, 231, 27, 144, 136, 210, 104, 72, 83, 32, 153, 100, 324, 99, 163, 86, 64, 181, 62, 45, 131, 73, 44, 226, 78, 131, 219, 64, 290, 161, 18, 118, 152, 224, 104, 88, 437, 331, 129, 102, 356, 101, 132, 117, 73, 330, 34, 64, 68, 339, 59, 50, 65, 115, 48, 141, 64, 31, 323, 47, 80, 65, 120, 221, 86, 112, 44, 77, 41, 116, 49, 157, 105, 309, 111, 60, 79, 39, 90, 138, 58, 96, 67, 65, 147, 95, 119, 38, 73, 92, 57, 50, 114, 95, 129, 114, 88, 81, 86, 145, 146, 117, 37, 137, 92, 108, 110, 65, 159, 117, 135, 64, 39, 33, 466, 41, 42, 126, 76, 135, 102, 231, 65, 359, 122, 84, 156, 78, 56, 87, 42, 199, 76, 112, 283, 155, 197, 95, 52, 110, 186, 62, 67, 66, 49, 336, 121, 93, 34, 179, 78, 218, 131, 280, 71, 189, 104, 251, 154, 204, 191, 90, 107, 124, 482, 89, 176, 83, 105, 63, 24, 27, 356, 47, 65, 91, 202, 73, 93, 102, 161, 90, 500, 93, 43, 34, 89, 103, 127, 183, 119, 70, 138, 129, 37, 168, 45, 169, 45, 42, 78, 130, 93, 245, 199, 38, 156, 78, 254, 84, 27, 215, 52, 244, 94, 69, 99, 245, 155, 54, 44, 43, 163, 58, 124, 55, 73, 47, 85, 142, 111, 85, 216, 374, 55, 94, 151, 104, 82, 39, 106, 63, 108, 71, 137, 63, 226, 276, 52, 436, 128, 69, 74, 73, 96, 391, 119, 37, 229, 500, 316, 42, 212, 102, 71, 339, 158, 330, 200, 79, 262, 231, 133, 84, 500, 36, 38, 98, 183, 106, 270, 167, 112, 124, 126, 244, 106, 440, 52, 44, 85, 89, 91, 37, 153, 61, 48, 109, 295, 344, 116, 63, 82, 70, 500, 152, 44, 119, 56, 275, 101, 136, 60, 287, 71, 95, 412, 207, 122, 244, 167, 131, 165, 47, 160, 119, 100, 77, 146, 187, 120, 51, 173, 152, 64, 33, 77, 97, 83, 102, 146, 93, 69, 500, 56, 29, 34, 73, 104, 124, 302, 154, 80, 68, 34, 143, 33, 102, 108, 35, 89, 59, 52, 56, 79, 33, 282, 142, 313, 180, 500, 215, 37, 48, 269, 370, 223, 185, 174, 108, 146, 103, 155, 144, 181, 258, 172, 62, 132, 102, 195, 145, 103, 89, 133, 80, 115, 92, 99, 438, 121, 229, 427, 47, 421, 34, 200, 28, 80, 246, 77, 500, 82, 238, 41, 255, 113, 94, 155, 53, 81, 52, 38, 69, 96, 153, 36, 138, 84, 129, 90, 97, 140, 162, 40, 80, 75, 44, 113, 97, 67, 104, 170, 42, 135, 43, 85, 68, 280, 138, 99, 224, 45, 55, 68, 86, 339, 67, 161, 146, 113, 140, 111, 223, 59, 95, 52, 132, 103, 94, 68, 133, 206, 36, 118, 53, 59, 265, 238, 68, 158, 27, 91, 222, 129, 438, 71, 87, 142, 156, 73, 76, 89, 197, 133, 114, 69, 219, 39, 171, 147, 333, 84, 107, 57, 66, 165, 211, 78, 112, 32, 374, 36, 28, 146, 127, 34, 72, 91, 54, 104, 160, 39, 70, 88, 183, 98, 500, 211, 175, 62, 89, 74, 87, 35, 172, 188, 72, 53, 84, 95, 52, 62, 264, 197, 210, 152, 95, 197, 56, 76, 65, 59, 80, 105, 153, 497, 34, 110, 95, 195, 76, 77, 457, 57, 64, 231, 141, 167, 57, 100, 98, 204, 135, 81, 102, 326, 103, 88, 50, 72, 228, 66, 88, 118, 217, 205, 99, 81, 209, 106, 113, 92, 76, 216, 142, 50, 332, 94, 19, 55, 208, 91, 57, 107, 44, 87, 63, 42, 113, 89, 55, 106, 170, 101, 98, 63, 94, 29, 55, 326, 86, 103, 91, 500, 194, 90, 62, 47, 60, 82, 299, 142, 39, 95, 76, 85, 119, 69, 91, 147, 48, 87, 66, 76, 428, 326, 96, 113, 104, 34, 79, 71, 63, 306, 500, 164, 186, 283, 66, 372, 225, 69, 52, 68, 34, 43, 240, 80, 90, 121, 113, 39, 97, 147, 95, 39, 93, 156, 102, 161, 500, 186, 75, 301, 107, 31, 114, 59, 198, 110, 143, 40, 74, 195, 81, 141, 119, 58, 68, 80, 111, 47, 61, 72, 43, 263, 54, 139, 186, 330, 143, 82, 157, 60, 128, 66, 149, 142, 30, 95, 191, 43, 85, 92, 74, 112, 53, 272, 261, 34, 120, 69, 73, 500, 50, 31, 117, 149, 160, 109, 36, 98, 160, 153, 116, 46, 258, 80, 37, 207, 116, 148, 100, 113, 40, 75, 119, 52, 159, 200, 120, 86, 133, 55, 109, 49, 167, 120, 273, 259, 299, 83, 196, 81, 219, 60, 89, 267, 31, 60, 186, 37, 37, 119, 140, 67, 96, 92, 195, 109, 74, 80, 66, 113, 293, 86, 120, 92, 133, 199, 132, 56, 201, 147, 124, 96, 71, 118, 119, 69, 111, 257, 57, 206, 215, 89, 101, 37, 46, 137, 97, 67, 127, 119, 83, 134, 239, 116, 184, 285, 40, 70, 85, 58, 95, 36, 130, 64, 261, 61, 55, 84, 62, 171, 66, 225, 500, 135, 195, 295, 68, 166, 68, 52, 78, 62, 46, 54, 347, 96, 118, 71, 110, 55, 335, 159, 374, 42, 130, 44, 116, 56, 142, 64, 90, 54, 177, 38, 116, 141, 89, 432, 54, 113, 37, 159, 154, 301, 143, 319, 54, 76, 127, 209, 102, 67, 89, 78, 125, 71, 104, 67, 173, 102, 123, 37, 83, 99, 70, 70, 98, 103, 159, 33, 62, 23, 168, 194, 42, 61, 145, 167, 217, 181, 56, 69, 85, 136, 116, 122, 166, 116, 67, 35, 150, 139, 176, 157, 79, 138, 78, 257, 83, 73, 92, 111, 48, 116, 263, 255, 89, 42, 121, 82, 69, 145, 116, 58, 118, 35, 104, 72, 68, 179, 58, 49, 93, 143, 126, 281, 179, 287, 94, 32, 31, 82, 98, 142, 168, 95, 124, 59, 55, 183, 159, 45, 50, 435, 95, 121, 82, 85, 140, 85, 75, 50, 75, 87, 68, 166, 176, 246, 54, 75, 49, 76, 116, 138, 36, 140, 133, 50, 120, 56, 123, 58, 45, 174, 97, 87, 101, 26, 263, 74, 236, 136, 34, 264, 103, 38, 148, 70, 116, 108, 36, 105, 174, 37, 90, 198, 131, 78, 212, 64, 98, 135, 62, 125, 125, 164, 89, 215, 54, 34, 139, 37, 122, 87, 130, 270, 41, 128, 98, 99, 265, 81, 359, 57, 39, 58, 57, 101, 347, 39, 101, 43, 165, 68, 86, 121, 202, 100, 40, 106, 107, 214, 108, 106, 58, 209, 58, 149, 113, 109, 172, 113, 101, 137, 88, 177, 201, 101, 278, 106, 58, 60, 84, 89, 89, 148, 86, 128, 68, 140, 160, 500, 130, 119, 48, 73, 494, 110, 135, 286, 79, 160, 117, 80, 118, 254, 454, 99, 191, 95, 38, 209, 50, 48, 152, 78, 128, 72, 74, 58, 76, 110, 49, 82, 55, 52, 93, 204, 58, 110, 141, 133, 59, 106, 60, 144, 113, 65, 141, 95, 46, 103, 260, 102, 191, 160, 194, 50, 120, 38, 139, 37, 83, 75, 77, 52, 73, 42, 125, 54, 65, 393, 46, 500, 134, 143, 115, 88, 109, 156, 500, 187, 129, 93, 101, 69, 483, 105, 96, 48, 126, 316, 189, 90, 90, 141, 154, 120, 152, 204, 60, 116, 95, 68, 103, 136, 35, 134, 121, 90, 78, 66, 127, 76, 122, 106, 45, 88, 75, 73, 84, 93, 56, 207, 103, 136, 103, 345, 88, 103, 134, 103, 359, 213, 39, 376, 33, 44, 143, 167, 74, 85, 500, 133, 124, 227, 244, 126, 375, 71, 62, 125, 92, 128, 271, 122, 37, 92, 224, 72, 143, 318, 63, 203, 211, 65, 117, 69, 248, 49, 226, 46, 104, 62, 118, 96, 29, 251, 119, 76, 89, 87, 110, 157, 280, 175, 126, 29, 98, 60, 176, 54, 86, 77, 162, 117, 65, 59, 298, 193, 100, 88, 79, 65, 303, 218, 86, 130, 61, 64, 94, 500, 73, 196, 114, 202, 146, 187, 176, 80, 96, 160, 113, 62, 103, 183, 187, 69, 331, 51, 94, 124, 123, 88, 174, 107, 107, 309, 94, 98, 67, 122, 35, 77, 59, 221, 47, 111, 223, 86, 220, 167, 255, 131, 158, 167, 190, 80, 291, 96, 51, 50, 198, 153, 168, 168, 227, 82, 271, 105, 55, 248, 110, 142, 63, 116, 54, 147, 80, 94, 280, 105, 186, 190, 48, 132, 56, 150, 128, 116, 30, 49, 382, 59, 162, 60, 175, 79, 241, 145, 98, 100, 96, 124, 163, 145, 76, 193, 123, 46, 86, 100, 200, 63, 80, 46, 103, 115, 117, 159, 134, 82, 135, 412, 88, 79, 110, 65, 42, 103, 93, 78, 183, 185, 168, 48, 201, 128, 89, 439, 60, 129, 95, 80, 93, 47, 76, 39, 213, 35, 166, 119, 60, 83, 124, 313, 77, 380, 122, 281, 271, 91, 272, 86, 204, 118, 358, 460, 71, 251, 60, 92, 37, 108, 97, 81, 97, 28, 43, 124, 76, 56, 72, 187, 71, 102, 77, 86, 175, 184, 85, 165, 192, 86, 333, 116, 40, 86, 107, 99, 78, 64, 140, 109, 65, 73, 175, 99, 148, 100, 81, 131, 137, 204, 38, 19, 27, 95, 120, 145, 123, 189, 84, 98, 76, 41, 196, 54, 79, 86, 103, 81, 149, 196, 120, 150, 88, 86, 138, 87, 42, 48, 128, 67, 301, 273, 151, 52, 186, 162, 93, 55, 128, 47, 205, 126, 41, 28, 82, 81, 341, 95, 63, 88, 68, 80, 40, 44, 429, 176, 69, 186, 63, 57, 37, 185, 371, 30, 132, 93, 76, 71, 133, 82, 348, 114, 471, 163, 27, 128, 101, 79, 52, 86, 92, 106, 137, 176, 58, 197, 143, 51, 78, 161, 84, 68, 52, 68, 71, 42, 69, 170, 64, 86, 74, 329, 35, 144, 33, 120, 134, 61, 84, 145, 152, 108, 62, 135, 207, 61, 59, 479, 45, 63, 274, 97, 305, 352, 319, 164, 64, 52, 72, 367, 88, 112, 94, 114, 71, 112, 103, 150, 139, 111, 90, 58, 199, 81, 44, 49, 94, 214, 183, 106, 217, 166, 54, 145, 66, 118, 96, 125, 500, 118, 108, 100, 118, 216, 178, 58, 167, 135, 106, 40, 119, 77, 256, 125, 66, 138, 84, 76, 94, 139, 255, 49, 64, 309, 45, 260, 61, 108, 43, 105, 213, 104, 500, 299, 49, 85, 70, 58, 125, 20, 244, 55, 67, 141, 354, 55, 159, 79, 98, 47, 87, 81, 489, 98, 170, 116, 126, 297, 84, 92, 98, 165, 37, 58, 97, 82, 157, 182, 180, 245, 65, 115, 43, 47, 152, 26, 125, 281, 147, 55, 76, 30, 198, 172, 120, 171, 500, 99, 76, 95, 79, 137, 296, 132, 130, 51, 59, 60, 117, 106, 262, 173, 45, 76, 107, 90, 129, 89, 142, 79, 148, 155, 123, 197, 191, 131, 104, 49, 85, 220, 69, 105, 222, 306, 76, 95, 75, 260, 67, 138, 76, 47, 53, 96, 150, 114, 94, 81, 50, 158, 179, 178, 54, 251, 32, 196, 48, 100, 52, 56, 379, 124, 126, 65, 88, 118, 270, 112, 152, 138, 72, 147, 79, 81, 193, 96, 47, 78, 69, 84, 134, 168, 92, 102, 109, 158, 151, 112, 66, 112, 114, 115, 215, 68, 173, 171, 116, 103, 419, 50, 89, 372, 268, 72, 50, 158, 84, 114, 94, 114, 113, 122, 164, 150, 110, 165, 225, 197, 43, 500, 49, 136, 40, 132, 170, 68, 206, 92, 95, 51, 32, 125, 50, 148, 119, 146, 198, 282, 239, 166, 80, 61, 143, 104, 67, 137, 68, 67, 71, 100, 281, 60, 35, 36, 76, 107, 60, 66, 57, 100, 105, 134, 187, 43, 95, 71, 77, 277, 68, 57, 88, 72, 99, 76, 223, 34, 140, 147, 105, 57, 68, 79, 85, 45, 46, 51, 103, 227, 215, 408, 116, 87, 67, 259, 292, 55, 55, 83, 382, 207, 130, 54, 120, 47, 158, 297, 219, 111, 52, 138, 100, 70, 46, 181, 89, 52, 95, 30, 226, 104, 123, 47, 356, 90, 116, 55, 225, 55, 119, 92, 62, 85, 183, 129, 80, 148, 57, 267, 172, 369, 153, 73, 110, 43, 43, 86, 90, 42, 132, 226, 74, 69, 107, 88, 123, 88, 50, 75, 110, 104, 66, 153, 262, 188, 23, 41, 91, 77, 66, 55, 500, 188, 37, 500, 57, 81, 68, 69, 87, 137, 228, 89, 97, 96, 363, 382, 106, 116, 82, 186, 75, 47, 53, 198, 58, 500, 263, 89, 243, 94, 35, 266, 98, 159, 178, 32, 57, 46, 94, 138, 252, 74, 99, 105, 63, 92, 129, 55, 78, 270, 64, 174, 82, 56, 243, 90, 64, 79, 69, 44, 98, 23, 343, 176, 200, 80, 150, 93, 125, 179, 191, 144, 84, 166, 108, 240, 175, 97, 33, 43, 42, 95, 90, 91, 80, 137, 129, 82, 70, 111, 207, 146, 162, 500, 207, 149, 235, 88, 46, 142, 125, 116, 78, 194, 193, 185, 179, 131, 183, 93, 62, 130, 98, 89, 55, 280, 71, 80, 74, 55, 124, 132, 109, 24, 271, 41, 201, 89, 118, 131, 91, 83, 67, 70, 126, 44, 372, 53, 208, 211, 69, 209, 216, 79, 130, 128, 89, 154, 195, 49, 278, 110, 83, 371, 68, 159, 111, 69, 76, 243, 500, 244, 148, 106, 361, 364, 139, 74, 75, 62, 71, 86, 53, 63, 69, 64, 90, 148, 107, 86, 314, 145, 83, 185, 104, 58, 51, 36, 99, 157, 79, 99, 64, 66, 74, 40, 153, 228, 179, 28, 27, 189, 67, 80, 148, 234, 119, 194, 129, 43, 106, 133, 151, 78, 75, 375, 150, 210, 104, 70, 235, 106, 500, 70, 34, 140, 315, 78, 84, 115, 125, 174, 42, 170, 56, 103, 83, 94, 112, 436, 60, 70, 96, 47, 88, 271, 163, 77, 138, 80, 79, 92, 35, 101, 193, 108, 267, 144, 43, 275, 158, 94, 38, 66, 31, 92, 77, 107, 151, 168, 54, 89, 139, 121, 47, 113, 111, 51, 69, 238, 92, 183, 108, 160, 183, 114, 67, 257, 53, 86, 78, 178, 40, 71, 73, 80, 98, 32, 80, 164, 42, 35, 106, 69, 81, 321, 158, 29, 30, 41, 454, 183, 87, 40, 242, 286, 162, 139, 170, 34, 121, 83, 58, 236, 134, 67, 81, 107, 177, 121, 136, 187, 133, 285, 241, 92, 49, 36, 451, 153, 500, 138, 119, 60, 229, 79, 212, 136, 116, 51, 52, 35, 136, 98, 153, 38, 85, 48, 91, 48, 83, 142, 61, 234, 147, 131, 50, 189, 120, 71, 500, 73, 451, 176, 60, 51, 83, 109, 86, 50, 48, 67, 26, 58, 77, 81, 47, 88, 214, 82, 280, 43, 89, 76, 114, 67, 26, 48, 70, 117, 84, 36, 157, 500, 119, 149, 132, 77, 91, 41, 184, 122, 154, 106, 137, 99, 500, 96, 123, 78, 100, 149, 140, 139, 53, 80, 184, 61, 88, 114, 149, 61, 99, 60, 72, 138, 108, 143, 73, 124, 144, 47, 298, 89, 61, 45, 84, 87, 41, 111, 205, 253, 91, 88, 55, 107, 53, 83, 154, 314, 128, 153, 148, 94, 93, 55, 89, 213, 36, 212, 178, 216, 83, 65, 31, 122, 103, 60, 48, 278, 94, 107, 107, 223, 94, 127, 151, 97, 229, 75, 109, 55, 304, 55, 96, 76, 93, 70, 189, 113, 51, 255, 292, 285, 72, 131, 94, 86, 70, 63, 284, 166, 42, 48, 47, 172, 222, 123, 203, 263, 136, 33, 79, 96, 85, 57, 67, 79, 78, 94, 68, 87, 75, 78, 196, 237, 143, 500, 69, 115, 84, 117, 198, 303, 138, 139, 296, 186, 76, 88, 57, 264, 85, 57, 65, 86, 188, 258, 115, 141, 61, 79, 111, 31, 35, 51, 157, 197, 214, 84, 43, 112, 201, 96, 68, 114, 118, 112, 211, 114, 78, 82, 31, 71, 60, 61, 39, 21, 135, 168, 83, 145, 205, 62, 133, 48, 112, 69, 122, 35, 76, 74, 290, 151, 113, 36, 124, 99, 164, 238, 171, 61, 52, 74, 64, 78, 218, 112, 95, 162, 63, 98, 103, 107, 130, 38, 85, 100, 500, 137, 282, 49, 59, 199, 151, 60, 43, 100, 66, 59, 165, 105, 50, 60, 48, 164, 84, 113, 92, 90, 271, 203, 60, 338, 60, 253, 328, 161, 48, 76, 63, 45, 76, 64, 151, 20, 33, 53, 51, 219, 168, 130, 409, 122, 101, 52, 111, 387, 47, 51, 64, 33, 106, 169, 88, 126, 166, 78, 236, 62, 107, 187, 140, 80, 166, 107, 114, 59, 297, 223, 77, 86, 87, 90, 127, 29, 106, 139, 170, 28, 56, 138, 370, 81, 33, 200, 261, 236, 55, 158, 128, 262, 37, 146, 303, 114, 186, 43, 101, 189, 158, 54, 38, 78, 440, 87, 382, 124, 137, 76, 74, 104, 48, 216, 68, 46, 74, 140, 165, 162, 118, 33, 68, 50, 114, 138, 78, 500, 42, 131, 191, 158, 121, 57, 193, 107, 118, 181, 287, 137, 200, 152, 65, 102, 250, 51, 149, 40, 126, 47, 49, 167, 228, 253, 56, 72, 118, 198, 44, 50, 330, 45, 209, 219, 77, 119, 120, 70, 267, 79, 60, 167, 49, 58, 89, 235, 131, 42, 226, 69, 273, 106, 124, 29, 75, 51, 195, 140, 122, 210, 156, 73, 58, 124, 57, 41, 37, 106, 43, 82, 62, 137, 166, 178, 162, 108, 106, 204, 217, 117, 71, 179, 53, 110, 157, 37, 175, 486, 296, 113, 201, 41, 52, 157, 90, 97, 180, 327, 36, 205, 96, 88, 178, 34, 68, 106, 195, 111, 84, 342, 158, 92, 72, 187, 110, 56, 47, 92, 83, 157, 65, 140, 57, 103, 78, 74, 328, 84, 65, 197, 63, 268, 78, 110, 99, 94, 110, 143, 156, 306, 92, 150, 41, 141, 47, 96, 61, 500, 157, 127, 198, 241, 203, 135, 77, 156, 86, 80, 97, 97, 90, 27, 62, 64, 121, 253, 74, 172, 268, 371, 104, 132, 500, 90, 116, 67, 490, 38, 327, 56, 41, 124, 40, 75, 108, 33, 175, 166, 44, 57, 122, 106, 227, 108, 284, 105, 72, 69, 45, 74, 102, 41, 70, 55, 99, 183, 37, 48, 170, 95, 264, 53, 59, 63, 115, 99, 172, 83, 184, 174, 32, 45, 337, 229, 207, 34, 143, 103, 161, 138, 60, 195, 85, 94, 222, 77, 68, 135, 260, 118, 73, 234, 128, 54, 107, 317, 93, 129, 259, 174, 68, 214, 44, 408, 259, 63, 59, 172, 85, 28, 134, 190, 52, 88, 71, 123, 100, 147, 74, 114, 68, 500, 35, 96, 64, 120, 33, 85, 76, 88, 320, 63, 32, 149, 110, 68, 123, 352, 47, 159, 114, 24, 118, 27, 85, 55, 70, 143, 40, 150, 37, 159, 63, 157, 93, 59, 38, 254, 131, 59, 138, 169, 111, 46, 168, 26, 61, 152, 89, 66, 58, 105, 153, 186, 85, 142, 63, 161, 165, 37, 252, 124, 220, 74, 50, 81, 61, 99, 125, 34, 77, 140, 81, 152, 44, 100, 135, 94, 47, 151, 108, 58, 39, 83, 208, 30, 125, 68, 111, 59, 91, 77, 48, 55, 214, 54, 186, 178, 61, 99, 54, 122, 115, 196, 106, 104, 69, 141, 73, 184, 223, 76, 125, 156, 45, 196, 144, 152, 146, 70, 195, 66, 85, 82, 111, 81, 125, 111, 194, 161, 191, 245, 74, 154, 95, 200, 141, 91, 100, 311, 185, 188, 63, 181, 52, 86, 53, 291, 106, 304, 183, 216, 56, 70, 251, 170, 43, 183, 142, 500, 403, 75, 146, 163, 23, 155, 90, 215, 121, 175, 72, 166, 109, 26, 121, 76, 67, 201, 204, 154, 41, 297, 115, 138, 368, 109, 146, 89, 105, 35, 216, 39, 156, 92, 74, 83, 94, 320, 44, 76, 52, 115, 81, 168, 204, 185, 98, 159, 225, 80, 318, 113, 136, 115, 294, 60, 140, 122, 29, 241, 70, 186, 157, 116, 173, 88, 332, 125, 136, 62, 144, 234, 87, 77, 160, 30, 111, 149, 209, 101, 104, 304, 405, 113, 92, 75, 71, 98, 73, 31, 158, 500, 79, 176, 76, 52, 63, 81, 170, 71, 97, 58, 55, 55, 69, 67, 40, 111, 192, 168, 85, 77, 194, 120, 55, 88, 160, 136, 195, 148, 72, 78, 41, 88, 50, 56, 67, 27, 95, 129, 42, 35, 107, 100, 113, 83, 122, 48, 112, 44, 102, 86, 142, 51, 120, 82, 86, 136, 89, 86, 49, 150, 179, 80, 244, 67, 110, 107, 277, 52, 39, 80, 141, 117, 182, 93, 209, 123, 87, 76, 389, 223, 113, 260, 54, 159, 213, 176, 102, 59, 134, 55, 184, 229, 108, 84, 99, 95, 89, 87, 88, 54, 105, 68, 500, 53, 359, 89, 117, 138, 73, 178, 124, 132, 152, 186, 247, 85, 177, 52, 24, 128, 55, 165, 156, 66, 56, 124, 59, 68, 101, 143, 30, 306, 215, 60, 115, 122, 118, 174, 209, 138, 144, 195, 96, 135, 90, 172, 51, 62, 59, 58, 48, 81, 161, 47, 134, 51, 197, 81, 76, 310, 25, 157, 116, 187, 64, 82, 251, 70, 61, 129, 145, 53, 92, 153, 47, 76, 175, 36, 69, 127, 72, 119, 93, 348, 176, 33, 36, 153, 222, 247, 52, 155, 108, 127, 121, 225, 457, 86, 84, 125, 89, 32, 90, 64, 92, 67, 107, 148, 29, 200, 177, 254, 158, 107, 143, 91, 40, 177, 52, 203, 136, 130, 79, 25, 121, 111, 93, 96, 161, 163, 97, 221, 138, 32, 57, 43, 40, 37, 96, 114, 46, 36, 99, 122, 85, 338, 113, 35, 251, 119, 42, 84, 235, 22, 62, 150, 181, 334, 55, 78, 140, 89, 77, 191, 200, 74, 49, 243, 109, 164, 373, 175, 212, 102, 173, 125, 95, 114, 63, 249, 187, 127, 56, 140, 328, 30, 150, 221, 149, 61, 89, 206, 170, 33, 232, 37, 203, 122, 38, 115, 141, 37, 155, 172, 53, 160, 161, 105, 131, 69, 485, 136, 146, 168, 167, 150, 161, 53, 356, 56, 43, 215, 45, 52, 62, 135, 84, 54, 119, 101, 211, 60, 47, 95, 235, 90, 176, 27, 92, 230, 65, 104, 141, 125, 53, 101, 155, 128, 285, 223, 54, 114, 76, 282, 104, 173, 235, 27, 39, 144, 45, 61, 41, 117, 149, 138, 53, 75, 168, 76, 219, 122, 180, 136, 209, 156, 177, 135, 151, 75, 109, 105, 401, 131, 293, 70, 175, 136, 95, 69, 25, 174, 67, 143, 81, 63, 76, 163, 147, 120, 73, 36, 38, 172, 144, 161, 111, 335, 172, 251, 43, 37, 67, 161, 25, 108, 41, 111, 115, 164, 63, 395, 151, 227, 70, 290, 63, 106, 134, 65, 28, 53, 52, 358, 129, 305, 128, 78, 82, 110, 63, 267, 128, 249, 87, 37, 97, 81, 228, 151, 221, 110, 226, 119, 25, 158, 120, 43, 243, 257, 178, 67, 91, 109, 42, 220, 159, 81, 128, 49, 54, 81, 91, 101, 61, 219, 113, 63, 285, 438, 78, 141, 239, 52, 105, 108, 111, 126, 87, 88, 52, 81, 56, 51, 91, 177, 149, 56, 93, 83, 73, 175, 69, 500, 231, 190, 382, 245, 130, 145, 82, 189, 61, 84, 54, 174, 215, 108, 106, 84, 92, 103, 43, 292, 179, 176, 43, 55, 76, 189, 180, 48, 62, 131, 335, 330, 102, 448, 143, 356, 139, 144, 86, 172, 81, 240, 36, 74, 361, 386, 273, 88, 27, 76, 229, 175, 94, 200, 57, 190, 102, 205, 69, 71, 115, 97, 221, 195, 315, 58, 251, 23, 162, 49, 61, 83, 46, 150, 151, 51, 68, 82, 43, 193, 279, 146, 108, 113, 50, 71, 70, 109, 96, 38, 43, 154, 132, 101, 326, 177, 175, 114, 492, 88, 181, 42, 137, 271, 124, 68, 258, 407, 191, 39, 500, 140, 56, 228, 150, 243, 191, 36, 67, 94, 28, 129, 176, 137, 88, 30, 153, 101, 48, 228, 177, 46, 192, 76, 96, 54, 175, 249, 153, 78, 211, 351, 134, 47, 31, 80, 120, 167, 155, 79, 71, 53, 26, 125, 83, 195, 48, 402, 31, 158, 37, 161, 119, 190, 249, 226, 339, 73, 58, 434, 355, 81, 65, 150, 47, 35, 123, 114, 125, 117, 128, 139, 173, 129, 211, 157, 110, 131, 99, 463, 25, 88, 140, 41, 156, 70, 257, 37, 204, 118, 183, 90, 115, 177, 88, 101, 192, 267, 102, 285, 109, 130, 73, 194, 500, 199, 48, 63, 211, 74, 73, 133, 111, 74, 134, 117, 140, 40, 89, 60, 173, 199, 109, 260, 115, 65, 103, 117, 196, 29, 500, 52, 105, 106, 171, 138, 51, 182, 60, 102, 371, 29, 69, 113, 91, 32, 62, 150, 152, 66, 190, 90, 92, 71, 339, 95, 43, 84, 66, 201, 116, 213, 80, 275, 73, 68, 39, 104, 59, 168, 57, 109, 182, 185, 160, 164, 293, 74, 66, 59, 95, 54, 225, 112, 332, 84, 76, 73, 55, 114, 59, 308, 247, 105, 216, 45, 146, 153, 247, 71, 131, 92, 63, 185, 155, 210, 121, 116, 90, 45, 457, 139, 500, 262, 102, 129, 278, 278, 78, 144, 129, 116, 107, 163, 70, 124, 269, 157, 210, 149, 233, 45, 76, 41, 42, 60, 69, 39, 71, 67, 146, 420, 202, 86, 173, 255, 83, 150, 278, 417, 296, 116, 167, 59, 212, 41, 64, 317, 186, 71, 48, 99, 207, 165, 350, 333, 119, 165, 51, 237, 220, 81, 50, 272, 33, 86, 206, 71, 47, 322, 278, 76, 204, 89, 77, 46, 469, 59, 59, 490, 104, 71, 78, 94, 125, 31, 61, 109, 46, 133, 42, 36, 148, 29, 76, 165, 107, 102, 100, 80, 240, 36, 88, 137, 67, 97, 166, 51, 48, 52, 500, 136, 63, 209, 93, 75, 145, 68, 115, 103, 52, 114, 93, 92, 209, 500, 124, 195, 211, 51, 54, 194, 239, 131, 121, 189, 91, 108, 48, 54, 44, 197, 27, 92, 75, 41, 197, 28, 35, 218, 123, 41, 104, 82, 64, 500, 47, 110, 62, 83, 137, 120, 88, 227, 114, 72, 174, 94, 32, 72, 69, 49, 123, 382, 126, 122, 197, 188, 63, 97, 294, 304, 45, 117, 83, 207, 155, 157, 85, 45, 128, 83, 85, 184, 400, 182, 126, 43, 500, 88, 79, 178, 327, 189, 99, 304, 120, 59, 175, 167, 72, 35, 102, 464, 208, 197, 128, 171, 56, 193, 121, 125, 227, 96, 124, 124, 83, 126, 235, 80, 257, 61, 299, 80, 159, 123, 81, 40, 111, 223, 93, 171, 119, 27, 93, 317, 122, 111, 130, 109, 87, 113, 82, 141, 126, 158, 50, 76, 429, 109, 99, 191, 231, 82, 47, 71, 114, 123, 105, 128, 54, 158, 222, 83, 145, 202, 165, 116, 295, 46, 80, 111, 64, 226, 62, 158, 124, 103, 61, 65, 227, 73, 54, 102, 160, 98, 215, 75, 53, 97, 85, 164, 101, 295, 136, 500, 99, 36, 142, 67, 35, 137, 52, 137, 67, 137, 36, 42, 38, 261, 150, 474, 258, 45, 167, 121, 63, 64, 59, 188, 147, 61, 81, 92, 102, 109, 360, 138, 99, 138, 113, 31, 130, 116, 134, 83, 90, 86, 119, 88, 104, 148, 99, 113, 151, 99, 148, 152, 87, 117, 156, 72, 56, 124, 79, 133, 69, 82, 95, 162, 90, 88, 158, 55, 122, 77, 31, 141, 105, 62, 39, 482, 73, 346, 49, 53, 86, 64, 311, 500, 342, 69, 57, 93, 489, 106, 131, 100, 79, 64, 236, 236, 229, 105, 155, 115, 101, 135, 74, 31, 73, 38, 96, 84, 166, 101, 62, 33, 89, 232, 118, 31, 139, 57, 172, 438, 262, 71, 62, 52, 92, 89, 39, 197, 248, 29, 173, 100, 74, 138, 237, 500, 83, 112, 168, 116, 149, 29, 49, 61, 85, 108, 147, 92, 164, 108, 248, 66, 33, 205, 196, 35, 61, 230, 192, 61, 46, 316, 203, 70, 104, 104, 47, 246, 57, 60, 116, 261, 51, 110, 75, 256, 54, 326, 154, 100, 71, 106, 500, 166, 218, 131, 26, 197, 148, 180, 94, 178, 127, 31, 115, 210, 500, 40, 105, 134, 87, 48, 90, 81, 237, 134, 156, 250, 53, 45, 177, 59, 79, 162, 79, 149, 88, 132, 65, 83, 46, 129, 176, 206, 69, 255, 44, 135, 44, 325, 500, 161, 96, 114, 37, 286, 69, 243, 131, 208, 189, 126, 40, 190, 105, 37, 132, 101, 188, 69, 116, 500, 30, 58, 86, 49, 156, 91, 88, 103, 164, 84, 41, 54, 117, 52, 64, 153, 49, 84, 117, 72, 71, 140, 173, 53, 78, 84, 76, 51, 74, 185, 131, 84, 122, 57, 118, 191, 54, 84, 158, 89, 171, 123, 78, 133, 114, 107, 36, 72, 47, 86, 126, 228, 53, 178, 194, 72, 55, 219, 56, 97, 185, 112, 53, 104, 52, 76, 97, 155, 202, 71, 78, 87, 42, 154, 83, 82, 204, 42, 500, 74, 143, 131, 127, 62, 82, 162, 97, 73, 222, 274, 480, 81, 37, 313, 36, 352, 135, 89, 89, 48, 256, 86, 141, 199, 103, 329, 45, 206, 89, 184, 75, 467, 181, 149, 66, 99, 189, 174, 91, 60, 48, 53, 481, 239, 187, 173, 245, 51, 85, 114, 148, 152, 40, 123, 126, 49, 61, 161, 253, 70, 203, 188, 143, 78, 60, 118, 145, 78, 171, 489, 95, 66, 192, 76, 92, 143, 108, 158, 70, 44, 154, 148, 117, 500, 127, 86, 122, 311, 56, 74, 402, 102, 72, 181, 500, 88, 480, 145, 70, 16, 177, 91, 95, 202, 139, 189, 127, 117, 181, 49, 92, 47, 179, 85, 89, 158, 131, 124, 232, 175, 111, 105, 100, 155, 82, 396, 142, 65, 182, 122, 111, 104, 86, 332, 184, 89, 202, 96, 224, 75, 81, 90, 162, 97, 110, 194, 193, 66, 140, 39, 66, 46, 280, 195, 66, 240, 125, 206, 68, 106, 268, 194, 105, 169, 91, 92, 324, 137, 95, 148, 156, 154, 232, 140, 188, 266, 492, 99, 96, 92, 136, 46, 110, 103, 425, 126, 137, 38, 79, 60, 80, 94, 55, 106, 92, 133, 68, 45, 73, 76, 75, 198, 201, 89, 50, 92, 131, 247, 79, 178, 256, 301, 76, 61, 154, 117, 106, 202, 64, 135, 142, 500, 107, 132, 133, 250, 158, 158, 157, 98, 68, 44, 64, 46, 62, 60, 149, 64, 128, 143, 122, 75, 92, 66, 285, 148, 71, 111, 77, 166, 238, 123, 94, 100, 26, 51, 128, 113, 35, 33, 74, 85, 218, 174, 113, 64, 109, 116, 345, 346, 280, 82, 183, 217, 219, 157, 178, 51, 203, 107, 171, 68, 112, 224, 179, 42, 250, 45, 42, 223, 124, 35, 52, 58, 227, 61, 214, 63, 130, 92, 89, 165, 58, 34, 285, 440, 490, 136, 296, 146, 52, 50, 145, 121, 59, 94, 245, 229, 127, 302, 136, 73, 271, 39, 155, 204, 189, 390, 123, 500, 81, 264, 186, 228, 57, 110, 70, 116, 83, 336, 170, 34, 66, 109, 344, 63, 75, 66, 34, 355, 33, 40, 97, 326, 53, 120, 134, 120, 88, 43, 304, 53, 40, 47, 44, 153, 48, 327, 88, 101, 88, 51, 118, 81, 53, 103, 105, 184, 39, 71, 128, 261, 48, 243, 94, 172, 136, 52, 34, 101, 181, 98, 108, 119, 53, 182, 179, 216, 94, 58, 174, 79, 442, 173, 182, 77, 62, 75, 269, 52, 387, 41, 153, 35, 95, 96, 59, 76, 114, 66, 136, 64, 80, 79, 40, 35, 428, 148, 80, 101, 414, 100, 115, 146, 80, 273, 390, 36, 98, 106, 54, 246, 267, 45, 220, 146, 66, 33, 37, 229, 142, 166, 105, 27, 190, 21, 247, 117, 64, 90, 102, 82, 49, 55, 51, 145, 50, 231, 32, 297, 225, 79, 85, 129, 148, 113, 67, 93, 131, 66, 115, 88, 86, 83, 79, 176, 169, 190, 365, 165, 302, 134, 113, 304, 162, 35, 163, 95, 115, 79, 129, 172, 71, 47, 59, 55, 125, 118, 100, 188, 391, 97, 197, 176, 160, 130, 30, 107, 303, 141, 63, 122, 110, 174, 21, 57, 131, 69, 239, 92, 43, 50, 82, 91, 147, 81, 169, 40, 176, 39, 114, 105, 132, 83, 85, 153, 112, 115, 144, 34, 174, 237, 357, 131, 115, 200, 105, 80, 136, 44, 63, 122, 119, 307, 144, 441, 198, 113, 176, 90, 61, 78, 106, 160, 61, 56, 66, 128, 80, 367, 112, 100, 50, 117, 120, 74, 156, 59, 126, 164, 152, 98, 108, 133, 73, 179, 182, 204, 181, 99, 253, 305, 80, 161, 148, 143, 88, 65, 150, 107, 106, 40, 152, 115, 303, 79, 111, 31, 62, 53, 79, 39, 204, 443, 89, 56, 189, 147, 56, 80, 44, 78, 153, 49, 150, 53, 466, 81, 105, 65, 95, 110, 72, 127, 132, 500, 114, 90, 87, 40, 156, 104, 255, 196, 83, 73, 113, 173, 209, 106, 74, 128, 500, 53, 217, 75, 37, 69, 68, 46, 52, 109, 106, 229, 95, 228, 91, 106, 187, 343, 54, 53, 244, 61, 164, 139, 32, 123, 308, 79, 500, 49, 59, 107, 230, 55, 86, 77, 130, 84, 80, 46, 350, 73, 90, 161, 55, 96, 39, 107, 70, 36, 38, 130, 51, 126, 222, 25, 123, 91, 131, 100, 35, 65, 74, 129, 90, 186, 105, 76, 140, 215, 126, 113, 500, 184, 112, 70, 189, 26, 69, 63, 207, 185, 53, 91, 177, 149, 27, 258, 80, 46, 201, 65, 152, 500, 96, 440, 144, 248, 30, 230, 194, 276, 125, 175, 171, 244, 211, 75, 106, 38, 121, 97, 115, 86, 198, 68, 187, 286, 210, 129, 222, 52, 78, 179, 185, 115, 79, 39, 96, 178, 60, 102, 58, 32, 218, 107, 56, 81, 194, 144, 77, 117, 96, 197, 59, 36, 203, 337, 147, 72, 170, 78, 91, 246, 80, 111, 169, 89, 102, 96, 93, 91, 188, 48, 190, 201, 98, 80, 130, 36, 34, 71, 64, 500, 41, 129, 73, 60, 333, 500, 344, 170, 57, 138, 101, 73, 152, 159, 45, 130, 64, 64, 96, 500, 91, 87, 101, 36, 154, 60, 91, 164, 168, 156, 214, 141, 128, 50, 44, 32, 68, 105, 108, 121, 130, 151, 157, 283, 426, 99, 96, 151, 103, 140, 195, 66, 67, 91, 279, 143, 94, 449, 193, 130, 25, 53, 151, 48, 356, 66, 88, 147, 74, 97, 91, 40, 69, 89, 158, 29, 179, 114, 92, 183, 67, 109, 100, 226, 56, 62, 208, 81, 121, 193, 99, 331, 157, 202, 101, 93, 85, 130, 22, 95, 42, 50, 256, 287, 159, 45, 98, 239, 113, 310, 80, 65, 93, 180, 180, 120, 64, 144, 104, 64, 64, 142, 75, 121, 85, 159, 285, 70, 122, 91, 71, 58, 115, 37, 189, 86, 166, 58, 93, 105, 194, 232, 127, 47, 29, 120, 111, 125, 67, 71, 104, 106, 26, 132, 30, 60, 162, 263, 76, 79, 341, 124, 89, 147, 102, 312, 81, 214, 37, 339, 72, 41, 163, 185, 75, 73, 451, 104, 202, 139, 166, 171, 285, 194, 84, 92, 57, 71, 134, 39, 97, 124, 379, 71, 307, 112, 455, 30, 102, 131, 61, 80, 157, 242, 93, 32, 93, 77, 60, 318, 66, 50, 95, 137, 217, 113, 56, 156, 103, 148, 45, 91, 215, 69, 138, 181, 44, 228, 85, 64, 79, 38, 171, 71, 72, 77, 75, 59, 102, 138, 114, 242, 158, 103, 107, 474, 80, 88, 269, 152, 108, 79, 155, 260, 159, 51, 210, 76, 81, 295, 207, 147, 130, 84, 103, 135, 245, 273, 121, 80, 80, 139, 51, 51, 348, 64, 81, 227, 81, 411, 128, 61, 336, 251, 191, 100, 158, 72, 98, 240, 230, 53, 80, 185, 77, 89, 72, 77, 119, 27, 131, 85, 66, 191, 234, 236, 200, 155, 490, 274, 22, 105, 78, 97, 68, 171, 205, 118, 84, 230, 192, 93, 144, 140, 200, 59, 55, 139, 42, 258, 246, 96, 61, 77, 116, 221, 108, 132, 86, 120, 134, 89, 76, 66, 288, 139, 121, 107, 269, 136, 73, 61, 114, 175, 97, 124, 54, 152, 134, 93, 94, 181, 89, 118, 156, 116, 156, 45, 78, 106, 171, 53, 87, 40, 245, 47, 176, 69, 219, 126, 125, 94, 195, 87, 71, 37, 53, 214, 62, 249, 315, 26, 145, 76, 56, 188, 123, 88, 223, 237, 117, 137, 116, 67, 44, 70, 77, 66, 75, 189, 76, 43, 130, 71, 232, 199, 165, 172, 115, 75, 302, 337, 131, 145, 169, 159, 60, 500, 81, 416, 131, 39, 178, 154, 119, 136, 137, 369, 53, 88, 53, 46, 35, 85, 100, 63, 76, 100, 107, 64, 114, 233, 248, 176, 241, 213, 63, 130, 110, 140, 90, 237, 174, 112, 157, 98, 113, 144, 32, 48, 250, 199, 113, 500, 56, 227, 145, 36, 115, 194, 109, 120, 500, 284, 45, 49, 107, 148, 93, 66, 55, 115, 83, 73, 308, 145, 57, 89, 127, 74, 185, 58, 140, 105, 59, 344, 154, 34, 41, 108, 52, 239, 165, 125, 65, 62, 165, 120, 172, 219, 177, 52, 70, 161, 56, 68, 368, 110, 186, 83, 90, 57, 210, 106, 129, 243, 97, 103, 73, 86, 62, 61, 131, 93, 69, 126, 89, 141, 217, 88, 240, 161, 244, 304, 135, 141, 80, 156, 63, 130, 29, 45, 379, 76, 188, 415, 292, 69, 38, 161, 327, 160, 75, 69, 117, 32, 129, 40, 197, 500, 82, 111, 81, 122, 194, 107, 109, 117, 71, 214, 79, 135, 164, 109, 105, 57, 295, 262, 82, 85, 102, 63, 64, 64, 44, 158, 433, 300, 63, 223, 68, 59, 74, 55, 204, 91, 188, 81, 130, 68, 72, 167, 33, 64, 224, 65, 106, 52, 67, 162, 67, 96, 228, 121, 356, 56, 165, 249, 76, 108, 45, 149, 77, 215, 154, 54, 84, 154, 77, 39, 307, 94, 176, 106, 135, 134, 74, 160, 153, 105, 98, 79, 82, 146, 191, 101, 182, 42, 72, 48, 173, 58, 359, 97, 89, 64, 41, 25, 130, 84, 70, 29, 132, 76, 84, 83, 87, 73, 105, 175, 143, 75, 30, 262, 119, 310, 264, 133, 114, 24, 255, 202, 60, 257, 219, 125, 147, 113, 53, 58, 251, 59, 338, 181, 201, 41, 413, 488, 80, 191, 168, 89, 132, 500, 109, 96, 186, 276, 172, 145, 294, 123, 30, 70, 261, 366, 82, 159, 47, 50, 122, 61, 179, 83, 229, 139, 63, 46, 113, 119, 126, 79, 349, 29, 132, 98, 80, 194, 83, 123, 30, 156, 85, 154, 68, 92, 118, 154, 112, 64, 143, 212, 347, 184, 249, 94, 68, 75, 160, 45, 45, 96, 56, 35, 135, 62, 90, 346, 66, 160, 61, 223, 103, 145, 449, 144, 223, 120, 151, 75, 157, 108, 463, 103, 60, 63, 120, 127, 324, 163, 70, 266, 169, 98, 90, 179, 152, 85, 257, 66, 208, 366, 70, 130, 92, 123, 116, 101, 114, 30, 238, 136, 87, 229, 355, 102, 292, 136, 47, 252, 108, 38, 310, 100, 65, 199, 104, 134, 119, 179, 103, 66, 53, 46, 136, 105, 34, 58, 158, 102, 187, 90, 172, 75, 55, 149, 220, 93, 173, 41, 154, 204, 157, 172, 183, 26, 119, 145, 96, 144, 149, 58, 228, 88, 50, 262, 212, 77, 131, 91, 89, 193, 217, 110, 88, 87, 187, 50, 130, 47, 103, 82, 78, 41, 104, 41, 173, 132, 74, 158, 161, 126, 167, 174, 82, 66, 49, 290, 86, 166, 39, 151, 103, 137, 307, 114, 65, 117, 81, 62, 55, 97, 62, 97, 153, 132, 48, 151, 300, 107, 132, 83, 114, 59, 265, 131, 87, 131, 78, 93, 194, 45, 99, 133, 327, 54, 78, 96, 51, 94, 68, 76, 65, 191, 103, 189, 113, 31, 306, 52, 128, 74, 155, 81, 37, 56, 308, 254, 121, 60, 49, 208, 46, 147, 51, 133, 99, 118, 79, 159, 38, 60, 500, 465, 97, 108, 168, 68, 120, 105, 500, 309, 137, 125, 210, 88, 104, 203, 184, 204, 31, 31, 79, 76, 195, 77, 70, 111, 27, 63, 82, 98, 79, 54, 54, 151, 295, 91, 48, 44, 99, 72, 500, 98, 64, 96, 92, 201, 70, 114, 74, 258, 172, 41, 255, 418, 172, 138, 31, 114, 44, 214, 29, 99, 116, 164, 61, 72, 144, 75, 78, 113, 152, 132, 71, 90, 120, 66, 64, 111, 68, 100, 44, 224, 40, 152, 120, 49, 97, 81, 112, 234, 89, 135, 57, 52, 36, 143, 225, 44, 388, 85, 121, 332, 171, 152, 238, 111, 100, 114, 88, 168, 54, 233, 500, 75, 202, 131, 37, 30, 225, 28, 256, 268, 91, 44, 482, 163, 401, 119, 141, 109, 40, 22, 123, 36, 189, 103, 188, 129, 81, 337, 127, 262, 115, 58, 26, 81, 51, 95, 87, 135, 42, 87, 104, 139, 82, 160, 106, 207, 77, 183, 92, 94, 31, 188, 166, 378, 178, 75, 161, 163, 107, 228, 68, 111, 277, 42, 170, 68, 86, 99, 101, 96, 81, 186, 66, 74, 182, 268, 371, 148, 141, 111, 60, 92, 59, 369, 46, 153, 83, 97, 58, 42, 243, 117, 459, 500, 81, 316, 117, 82, 184, 120, 156, 35, 244, 349, 78, 98, 352, 114, 159, 500, 204, 173, 50, 69, 65, 70, 236, 188, 66, 44, 362, 44, 186, 133, 216, 57, 55, 130, 84, 27, 240, 107, 204, 294, 92, 69, 91, 118, 90, 46, 449, 48, 130, 68, 85, 280, 119, 63, 107, 48, 277, 209, 134, 187, 128, 66, 79, 121, 429, 118, 57, 80, 44, 262, 123, 186, 64, 117, 58, 209, 124, 99, 70, 196, 187, 429, 144, 231, 33, 38, 198, 24, 82, 307, 141, 230, 210, 62, 130, 193, 480, 143, 65, 206, 45, 77, 95, 173, 79, 293, 61, 161, 133, 203, 96, 233, 216, 145, 165, 44, 224, 89, 101, 28, 31, 88, 500, 51, 28, 46, 104, 73, 263, 65, 189, 293, 66, 52, 36, 114, 105, 28, 31, 85, 63, 33, 88, 96, 105, 104, 53, 39, 218, 308, 69, 83, 41, 28, 258, 52, 57, 263, 98, 277, 178, 144, 96, 271, 138, 103, 71, 62, 36, 77, 159, 73, 37, 127, 62, 111, 82, 101, 96, 75, 156, 57, 74, 266, 85, 408, 32, 128, 78, 266, 120, 176, 29, 131, 157, 56, 272, 236, 268, 72, 72, 429, 232, 319, 63, 136, 67, 103, 110, 278, 149, 145, 51, 131, 171, 106, 82, 129, 157, 358, 212, 110, 373, 27, 95, 54, 109, 142, 91, 110, 414, 45, 146, 112, 153, 128, 120, 53, 174, 133, 126, 132, 116, 109, 34, 48, 36, 63, 378, 54, 92, 262, 123, 53, 63, 67, 68, 36, 60, 107, 61, 187, 45, 101, 171, 256, 86, 55, 42, 242, 69, 250, 177, 246, 382, 59, 92, 218, 91, 46, 118, 59, 429, 136, 130, 77, 145, 117, 87, 150, 412, 219, 107, 55, 38, 62, 65, 171, 54, 151, 138, 64, 129, 158, 79, 104, 72, 79, 175, 33, 500, 117, 265, 144, 35, 287, 200, 500, 54, 209, 95, 48, 99, 138, 173, 58, 106, 65, 92, 121, 252, 60, 117, 94, 500, 158, 149, 19, 140, 182, 302, 77, 92, 37, 194, 92, 91, 117, 77, 65, 176, 156, 194, 131, 109, 62, 94, 143, 137, 50, 168, 113, 97, 170, 226, 230, 24, 137, 158, 33, 260, 150, 89, 164, 114, 54, 86, 162, 47, 435, 50, 102, 106, 148, 248, 199, 500, 197, 76, 128, 50, 59, 89, 60, 167, 104, 38, 127, 84, 86, 169, 282, 30, 107, 173, 84, 155, 41, 62, 197, 110, 270, 408, 48, 403, 206, 101, 108, 500, 24, 188, 44, 314, 147, 83, 220, 60, 225, 222, 61, 202, 26, 115, 208, 121, 166, 454, 210, 220, 66, 54, 88, 46, 72, 78, 86, 93, 194, 118, 81, 90, 77, 394, 81, 71, 135, 47, 54, 48, 83, 76, 99, 153, 70, 160, 245, 105, 129, 96, 224, 77, 172, 95, 150, 123, 81, 244, 115, 98, 56, 51, 436, 500, 102, 94, 139, 67, 99, 88, 69, 263, 43, 154, 112, 42, 86, 31, 117, 75, 142, 185, 46, 61, 407, 46, 189, 165, 104, 111, 148, 177, 81, 64, 52, 198, 65, 109, 500, 116, 144, 135, 27, 214, 142, 129, 236, 96, 68, 286, 55, 155, 113, 267, 38, 184, 66, 103, 83, 47, 110, 33, 152, 66, 286, 107, 71, 317, 177, 90, 136, 287, 99, 154, 110, 58, 87, 142, 212, 55, 74, 75, 77, 157, 81, 163, 95, 169, 79, 114, 150, 306, 116, 148, 132, 290, 109, 56, 130, 62, 97, 72, 217, 105, 136, 68, 160, 102, 27, 74, 245, 144, 204, 139, 214, 96, 38, 73, 221, 201, 113, 323, 425, 62, 63, 64, 65, 45, 120, 112, 113, 300, 215, 60, 359, 25, 88, 238, 131, 111, 214, 202, 94, 26, 119, 92, 205, 131, 160, 60, 66, 124, 44, 97, 74, 106, 75, 52, 146, 117, 140, 241, 202, 164, 279, 75, 39, 76, 223, 63, 350, 94, 103, 264, 75, 196, 65, 61, 253, 196, 72, 233, 90, 71, 500, 38, 110, 193, 500, 69, 164, 210, 63, 479, 58, 106, 54, 500, 271, 132, 56, 148, 167, 162, 120, 34, 61, 109, 136, 79, 500, 100, 144, 141, 279, 312, 106, 38, 173, 151, 63, 91, 92, 157, 95, 71, 217, 265, 163, 500, 62, 381, 85, 111, 107, 122, 77, 132, 41, 144, 219, 34, 327, 138, 156, 319, 56, 128, 207, 82, 88, 80, 98, 88, 82, 129, 109, 188, 42, 83, 303, 129, 88, 44, 79, 155, 100, 180, 56, 72, 135, 168, 33, 177, 319, 141, 65, 46, 238, 78, 500, 96, 114, 76, 309, 239, 180, 218, 99, 195, 65, 87, 93, 251, 217, 73, 204, 222, 304, 103, 55, 53, 48, 74, 186, 39, 72, 124, 61, 500, 109, 49, 63, 107, 61, 108, 37, 65, 88, 223, 81, 79, 281, 52, 125, 105, 72, 102, 117, 324, 110, 47, 500, 182, 330, 183, 92, 94, 206, 23, 67, 154, 61, 141, 148, 42, 66, 313, 215, 97, 45, 177, 127, 22, 81, 59, 230, 118, 34, 201, 89, 158, 362, 75, 68, 184, 144, 141, 500, 106, 412, 78, 377, 159, 28, 34, 246, 159, 93, 174, 386, 121, 79, 86, 164, 60, 137, 136, 36, 94, 100, 86, 134, 193, 201, 46, 45, 100, 136, 67, 233, 86, 248, 121, 135, 230, 394, 49, 107, 65, 92, 54, 171, 80, 65, 399, 94, 222, 103, 90, 147, 269, 54, 104, 136, 218, 39, 91, 46, 278, 200, 200, 58, 224, 118, 92, 183, 86, 193, 28, 239, 82, 38, 448, 56, 70, 123, 130, 40, 116, 35, 141, 193, 210, 176, 31, 78, 47, 94, 118, 85, 115, 97, 236, 98, 500, 262, 60, 42, 446, 69, 169, 39, 109, 59, 116, 177, 62, 83, 63, 67, 74, 102, 85, 88, 326, 122, 84, 272, 57, 125, 121, 75, 151, 87, 57, 79, 93, 138, 72, 153, 231, 50, 209, 135, 413, 98, 250, 37, 59, 408, 74, 62, 146, 103, 55, 54, 124, 69, 82, 32, 267, 34, 373, 307, 53, 500, 173, 47, 133, 106, 117, 70, 230, 125, 62, 95, 94, 40, 156, 67, 80, 132, 188, 132, 139, 56, 160, 127, 194, 232, 140, 42, 162, 63, 158, 147, 97, 68, 102, 46, 286, 340, 30, 266, 134, 74, 76, 130, 45, 325, 47, 224, 75, 128, 500, 394, 62, 322, 67, 166, 191, 38, 56, 73, 92, 67, 114, 96, 82, 208, 106, 122, 44, 115, 233, 336, 99, 90, 45, 143, 265, 128, 155, 110, 60, 156, 84, 65, 55, 43, 77, 148, 32, 110, 228, 60, 43, 92, 202, 263, 500, 265, 147, 109, 308, 234, 120, 254, 139, 149, 224, 189, 100, 135, 52, 158, 38, 52, 154, 166, 198, 289, 96, 80, 177, 172, 249, 142, 329, 69, 187, 69, 38, 67, 135, 41, 75, 151, 121, 134, 106, 172, 163, 181, 363, 173, 73, 123, 37, 38, 119, 75, 241, 76, 50, 113, 55, 60, 48, 121, 141, 276, 115, 62, 269, 358, 68, 71, 184, 49, 33, 56, 363, 84, 46, 133, 228, 283, 57, 36, 160, 21, 164, 154, 112, 90, 74, 104, 129, 183, 235, 73, 36, 47, 177, 89, 222, 116, 161, 123, 253, 72, 107, 39, 91, 114, 147, 174, 55, 99, 119, 147, 88, 91, 64, 47, 232, 82, 219, 141, 114, 62, 85, 280, 61, 163, 76, 62, 106, 86, 86, 242, 48, 118, 76, 45, 86, 69, 252, 108, 139, 52, 112, 167, 67, 74, 272, 151, 63, 256, 259, 110, 500, 44, 106, 313, 110, 58, 187, 47, 54, 189, 157, 192, 94, 151, 157, 168, 100, 100, 44, 141, 407, 500, 122, 177, 27, 162, 51, 99, 165, 258, 53, 92, 98, 49, 50, 124, 86, 39, 239, 149, 199, 52, 170, 50, 62, 75, 112, 34, 157, 188, 78, 341, 167, 133, 82, 126, 56, 250, 101, 93, 47, 61, 58, 111, 53, 69, 49, 54, 80, 133, 180, 29, 153, 120, 65, 107, 169, 114, 133, 269, 135, 170, 238, 116, 118, 84, 146, 130, 114, 197, 83, 86, 89, 33, 145, 84, 197, 34, 70, 396, 89, 167, 63, 94, 231, 36, 29, 133, 127, 50, 29, 95, 210, 99, 93, 500, 23, 160, 177, 380, 230, 114, 53, 118, 87, 39, 106, 28, 40, 42, 132, 134, 257, 233, 500, 199, 159, 49, 33, 89, 153, 96, 156, 143, 206, 42, 104, 116, 297, 79, 56, 77, 19, 178, 134, 55, 139, 82, 217, 191, 129, 248, 199, 297, 61, 355, 29, 251, 54, 61, 272, 87, 50, 132, 255, 275, 118, 92, 322, 124, 76, 58, 141, 145, 173, 87, 108, 63, 66, 211, 65, 187, 90, 124, 68, 36, 96, 141, 96, 81, 120, 144, 219, 54, 84, 60, 89, 98, 79, 288, 39, 102, 80, 184, 500, 49, 147, 33, 317, 37, 139, 72, 96, 86, 281, 30, 95, 120, 228, 113, 88, 67, 57, 145, 190, 351, 136, 89, 359, 430, 86, 98, 96, 37, 295, 292, 54, 232, 52, 330, 28, 222, 29, 73, 117, 139, 56, 52, 118, 254, 92, 73, 48, 185, 106, 97, 127, 106, 155, 65, 69, 66, 41, 76, 195, 119, 42, 58, 300, 43, 276, 79, 472, 86, 61, 203, 121, 142, 60, 63, 83, 208, 71, 84, 192, 178, 283, 82, 177, 142, 162, 306, 385, 139, 33, 104, 187, 90, 107, 284, 309, 177, 67, 106, 84, 38, 55, 100, 111, 204, 293, 110, 30, 65, 209, 131, 255, 63, 135, 137, 48, 215, 500, 100, 88, 140, 193, 46, 127, 67, 231, 159, 51, 144, 89, 500, 100, 36, 338, 28, 255, 191, 90, 50, 311, 180, 44, 146, 144, 170, 195, 84, 88, 68, 269, 359, 53, 125, 439, 78, 293, 52, 77, 92, 176, 66, 140, 124, 43, 250, 257, 102, 68, 390, 41, 99, 70, 315, 85, 307, 204, 500, 139, 80, 135, 85, 334, 208, 128, 93, 164, 92, 231, 207, 54, 33, 235, 63, 132, 174, 64, 61, 199, 83, 82, 372, 107, 52, 197, 76, 500, 318, 76, 103, 140, 43, 233, 285, 132, 157, 84, 408, 224, 193, 104, 94, 371, 435, 62, 256, 64, 168, 64, 44, 82, 156, 81, 158, 71, 186, 140, 127, 199, 315, 82, 340, 500, 71, 72, 31, 167, 306, 84, 446, 76, 68, 84, 117, 50, 137, 51, 92, 278, 144, 42, 164, 222, 76, 126, 273, 183, 49, 119, 68, 166, 68, 46, 129, 114, 253, 64, 332, 92, 27, 113, 177, 48, 43, 100, 122, 158, 45, 216, 25, 311, 39, 114, 136, 174, 59, 48, 75, 136, 108, 87, 207, 52, 500, 93, 56, 92, 217, 500, 224, 213, 148, 295, 78, 122, 144, 125, 168, 97, 260, 305, 79, 88, 35, 207, 145, 129, 155, 500, 75, 204, 57, 113, 166, 106, 169, 130, 46, 85, 61, 102, 52, 143, 76, 137, 145, 76, 193, 152, 62, 24, 213, 48, 88, 63, 59, 99, 187, 71, 97, 57, 452, 143, 255, 214, 196, 234, 185, 31, 243, 77, 113, 172, 109, 74, 83, 172, 64, 58, 225, 154, 132, 148, 196, 69, 94, 106, 49, 177, 95, 102, 211, 389, 324, 384, 372, 110, 70, 49, 30, 220, 116, 56, 174, 105, 200, 136, 69, 218, 73, 74, 98, 36, 21, 71, 172, 90, 146, 500, 60, 26, 139, 59, 204, 34, 120, 153, 92, 500, 186, 88, 253, 311, 59, 129, 500, 207, 259, 30, 198, 117, 167, 87, 31, 313, 152, 174, 162, 154, 270, 64, 86, 82, 155, 75, 203, 82, 122, 424, 149, 139, 86, 111, 69, 51, 74, 79, 27, 118, 147, 122, 132, 201, 114, 102, 192, 74, 87, 101, 67, 77, 365, 207, 66, 48, 158, 85, 59, 213, 138, 73, 143, 54, 137, 71, 166, 146, 78, 167, 214, 250, 28, 61, 314, 141, 62, 95, 180, 172, 243, 72, 276, 327, 55, 116, 75, 199, 91, 74, 120, 96, 79, 42, 68, 134, 268, 72, 128, 77, 431, 438, 149, 260, 59, 227, 175, 120, 191, 450, 282, 269, 101, 459, 73, 102, 125, 134, 299, 94, 55, 36, 87, 84, 38, 190, 121, 57, 75, 96, 175, 164, 80, 120, 157, 500, 269, 233, 68, 306, 41, 99, 216, 187, 141, 131, 302, 256, 87, 86, 197, 70, 180, 200, 170, 82, 67, 228, 182, 72, 206, 101, 83, 230, 49, 66, 208, 66, 59, 102, 77, 54, 28, 137, 46, 32, 101, 500, 405, 106, 222, 142, 42, 142, 339, 96, 53, 498, 102, 91, 102, 93, 500, 240, 31, 249, 109, 156, 179, 101, 122, 122, 93, 108, 233, 252, 66, 134, 500, 354, 317, 92, 70, 76, 68, 101, 272, 90, 33, 50, 65, 50, 341, 52, 91, 40, 123, 329, 89, 139, 101, 371, 86, 133, 96, 136, 92, 149, 43, 61, 53, 220, 177, 39, 306, 50, 155, 137, 39, 92, 123, 46, 74, 36, 43, 35, 131, 217, 123, 161, 115, 88, 83, 283, 80, 138, 115, 126, 191, 117, 155, 246, 163, 83, 81, 381, 98, 125, 68, 99, 168, 156, 156, 500, 118, 205, 167, 168, 60, 101, 40, 58, 500, 75, 114, 353, 275, 228, 70, 96, 107, 67, 185, 221, 39, 500, 101, 156, 159, 139, 173, 97, 139, 81, 196, 40, 102, 337, 233, 73, 72, 53, 53, 246, 208, 143, 77, 132, 160, 17, 37, 82, 165, 67, 49, 82, 86, 162, 259, 104, 56, 135, 96, 136, 190, 129, 118, 97, 78, 249, 153, 200, 336, 142, 74, 96, 120, 348, 98, 125, 252, 84, 39, 250, 211, 381, 437, 94, 82, 91, 66, 87, 48, 162, 174, 381, 77, 114, 268, 127, 112, 125, 252, 117, 500, 34, 135, 112, 307, 162, 311, 127, 212, 117, 500, 160, 198, 100, 335, 54, 243, 221, 68, 436, 137, 132, 153, 171, 242, 175, 112, 163, 410, 90, 104, 129, 72, 97, 84, 81, 221, 272, 39, 33, 241, 56, 123, 157, 207, 34, 67, 148, 69, 100, 255, 47, 497, 226, 186, 244, 40, 167, 37, 82, 154, 126, 205, 95, 156, 85, 161, 185, 166, 151, 76, 50, 97, 49, 86, 110, 194, 300, 195, 116, 102, 172, 500, 116, 63, 199, 189, 142, 56, 59, 87, 100, 176, 191, 417, 65, 171, 91, 111, 34, 245, 196, 33, 42, 105, 108, 138, 154, 69, 314, 74, 50, 155, 55, 53, 90, 406, 119, 477, 57, 68, 203, 61, 183, 40, 500, 103, 320, 37, 108, 102, 119, 157, 175, 54, 38, 83, 163, 30, 279, 109, 316, 127, 140, 127, 88, 118, 129, 60, 391, 94, 195, 200, 312, 137, 124, 167, 178, 119, 94, 63, 67, 60, 266, 129, 64, 90, 135, 121, 154, 122, 38, 191, 63, 54, 48, 94, 153, 88, 87, 134, 91, 53, 88, 185, 304, 60, 61, 238, 102, 133, 58, 83, 85, 44, 95, 301, 251, 163, 57, 191, 47, 395, 66, 102, 123, 141, 142, 97, 57, 100, 204, 128, 72, 79, 393, 96, 84, 63, 164, 421, 131, 76, 72, 136, 89, 99, 109, 232, 194, 61, 144, 139, 187, 60, 103, 92, 154, 142, 279, 111, 233, 184, 165, 192, 56, 33, 52, 131, 181, 39, 103, 197, 77, 68, 151, 48, 95, 36, 102, 99, 131, 66, 265, 144, 98, 79, 118, 174, 500, 410, 92, 224, 96, 210, 131, 192, 198, 182, 102, 173, 165, 84, 76, 82, 59, 139, 35, 202, 147, 34, 86, 135, 141, 91, 229, 490, 345, 66, 176, 92, 168, 312, 28, 201, 59, 153, 117, 447, 500, 182, 147, 169, 120, 113, 294, 54, 164, 63, 46, 72, 103, 126, 124, 156, 51, 107, 35, 55, 94, 145, 149, 132, 214, 189, 227, 80, 201, 152, 55, 33, 242, 104, 500, 215, 182, 148, 130, 173, 60, 164, 457, 176, 72, 115, 117, 89, 63, 85, 52, 148, 218, 78, 227]}, {\"histfunc\": \"avg\", \"histnorm\": \"probability density\", \"name\": \"LQ_EDIT\", \"opacity\": 0.6, \"type\": \"histogram\", \"x\": [45, 104, 84, 102, 203, 118, 254, 123, 71, 52, 113, 224, 204, 133, 53, 51, 68, 206, 76, 72, 201, 114, 147, 142, 88, 47, 139, 50, 38, 120, 43, 37, 187, 73, 22, 51, 104, 103, 29, 96, 68, 54, 44, 54, 124, 228, 75, 141, 301, 265, 140, 63, 114, 500, 61, 41, 173, 213, 44, 92, 109, 254, 162, 150, 45, 60, 34, 29, 142, 36, 70, 131, 42, 76, 170, 24, 119, 212, 78, 61, 74, 146, 153, 72, 86, 76, 500, 42, 49, 29, 164, 82, 42, 43, 65, 49, 99, 72, 95, 132, 185, 55, 119, 134, 71, 286, 94, 106, 70, 39, 83, 44, 78, 180, 102, 162, 30, 205, 242, 106, 152, 82, 62, 166, 86, 50, 160, 85, 263, 107, 82, 20, 96, 171, 68, 67, 148, 106, 105, 49, 276, 119, 235, 78, 31, 500, 46, 35, 83, 146, 128, 55, 45, 59, 500, 82, 81, 47, 90, 56, 63, 140, 48, 57, 45, 190, 34, 114, 422, 121, 36, 76, 106, 116, 182, 53, 220, 93, 168, 153, 106, 54, 95, 166, 48, 39, 112, 71, 47, 66, 52, 57, 67, 165, 500, 54, 58, 252, 43, 204, 103, 103, 103, 174, 28, 109, 61, 45, 223, 48, 26, 30, 25, 70, 40, 79, 103, 49, 56, 115, 103, 500, 57, 116, 39, 124, 154, 14, 226, 22, 446, 46, 56, 67, 119, 116, 51, 42, 141, 86, 41, 249, 83, 205, 47, 79, 26, 221, 41, 80, 491, 248, 135, 76, 136, 53, 58, 267, 110, 144, 112, 63, 95, 52, 154, 69, 92, 184, 141, 228, 31, 95, 166, 75, 77, 76, 46, 51, 68, 97, 128, 101, 129, 71, 122, 333, 93, 177, 314, 79, 60, 68, 51, 64, 206, 74, 43, 100, 150, 201, 70, 36, 303, 114, 197, 170, 78, 100, 102, 84, 429, 500, 61, 106, 54, 133, 161, 117, 327, 94, 153, 98, 36, 88, 70, 245, 173, 27, 55, 105, 201, 84, 45, 55, 45, 58, 67, 99, 36, 478, 144, 215, 93, 92, 64, 94, 187, 128, 41, 122, 110, 94, 96, 45, 78, 48, 455, 152, 333, 60, 30, 45, 30, 101, 46, 173, 53, 75, 69, 110, 140, 60, 96, 59, 59, 69, 500, 500, 107, 140, 62, 70, 35, 67, 105, 68, 124, 59, 148, 65, 500, 141, 96, 117, 190, 131, 46, 33, 30, 115, 330, 56, 124, 83, 42, 96, 56, 35, 114, 108, 50, 107, 179, 59, 123, 93, 129, 66, 92, 110, 42, 45, 42, 86, 362, 130, 47, 99, 166, 58, 471, 200, 113, 50, 44, 228, 36, 357, 50, 31, 28, 43, 79, 45, 97, 77, 143, 100, 74, 207, 118, 90, 28, 90, 98, 94, 99, 73, 59, 118, 53, 121, 100, 396, 72, 82, 62, 97, 90, 53, 213, 284, 188, 290, 126, 83, 26, 320, 116, 177, 141, 212, 81, 34, 246, 24, 48, 343, 79, 43, 174, 64, 175, 51, 59, 24, 73, 71, 62, 171, 109, 26, 16, 74, 68, 95, 53, 76, 83, 85, 247, 54, 67, 29, 62, 61, 243, 71, 96, 141, 377, 163, 74, 61, 29, 81, 43, 73, 369, 115, 35, 103, 310, 106, 277, 106, 37, 78, 120, 37, 168, 110, 27, 404, 50, 375, 43, 500, 32, 68, 192, 50, 167, 334, 65, 122, 41, 48, 497, 47, 73, 109, 51, 338, 76, 134, 91, 149, 92, 84, 487, 64, 79, 143, 37, 47, 195, 62, 86, 91, 153, 80, 115, 500, 73, 244, 57, 29, 87, 60, 55, 44, 129, 111, 95, 500, 58, 96, 32, 94, 50, 175, 46, 81, 61, 35, 74, 92, 192, 101, 467, 59, 41, 500, 22, 62, 89, 190, 254, 83, 66, 197, 118, 86, 66, 185, 258, 165, 44, 81, 72, 69, 69, 39, 456, 117, 51, 135, 114, 188, 75, 39, 30, 38, 106, 47, 41, 85, 144, 118, 70, 91, 97, 141, 107, 77, 117, 99, 65, 78, 39, 125, 68, 63, 46, 109, 201, 43, 152, 223, 360, 500, 109, 55, 227, 54, 82, 82, 133, 35, 58, 47, 156, 141, 144, 95, 152, 173, 26, 60, 418, 500, 63, 35, 78, 500, 140, 54, 90, 165, 218, 185, 71, 53, 500, 93, 47, 130, 500, 34, 100, 47, 86, 176, 109, 349, 97, 228, 53, 46, 57, 94, 58, 91, 159, 118, 133, 253, 82, 70, 100, 199, 56, 26, 27, 21, 180, 149, 295, 253, 198, 58, 500, 22, 58, 86, 135, 61, 59, 93, 117, 34, 36, 70, 90, 96, 53, 45, 35, 66, 41, 181, 78, 124, 63, 119, 78, 149, 92, 73, 151, 54, 28, 117, 120, 41, 30, 106, 64, 67, 60, 142, 82, 93, 104, 39, 116, 201, 82, 49, 42, 74, 24, 140, 65, 77, 140, 49, 67, 44, 35, 45, 87, 106, 99, 62, 406, 42, 62, 59, 43, 78, 33, 119, 50, 71, 148, 44, 71, 117, 73, 44, 69, 114, 78, 69, 85, 274, 100, 57, 46, 131, 57, 31, 76, 62, 112, 48, 80, 51, 249, 74, 75, 78, 66, 126, 135, 48, 367, 197, 47, 76, 160, 500, 166, 28, 80, 72, 43, 67, 110, 109, 112, 79, 87, 234, 164, 27, 37, 51, 48, 159, 179, 51, 47, 169, 245, 39, 20, 87, 119, 73, 96, 98, 118, 51, 381, 69, 130, 58, 425, 281, 66, 134, 93, 62, 65, 106, 113, 133, 47, 277, 356, 59, 75, 58, 27, 132, 53, 47, 172, 173, 72, 105, 198, 111, 386, 35, 194, 75, 109, 93, 181, 184, 55, 157, 450, 58, 500, 86, 32, 55, 417, 122, 95, 100, 170, 82, 84, 92, 70, 60, 330, 94, 235, 77, 77, 169, 90, 30, 48, 20, 56, 132, 55, 74, 61, 68, 98, 80, 84, 56, 46, 95, 57, 77, 66, 500, 46, 79, 163, 258, 28, 66, 33, 70, 99, 109, 46, 49, 36, 41, 195, 75, 38, 128, 122, 205, 88, 50, 37, 56, 234, 160, 74, 69, 110, 59, 100, 167, 103, 115, 195, 40, 112, 163, 193, 60, 55, 108, 48, 82, 38, 67, 72, 295, 211, 156, 122, 134, 106, 182, 114, 115, 32, 222, 148, 28, 194, 65, 81, 42, 151, 284, 92, 98, 183, 36, 83, 185, 70, 117, 283, 29, 57, 46, 118, 50, 126, 208, 80, 106, 89, 30, 55, 47, 104, 194, 95, 59, 118, 45, 391, 500, 393, 56, 230, 47, 75, 42, 437, 70, 133, 33, 59, 360, 44, 114, 69, 29, 66, 81, 76, 26, 244, 330, 49, 202, 43, 122, 113, 46, 174, 69, 30, 229, 78, 128, 102, 125, 299, 99, 49, 120, 192, 157, 81, 72, 132, 42, 88, 72, 106, 70, 79, 330, 47, 33, 78, 51, 38, 191, 128, 133, 452, 115, 70, 407, 218, 208, 242, 60, 87, 55, 42, 68, 32, 86, 83, 128, 256, 51, 84, 90, 30, 140, 159, 106, 52, 43, 146, 39, 24, 500, 357, 41, 23, 215, 207, 141, 213, 500, 126, 98, 31, 154, 500, 135, 47, 65, 138, 42, 208, 44, 160, 141, 33, 286, 43, 89, 87, 35, 135, 85, 500, 148, 40, 115, 33, 71, 386, 101, 37, 65, 78, 102, 151, 39, 119, 297, 127, 214, 65, 122, 81, 172, 30, 88, 172, 109, 33, 33, 134, 29, 94, 159, 53, 72, 68, 126, 50, 48, 252, 114, 64, 191, 272, 117, 500, 135, 70, 77, 77, 265, 122, 34, 35, 89, 55, 75, 46, 219, 75, 138, 57, 49, 25, 55, 43, 95, 71, 41, 112, 112, 68, 122, 106, 41, 51, 78, 97, 157, 104, 124, 124, 39, 119, 227, 69, 38, 199, 123, 81, 148, 59, 29, 91, 68, 401, 38, 31, 119, 183, 155, 45, 68, 159, 149, 56, 79, 70, 176, 84, 117, 207, 33, 58, 124, 74, 322, 110, 174, 202, 40, 54, 109, 108, 85, 276, 106, 180, 71, 30, 40, 48, 45, 106, 128, 36, 72, 260, 33, 380, 68, 204, 288, 99, 51, 54, 88, 126, 299, 205, 105, 64, 55, 166, 38, 47, 50, 111, 96, 111, 281, 92, 103, 55, 73, 182, 50, 183, 61, 130, 43, 84, 105, 103, 59, 63, 149, 60, 33, 105, 254, 193, 99, 191, 90, 80, 87, 154, 135, 178, 500, 186, 141, 174, 166, 153, 271, 190, 78, 225, 105, 82, 161, 35, 83, 52, 76, 34, 81, 60, 120, 66, 96, 250, 31, 107, 38, 97, 34, 97, 203, 111, 103, 332, 171, 500, 54, 38, 255, 74, 98, 190, 79, 116, 62, 85, 132, 69, 500, 272, 144, 73, 150, 99, 54, 79, 92, 44, 127, 106, 81, 35, 79, 82, 50, 63, 77, 69, 80, 418, 112, 175, 54, 76, 367, 49, 157, 60, 87, 86, 104, 86, 55, 156, 218, 49, 34, 51, 38, 57, 247, 156, 123, 46, 500, 94, 29, 44, 169, 102, 87, 174, 67, 132, 77, 348, 67, 24, 98, 141, 28, 39, 128, 61, 97, 60, 36, 121, 99, 52, 243, 429, 63, 28, 248, 136, 112, 205, 100, 112, 296, 41, 80, 75, 32, 82, 27, 305, 59, 132, 123, 75, 98, 56, 23, 45, 138, 154, 112, 49, 91, 148, 81, 69, 66, 144, 43, 55, 68, 321, 172, 240, 122, 187, 213, 94, 59, 48, 55, 129, 86, 323, 25, 86, 82, 144, 73, 40, 275, 79, 33, 97, 42, 55, 44, 32, 189, 33, 40, 83, 60, 91, 226, 27, 87, 80, 394, 94, 86, 42, 100, 57, 52, 144, 175, 47, 71, 48, 48, 234, 86, 35, 126, 119, 94, 500, 116, 49, 65, 29, 144, 76, 35, 127, 106, 28, 79, 122, 167, 48, 83, 72, 79, 180, 42, 102, 65, 86, 88, 80, 77, 50, 90, 37, 122, 60, 77, 500, 87, 96, 103, 38, 71, 39, 50, 500, 74, 75, 52, 139, 211, 92, 100, 60, 224, 53, 66, 114, 207, 69, 104, 107, 118, 116, 40, 47, 57, 57, 149, 90, 78, 145, 40, 62, 134, 71, 44, 49, 147, 67, 73, 101, 96, 96, 232, 107, 500, 221, 72, 217, 148, 24, 83, 30, 98, 87, 64, 157, 154, 88, 44, 74, 34, 24, 65, 97, 54, 60, 190, 162, 62, 73, 154, 182, 43, 49, 57, 43, 62, 31, 56, 51, 119, 73, 71, 168, 58, 36, 202, 71, 82, 149, 112, 70, 126, 51, 63, 67, 29, 98, 236, 150, 32, 53, 120, 58, 52, 184, 57, 169, 53, 69, 58, 101, 50, 55, 64, 235, 106, 68, 54, 203, 25, 104, 69, 70, 42, 53, 82, 87, 73, 64, 150, 293, 158, 162, 85, 117, 94, 108, 77, 103, 140, 31, 23, 188, 109, 49, 87, 109, 36, 151, 212, 97, 184, 149, 86, 69, 47, 71, 53, 94, 57, 183, 96, 296, 86, 78, 74, 46, 262, 96, 135, 41, 65, 87, 45, 39, 59, 64, 36, 165, 206, 500, 85, 36, 41, 92, 95, 211, 42, 33, 30, 75, 27, 53, 52, 152, 150, 41, 66, 40, 245, 77, 64, 326, 184, 246, 22, 469, 173, 92, 85, 45, 164, 57, 102, 71, 89, 135, 232, 72, 239, 25, 30, 123, 161, 319, 73, 63, 247, 63, 221, 141, 37, 302, 500, 154, 126, 57, 331, 35, 65, 59, 73, 191, 45, 84, 322, 41, 40, 77, 61, 273, 409, 42, 170, 124, 60, 44, 54, 44, 71, 214, 80, 130, 48, 57, 79, 110, 94, 172, 273, 95, 41, 67, 135, 45, 53, 97, 77, 88, 500, 28, 83, 102, 35, 182, 94, 500, 500, 32, 192, 57, 36, 69, 92, 71, 78, 109, 67, 47, 78, 70, 62, 46, 40, 124, 78, 40, 135, 178, 107, 387, 210, 492, 49, 98, 135, 70, 100, 69, 92, 100, 113, 36, 65, 67, 69, 104, 60, 45, 98, 51, 60, 87, 79, 48, 207, 103, 36, 43, 133, 52, 88, 149, 202, 174, 44, 51, 187, 25, 55, 113, 49, 83, 72, 89, 145, 43, 181, 98, 358, 52, 71, 43, 60, 167, 43, 50, 82, 75, 52, 71, 41, 79, 103, 136, 40, 305, 56, 500, 30, 43, 60, 49, 38, 177, 207, 130, 63, 88, 307, 118, 118, 75, 165, 258, 500, 80, 79, 79, 57, 59, 31, 141, 58, 118, 222, 374, 324, 52, 149, 53, 52, 462, 78, 76, 136, 25, 39, 43, 181, 74, 131, 177, 106, 208, 89, 74, 76, 222, 96, 76, 239, 88, 110, 109, 55, 99, 65, 42, 124, 49, 63, 143, 66, 213, 101, 39, 117, 34, 89, 50, 363, 305, 148, 170, 314, 44, 190, 142, 65, 82, 500, 38, 55, 54, 126, 155, 59, 55, 193, 47, 72, 74, 74, 44, 119, 113, 33, 163, 500, 32, 77, 201, 423, 45, 109, 29, 57, 105, 104, 78, 100, 78, 41, 46, 39, 54, 128, 52, 53, 65, 211, 121, 38, 149, 50, 119, 62, 195, 66, 87, 51, 65, 202, 247, 71, 145, 82, 100, 164, 64, 168, 236, 122, 51, 237, 90, 39, 366, 223, 72, 269, 116, 114, 120, 37, 68, 500, 36, 157, 53, 32, 278, 135, 71, 58, 21, 62, 34, 56, 111, 92, 107, 46, 55, 58, 41, 35, 121, 50, 45, 51, 91, 18, 185, 122, 87, 424, 157, 55, 69, 53, 52, 99, 194, 60, 65, 43, 141, 20, 26, 72, 244, 161, 69, 147, 64, 73, 130, 167, 95, 109, 500, 107, 131, 91, 71, 114, 160, 144, 77, 145, 39, 69, 109, 50, 76, 75, 195, 55, 78, 73, 98, 92, 105, 86, 112, 103, 57, 150, 133, 115, 38, 45, 89, 76, 240, 77, 109, 60, 118, 85, 182, 47, 109, 95, 93, 92, 370, 62, 267, 47, 107, 111, 52, 278, 74, 62, 198, 95, 132, 47, 62, 78, 64, 85, 84, 57, 266, 47, 83, 156, 28, 74, 270, 73, 48, 77, 44, 30, 21, 91, 143, 59, 237, 43, 111, 74, 313, 177, 168, 129, 104, 74, 47, 57, 84, 155, 141, 90, 122, 133, 93, 199, 20, 105, 55, 62, 71, 72, 87, 206, 140, 32, 64, 21, 45, 22, 43, 43, 31, 58, 38, 41, 41, 119, 71, 61, 36, 500, 39, 59, 28, 166, 46, 78, 308, 206, 76, 42, 88, 86, 250, 257, 22, 96, 32, 25, 36, 65, 43, 89, 100, 72, 123, 38, 72, 55, 203, 211, 18, 63, 21, 130, 41, 25, 122, 178, 59, 52, 300, 97, 88, 126, 118, 126, 138, 233, 84, 136, 132, 116, 282, 106, 56, 106, 124, 89, 33, 264, 122, 98, 145, 29, 45, 100, 136, 60, 47, 147, 66, 36, 63, 147, 98, 54, 92, 65, 122, 234, 116, 127, 261, 142, 63, 61, 67, 28, 91, 58, 475, 71, 91, 151, 227, 97, 34, 75, 112, 147, 55, 148, 440, 49, 56, 115, 257, 56, 78, 200, 253, 70, 45, 500, 500, 72, 109, 98, 239, 238, 73, 156, 100, 79, 61, 118, 138, 46, 63, 138, 49, 126, 28, 43, 122, 46, 376, 69, 45, 36, 44, 71, 104, 88, 207, 111, 302, 28, 86, 40, 75, 105, 119, 33, 127, 247, 64, 245, 85, 39, 70, 144, 73, 43, 47, 96, 60, 172, 111, 18, 201, 113, 41, 136, 40, 82, 30, 124, 59, 53, 78, 84, 147, 214, 87, 109, 38, 58, 69, 110, 191, 62, 398, 76, 85, 267, 233, 60, 226, 62, 65, 165, 114, 100, 39, 53, 288, 171, 106, 100, 31, 160, 110, 75, 109, 87, 89, 24, 46, 181, 199, 55, 175, 185, 500, 71, 85, 53, 243, 109, 128, 62, 95, 98, 35, 92, 93, 131, 74, 89, 181, 36, 111, 191, 94, 174, 167, 364, 93, 260, 61, 105, 141, 208, 86, 177, 500, 89, 138, 35, 100, 108, 111, 46, 89, 52, 64, 124, 94, 30, 129, 24, 45, 92, 130, 43, 38, 89, 239, 72, 62, 26, 88, 141, 42, 44, 192, 97, 173, 71, 60, 206, 81, 50, 61, 165, 258, 40, 53, 75, 25, 91, 35, 212, 101, 277, 60, 122, 55, 41, 121, 66, 95, 64, 61, 195, 43, 306, 35, 66, 68, 40, 121, 48, 51, 46, 126, 166, 77, 107, 143, 53, 94, 181, 113, 34, 98, 42, 76, 129, 43, 40, 28, 89, 120, 24, 217, 69, 34, 113, 50, 109, 326, 44, 111, 63, 67, 45, 50, 77, 63, 132, 40, 27, 57, 82, 34, 145, 121, 151, 96, 42, 205, 128, 56, 66, 39, 159, 153, 41, 36, 81, 118, 74, 41, 38, 128, 59, 41, 279, 93, 133, 109, 42, 500, 97, 39, 159, 196, 140, 266, 289, 39, 33, 58, 27, 110, 44, 297, 87, 154, 251, 43, 27, 51, 83, 41, 99, 27, 36, 58, 29, 78, 101, 134, 159, 24, 94, 95, 56, 37, 40, 151, 61, 116, 60, 78, 115, 233, 79, 108, 84, 257, 99, 62, 242, 152, 106, 99, 196, 119, 183, 96, 87, 49, 138, 324, 57, 72, 152, 362, 80, 311, 82, 57, 99, 39, 58, 55, 254, 271, 59, 109, 111, 169, 255, 317, 26, 96, 47, 167, 45, 70, 467, 90, 34, 114, 123, 50, 47, 33, 92, 58, 146, 86, 67, 68, 64, 41, 68, 40, 77, 269, 45, 36, 167, 53, 88, 148, 36, 59, 41, 45, 63, 117, 275, 251, 69, 62, 22, 85, 74, 290, 60, 278, 122, 36, 141, 33, 62, 180, 151, 74, 93, 63, 221, 79, 52, 85, 96, 52, 84, 103, 20, 56, 49, 86, 304, 95, 74, 184, 64, 74, 62, 467, 24, 35, 235, 69, 87, 65, 162, 62, 47, 100, 70, 55, 118, 89, 94, 102, 332, 35, 34, 500, 96, 102, 204, 111, 38, 40, 137, 26, 38, 66, 81, 143, 36, 500, 488, 40, 92, 90, 198, 57, 117, 32, 51, 72, 66, 64, 114, 91, 70, 265, 374, 154, 27, 68, 33, 172, 157, 49, 127, 103, 25, 331, 212, 74, 157, 26, 124, 114, 130, 75, 62, 45, 94, 231, 67, 273, 43, 203, 69, 59, 39, 32, 32, 83, 91, 88, 94, 142, 107, 52, 50, 52, 87, 27, 370, 75, 55, 62, 49, 49, 113, 116, 192, 101, 124, 293, 141, 55, 73, 79, 86, 118, 29, 48, 58, 78, 86, 169, 359, 500, 73, 54, 107, 41, 106, 28, 72, 28, 78, 42, 45, 55, 66, 126, 158, 65, 32, 96, 82, 56, 63, 112, 35, 147, 57, 84, 136, 120, 45, 38, 36, 35, 98, 143, 198, 62, 56, 35, 73, 91, 99, 126, 500, 70, 75, 96, 51, 147, 32, 15, 80, 123, 82, 83, 58, 143, 89, 103, 31, 116, 87, 97, 73, 90, 63, 162, 117, 107, 71, 135, 132, 48, 62, 84, 434, 92, 138, 59, 53, 35, 119, 55, 67, 25, 104, 129, 57, 193, 223, 190, 50, 195, 133, 278, 43, 51, 318, 21, 74, 58, 74, 57, 80, 83, 52, 204, 99, 109, 67, 253, 97, 76, 76, 53, 372, 59, 238, 41, 57, 86, 77, 113, 45, 43, 59, 75, 267, 115, 145, 53, 127, 32, 141, 143, 94, 92, 49, 50, 77, 65, 237, 49, 30, 69, 184, 86, 346, 88, 55, 59, 108, 53, 116, 98, 59, 62, 108, 167, 84, 54, 69, 182, 64, 67, 157, 500, 66, 108, 37, 122, 82, 99, 303, 66, 102, 28, 117, 145, 62, 171, 102, 160, 105, 111, 35, 167, 66, 29, 38, 52, 43, 61, 65, 43, 128, 43, 132, 26, 108, 94, 300, 50, 162, 45, 101, 46, 129, 34, 56, 83, 119, 63, 42, 54, 118, 500, 52, 79, 47, 81, 48, 69, 88, 112, 337, 57, 191, 60, 180, 45, 120, 109, 157, 33, 68, 142, 73, 500, 103, 451, 82, 167, 30, 56, 35, 103, 500, 100, 38, 240, 46, 39, 65, 155, 252, 74, 164, 68, 235, 180, 337, 52, 159, 22, 35, 52, 183, 144, 62, 208, 68, 77, 67, 131, 39, 81, 58, 27, 111, 55, 279, 133, 175, 40, 122, 85, 175, 32, 49, 72, 117, 300, 64, 467, 204, 58, 154, 500, 69, 192, 120, 104, 71, 82, 139, 42, 81, 22, 234, 95, 57, 56, 80, 70, 82, 146, 41, 121, 88, 68, 69, 500, 58, 85, 112, 309, 24, 258, 114, 82, 93, 182, 49, 186, 114, 38, 63, 39, 129, 33, 42, 128, 101, 190, 52, 224, 86, 121, 48, 500, 47, 86, 24, 39, 84, 124, 150, 500, 180, 146, 122, 43, 124, 103, 111, 120, 65, 281, 94, 76, 44, 73, 140, 35, 500, 84, 63, 201, 40, 448, 37, 81, 72, 112, 131, 189, 8, 131, 85, 48, 126, 63, 63, 147, 80, 81, 32, 48, 113, 239, 81, 76, 114, 62, 100, 150, 178, 47, 37, 136, 48, 79, 79, 135, 84, 101, 186, 66, 55, 75, 100, 338, 102, 35, 38, 187, 146, 28, 87, 44, 39, 38, 65, 61, 144, 194, 34, 102, 37, 55, 55, 77, 67, 86, 141, 93, 80, 239, 62, 44, 44, 196, 163, 282, 106, 79, 48, 89, 421, 120, 281, 484, 138, 73, 28, 439, 44, 76, 115, 76, 106, 500, 61, 500, 81, 254, 63, 130, 80, 161, 42, 500, 104, 67, 39, 70, 244, 79, 77, 62, 37, 54, 69, 14, 54, 53, 414, 128, 344, 26, 271, 25, 55, 67, 250, 92, 51, 60, 59, 101, 99, 78, 281, 119, 237, 325, 24, 71, 93, 86, 28, 52, 66, 102, 106, 76, 144, 78, 62, 202, 108, 28, 128, 120, 212, 23, 85, 459, 84, 43, 101, 73, 427, 116, 79, 45, 132, 46, 66, 262, 79, 97, 96, 66, 86, 49, 17, 135, 104, 117, 336, 71, 329, 180, 31, 51, 48, 141, 84, 407, 94, 47, 206, 168, 58, 39, 262, 106, 171, 61, 198, 72, 39, 77, 93, 45, 72, 110, 132, 500, 77, 44, 51, 67, 179, 60, 66, 118, 22, 201, 69, 74, 90, 65, 107, 39, 48, 373, 500, 52, 111, 30, 60, 34, 69, 38, 337, 180, 13, 56, 161, 81, 74, 214, 142, 401, 238, 500, 47, 152, 45, 33, 45, 47, 72, 131, 74, 109, 40, 194, 118, 64, 500, 40, 112, 72, 138, 64, 22, 92, 26, 199, 113, 52, 500, 172, 71, 41, 34, 74, 70, 79, 39, 52, 81, 500, 33, 19, 142, 101, 110, 62, 138, 278, 127, 225, 112, 87, 134, 118, 91, 18, 81, 55, 87, 104, 51, 63, 95, 62, 83, 105, 40, 70, 90, 55, 154, 142, 117, 58, 53, 107, 67, 138, 30, 87, 195, 178, 129, 92, 64, 68, 161, 107, 240, 83, 103, 45, 52, 52, 104, 35, 89, 53, 141, 382, 39, 218, 29, 51, 64, 113, 33, 43, 82, 123, 104, 62, 48, 71, 41, 43, 72, 150, 25, 33, 296, 74, 316, 63, 51, 84, 133, 229, 447, 105, 94, 145, 97, 171, 59, 36, 135, 135, 134, 110, 100, 97, 72, 114, 112, 47, 37, 20, 25, 74, 178, 145, 43, 122, 72, 153, 63, 40, 62, 148, 409, 132, 213, 56, 159, 48, 98, 266, 33, 131, 134, 149, 341, 150, 104, 500, 27, 50, 60, 52, 35, 456, 37, 40, 326, 138, 121, 48, 63, 43, 115, 102, 63, 65, 23, 45, 118, 74, 62, 500, 91, 500, 145, 159, 166, 50, 38, 236, 121, 59, 184, 221, 104, 49, 95, 61, 61, 122, 74, 84, 36, 68, 81, 144, 91, 35, 156, 37, 164, 167, 78, 36, 53, 97, 79, 58, 78, 78, 127, 163, 64, 500, 178, 220, 98, 33, 63, 47, 136, 63, 101, 114, 59, 65, 52, 58, 43, 186, 500, 286, 81, 143, 33, 109, 56, 66, 98, 185, 77, 157, 36, 99, 44, 131, 261, 51, 107, 170, 68, 87, 60, 71, 57, 126, 50, 51, 56, 252, 56, 184, 500, 48, 72, 101, 268, 33, 150, 175, 112, 236, 30, 34, 84, 122, 17, 72, 34, 50, 33, 56, 173, 228, 103, 112, 170, 74, 262, 63, 135, 474, 397, 229, 262, 62, 97, 74, 50, 107, 43, 55, 61, 117, 284, 62, 75, 115, 46, 38, 300, 59, 63, 187, 151, 297, 90, 80, 119, 180, 416, 191, 156, 65, 287, 500, 58, 91, 58, 92, 153, 89, 35, 70, 55, 35, 27, 128, 65, 78, 56, 195, 123, 72, 90, 460, 27, 89, 48, 378, 52, 74, 204, 99, 208, 210, 264, 87, 102, 32, 101, 103, 93, 65, 37, 71, 37, 38, 85, 40, 165, 63, 94, 63, 44, 192, 274, 51, 105, 96, 23, 56, 89, 317, 59, 147, 204, 500, 103, 299, 79, 172, 70, 38, 61, 79, 68, 79, 187, 176, 94, 123, 64, 36, 100, 65, 116, 172, 230, 147, 30, 452, 36, 96, 55, 67, 79, 99, 114, 141, 55, 78, 45, 67, 79, 86, 97, 105, 97, 71, 37, 47, 130, 279, 138, 92, 65, 74, 50, 48, 81, 42, 93, 86, 54, 28, 106, 87, 117, 48, 296, 124, 70, 60, 74, 96, 92, 49, 189, 28, 59, 121, 47, 500, 158, 126, 63, 62, 35, 154, 82, 100, 22, 70, 39, 500, 88, 45, 210, 60, 430, 78, 67, 100, 350, 36, 354, 196, 48, 89, 76, 125, 67, 35, 34, 61, 120, 261, 150, 55, 68, 98, 500, 57, 46, 46, 56, 42, 190, 36, 51, 32, 109, 156, 54, 17, 132, 84, 229, 90, 67, 124, 89, 71, 106, 136, 62, 67, 62, 76, 50, 308, 84, 310, 111, 500, 121, 102, 154, 98, 29, 60, 154, 43, 72, 122, 105, 69, 87, 51, 125, 59, 362, 52, 71, 46, 82, 70, 61, 500, 80, 75, 64, 125, 70, 83, 98, 53, 236, 109, 230, 39, 47, 334, 64, 138, 79, 98, 55, 174, 86, 51, 123, 60, 48, 87, 72, 178, 43, 214, 179, 63, 128, 188, 35, 226, 61, 35, 157, 52, 272, 202, 55, 114, 76, 44, 61, 96, 56, 42, 113, 63, 141, 79, 127, 47, 41, 38, 166, 65, 41, 24, 500, 116, 65, 53, 47, 50, 65, 63, 62, 218, 92, 104, 71, 38, 176, 112, 69, 36, 34, 61, 246, 83, 91, 41, 110, 42, 106, 114, 20, 32, 84, 32, 34, 39, 43, 107, 35, 100, 500, 100, 25, 110, 60, 500, 325, 100, 62, 316, 109, 96, 500, 106, 57, 206, 104, 57, 255, 336, 92, 107, 102, 107, 112, 60, 63, 85, 88, 125, 499, 140, 34, 80, 58, 44, 97, 95, 52, 62, 68, 305, 115, 115, 45, 45, 98, 75, 121, 57, 34, 53, 229, 237, 242, 116, 91, 97, 80, 94, 121, 170, 54, 69, 73, 231, 120, 94, 51, 500, 29, 439, 130, 67, 52, 92, 85, 67, 215, 49, 83, 191, 37, 26, 64, 26, 255, 317, 107, 114, 189, 143, 124, 120, 22, 55, 174, 77, 48, 85, 106, 414, 89, 112, 106, 121, 29, 127, 139, 132, 50, 105, 47, 445, 68, 110, 43, 98, 183, 86, 62, 30, 25, 74, 306, 304, 52, 69, 109, 348, 58, 136, 78, 34, 130, 87, 500, 101, 160, 84, 89, 28, 125, 244, 67, 109, 52, 93, 202, 81, 113, 70, 96, 91, 42, 365, 135, 106, 180, 44, 101, 127, 52, 86, 97, 477, 178, 119, 67, 208, 96, 77, 500, 500, 42, 26, 54, 75, 104, 462, 41, 84, 43, 251, 46, 224, 124, 91, 72, 320, 143, 121, 77, 26, 70, 71, 40, 95, 57, 132, 33, 49, 174, 42, 50, 41, 70, 153, 39, 95, 57, 47, 83, 40, 69, 42, 45, 253, 500, 291, 64, 100, 68, 207, 142, 107, 74, 66, 204, 108, 126, 53, 69, 35, 49, 67, 500, 92, 195, 133, 78, 260, 178, 64, 80, 142, 94, 88, 166, 93, 49, 68, 57, 35, 45, 38, 115, 76, 114, 91, 54, 500, 138, 500, 134, 100, 93, 61, 78, 41, 30, 373, 81, 131, 145, 74, 84, 58, 47, 97, 47, 77, 88, 295, 45, 500, 93, 117, 96, 66, 99, 179, 24, 62, 145, 65, 62, 162, 101, 165, 155, 78, 44, 110, 46, 33, 27, 52, 142, 38, 191, 78, 345, 38, 49, 187, 137, 53, 86, 89, 107, 116, 102, 60, 87, 54, 34, 73, 151, 170, 226, 42, 81, 67, 500, 97, 97, 116, 74, 167, 85, 88, 284, 54, 61, 150, 68, 44, 82, 66, 38, 64, 99, 55, 182, 66, 78, 95, 89, 134, 61, 142, 27, 68, 85, 153, 29, 274, 82, 198, 40, 112, 202, 37, 267, 27, 174, 144, 38, 18, 93, 53, 75, 101, 147, 58, 247, 83, 154, 204, 111, 33, 64, 82, 108, 62, 33, 61, 42, 151, 89, 105, 96, 43, 268, 137, 102, 26, 65, 127, 47, 75, 482, 54, 55, 44, 92, 109, 178, 84, 89, 244, 93, 66, 48, 161, 500, 73, 51, 108, 95, 128, 41, 129, 119, 99, 90, 77, 114, 34, 68, 129, 50, 38, 149, 38, 58, 58, 39, 108, 201, 54, 139, 63, 30, 89, 193, 44, 68, 92, 84, 313, 181, 20, 44, 55, 93, 118, 124, 33, 71, 36, 313, 170, 55, 98, 187, 65, 69, 63, 338, 37, 93, 122, 73, 84, 91, 161, 154, 67, 48, 225, 25, 36, 167, 54, 100, 18, 235, 111, 258, 92, 57, 37, 34, 205, 67, 278, 97, 78, 56, 74, 108, 292, 102, 99, 187, 108, 32, 88, 35, 141, 44, 500, 92, 235, 46, 89, 110, 50, 46, 102, 34, 66, 214, 127, 429, 66, 31, 165, 43, 174, 56, 227, 83, 123, 46, 107, 93, 66, 36, 63, 119, 15, 43, 182, 179, 192, 110, 137, 80, 89, 34, 79, 96, 100, 72, 211, 98, 252, 82, 51, 58, 52, 59, 208, 60, 235, 91, 233, 38, 58, 105, 100, 267, 117, 75, 194, 45, 18, 68, 40, 99, 128, 145, 89, 45, 109, 500, 79, 59, 49, 113, 136, 83, 87, 236, 55, 152, 161, 37, 104, 46, 28, 76, 89, 44, 33, 44, 69, 39, 213, 65, 214, 83, 96, 186, 112, 90, 29, 46, 25, 101, 72, 31, 500, 87, 48, 65, 53, 111, 75, 59, 33, 184, 179, 38, 69, 56, 439, 60, 43, 284, 115, 102, 149, 63, 153, 500, 125, 64, 149, 38, 126, 87, 98, 321, 279, 61, 41, 102, 38, 66, 38, 45, 396, 83, 110, 140, 157, 86, 98, 87, 82, 63, 93, 172, 42, 64, 37, 92, 67, 84, 174, 335, 63, 121, 500, 83, 126, 56, 142, 484, 64, 212, 103, 111, 78, 46, 72, 52, 53, 104, 123, 64, 42, 150, 35, 74, 242, 142, 61, 25, 157, 131, 85, 90, 31, 37, 144, 77, 193, 64, 41, 127, 165, 31, 36, 26, 126, 223, 159, 29, 473, 113, 335, 68, 63, 188, 500, 251, 85, 31, 296, 143, 160, 53, 66, 99, 115, 112, 46, 83, 84, 71, 78, 79, 74, 59, 76, 28, 189, 81, 131, 329, 66, 95, 98, 111, 54, 33, 115, 53, 80, 73, 125, 45, 72, 219, 93, 57, 101, 208, 47, 39, 173, 32, 488, 29, 57, 102, 42, 68, 53, 36, 44, 44, 42, 333, 76, 35, 100, 130, 81, 500, 101, 60, 67, 81, 101, 100, 72, 39, 194, 53, 38, 65, 39, 92, 40, 158, 185, 98, 21, 26, 58, 60, 179, 500, 63, 94, 67, 70, 91, 108, 107, 163, 95, 44, 141, 57, 127, 68, 142, 109, 181, 81, 41, 308, 88, 48, 40, 66, 28, 65, 273, 121, 288, 105, 66, 85, 204, 80, 66, 33, 119, 106, 158, 135, 162, 61, 56, 181, 121, 54, 122, 58, 96, 445, 500, 27, 225, 199, 225, 38, 153, 63, 66, 77, 500, 108, 500, 188, 81, 238, 84, 285, 103, 209, 33, 85, 37, 115, 39, 66, 74, 269, 176, 335, 341, 37, 156, 46, 50, 35, 134, 59, 69, 163, 28, 21, 87, 71, 164, 53, 14, 69, 48, 62, 48, 164, 56, 96, 92, 500, 99, 90, 148, 53, 63, 278, 194, 168, 62, 172, 136, 199, 80, 149, 28, 76, 43, 125, 68, 241, 192, 94, 500, 500, 45, 165, 92, 173, 63, 112, 116, 89, 126, 50, 59, 74, 96, 184, 258, 78, 99, 155, 131, 39, 77, 110, 60, 48, 160, 38, 90, 86, 137, 60, 72, 136, 79, 184, 104, 168, 91, 149, 354, 152, 55, 117, 81, 42, 500, 129, 104, 58, 63, 30, 271, 33, 56, 84, 174, 36, 87, 189, 81, 25, 121, 51, 56, 55, 126, 107, 69, 138, 358, 93, 27, 72, 67, 35, 76, 100, 33, 78, 322, 174, 103, 87, 42, 167, 52, 31, 99, 221, 61, 88, 104, 72, 57, 39, 73, 70, 137, 77, 19, 90, 148, 53, 32, 71, 122, 113, 42, 80, 68, 60, 101, 300, 81, 25, 48, 82, 50, 86, 245, 84, 80, 48, 58, 176, 103, 143, 66, 330, 122, 90, 48, 35, 199, 42, 40, 74, 30, 87, 122, 187, 175, 49, 67, 184, 73, 58, 54, 63, 22, 286, 48, 195, 97, 64, 100, 45, 106, 83, 378, 58, 37, 55, 103, 58, 95, 83, 141, 37, 97, 42, 108, 34, 383, 100, 339, 51, 58, 82, 88, 500, 45, 93, 73, 120, 112, 101, 340, 208, 27, 46, 33, 87, 63, 80, 43, 48, 44, 286, 38, 161, 134, 36, 500, 103, 154, 245, 53, 63, 115, 220, 500, 78, 45, 48, 81, 38, 59, 99, 36, 94, 165, 71, 68, 119, 47, 120, 51, 123, 76, 68, 81, 155, 109, 191, 135, 146, 106, 101, 99, 304, 206, 500, 91, 98, 53, 122, 27, 139, 40, 338, 245, 113, 107, 77, 46, 167, 96, 238, 211, 112, 84, 148, 56, 44, 118, 29, 110, 67, 109, 57, 50, 76, 29, 69, 209, 74, 456, 75, 64, 76, 88, 61, 88, 86, 198, 132, 104, 85, 72, 209, 189, 60, 70, 135, 218, 93, 60, 75, 88, 56, 35, 40, 217, 99, 67, 99, 123, 95, 134, 217, 46, 319, 50, 175, 236, 95, 38, 265, 46, 77, 190, 230, 105, 78, 158, 55, 68, 121, 324, 87, 123, 103, 44, 319, 62, 81, 72, 97, 435, 129, 63, 36, 80, 108, 19, 39, 61, 87, 64, 84, 198, 156, 357, 297, 73, 136, 126, 65, 103, 68, 73, 54, 90, 93, 65, 178, 139, 173, 62, 95, 39, 52, 39, 44, 34, 84, 163, 169, 175, 60, 40, 43, 90, 99, 60, 150, 131, 123, 50, 122, 24, 87, 133, 29, 117, 500, 145, 85, 60, 500, 60, 52, 84, 187, 38, 113, 195, 31, 48, 75, 42, 69, 84, 126, 45, 91, 60, 99, 73, 415, 126, 77, 118, 161, 63, 83, 68, 78, 22, 22, 88, 20, 57, 80, 91, 217, 111, 53, 53, 163, 115, 56, 31, 30, 18, 53, 25, 55, 73, 98, 169, 114, 110, 241, 44, 312, 77, 500, 341, 50, 111, 26, 153, 83, 84, 37, 43, 81, 27, 48, 52, 143, 74, 51, 70, 39, 96, 86, 340, 38, 64, 326, 49, 82, 409, 31, 48, 104, 34, 61, 112, 70, 95, 51, 51, 65, 31, 56, 57, 175, 48, 85, 82, 210, 56, 175, 105, 139, 39, 77, 55, 191, 190, 62, 67, 66, 54, 175, 108, 26, 104, 122, 122, 103, 63, 55, 75, 175, 230, 99, 99, 75, 65, 82, 96, 51, 168, 63, 56, 71, 53, 121, 134, 44, 32, 42, 116, 78, 94, 64, 44, 160, 500, 62, 55, 45, 30, 68, 148, 81, 61, 36, 197, 79, 483, 39, 36, 228, 241, 142, 148, 500, 48, 53, 167, 47, 94, 80, 17, 104, 127, 75, 45, 113, 68, 203, 88, 143, 39, 109, 124, 65, 167, 284, 335, 121, 176, 109, 46, 114, 38, 37, 51, 73, 105, 36, 176, 39, 25, 37, 61, 89, 45, 359, 103, 38, 55, 58, 99, 82, 74, 276, 48, 130, 155, 31, 119, 285, 147, 92, 500, 174, 111, 41, 112, 61, 60, 121, 78, 35, 105, 145, 46, 170, 105, 500, 68, 61, 64, 100, 42, 75, 103, 236, 52, 37, 50, 195, 99, 110, 103, 130, 183, 46, 111, 42, 39, 56, 74, 236, 29, 81, 52, 41, 244, 59, 54, 55, 56, 47, 54, 81, 138, 35, 96, 233, 63, 90, 109, 46, 18, 96, 298, 23, 41, 82, 46, 98, 59, 123, 24, 172, 179, 67, 83, 104, 405, 38, 185, 138, 310, 79, 26, 81, 35, 53, 98, 70, 109, 32, 108, 40, 59, 150, 37, 500, 80, 35, 179, 67, 145, 73, 82, 114, 120, 39, 269, 78, 389, 88, 72, 422, 243, 151, 157, 33, 41, 69, 78, 50, 47, 67, 37, 241, 59, 181, 500, 70, 42, 48, 247, 52, 40, 186, 314, 201, 173, 63, 65, 186, 279, 373, 57, 103, 45, 80, 85, 45, 72, 323, 85, 238, 49, 137, 44, 82, 85, 53, 54, 181, 51, 43, 53, 67, 35, 215, 337, 36, 67, 137, 63, 217, 41, 47, 197, 37, 65, 500, 118, 71, 74, 112, 171, 107, 85, 131, 96, 50, 104, 68, 49, 282, 330, 120, 176, 94, 51, 34, 65, 169, 72, 66, 77, 151, 75, 39, 27, 50, 268, 66, 64, 23, 28, 352, 37, 26, 87, 100, 142, 40, 112, 87, 194, 111, 21, 25, 78, 53, 85, 45, 48, 218, 192, 306, 51, 37, 305, 202, 381, 50, 49, 201, 36, 52, 62, 104, 144, 91, 108, 403, 47, 148, 30, 120, 154, 235, 41, 43, 41, 63, 46, 500, 78, 65, 149, 267, 78, 25, 88, 24, 57, 34, 147, 53, 47, 249, 34, 61, 29, 197, 129, 209, 188, 37, 66, 95, 72, 68, 43, 142, 305, 48, 54, 135, 40, 203, 171, 48, 500, 94, 26, 360, 254, 51, 147, 218, 81, 31, 73, 97, 36, 40, 117, 500, 149, 189, 95, 44, 64, 132, 174, 177, 38, 459, 31, 224, 224, 113, 80, 98, 500, 62, 139, 118, 61, 158, 102, 310, 125, 201, 289, 226, 119, 68, 100, 78, 51, 182, 102, 203, 112, 103, 126, 81, 170, 49, 84, 69, 96, 59, 45, 36, 63, 63, 41, 28, 51, 37, 218, 77, 156, 54, 58, 354, 82, 52, 407, 39, 86, 55, 84, 128, 67, 242, 90, 36, 57, 63, 96, 106, 281, 50, 74, 41, 108, 40, 163, 61, 67, 50, 103, 129, 129, 120, 76, 51, 109, 483, 145, 156, 101, 66, 81, 47, 102, 78, 42, 95, 58, 76, 59, 46, 13, 113, 49, 36, 69, 113, 61, 109, 134, 35, 111, 341, 90, 212, 56, 203, 37, 66, 86, 62, 90, 499, 107, 197, 41, 67, 108, 35, 71, 155, 127, 41, 247, 58, 38, 88, 47, 105, 87, 50, 94, 111, 24, 52, 36, 43, 105, 61, 79, 72, 45, 142, 74, 134, 132, 178, 27, 52, 159, 121, 42, 45, 226, 82, 45, 302, 21, 45, 57, 178, 33, 73, 105, 198, 45, 58, 84, 79, 96, 47, 84, 94, 104, 57, 45, 126, 52, 30, 426, 56, 400, 45, 131, 35, 27, 51, 71, 69, 125, 103, 75, 48, 106, 141, 61, 111, 32, 125, 121, 438, 32, 38, 29, 47, 19, 31, 70, 197, 47, 220, 83, 112, 65, 63, 69, 34, 330, 113, 66, 31, 83, 34, 114, 289, 470, 83, 49, 254, 147, 61, 79, 196, 48, 35, 62, 41, 71, 108, 458, 58, 128, 29, 75, 102, 114, 81, 58, 136, 52, 90, 72, 262, 130, 40, 165, 41, 50, 66, 149, 78, 46, 109, 105, 94, 67, 85, 51, 137, 102, 33, 50, 84, 49, 106, 290, 68, 70, 204, 72, 82, 113, 98, 131, 17, 139, 62, 30, 124, 96, 65, 110, 99, 31, 136, 97, 470, 38, 77, 166, 53, 49, 25, 159, 44, 78, 94, 500, 43, 28, 500, 89, 61, 62, 66, 98, 47, 97, 174, 147, 53, 73, 45, 146, 104, 51, 78, 377, 84, 94, 256, 54, 161, 70, 74, 43, 46, 32, 65, 127, 321, 118, 469, 94, 483, 41, 60, 51, 32, 16, 108, 456, 84, 74, 114, 38, 119, 39, 106, 253, 64, 100, 34, 119, 33, 22, 232, 26, 158, 26, 45, 76, 84, 28, 98, 79, 42, 97, 67, 68, 24, 116, 184, 32, 26, 62, 39, 105, 65, 112, 182, 139, 323, 500, 94, 43, 55, 66, 164, 52, 108, 223, 116, 78, 37, 205, 279, 109, 52, 109, 62, 104, 122, 35, 115, 121, 87, 90, 49, 72, 97, 80, 41, 47, 145, 272, 142, 499, 111, 36, 58, 48, 148, 84, 82, 32, 25, 71, 212, 200, 92, 64, 71, 64, 233, 83, 165, 418, 75, 58, 40, 68, 28, 31, 128, 53, 146, 34, 86, 500, 123, 87, 32, 500, 112, 23, 90, 28, 108, 35, 317, 151, 47, 54, 323, 91, 27, 157, 103, 175, 81, 232, 100, 30, 276, 67, 100, 86, 51, 93, 41, 133, 97, 51, 120, 122, 191, 49, 174, 48, 244, 71, 85, 59, 48, 85, 179, 155, 55, 152, 55, 34, 70, 108, 202, 43, 47, 33, 105, 84, 59, 53, 58, 152, 208, 114, 49, 110, 148, 47, 81, 30, 118, 137, 90, 79, 115, 97, 31, 57, 167, 68, 50, 100, 43, 107, 53, 76, 251, 56, 181, 132, 135, 126, 49, 25, 95, 59, 79, 63, 42, 75, 49, 86, 75, 47, 91, 39, 99, 232, 58, 115, 39, 57, 71, 30, 55, 71, 500, 184, 74, 56, 185, 46, 91, 95, 39, 63, 177, 210, 114, 27, 64, 84, 56, 72, 147, 53, 64, 48, 86, 88, 55, 109, 90, 53, 100, 181, 146, 62, 46, 166, 39, 157, 78, 78, 95, 22, 79, 94, 124, 54, 64, 24, 60, 127, 22, 74, 42, 140, 135, 92, 32, 212, 55, 500, 208, 49, 86, 83, 87, 56, 28, 193, 46, 75, 74, 204, 94, 62, 32, 87, 69, 55, 107, 93, 172, 60, 70, 117, 74, 47, 49, 52, 60, 40, 189, 145, 223, 57, 81, 27, 232, 129, 59, 76, 162, 105, 46, 500, 45, 80, 42, 93, 188, 174, 205, 122, 130, 272, 121, 79, 24, 70, 96, 68, 155, 102, 73, 68, 101, 49, 362, 88, 82, 41, 69, 79, 57, 43, 62, 195, 83, 126, 22, 77, 94, 89, 369, 85, 31, 59, 37, 101, 75, 100, 441, 133, 155, 56, 81, 51, 97, 62, 46, 53, 500, 58, 164, 49, 33, 102, 50, 70, 31, 99, 63, 65, 54, 350, 147, 71, 40, 54, 163, 192, 36, 133, 144, 86, 237, 51, 61, 144, 64, 72, 106, 94, 49, 500, 49, 210, 67, 241, 229, 158, 168, 94, 177, 66, 36, 62, 151, 56, 150, 217, 396, 159, 75, 104, 70, 110, 88, 155, 335, 227, 83, 46, 270, 195, 151, 80, 37, 116, 281, 52, 22, 130, 45, 58, 39, 44, 57, 240, 157, 269, 170, 102, 168, 77, 40, 78, 42, 99, 34, 36, 56, 72, 56, 43, 67, 60, 119, 62, 190, 139, 76, 121, 69, 192, 61, 85, 81, 161, 97, 149, 118, 321, 40, 91, 217, 49, 63, 124, 152, 241, 110, 500, 68, 70, 122, 62, 106, 56, 63, 76, 100, 115, 41, 46, 500, 38, 38, 93, 110, 85, 33, 390, 42, 55, 500, 239, 122, 255, 170, 128, 46, 59, 21, 37, 55, 47, 109, 102, 130, 48, 160, 62, 46, 32, 70, 212, 101, 98, 172, 75, 82, 103, 500, 62, 89, 325, 61, 72, 121, 50, 55, 169, 35, 127, 85, 42, 38, 152, 250, 212, 136, 38, 70, 60, 71, 75, 35, 35, 43, 73, 95, 376, 87, 73, 154, 158, 139, 208, 60, 76, 99, 206, 133, 27, 41, 120, 131, 336, 44, 38, 396, 44, 29, 183, 73, 50, 54, 36, 466, 32, 187, 51, 57, 44, 40, 83, 70, 87, 69, 379, 65, 123, 89, 55, 147, 171, 44, 119, 107, 27, 62, 117, 98, 81, 105, 66, 33, 39, 75, 105, 57, 70, 107, 212, 82, 76, 81, 99, 33, 40, 103, 45, 99, 65, 500, 111, 28, 45, 215, 78, 74, 94, 156, 69, 500, 56, 123, 179, 44, 155, 63, 50, 181, 283, 31, 88, 39, 141, 130, 80, 107, 105, 160, 159, 266, 121, 83, 19, 44, 266, 115, 58, 117, 48, 110, 235, 500, 33, 74, 180, 75, 33, 95, 100, 229, 41, 79, 54, 55, 36, 47, 56, 90, 44, 147, 175, 94, 297, 92, 178, 69, 135, 123, 118, 156, 167, 160, 117, 78, 48, 199, 66, 106, 50, 30, 252, 97, 127, 52, 39, 197, 33, 211, 53, 61, 447, 238, 87, 106, 81, 500, 139, 500, 217, 50, 99, 67, 500, 45, 113, 500, 351, 87, 80, 27, 175, 27, 77, 100, 170, 113, 112, 69, 74, 76, 108, 65, 79, 46, 113, 108, 22, 127, 500, 90, 89, 147, 78, 348, 48, 203, 87, 209, 190, 219, 37, 106, 91, 52, 135, 84, 125, 39, 296, 114, 97, 448, 26, 53, 177, 160, 72, 84, 121, 97, 68, 132, 70, 176, 281, 86, 112, 59, 65, 108, 102, 61, 104, 75, 92, 104, 52, 114, 116, 64, 56, 232, 59, 88, 65, 144, 130, 18, 102, 43, 71, 60, 106, 28, 111, 128, 98, 107, 51, 107, 59, 170, 269, 236, 196, 66, 180, 120, 124, 58, 118, 78, 43, 224, 318, 83, 58, 171, 41, 57, 30, 342, 128, 500, 259, 57, 22, 131, 280, 40, 65, 123, 53, 24, 134, 80, 65, 73, 35, 96, 47, 55, 254, 172, 49, 386, 29, 82, 54, 133, 56, 36, 133, 39, 101, 32, 162, 49, 308, 59, 500, 21, 47, 84, 39, 25, 171, 35, 66, 77, 187, 57, 109, 50, 89, 96, 64, 97, 40, 103, 32, 43, 105, 91, 185, 43, 73, 124, 160, 126, 69, 150, 32, 88, 128, 56, 142, 53, 81, 162, 83, 81, 51, 59, 147, 66, 70, 47, 51, 241, 103, 100, 166, 115, 62, 161, 38, 43, 33, 34, 45, 85, 66, 270, 50, 66, 116, 204, 68, 50, 71, 170, 73, 181, 131, 48, 403, 83, 206, 28, 71, 219, 117, 80, 270, 87, 49, 157, 90, 48, 377, 106, 34, 26, 50, 412, 121, 119, 60, 24, 106, 70, 500, 61, 53, 65, 34, 78, 54, 226, 125, 130, 165, 117, 53, 91, 46, 411, 119, 61, 114, 66, 102, 55, 90, 45, 154, 46, 260, 500, 42, 67, 109, 100, 32, 163, 127, 36, 87, 50, 102, 63, 79, 75, 119, 469, 100, 105, 42, 147, 74, 42, 138, 167, 80, 116, 56, 103, 134, 94, 46, 32, 77, 114, 72, 231, 66, 82, 96, 37, 245, 247, 66, 111, 94, 365, 36, 296, 136, 155, 35, 67, 90, 500, 105, 88, 128, 31, 177, 39, 31, 101, 75, 111, 53, 181, 52, 34, 329, 56, 36, 42, 117, 70, 178, 231, 98, 69, 252, 148, 101, 39, 77, 206, 108, 43, 163, 244, 39, 51, 95, 43, 500, 280, 186, 67, 201, 42, 82, 113, 42, 48, 50, 488, 34, 142, 71, 128, 112, 208, 324, 320, 29, 136, 279, 33, 157, 48, 438, 96, 81, 346, 85, 95, 102, 66, 47, 249, 28, 391, 86, 424, 95, 115, 94, 362, 77, 70, 59, 103, 25, 109, 39, 53, 54, 155, 49, 75, 301, 49, 493, 161, 29, 168, 65, 150, 54, 111, 104, 94, 193, 53, 310, 33, 41, 85, 54, 58, 164, 54, 63, 40, 48, 62, 49, 436, 77, 62, 44, 91, 321, 500, 72, 50, 116, 93, 27, 48, 61, 109, 134, 350, 500, 170, 48, 437, 91, 107, 41, 46, 116, 50, 179, 51, 409, 78, 99, 394, 235, 144, 62, 185, 119, 42, 42, 126, 32, 159, 76, 156, 135, 287, 42, 107, 266, 57, 37, 284, 64, 43, 123, 301, 103, 52, 59, 120, 40, 66, 78, 169, 69, 104, 135, 35, 37, 431, 25, 141, 137, 64, 241, 36, 76, 257, 46, 187, 62, 64, 67, 100, 46, 171, 81, 70, 107, 119, 103, 41, 30, 73, 71, 50, 79, 39, 189, 34, 273, 46, 62, 127, 135, 72, 182, 99, 226, 108, 169, 234, 56, 117, 67, 110, 137, 70, 52, 77, 42, 155, 59, 89, 39, 120, 131, 148, 84, 31, 56, 42, 213, 36, 175, 67, 75, 78, 84, 53, 105, 120, 255, 309, 500, 23, 44, 28, 165, 167, 42, 29, 128, 105, 66, 137, 184, 35, 45, 309, 56, 88, 138, 46, 78, 34, 83, 69, 98, 42, 81, 122, 500, 122, 229, 85, 39, 38, 81, 107, 195, 168, 87, 41, 69, 139, 81, 43, 103, 83, 98, 56, 500, 33, 28, 35, 61, 51, 42, 75, 250, 178, 470, 67, 156, 101, 214, 83, 82, 46, 62, 148, 40, 137, 81, 60, 136, 45, 133, 97, 93, 334, 48, 170, 103, 162, 59, 104, 426, 70, 159, 55, 52, 107, 44, 58, 109, 30, 50, 55, 43, 208, 149, 100, 214, 51, 50, 85, 500, 67, 204, 278, 77, 114, 94, 75, 76, 59, 40, 73, 144, 102, 152, 97, 130, 500, 57, 151, 62, 148, 118, 158, 500, 156, 489, 135, 52, 27, 50, 273, 38, 104, 182, 132, 312, 105, 103, 96, 39, 73, 118, 170, 138, 230, 55, 50, 59, 88, 500, 500, 41, 81, 41, 133, 58, 42, 159, 67, 72, 40, 154, 68, 141, 260, 150, 30, 30, 85, 289, 45, 51, 48, 118, 77, 62, 164, 126, 143, 44, 220, 140, 42, 68, 93, 14, 66, 265, 133, 74, 89, 38, 62, 19, 52, 158, 131, 52, 133, 51, 51, 291, 140, 64, 81, 126, 103, 84, 177, 111, 70, 182, 60, 134, 70, 70, 30, 89, 84, 117, 365, 134, 53, 41, 84, 194, 98, 236, 155, 66, 99, 105, 69, 280, 168, 500, 119, 210, 120, 43, 46, 109, 156, 31, 85, 19, 174, 61, 50, 47, 19, 188, 47, 247, 125, 69, 59, 124, 36, 84, 141, 50, 80, 474, 309, 117, 319, 389, 174, 142, 106, 53, 45, 23, 43, 69, 32, 212, 35, 96, 105, 500, 120, 90, 99, 466, 147, 500, 136, 22, 62, 60, 74, 62, 73, 53, 224, 127, 74, 85, 117, 39, 39, 47, 90, 143, 392, 57, 32, 71, 252, 83, 68, 106, 45, 142, 34, 48, 43, 136, 179, 54, 174, 82, 152, 83, 109, 179, 59, 89, 56, 85, 52, 101, 194, 195, 58, 68, 67, 189, 89, 168, 101, 112, 204, 189, 32, 58, 75, 162, 210, 78, 33, 107, 181, 39, 101, 59, 50, 70, 124, 50, 500, 433, 310, 138, 275, 55, 115, 74, 207, 47, 251, 71, 53, 137, 116, 43, 124, 146, 168, 116, 104, 154, 66, 76, 34, 124, 61, 409, 148, 37, 66, 44, 38, 202, 58, 397, 99, 85, 263, 36, 59, 55, 51, 59, 76, 110, 247, 271, 42, 92, 271, 63, 44, 78, 102, 146, 162, 110, 149, 270, 88, 141, 143, 54, 116, 117, 111, 40, 31, 500, 62, 426, 39, 122, 66, 90, 100, 49, 95, 112, 42, 159, 96, 54, 48, 45, 64, 28, 112, 54, 166, 130, 96, 81, 95, 46, 64, 54, 73, 99, 144, 37, 47, 27, 154, 71, 111, 36, 114, 348, 132, 70, 123, 122, 80, 114, 169, 59, 57, 49, 25, 52, 77, 313, 44, 56, 49, 500, 127, 72, 39, 138, 71, 139, 121, 59, 45, 29, 32, 96, 141, 36, 45, 189, 36, 63, 98, 51, 88, 51, 69, 96, 126, 36, 103, 204, 207, 70, 48, 79, 100, 41, 84, 500, 62, 66, 89, 201, 54, 27, 87, 96, 42, 33, 80, 131, 26, 54, 322, 35, 78, 37, 266, 46, 33, 154, 101, 122, 107, 69, 110, 145, 193, 70, 55, 77, 186, 500, 90, 82, 44, 61, 114, 66, 120, 400, 33, 53, 46, 190, 143, 342, 119, 97, 30, 372, 42, 76, 66, 64, 380, 152, 500, 142, 53, 117, 52, 154, 263, 47, 134, 74, 261, 57, 102, 60, 79, 180, 120, 67, 80, 92, 66, 453, 117, 111, 83, 61, 68, 104, 90, 184, 75, 69, 450, 30, 44, 35, 72, 297, 39, 88, 118, 253, 85, 105, 159, 64, 49, 109, 90, 58, 45, 126, 57, 41, 26, 75, 362, 100, 60, 109, 15, 160, 45, 48, 144, 90, 74, 73, 91, 86, 31, 34, 59, 182, 76, 37, 92, 59, 54, 141, 177, 58, 75, 35, 154, 94, 59, 121, 168, 43, 57, 73, 36, 106, 52, 47, 89, 128, 131, 52, 37, 197, 53, 64, 500, 82, 82, 58, 338, 43, 152, 27, 374, 104, 131, 142, 60, 67, 82, 91, 72, 91, 32, 337, 63, 51, 69, 65, 110, 67, 134, 54, 95, 74, 90, 114, 52, 207, 75, 65, 51, 84, 133, 147, 63, 200, 25, 49, 55, 101, 24, 177, 58, 99, 41, 183, 161, 50, 64, 281, 127, 161, 65, 45, 130, 70, 44, 105, 87, 173, 171, 89, 500, 16, 59, 120, 91, 162, 53, 118, 58, 121, 39, 96, 128, 182, 50, 105, 76, 224, 286, 37, 50, 143, 108, 338, 90, 83, 156, 272, 255, 22, 72, 128, 24, 83, 72, 71, 259, 54, 115, 253, 383, 134, 97, 74, 73, 200, 88, 165, 47, 79, 259, 48, 105, 60, 257, 42, 500, 44, 63, 419, 141, 193, 133, 60, 57, 61, 123, 41, 306, 267, 500, 28, 26, 231, 116, 18, 156, 95, 184, 77, 57, 41, 297, 43, 56, 42, 166, 157, 105, 74, 126, 195, 121, 222, 133, 133, 126, 180, 287, 82, 249, 215, 131, 167, 38, 98, 101, 84, 46, 184, 500, 75, 165, 93, 150, 119, 64, 86, 61, 295, 180, 141, 37, 110, 31, 90, 47, 101, 97, 46, 158, 122, 261, 113, 61, 68, 62, 41, 115, 78, 88, 261, 58, 35, 104, 87, 115, 144, 35, 34, 59, 73, 113, 67, 163, 93, 38, 16, 48, 312, 65, 48, 51, 45, 91, 80, 32, 33, 178, 236, 38, 129, 86, 191, 55, 181, 190, 179, 132, 149, 50, 142, 82, 45, 193, 146, 127, 80, 313, 64, 121, 46, 141, 96, 83, 191, 215, 378, 116, 48, 85, 37, 25, 74, 68, 167, 80, 30, 58, 124, 184, 71, 99, 199, 183, 91, 107, 37, 63, 36, 64, 54, 47, 105, 153, 64, 36, 29, 76, 85, 95, 121, 37, 93, 120, 121, 243, 106, 91, 125, 78, 188, 55, 36, 35, 70, 82, 213, 299, 67, 54, 165, 25, 204, 73, 37, 114, 46, 87, 165, 109, 48, 43, 234, 59, 384, 42, 152, 85, 50, 86, 333, 100, 114, 192, 82, 50, 134, 56, 49, 52, 145, 188, 44, 500, 54, 34, 74, 52, 44, 82, 132, 55, 295, 91, 105, 95, 56, 41, 64, 53, 81, 65, 35, 57, 138, 319, 55, 112, 33, 72, 40, 258, 37, 68, 165, 56, 31, 51, 88, 173, 61, 168, 68, 241, 79, 62, 39, 94, 106, 500, 121, 46, 151, 94, 174, 57, 87, 87, 35, 83, 88, 97, 116, 497, 378, 231, 88, 35, 240, 53, 62, 85, 248, 76, 73, 97, 92, 90, 181, 48, 111, 123, 121, 41, 71, 58, 92, 68, 23, 73, 117, 36, 204, 182, 68, 78, 110, 150, 118, 59, 100, 88, 161, 58, 35, 32, 55, 112, 39, 155, 85, 151, 45, 352, 324, 110, 37, 32, 86, 247, 33, 33, 117, 152, 102, 38, 63, 62, 162, 168, 61, 465, 34, 153, 45, 68, 91, 77, 178, 157, 68, 172, 191, 44, 65, 74, 90, 81, 257, 50, 401, 120, 33, 32, 69, 82, 58, 124, 104, 63, 232, 268, 118, 57, 46, 74, 372, 117, 69, 87, 42, 193, 131, 75, 78, 64, 213, 46, 112, 27, 89, 138, 447, 186, 52, 39, 75, 217, 144, 60, 54, 39, 24, 146, 38, 26, 29, 69, 51, 63, 104, 123, 262, 128, 130, 85, 97, 68, 32, 211, 117, 154, 156, 193, 47, 109, 28, 119, 109, 149, 64, 57, 198, 219, 59, 73, 63, 85, 96, 41, 99, 35, 22, 220, 86, 122, 156, 96, 49, 108, 258, 128, 230, 40, 83, 106, 228, 75, 152, 116, 34, 46, 46, 104, 47, 84, 183, 82, 81, 40, 44, 219, 335, 209, 72, 99, 72, 70, 41, 133, 92, 90, 45, 192, 129, 202, 173, 404, 87, 69, 39, 67, 48, 104, 429, 27, 123, 91, 185, 168, 54, 142, 106, 70, 67, 77, 112, 202, 31, 23, 198, 54, 65, 62, 37, 143, 59, 57, 53, 23, 175, 109, 84, 78, 36, 129, 30, 65, 52, 49, 95, 167, 500, 93, 100, 114, 151, 36, 136, 207, 148, 434, 500, 57, 73, 148, 368, 63, 72, 172, 58, 29, 34, 52, 102, 80, 62, 107, 52, 178, 109, 500, 163, 198, 69, 49, 41, 55, 93, 130, 93, 56, 76, 281, 150, 65, 65, 81, 86, 119, 64, 77, 60, 106, 85, 52, 81, 90, 49, 57, 66, 77, 74, 157, 89, 39, 54, 500, 94, 91, 107, 61, 80, 113, 66, 240, 51, 48, 98, 52, 63, 188, 140, 68, 170, 31, 119, 389, 66, 89, 65, 30, 109, 44, 235, 133, 57, 109, 30, 82, 17, 36, 64, 79, 30, 97, 340, 500, 55, 57, 446, 54, 74, 145, 80, 84, 497, 40, 34, 65, 115, 45, 24, 279, 110, 64, 114, 81, 362, 32, 37, 271, 196, 110, 33, 64, 131, 36, 41, 56, 44, 49, 73, 112, 36, 246, 129, 50, 40, 25, 166, 131, 249, 17, 132, 96, 92, 185, 221, 41, 57, 206, 45, 37, 92, 56, 101, 74, 36, 102, 27, 84, 147, 56, 84, 44, 264, 68, 244, 221, 69, 34, 394, 89, 21, 110, 162, 414, 500, 69, 111, 154, 35, 97, 52, 413, 86, 81, 74, 272, 67, 23, 286, 69, 69, 135, 219, 34, 73, 69, 32, 59, 102, 60, 132, 126, 44, 61, 27, 54, 142, 72, 97, 47, 78, 56, 186, 500, 37, 60, 154, 167, 186, 75, 500, 65, 75, 256, 99, 132, 51, 91, 106, 98, 106, 81, 62, 68, 148, 102, 33, 85, 51, 55, 85, 38, 56, 58, 61, 111, 52, 96, 39, 94, 139, 256, 35, 40, 65, 172, 154, 53, 77, 84, 143, 206, 75, 80, 69, 174, 118, 408, 66, 105, 278, 206, 209, 54, 108, 81, 123, 42, 179, 125, 66, 391, 67, 223, 56, 169, 339, 43, 385, 60, 280, 41, 160, 174, 34, 74, 65, 149, 67, 57, 42, 73, 101, 144, 412, 138, 158, 129, 183, 35, 70, 171, 152, 115, 69, 25, 101, 84, 37, 153, 77, 108, 139, 100, 89, 80, 126, 64, 55, 102, 405, 95, 125, 50, 147, 45, 54, 71, 54, 69, 233, 37, 148, 62, 204, 20, 312, 33, 61, 500, 20, 75, 95, 151, 66, 58, 52, 69, 428, 106, 142, 45, 49, 108, 86, 56, 58, 205, 52, 44, 33, 68, 110, 51, 55, 500, 33, 112, 78, 73, 71, 27, 38, 46, 500, 403, 130, 58, 36, 58, 279, 46, 123, 107, 168, 45, 88, 70, 43, 133, 125, 270, 65, 56, 106, 122, 34, 105, 24, 232, 271, 150, 53, 97, 83, 62, 500, 156, 57, 62, 174, 125, 194, 43, 57, 40, 121, 46, 266, 62, 65, 157, 182, 165, 35, 36, 55, 123, 148, 74, 116, 162, 190, 78, 221, 57, 46, 113, 110, 68, 64, 110, 312, 87, 61, 147, 95, 51, 37, 84, 121, 35, 35, 208, 177, 73, 302, 288, 35, 147, 139, 86, 45, 201, 249, 49, 43, 62, 200, 35, 107, 215, 47, 128, 108, 44, 66, 29, 60, 51, 104, 182, 28, 484, 68, 58, 95, 88, 136, 123, 68, 130, 196, 146, 82, 92, 103, 43, 83, 43, 203, 113, 28, 70, 130, 47, 52, 171, 34, 111, 64, 160, 33, 143, 149, 153, 74, 63, 31, 46, 47, 82, 173, 106, 51, 43, 93, 68, 152, 60, 35, 71, 70, 55, 29, 373, 167, 60, 27, 210, 123, 70, 45, 75, 51, 141, 110, 52, 77, 100, 142, 57, 145, 95, 136, 47, 70, 126, 29, 40, 47, 40, 59, 34, 32, 49, 34, 30, 29, 37, 32, 226, 47, 91, 33, 64, 27, 75, 126, 53, 72, 176, 49, 47, 80, 63, 102, 114, 42, 87, 92, 85, 162, 148, 65, 53, 30, 35, 44, 89, 293, 217, 80, 317, 117, 78, 54, 226, 144, 155, 56, 173, 196, 43, 199, 45, 120, 32, 65, 104, 45, 32, 117, 54, 91, 62, 119, 129, 111, 78, 75, 42, 70, 375, 63, 54, 88, 47, 60, 164, 60, 87, 55, 333, 75, 37, 32, 147, 23, 189, 66, 64, 107, 150, 31, 166, 22, 62, 272, 64, 65, 133, 72, 44, 50, 54, 202, 51, 164, 94, 211, 500, 69, 500, 38, 299, 77, 68, 72, 102, 53, 89, 25, 109, 42, 272, 137, 30, 57, 126, 33, 82, 172, 237, 165, 165, 73, 84, 63, 173, 46, 56, 93, 22, 119, 50, 82, 173, 143, 382, 38, 70, 57, 54, 106, 192, 120, 113, 46, 72, 110, 51, 123, 92, 67, 462, 53, 500, 85, 131, 27, 128, 101, 43, 111, 59, 304, 101, 116, 500, 40, 108, 163, 82, 184, 70, 122, 115, 500, 72, 80, 104, 53, 84, 113, 116, 41, 143, 121, 86, 221, 185, 62, 58, 140, 34, 71, 107, 106, 36, 377, 293, 57, 69, 21, 136, 170, 53, 99, 27, 144, 82, 44, 71, 70, 198, 124, 68, 50, 41, 62, 54, 62, 102, 64, 30, 162, 35, 57, 282, 68, 73, 59, 500, 63, 500, 91, 276, 74, 399, 72, 38, 76, 120, 69, 197, 107, 57, 106, 208, 32, 121, 158, 61, 269, 36, 49, 86, 45, 267, 88, 305, 150, 124, 468, 154, 49, 500, 97, 102, 53, 364, 27, 55, 107, 114, 46, 204, 129, 45, 22, 85, 487, 173, 27, 110, 33, 356, 64, 88, 59, 125, 66, 51, 142, 152, 81, 169, 32, 49, 52, 55, 106, 86, 95, 121, 30, 112, 74, 146, 77, 70, 143, 71, 76, 74, 40, 23, 103, 47, 249, 39, 106, 423, 143, 191, 47, 49, 164, 92, 70, 57, 245, 283, 314, 500, 96, 55, 39, 62, 72, 55, 138, 84, 55, 61, 32, 500, 80, 155, 53, 128, 74, 95, 31, 90, 130, 49, 140, 134, 59, 39, 44, 67, 31, 44, 96, 99, 82, 60, 113, 63, 128, 99, 108, 54, 77, 114, 181, 275, 44, 80, 111, 56, 169, 51, 97, 97, 131, 92, 149, 135, 29, 130, 30, 163, 43, 159, 172, 110, 78, 63, 99, 53, 110, 64, 61, 45, 24, 35, 117, 32, 64, 434, 500, 118, 118, 124, 206, 22, 113, 100, 74, 66, 33, 24, 61, 70, 141, 255, 48, 154, 57, 59, 49, 183, 110, 326, 125, 379, 135, 99, 275, 39, 65, 500, 42, 107, 65, 83, 36, 45, 45, 131, 81, 53, 195, 180, 132, 39, 111, 291, 72, 162, 43, 43, 116, 56, 52, 372, 45, 53, 47, 62, 78, 43, 63, 500, 102, 299, 117, 256, 33, 93, 48, 38, 105, 66, 58, 68, 206, 45, 435, 30, 105, 175, 71, 41, 37, 51, 52, 82, 57, 84, 178, 43, 128, 240, 296, 56, 93, 69, 294, 67, 240, 41, 43, 73, 115, 141, 108, 208, 284, 40, 81, 357, 47, 176, 90, 138, 64, 71, 237, 34, 98, 72, 205, 92, 30, 38, 35, 64, 35, 47, 33, 164, 119, 254, 29, 167, 79, 98, 42, 32, 104, 60, 308, 64, 41, 92, 116, 122, 108, 284, 85, 68, 66, 48, 46, 103, 87, 37, 84, 63, 37, 59, 70, 67, 57, 68, 78, 500, 97, 51, 278, 38, 33, 289, 153, 31, 211, 70, 105, 38, 30, 29, 118, 34, 359, 59, 57, 52, 48, 172, 52, 57, 263, 58, 330, 28, 68, 92, 207, 54, 246, 82, 83, 66, 57, 105, 91, 62, 61, 253, 31, 33, 106, 37, 82, 99, 68, 91, 35, 285, 74, 96, 57, 157, 107, 157, 118, 79, 41, 63, 32, 236, 52, 106, 115, 97, 112, 64, 33, 75, 204, 35, 27, 238, 51, 36, 159, 59, 46, 179, 55, 89, 47, 109, 151, 130, 71, 31, 41, 90, 91, 137, 33, 33, 60, 95, 125, 246, 80, 91, 90, 123, 31, 38, 150, 62, 71, 32, 39, 106, 157, 52, 144, 291, 99, 242, 186, 40, 68, 125, 175, 209, 44, 79, 94, 79, 66, 64, 61, 121, 29, 40, 64, 56, 48, 48, 53, 96, 294, 42, 39, 151, 52, 66, 72, 122, 134, 68, 71, 31, 112, 59, 68, 101, 28, 84, 81, 27, 69, 74, 85, 209, 38, 235, 228, 104, 96, 42, 500, 104, 130, 179, 85, 99, 112, 180, 179, 108, 39, 57, 211, 14, 73, 283, 121, 162, 251, 48, 36, 53, 128, 51, 426, 263, 94, 65, 276, 154, 127, 169, 59, 45, 100, 165, 59, 51, 28, 116, 98, 132, 500, 137, 81, 40, 33, 74, 500, 39, 113, 135, 104, 60, 52, 79, 45, 188, 96, 60, 48, 43, 110, 51, 93, 42, 209, 88, 79, 49, 94, 119, 206, 51, 59, 77, 43, 180, 129, 85, 48, 69, 75, 77, 107, 90, 43, 54, 36, 349, 205, 89, 34, 40, 149, 202, 125, 51, 46, 92, 60, 49, 40, 39, 36, 160, 51, 96, 65, 13, 40, 55, 47, 67, 32, 93, 47, 180, 272, 64, 279, 42, 46, 76, 28, 459, 29, 88, 306, 240, 103, 48, 65, 132, 248, 39, 57, 265, 55, 51, 70, 78, 57, 57, 73, 44, 91, 50, 71, 91, 66, 44, 44, 85, 78, 54, 35, 34, 307, 143, 456, 59, 68, 101, 33, 66, 98, 397, 87, 28, 19, 59, 28, 34, 81, 25, 56, 70, 86, 172, 110, 61, 155, 123, 36, 289, 82, 71, 101, 63, 82, 95, 36, 21, 30, 144, 64, 80, 227, 79, 99, 92, 197, 326, 57, 500, 82, 198, 219, 139, 64, 34, 82, 289, 188, 95, 71, 216, 76, 41, 116, 67, 80, 500, 49, 224, 177, 182, 105, 98, 95, 133, 54, 121, 37, 46, 65, 287, 206, 102, 40, 112, 113, 77, 76, 56, 327, 96, 137, 124, 65, 137, 141, 53, 115, 297, 160, 39, 117, 53, 68, 113, 25, 489, 108, 96, 51, 211, 97, 95, 105, 92, 59, 27, 82, 148, 75, 31, 69, 79, 71, 74, 74, 164, 109, 48, 195, 189, 204, 49, 145, 67, 152, 69, 189, 85, 79, 169, 33, 92, 56, 130, 477, 36, 70, 53, 121, 31, 167, 77, 124, 78, 32, 135, 321, 73, 94, 39, 79, 32, 34, 284, 156, 21, 104, 85, 106, 78, 96, 77, 222, 239, 60, 35, 216, 26, 54, 56, 107, 154, 79, 135, 70, 46, 101, 231, 130, 101, 72, 89, 71, 100, 66, 56, 80, 60, 141, 110, 34, 83, 36, 314, 98, 172, 32, 53, 129, 184, 35, 21, 46, 35, 166, 136, 103, 125, 229, 36, 104, 128, 117, 56, 144, 39, 143, 185, 60, 52, 32, 72, 161, 53, 34, 110, 269, 30, 85, 134, 169, 53, 166, 79, 49, 46, 110, 43, 119, 96, 123, 51, 87, 68, 315, 187, 42, 115, 58, 82, 70, 88, 66, 112, 49, 86, 60, 64, 78, 81, 76, 51, 51, 123, 142, 69, 246, 41, 73, 69, 88, 54, 123, 80, 45, 37, 121, 26, 66, 84, 80, 51, 116, 108, 194, 137, 83, 83, 75, 85, 109, 25, 82, 53, 188, 56, 59, 51, 130, 74, 103, 47, 54, 55, 45, 332, 91, 80, 87, 186, 68, 28, 25, 50, 158, 110, 185, 52, 80, 64, 102, 69, 469, 292, 73, 90, 36, 44, 37, 108, 104, 147, 107, 155, 30, 88, 70, 93, 46, 128, 60, 59, 159, 40, 127, 109, 55, 151, 84, 116, 91, 41, 84, 70, 92, 113, 37, 84, 73, 111, 28, 98, 54, 76, 40, 64, 123, 219, 49, 130, 111, 114, 116, 378, 102, 67, 61, 48, 56, 74, 74, 52, 272, 500, 24, 119, 127, 198, 34, 158, 500, 45, 151, 44, 90, 29, 24, 154, 178, 301, 53, 36, 104, 102, 39, 104, 397, 65, 42, 72, 67, 46, 57, 211, 49, 50, 68, 40, 385, 109, 47, 62, 83, 64, 500, 87, 72, 247, 178, 100, 210, 104, 36, 157, 100, 104, 85, 81, 40, 137, 424, 64, 90, 120, 45, 52, 108, 101, 158, 31, 63, 189, 56, 99, 500, 40, 89, 73, 95, 20, 59, 500, 31, 66, 84, 69, 76, 39, 217, 98, 104, 82, 24, 103, 500, 80, 102, 74, 184, 127, 89, 42, 500, 76, 113, 161, 52, 341, 88, 87, 166, 91, 54, 81, 93, 127, 67, 92, 231, 17, 125, 88, 500, 120, 52, 57, 76, 31, 36, 35, 64, 170, 136, 189, 92, 15, 36, 42, 110, 59, 203, 142, 179, 64, 126, 70, 99, 123, 115, 211, 74, 87, 35, 65, 130, 92, 67, 99, 40, 51, 174, 157, 144, 55, 86, 124, 211, 53, 118, 243, 96, 54, 40, 31, 127, 186, 78, 80, 235, 67, 95, 50, 96, 76, 34, 145, 136, 97, 95, 34, 98, 55, 169, 70, 344, 86, 174, 58, 83, 44, 66, 88, 54, 45, 76, 121, 234, 136, 76, 148, 61, 41, 51, 127, 57, 51, 46, 64, 59, 72, 44, 60, 54, 65, 22, 26, 258, 39, 118, 346, 67, 52, 63, 130, 121, 128, 500, 40, 163, 119, 28, 53, 23, 43, 195, 108, 97, 154, 100, 94, 55, 84, 500, 65, 199, 135, 133, 72, 136, 481, 104, 103, 33, 65, 56, 105, 67, 136, 236, 48, 85, 30, 62, 107, 65, 62, 68, 173, 123, 58, 91, 144, 48, 67, 79, 123, 169, 279, 65, 312, 44, 63, 73, 61, 47, 145, 80, 339, 143, 34, 61, 185, 44, 119, 90, 125, 75, 81, 59, 221, 35, 79, 96, 72, 133, 500, 170, 42, 239, 118, 62, 297, 40, 103, 63, 147, 445, 207, 470, 101, 84, 80, 500, 48, 38, 500, 26, 66, 35, 127, 119, 242, 79, 195, 118, 46, 95, 48, 196, 92, 132, 165, 77, 54, 144, 114, 142, 154, 62, 143, 129, 170, 39, 32, 115, 45, 43, 29, 222, 105, 48, 65, 94, 27, 271, 263, 79, 200, 108, 97, 32, 67, 88, 39, 42, 83, 164, 141, 72, 107, 94, 16, 48, 51, 101, 139, 141, 139, 80, 97, 54, 93, 72, 122, 77, 96, 154, 142, 125, 32, 45, 21, 82, 53, 148, 161, 121, 60, 49, 62, 65, 58, 87, 271, 404, 167, 157, 114, 129, 67, 49, 119, 161, 56, 500, 189, 75, 57, 100, 46, 42, 72, 51, 67, 60, 42, 167, 205, 45, 210, 88, 54, 35, 474, 186, 53, 82, 43, 48, 107, 73, 92, 41, 135, 96, 65, 59, 107, 223, 51, 224, 18, 39, 40, 174, 132, 89, 47, 188, 125, 134, 114, 53, 251, 197, 115, 216, 54, 144, 56, 43, 90, 176, 121, 437, 63, 232, 101, 140, 72, 48, 85, 75, 224, 32, 82, 111, 135, 260, 118, 86, 147, 65, 234, 35, 177, 62, 68, 401, 72, 222, 113, 53, 148, 84, 28, 127, 70, 161, 26, 83, 129, 158, 79, 267, 88, 59, 145, 451, 203, 31, 47, 131, 28, 105, 55, 150, 47, 264, 228, 22, 79, 44, 125, 124, 135, 62, 86, 82, 56, 77, 102, 167, 54, 76, 72, 238, 500, 68, 97, 66, 59, 78, 196, 93, 55, 496, 72, 75, 41, 71, 131, 109, 79, 118, 41, 36, 250, 48, 63, 216, 64, 133, 187, 216, 60, 42, 82, 41, 107, 34, 82, 284, 54, 169, 59, 125, 78, 50, 67, 171, 37, 64, 121, 77, 36, 50, 46, 69, 35, 166, 46, 41, 63, 167, 91, 56, 67, 144, 101, 44, 82, 82, 94, 500, 106, 147, 165, 75, 45, 106, 65, 54, 101, 55, 39, 500, 49, 172, 88, 92, 63, 145, 330, 45, 70, 28, 82, 58, 60, 55, 159, 98, 91, 24, 62, 62, 90, 88, 70, 99, 217, 62, 58, 44, 382, 81, 155, 116, 87, 48, 240, 43, 87, 77, 93, 83, 201, 79, 52, 50, 93, 85, 62, 195, 271, 88, 104, 273, 51, 64, 62, 155, 41, 113, 46, 193, 43, 67, 84, 63, 49, 88, 49, 58, 166, 37, 54, 154, 77, 27, 93, 68, 213, 44, 71, 133, 86, 65, 65, 139, 129, 23, 259, 85, 56, 109, 94, 144, 104, 100, 32, 103, 276, 69, 117, 56, 217, 87, 41, 56, 184, 51, 119, 99, 77, 63, 113, 173, 101, 187, 69, 60, 78, 302, 39, 32, 61, 185, 108, 25, 290, 88, 60, 94, 60, 132, 122, 58, 98, 90, 94, 118, 37, 61, 123, 89, 336, 45, 84, 256, 118, 31, 125, 102, 115, 153, 61, 52, 193, 98, 96, 500, 109, 107, 106, 193, 269, 150, 85, 75, 157, 37, 28, 70, 117, 98, 36, 102, 49, 37, 47, 46, 33, 108, 50, 193, 45, 200, 79, 115, 52, 232, 190, 147, 228, 167, 32, 91, 92, 191, 39, 108, 48, 117, 51, 89, 45, 86, 71, 135, 54, 152, 74, 53, 436, 46, 305, 43, 28, 69, 42, 91, 60, 36, 163, 19, 51, 267, 233, 69, 131, 113, 53, 186, 50, 108, 41, 45, 53, 127, 134, 79, 198, 23, 48, 73, 42, 72, 83, 161, 86, 123, 166, 36, 104, 94, 500, 68, 96, 46, 54, 93, 87, 147, 92, 180, 89, 75, 85, 59, 118, 195, 67, 33, 50, 55, 95, 171, 38, 140, 60, 95, 97, 41, 62, 76, 59, 62, 36, 165, 98, 137, 59, 500, 151, 122, 52, 73, 28, 158, 50, 86, 48, 187, 99, 98, 125, 267, 54, 85, 187, 160, 78, 25, 132, 65, 113, 118, 54, 104, 27, 150, 191, 39, 69, 88, 17, 78, 53, 102, 56, 63, 124, 116, 58, 500, 54, 216, 298, 39, 163, 83, 71, 29, 97, 54, 72, 137, 130, 65, 124, 334, 128, 118, 72, 44, 103, 82, 60, 92, 71, 57, 131, 51, 25, 75, 390, 207, 74, 56, 214, 60, 47, 22, 54, 39, 87, 167, 129, 139, 235, 76, 169, 129, 162, 110, 170, 43, 132, 28, 65, 143, 96, 165, 97, 386, 63, 160, 72, 86, 218, 71, 419, 160, 26, 130, 151, 83, 27, 124, 285, 182, 67, 75, 500, 110, 48, 77, 28, 106, 84, 134, 45, 61, 189, 111, 67, 160, 116, 98, 200, 38, 161, 144, 114, 136, 237, 133, 228, 26, 52, 110, 73, 116, 129, 110, 44, 24, 67, 124, 53, 324, 313, 222, 60, 138, 128, 96, 78, 147, 60, 188, 272, 500, 71, 36, 168, 92, 47, 57, 244, 141, 63, 104, 121, 71, 24, 122, 316, 168, 130, 194, 114, 142, 126, 86, 329, 73, 167, 107, 157, 54, 299, 193, 59, 97, 500, 122, 92, 102, 75, 203, 500, 187, 67, 66, 82, 85, 157, 69, 48, 90, 94, 122, 122, 127, 143, 113, 53, 52, 82, 74, 495, 33, 42, 42, 96, 113, 98, 52, 102, 184, 84, 91, 216, 72, 98, 27, 24, 167, 60, 104, 50, 44, 29, 162, 95, 198, 71, 500, 48, 167, 60, 87, 63, 21, 122, 41, 105, 93, 297, 83, 57, 67, 57, 124, 55, 206, 90, 25, 91, 16, 331, 39, 65, 158, 157, 141, 145, 361, 59, 236, 265, 388, 180, 500, 307, 128, 49, 75, 51, 105, 161, 53, 84, 148, 62, 207, 78, 65, 57, 56, 175, 98, 66, 99, 127, 133, 385, 97, 84, 69, 334, 56, 220, 93, 113, 267, 79, 108, 228, 219, 168, 99, 29, 71, 318, 68, 46, 72, 69, 122, 113, 103, 418, 129, 51, 80, 59, 83, 154, 47, 146, 86, 138, 296, 42, 151, 63, 130, 87, 96, 133, 54, 76, 38, 76, 41, 135, 48, 60, 78, 29, 87, 55, 25, 85, 36, 74, 119, 188, 68, 77, 114, 59, 60, 35, 83, 238, 66, 100, 99, 41, 386, 50, 45, 133, 500, 500, 227, 169, 225, 204, 43, 70, 124, 110, 65, 134, 84, 226, 77, 75, 95, 171, 131, 38, 68, 474, 88, 389, 273, 47, 39, 67, 122, 52, 49, 117, 55, 57, 229, 500, 115, 66, 52, 314, 23, 328, 95, 35, 96, 79, 82, 50, 148, 120, 55, 154, 35, 147, 193, 101, 83, 192, 95, 66, 53, 140, 96, 152, 87, 31, 66, 233, 44, 137, 232, 500, 46, 121, 79, 40, 73, 110, 44, 160, 274, 178, 149, 72, 52, 37, 234, 185, 178, 65, 63, 66, 168, 500, 165, 67, 87, 125, 227, 53, 160, 131, 63, 454, 63, 135, 116, 344, 127, 40, 48, 161, 73, 108, 110, 86, 49, 61, 191, 94, 49, 263, 99, 324, 64, 492, 117, 53, 83, 48, 114, 86, 58, 106, 153, 79, 139, 125, 92, 449, 58, 96, 125, 21, 120, 36, 142, 27, 39, 51, 53, 91, 128, 48, 117, 89, 67, 48, 124, 123, 61, 71, 74, 59, 35, 75, 227, 44, 254, 77, 27, 126, 32, 60, 73, 128, 176, 144, 355, 316, 126, 48, 80, 209, 135, 400, 155, 46, 72, 40, 49, 66, 81, 32, 100, 54, 91, 112, 62, 114, 68, 40, 112, 32, 107, 47, 55, 103, 18, 167, 72, 66, 500, 56, 157, 43, 233, 156, 55, 79, 205, 100, 500, 149, 72, 128, 453, 148, 500, 68, 63, 138, 188, 165, 85, 95, 90, 115, 98, 97, 66, 92, 66, 196, 32, 367, 108, 43, 101, 121, 35, 133, 67, 70, 78, 129, 64, 41, 38, 96, 500, 78, 161, 61, 164, 83, 68, 500, 117, 149, 40, 78, 44, 106, 246, 88, 65, 56, 228, 334, 171, 55, 117, 106, 189, 101, 276, 101, 118, 64, 62, 76, 85, 39, 71, 232, 40, 82, 48, 500, 43, 40, 170, 173, 171, 308, 101, 56, 92, 113, 84, 100, 225, 38, 176, 92, 44, 171, 190, 232, 38, 162, 75, 53, 117, 58, 99, 336, 37, 168, 196, 118, 93, 60, 91, 14, 238, 66, 86, 241, 93, 219, 83, 50, 92, 77, 53, 22, 68, 43, 92, 133, 163, 72, 79, 56, 52, 157, 92, 50, 50, 47, 53, 69, 249, 81, 34, 200, 175, 52, 132, 41, 60, 44, 104, 34, 59, 191, 290, 111, 126, 35, 65, 125, 88, 73, 139, 70, 379, 115, 94, 41, 118, 61, 153, 149, 112, 63, 141, 102, 36, 247, 284, 72, 43, 67, 47, 60, 56, 121, 181, 161, 41, 176, 71, 96, 33, 115, 44, 32, 306, 44, 22, 85, 38, 115, 111, 38, 121, 41, 49, 172, 47, 103, 118, 500, 42, 30, 225, 26, 98, 33, 67, 29, 159, 94, 38, 68, 87, 77, 131, 92, 216, 169, 37, 84, 92, 29, 23, 240, 89, 112, 108, 80, 54, 62, 79, 166, 42, 202, 68, 130, 272, 129, 31, 215, 63, 130, 50, 78, 100, 55, 56, 75, 200, 99, 110, 112, 40, 118, 92, 277, 21, 91, 48, 50, 48, 75, 88, 39, 166, 36, 281, 68, 36, 67, 68, 52, 71, 53, 239, 54, 28, 91, 36, 47, 79, 128, 88, 37, 103, 147, 116, 187, 115, 43, 75, 163, 93, 69, 75, 106, 153, 89, 181, 246, 138, 239, 21, 229, 95, 33, 193, 55, 104, 108, 125, 39, 60, 114, 86, 42, 62, 142, 500, 109, 92, 500, 500, 28, 121, 58, 339, 264, 146, 62, 41, 27, 160, 90, 177, 276, 173, 66, 72, 57, 119, 253, 57, 119, 45, 167, 395, 33, 72, 60, 98, 148, 114, 120, 103, 46, 62, 43, 59, 58, 235, 31, 118, 229, 62, 68, 409, 123, 143, 157, 78, 141, 83, 72, 500, 142, 108, 54, 103, 69, 82, 72, 70, 151, 35, 51, 287, 394, 88, 93, 163, 85, 92, 101, 116, 81, 78, 26, 101, 68, 426, 39, 81, 184, 197, 122, 116, 202, 100, 87, 41, 75, 75, 168, 130, 34, 267, 45, 52, 77, 173, 74, 213, 91, 102, 33, 379, 64, 66, 108, 32, 118, 44, 39, 203, 91, 75, 104, 47, 52, 319, 25, 19, 115, 95, 104, 51, 155, 124, 18, 96, 99, 147, 125, 45, 158, 220, 220, 67, 152, 87, 186, 21, 228, 138, 226, 72, 94, 146, 154, 202, 456, 477, 146, 57, 148, 93, 34, 170, 56, 292, 155, 476, 150, 293, 68, 82, 27, 131, 500, 309, 37, 45, 156, 22, 64, 56, 108, 49, 369, 142, 84, 66, 66, 128, 41, 39, 59, 52, 218, 41, 56, 443, 94, 78, 117, 83, 78, 41, 251, 90, 57, 101, 66, 191, 165, 29, 70, 19, 69, 203, 32, 79, 256, 161, 218, 35, 169, 66, 130, 96, 168, 74, 101, 67, 159, 91, 87, 37, 115, 72, 97, 65, 128, 75, 127, 115, 44, 288, 95, 117, 57, 68, 99, 126, 200, 110, 500, 57, 239, 41, 131, 86, 291, 102, 213, 82, 154, 112, 97, 108, 131, 86, 145, 29, 189, 121, 95, 84, 73, 67, 95, 78, 117, 43, 71, 50, 106, 104, 86, 60, 78, 170, 159, 166, 178, 205, 103, 54, 59, 79, 172, 59, 121, 77, 128, 28, 94, 58, 90, 109, 125, 88, 192, 60, 94, 114, 162, 48, 66, 83, 170, 75, 210, 197, 51, 66, 56, 26, 110, 292, 29, 84, 63, 100, 248, 53, 183, 85, 51, 184, 83, 81, 147, 52, 20, 500, 141, 33, 129, 48, 41, 55, 263, 104, 107, 64, 146, 32, 44, 72, 227, 308, 365, 60, 305, 78, 77, 61, 29, 74, 276, 500, 117, 79, 202, 175, 353, 377, 77, 49, 98, 124, 115, 95, 180, 75, 71, 41, 69, 208, 87, 72, 116, 77, 274, 58, 500, 48, 266, 111, 99, 140, 168, 223, 55, 57, 237, 81, 110, 140, 48, 154, 168, 117, 123, 63, 149, 97, 64, 30, 48, 111, 115, 175, 107, 74, 172, 120, 50, 74, 304, 500, 103, 77, 90, 194, 132, 67, 45, 98, 92, 146, 66, 152, 29, 137, 95, 184, 52, 65, 62, 115, 54, 49, 110, 67, 38, 62, 22, 150, 163, 109, 80, 71, 70, 39, 41, 142, 160, 28, 19, 139, 216, 76, 82, 110, 177, 124, 113, 62, 377, 66, 144, 67, 149, 159, 98, 53, 69, 78, 62, 54, 123, 100, 61, 129, 25, 162, 50, 64, 120, 351, 67, 77, 45, 118, 49, 168, 36, 95, 371, 82, 42, 62, 94, 83, 44, 85, 60, 53, 38, 60, 59, 111, 153, 46, 123, 21, 178, 124, 197, 79, 224, 112, 82, 152, 114, 113, 36, 98, 53, 31, 70, 105, 126, 76, 43, 61, 54, 85, 118, 129, 41, 115, 82, 68, 44, 73, 186, 151, 215, 138, 47, 142, 39, 58, 28, 99, 105, 37, 126, 500, 37, 166, 65, 137, 30, 289, 63, 265, 233, 57, 84, 38, 204, 97, 139, 95, 89, 76, 102, 144, 48, 151, 129, 192, 49, 36, 233, 38, 500, 65, 55, 54, 134, 59, 64, 76, 119, 105, 62, 86, 213, 78, 54, 29, 128, 30, 83, 33, 93, 54, 49, 36, 226, 73, 31, 78, 147, 159, 66, 59, 135, 69, 60, 41, 318, 187, 34, 57, 118, 81, 38, 59, 44, 28, 43, 32, 165, 500, 43, 53, 207, 36, 80, 72, 87, 239, 211, 94, 101, 104, 95, 73, 93, 92, 124, 122, 102, 55, 247, 35, 78, 64, 59, 131, 51, 30, 84, 60, 110, 85, 489, 80, 71, 26, 61, 39, 111, 91, 160, 100, 44, 26, 91, 175, 48, 62, 73, 71, 82, 126, 63, 205, 132, 131, 107, 78, 78, 54, 335, 74, 80, 65, 28, 154, 104, 54, 28, 49, 269, 47, 80, 203, 94, 55, 90, 184, 139, 116, 215, 55, 35, 73, 58, 68, 398, 43, 66, 107, 51, 178, 166, 36, 115, 102, 98, 164, 194, 116, 159, 74, 158, 42, 90, 43, 39, 130, 155, 68, 159, 53, 77, 17, 127, 31, 70, 493, 48, 83, 101, 95, 84, 61, 55, 120, 104, 24, 157, 226, 114, 47, 355, 61, 34, 58, 101, 62, 229, 341, 85, 145, 67, 109, 117, 118, 58, 111, 63, 90, 79, 60, 22, 109, 53, 34, 67, 199, 230, 66, 57, 56, 67, 44, 82, 93, 191, 82, 69, 287, 71, 70, 90, 178, 86, 55, 93, 170, 477, 500, 94, 202, 189, 77, 95, 164, 154, 96, 57, 180, 103, 43, 73, 79, 70, 156, 128, 44, 128, 122, 29, 102, 136, 104, 38, 298, 150, 142, 26, 29, 75, 107, 42, 410, 199, 121, 133, 216, 500, 163, 138, 148, 271, 78, 46, 93, 47, 86, 133, 78, 77, 81, 93, 75, 44, 500, 139, 149, 57, 74, 78, 121, 92, 228, 137, 57, 231, 179, 264, 497, 500, 74, 34, 23, 353, 20, 78, 173, 94, 151, 32, 115, 65, 123, 65, 77, 166, 87, 141, 36, 205, 482, 41, 89, 66, 322, 180, 74, 99, 132, 251, 91, 188, 58, 107, 63, 129, 63, 31, 58, 149, 44, 63, 215, 63, 66, 38, 249, 76, 320, 173, 178, 58, 62, 222, 158, 157, 211, 87, 42, 270, 79, 53, 64, 132, 73, 30, 166, 156, 31, 165, 51, 353, 53, 62, 70, 40, 64, 112, 494, 91, 72, 201, 41, 97, 19, 118, 87, 48, 37, 101, 47, 69, 249, 113, 27, 147, 284, 44, 225, 295, 57, 71, 42, 56, 204, 30, 54, 391, 60, 34, 122, 37, 72, 349, 85, 23, 57, 41, 102, 80, 130, 213, 143, 26, 131, 96, 60, 270, 112, 74, 37, 88, 174, 136, 86, 111, 92, 59, 78, 49, 55, 78, 92, 90, 40, 146, 137, 167, 76, 56, 419, 33, 106, 82, 74, 115, 99, 47, 70, 52, 162, 42, 48, 26, 76, 67, 73, 56, 211, 273, 54, 60, 168, 93, 82, 36, 53, 87, 500, 146, 40, 160, 56, 155, 60, 56, 96, 114, 56, 64, 32, 500, 140, 72, 198, 84, 125, 72, 42, 85, 105, 53, 46, 172, 73, 62, 136, 69, 105, 88, 116, 72, 58, 41, 225, 59, 47, 51, 81, 61, 56, 138, 69, 93, 22, 198, 57, 64, 87, 86, 81, 40, 233, 160, 55, 216, 204, 138, 71, 110, 74, 88, 65, 159, 84, 191, 113, 153, 33, 31, 265, 52, 52, 79, 87, 81, 358, 144, 129, 68, 112, 107, 82, 304, 74, 91, 40, 64, 462, 88, 66, 92, 80, 94, 97, 35, 65, 117, 93, 120, 38, 61, 57, 187, 75, 29, 219, 325, 47, 44, 73, 55, 46, 102, 113, 58, 86, 126, 94, 84, 73, 45, 75, 43, 44, 266, 70, 180, 72, 83, 325, 68, 46, 77, 199, 38, 126, 80, 92, 239, 306, 57, 61, 102, 34, 126, 52, 91, 36, 320, 54, 45, 104, 116, 87, 38, 31, 67, 167, 110, 188, 114, 42, 111, 31, 63, 30, 54, 55, 116, 98, 131, 66, 43, 100, 63, 30, 55, 142, 138, 168, 26, 500, 41, 23, 124, 251, 500, 104, 126, 66, 27, 75, 38, 67, 61, 98, 375, 86, 131, 106, 88, 127, 30, 61, 62, 54, 53, 162, 80, 94, 28, 242, 70, 80, 107, 72, 82, 44, 108, 51, 466, 64, 62, 103, 137, 196, 89, 77, 66, 101, 153, 56, 36, 74, 97, 58, 65, 54, 106, 138, 72, 30, 141, 44, 192, 138, 121, 83, 60, 80, 105, 70, 99, 63, 116, 252, 185, 63, 175, 83, 80, 111, 403, 108, 138, 73, 36, 73, 32, 56, 52, 329, 48, 89, 95, 24, 31, 129, 238, 121, 100, 50, 31, 30, 67, 78, 76, 98, 43, 98, 183, 25, 104, 68, 52, 140, 81, 54, 279, 137, 40, 230, 59, 74, 177, 49, 87, 114, 170, 44, 140, 97, 99, 71, 50, 40, 27, 264, 51, 182, 66, 116, 45, 108, 187, 53, 47, 76, 159, 198, 192, 47, 40, 56, 81, 67, 129, 220, 122, 135, 204, 500, 107, 66, 32, 242, 109, 70, 159, 61, 128, 144, 37, 105, 196, 102, 207, 29, 53, 141, 45, 116, 499, 279, 65, 53, 105, 46, 49, 203, 31, 35, 38, 79, 234, 160, 192, 82, 403, 73, 50, 105, 35, 233, 28, 34, 111, 100, 38, 69, 141, 65, 57, 500, 49, 85, 125, 325, 33, 57, 246, 58, 122, 170, 68, 46, 390, 500, 76, 64, 90, 29, 46, 500, 186, 74, 133, 189, 55, 46, 78, 149, 57, 76, 42, 148, 121, 36, 67, 37, 172, 72, 165, 80, 252, 102, 49, 47, 46, 61, 86, 41, 350, 47, 106, 70, 128, 50, 55, 21, 43, 142, 148, 488, 70, 43, 36, 153, 74, 43, 255, 109, 63, 51, 86, 268, 145, 215, 78, 31, 42, 250, 125, 500, 500, 52, 67, 72, 42, 61, 170, 126, 68, 148, 52, 36, 66, 500, 63, 91, 65, 57, 55, 133, 500, 21, 180, 69, 33, 87, 91, 500, 54, 108, 109, 408, 23, 49, 93, 58, 58, 78, 40, 39, 150, 86, 99, 500, 84, 142, 159, 62, 146, 74, 43, 41, 73, 220, 85, 127, 75, 121, 490, 21, 86, 67, 57, 35, 84, 78, 19, 37, 159, 63, 409, 79, 339, 70, 239, 26, 95, 83, 321, 117, 49, 88, 114, 84, 47, 77, 266, 121, 161, 104, 38, 91, 105, 46, 67, 62, 37, 70, 223, 50, 114, 63, 108, 54, 39, 90, 105, 70, 68, 88, 148, 76, 99, 76, 46, 123, 128, 106, 147, 219, 56, 37, 199, 26, 33, 120, 131, 135, 76, 142, 147, 52, 90, 124, 159, 271, 50, 35, 81, 113, 88, 234, 110, 85, 26, 163, 191, 141, 237, 95, 107, 260, 186, 114, 39, 43, 33, 91, 118, 44, 82, 151, 94, 132, 39, 192, 43, 49, 82, 85, 246, 59, 202, 500, 38, 53, 72, 40, 99, 131, 149, 187, 103, 134, 65, 70, 56, 233, 471, 63, 160, 58, 72, 132, 97, 67, 82, 37, 500, 211, 44, 398, 85, 123, 40, 115, 120, 93, 60, 102, 204, 120, 32, 32, 89, 84, 250, 51, 87, 87, 248, 37, 115, 113, 118, 25, 45, 51, 65, 500, 500, 68, 147, 78, 345, 87, 42, 123, 214, 29, 104, 60, 116, 96, 102, 33, 30, 69, 54, 262, 137, 193, 84, 28, 105, 37, 458, 179, 102, 84, 91, 39, 220, 24, 107, 60, 94, 221, 88, 172, 198, 149, 86, 161, 87, 77, 32, 25, 500, 23, 54, 122, 36, 34, 76, 202, 132, 141, 146, 33, 163, 62, 114, 141, 214, 60, 188, 38, 87, 50, 79, 25, 267, 95, 160, 58, 39, 181, 500, 79, 38, 73, 123, 129, 56, 87, 72, 50, 107, 95, 500, 40, 172, 169, 37, 72, 85]}, {\"histfunc\": \"avg\", \"histnorm\": \"probability density\", \"name\": \"LQ_CLOSE\", \"opacity\": 0.6, \"type\": \"histogram\", \"x\": [60, 136, 79, 70, 95, 86, 234, 61, 108, 80, 96, 62, 91, 68, 160, 59, 32, 30, 114, 33, 83, 55, 79, 126, 51, 92, 55, 87, 67, 116, 75, 87, 239, 110, 126, 41, 139, 89, 215, 325, 174, 133, 58, 41, 155, 45, 97, 304, 139, 33, 278, 85, 125, 49, 42, 30, 88, 89, 80, 34, 33, 51, 148, 31, 28, 114, 158, 119, 265, 100, 66, 93, 500, 117, 50, 38, 41, 98, 92, 38, 66, 50, 125, 112, 62, 59, 74, 69, 65, 68, 254, 69, 79, 39, 77, 64, 54, 60, 117, 40, 44, 64, 61, 62, 52, 28, 35, 47, 47, 53, 91, 103, 114, 376, 51, 60, 104, 500, 42, 156, 76, 61, 65, 150, 91, 60, 39, 210, 86, 35, 129, 87, 78, 393, 168, 78, 92, 44, 69, 114, 37, 88, 438, 54, 110, 88, 131, 32, 77, 51, 91, 54, 293, 48, 30, 107, 33, 58, 98, 112, 76, 72, 79, 201, 42, 71, 237, 282, 60, 63, 362, 52, 34, 336, 64, 67, 31, 76, 87, 126, 59, 80, 158, 54, 57, 40, 32, 46, 105, 62, 52, 124, 41, 40, 194, 160, 126, 36, 73, 43, 113, 75, 79, 64, 38, 44, 120, 47, 40, 85, 74, 40, 82, 124, 186, 273, 43, 154, 91, 92, 14, 79, 230, 90, 273, 68, 48, 85, 87, 99, 47, 66, 57, 132, 45, 86, 321, 133, 100, 278, 54, 85, 82, 89, 86, 37, 78, 39, 137, 106, 92, 500, 450, 40, 57, 84, 105, 34, 47, 25, 67, 198, 66, 167, 203, 52, 247, 42, 108, 500, 60, 60, 104, 90, 354, 72, 35, 49, 37, 138, 78, 58, 50, 91, 311, 49, 74, 338, 48, 23, 141, 33, 97, 79, 157, 70, 54, 154, 49, 76, 500, 35, 58, 69, 53, 116, 80, 36, 33, 21, 123, 40, 81, 32, 97, 35, 34, 34, 66, 59, 96, 47, 418, 116, 190, 68, 38, 39, 69, 79, 109, 98, 41, 87, 79, 66, 82, 198, 41, 74, 70, 102, 500, 25, 500, 55, 34, 61, 146, 62, 58, 90, 77, 146, 71, 37, 71, 78, 73, 83, 86, 92, 64, 48, 142, 164, 500, 40, 55, 31, 40, 75, 67, 93, 60, 138, 65, 48, 118, 81, 29, 46, 34, 166, 73, 62, 204, 500, 226, 88, 53, 47, 65, 21, 82, 86, 28, 332, 41, 39, 131, 90, 32, 46, 44, 168, 39, 75, 86, 76, 67, 79, 161, 80, 36, 38, 38, 101, 37, 39, 74, 297, 78, 152, 67, 73, 86, 55, 61, 88, 220, 80, 70, 51, 145, 127, 28, 49, 48, 33, 47, 57, 116, 109, 234, 35, 82, 42, 82, 57, 291, 42, 71, 79, 55, 111, 129, 76, 254, 48, 77, 49, 37, 500, 58, 31, 143, 35, 74, 33, 73, 36, 57, 30, 122, 216, 133, 75, 75, 49, 119, 43, 60, 112, 56, 85, 41, 66, 85, 48, 52, 79, 38, 85, 39, 37, 24, 101, 138, 57, 53, 107, 203, 156, 52, 324, 242, 61, 406, 139, 42, 143, 500, 61, 83, 52, 43, 178, 58, 147, 105, 52, 116, 76, 453, 39, 137, 32, 60, 47, 88, 66, 18, 49, 109, 152, 105, 324, 102, 166, 91, 67, 48, 42, 66, 373, 26, 50, 103, 154, 132, 29, 29, 152, 67, 42, 12, 16, 48, 38, 102, 47, 30, 81, 105, 296, 43, 28, 40, 84, 217, 36, 38, 43, 122, 45, 71, 135, 46, 31, 53, 34, 31, 115, 137, 95, 48, 57, 40, 232, 111, 62, 500, 193, 43, 190, 53, 80, 101, 156, 173, 52, 40, 195, 101, 89, 464, 80, 84, 136, 95, 101, 89, 78, 32, 31, 68, 65, 48, 65, 44, 71, 42, 35, 60, 106, 58, 184, 93, 56, 240, 132, 100, 101, 22, 500, 34, 164, 62, 173, 56, 451, 27, 69, 119, 42, 24, 28, 54, 185, 101, 29, 161, 45, 62, 500, 63, 67, 29, 204, 171, 56, 116, 73, 33, 244, 45, 49, 80, 145, 131, 143, 63, 57, 86, 44, 25, 73, 84, 131, 111, 102, 418, 74, 136, 69, 68, 338, 47, 64, 159, 97, 57, 37, 59, 37, 44, 164, 49, 70, 38, 50, 164, 28, 32, 54, 71, 251, 34, 39, 97, 156, 91, 64, 68, 39, 48, 72, 124, 56, 103, 46, 78, 64, 115, 64, 55, 130, 36, 50, 71, 43, 41, 373, 62, 145, 43, 98, 87, 63, 63, 500, 56, 119, 191, 135, 28, 50, 77, 59, 64, 46, 73, 232, 43, 77, 71, 45, 53, 81, 415, 82, 86, 84, 73, 50, 39, 97, 82, 80, 491, 279, 111, 154, 75, 120, 51, 97, 97, 133, 117, 305, 53, 71, 108, 116, 68, 53, 127, 75, 32, 61, 92, 28, 64, 68, 111, 81, 137, 98, 59, 51, 159, 61, 120, 87, 393, 84, 33, 37, 44, 32, 48, 306, 61, 42, 164, 86, 127, 71, 28, 65, 46, 500, 94, 37, 35, 41, 286, 160, 42, 62, 42, 55, 75, 59, 500, 76, 415, 28, 87, 65, 60, 15, 77, 79, 83, 55, 57, 290, 44, 81, 79, 50, 75, 55, 62, 77, 72, 229, 56, 85, 34, 30, 54, 27, 37, 62, 105, 32, 76, 153, 235, 71, 500, 405, 143, 53, 84, 35, 81, 83, 332, 59, 158, 123, 214, 107, 67, 71, 122, 59, 38, 233, 70, 49, 66, 37, 56, 31, 144, 152, 125, 117, 107, 84, 72, 90, 59, 50, 107, 28, 31, 77, 93, 196, 38, 117, 85, 56, 62, 45, 81, 33, 46, 108, 25, 85, 83, 45, 54, 116, 90, 49, 105, 56, 139, 141, 58, 76, 298, 500, 140, 59, 81, 243, 201, 130, 145, 148, 269, 65, 220, 84, 110, 60, 35, 90, 500, 317, 30, 258, 63, 45, 65, 57, 68, 105, 121, 78, 50, 70, 70, 40, 154, 99, 49, 32, 132, 201, 27, 100, 32, 70, 42, 500, 53, 52, 36, 64, 90, 122, 131, 99, 75, 59, 27, 77, 37, 189, 96, 64, 28, 74, 363, 131, 136, 130, 163, 38, 56, 56, 46, 101, 34, 271, 28, 62, 47, 41, 141, 84, 40, 82, 107, 115, 151, 50, 60, 184, 47, 99, 62, 57, 51, 92, 143, 39, 94, 31, 147, 500, 103, 39, 90, 60, 125, 229, 38, 36, 59, 52, 60, 123, 151, 133, 49, 174, 46, 16, 99, 50, 29, 243, 72, 135, 34, 160, 223, 47, 424, 135, 35, 142, 76, 33, 70, 57, 66, 110, 40, 32, 230, 70, 115, 78, 81, 49, 41, 59, 66, 82, 51, 44, 86, 85, 101, 56, 39, 50, 94, 48, 37, 57, 107, 74, 34, 66, 28, 181, 31, 68, 45, 69, 26, 51, 203, 333, 85, 324, 35, 55, 188, 86, 84, 86, 43, 66, 45, 75, 134, 51, 137, 168, 124, 83, 106, 221, 115, 195, 34, 138, 56, 119, 60, 18, 201, 171, 87, 57, 143, 91, 168, 37, 500, 57, 46, 207, 40, 29, 22, 110, 38, 147, 67, 90, 129, 105, 33, 45, 162, 80, 64, 26, 72, 46, 190, 49, 62, 46, 85, 57, 94, 73, 117, 320, 34, 183, 39, 67, 293, 38, 251, 53, 62, 44, 94, 47, 279, 169, 248, 105, 35, 56, 25, 141, 219, 92, 222, 62, 35, 77, 45, 211, 98, 211, 171, 70, 83, 49, 314, 155, 127, 100, 42, 90, 32, 35, 50, 44, 33, 115, 32, 62, 164, 57, 84, 48, 62, 106, 24, 230, 35, 66, 81, 94, 67, 426, 88, 79, 36, 53, 55, 265, 98, 42, 32, 205, 100, 38, 120, 46, 58, 93, 95, 66, 304, 87, 77, 68, 343, 119, 26, 66, 35, 37, 25, 500, 101, 97, 64, 114, 62, 31, 43, 47, 32, 106, 123, 90, 278, 78, 31, 177, 63, 38, 178, 47, 340, 81, 39, 139, 146, 178, 56, 49, 49, 62, 27, 125, 41, 51, 187, 105, 59, 121, 33, 71, 23, 22, 42, 57, 86, 46, 117, 92, 38, 172, 44, 51, 81, 44, 177, 140, 98, 121, 46, 148, 43, 39, 59, 69, 43, 110, 120, 72, 34, 29, 56, 94, 219, 41, 500, 341, 114, 127, 64, 136, 64, 100, 32, 42, 64, 68, 29, 37, 66, 179, 154, 412, 153, 54, 77, 81, 70, 32, 114, 86, 78, 74, 19, 120, 207, 33, 28, 213, 50, 262, 51, 500, 124, 83, 52, 24, 54, 108, 65, 69, 139, 76, 500, 78, 48, 78, 94, 500, 109, 209, 79, 80, 54, 37, 74, 144, 155, 470, 312, 108, 172, 54, 81, 32, 65, 38, 85, 33, 92, 35, 44, 109, 143, 69, 117, 83, 163, 76, 71, 144, 53, 102, 53, 500, 29, 46, 130, 79, 74, 190, 112, 69, 33, 181, 39, 77, 53, 248, 55, 72, 149, 31, 38, 57, 45, 37, 43, 101, 34, 78, 150, 39, 500, 90, 267, 35, 53, 108, 55, 155, 23, 72, 44, 80, 23, 61, 120, 178, 66, 133, 43, 65, 114, 81, 68, 427, 147, 186, 48, 250, 83, 51, 70, 165, 201, 75, 243, 55, 74, 152, 63, 137, 52, 48, 52, 80, 31, 125, 110, 219, 30, 106, 256, 73, 117, 144, 62, 125, 68, 60, 162, 87, 95, 115, 500, 76, 71, 51, 322, 64, 41, 58, 117, 92, 49, 155, 40, 111, 142, 63, 60, 28, 59, 50, 68, 500, 83, 114, 60, 164, 90, 52, 27, 24, 29, 60, 73, 55, 79, 84, 32, 500, 152, 200, 30, 69, 49, 52, 44, 66, 178, 109, 41, 151, 269, 211, 61, 29, 140, 30, 90, 27, 92, 500, 70, 214, 47, 28, 184, 69, 83, 56, 71, 161, 52, 104, 27, 71, 63, 119, 45, 18, 42, 51, 165, 119, 45, 83, 146, 113, 33, 102, 139, 63, 52, 111, 241, 500, 500, 287, 66, 141, 46, 397, 49, 290, 143, 36, 173, 49, 89, 77, 123, 53, 70, 57, 229, 116, 180, 39, 49, 148, 58, 124, 69, 75, 77, 91, 91, 176, 55, 41, 68, 26, 53, 107, 96, 84, 38, 98, 397, 40, 127, 124, 43, 22, 35, 86, 91, 30, 141, 77, 30, 100, 50, 136, 207, 54, 48, 83, 70, 142, 131, 95, 27, 58, 155, 54, 46, 75, 43, 104, 104, 99, 39, 139, 176, 135, 82, 187, 202, 108, 141, 74, 219, 105, 141, 43, 63, 42, 69, 79, 92, 39, 60, 176, 110, 182, 122, 41, 113, 500, 43, 133, 325, 148, 94, 46, 35, 102, 71, 85, 46, 156, 58, 64, 47, 58, 367, 58, 52, 195, 103, 88, 41, 33, 372, 190, 49, 106, 57, 30, 47, 33, 57, 117, 86, 53, 63, 49, 22, 362, 64, 473, 62, 134, 62, 121, 49, 59, 50, 62, 67, 52, 79, 107, 32, 127, 73, 226, 64, 84, 174, 195, 31, 40, 164, 46, 52, 76, 41, 55, 52, 88, 23, 34, 62, 58, 99, 95, 22, 124, 235, 70, 48, 42, 113, 81, 30, 52, 48, 220, 446, 46, 51, 105, 27, 171, 62, 36, 221, 31, 500, 72, 83, 62, 25, 45, 45, 36, 65, 55, 33, 71, 124, 173, 73, 35, 70, 67, 67, 48, 35, 84, 40, 500, 92, 43, 350, 39, 177, 205, 108, 42, 38, 88, 61, 106, 40, 43, 73, 38, 56, 40, 109, 344, 56, 27, 55, 49, 75, 49, 66, 97, 170, 46, 48, 38, 56, 43, 47, 140, 78, 87, 122, 55, 50, 28, 108, 31, 99, 87, 125, 52, 158, 99, 112, 52, 91, 58, 245, 83, 59, 113, 107, 216, 61, 197, 88, 48, 51, 90, 279, 337, 70, 38, 107, 45, 52, 33, 500, 37, 135, 46, 461, 50, 218, 94, 76, 47, 40, 138, 67, 40, 41, 81, 121, 201, 47, 97, 98, 55, 171, 53, 149, 62, 64, 41, 93, 96, 62, 22, 98, 40, 242, 500, 128, 48, 50, 67, 107, 76, 91, 118, 319, 76, 42, 62, 149, 114, 57, 39, 49, 36, 149, 95, 79, 92, 46, 103, 50, 260, 110, 141, 60, 74, 170, 108, 85, 62, 128, 80, 72, 129, 247, 199, 42, 32, 140, 32, 484, 44, 86, 114, 248, 29, 68, 45, 418, 293, 51, 22, 30, 54, 416, 57, 363, 32, 109, 56, 91, 500, 45, 53, 45, 317, 279, 157, 60, 46, 86, 68, 88, 48, 81, 31, 24, 113, 73, 428, 168, 270, 86, 63, 92, 79, 40, 168, 77, 51, 71, 109, 51, 72, 247, 147, 168, 212, 83, 40, 34, 72, 57, 201, 62, 41, 34, 146, 56, 19, 130, 32, 73, 90, 149, 102, 115, 39, 369, 116, 37, 116, 56, 50, 60, 29, 122, 128, 40, 347, 66, 130, 129, 131, 67, 38, 413, 47, 104, 50, 140, 72, 57, 63, 192, 123, 162, 31, 30, 105, 44, 36, 77, 108, 53, 37, 255, 48, 60, 68, 48, 174, 94, 45, 120, 39, 47, 123, 207, 69, 81, 75, 37, 72, 229, 39, 116, 33, 56, 111, 42, 148, 76, 28, 52, 94, 58, 53, 500, 106, 500, 34, 94, 81, 22, 42, 217, 44, 49, 39, 35, 162, 106, 67, 53, 131, 41, 72, 139, 77, 112, 54, 53, 112, 147, 79, 104, 167, 155, 217, 241, 51, 54, 45, 127, 128, 70, 65, 112, 83, 56, 100, 73, 218, 64, 89, 76, 72, 54, 78, 500, 56, 74, 81, 58, 76, 67, 96, 34, 68, 75, 39, 114, 32, 158, 207, 118, 106, 27, 87, 44, 69, 73, 53, 36, 71, 50, 64, 211, 178, 77, 100, 39, 44, 417, 92, 87, 27, 70, 42, 69, 150, 124, 84, 153, 143, 194, 30, 166, 179, 103, 186, 57, 101, 199, 83, 169, 153, 54, 154, 49, 47, 177, 77, 96, 41, 61, 49, 52, 78, 39, 100, 76, 63, 22, 63, 84, 108, 130, 209, 67, 160, 292, 124, 43, 243, 138, 49, 123, 229, 118, 125, 166, 31, 41, 157, 199, 181, 57, 71, 55, 34, 39, 62, 47, 59, 39, 168, 41, 94, 193, 27, 100, 203, 64, 365, 50, 75, 100, 271, 236, 97, 67, 39, 39, 47, 124, 86, 43, 58, 34, 76, 39, 57, 415, 35, 44, 196, 89, 55, 78, 82, 111, 32, 74, 87, 106, 49, 88, 158, 110, 45, 70, 66, 48, 45, 109, 63, 69, 53, 123, 309, 38, 55, 60, 46, 288, 58, 105, 156, 115, 32, 33, 195, 276, 127, 28, 55, 45, 90, 61, 247, 64, 56, 34, 87, 141, 107, 88, 100, 71, 93, 149, 62, 35, 118, 487, 157, 73, 74, 27, 78, 147, 27, 60, 52, 148, 137, 83, 53, 182, 43, 36, 91, 69, 177, 94, 48, 74, 57, 88, 46, 124, 81, 73, 70, 46, 86, 68, 28, 55, 152, 55, 34, 135, 134, 110, 366, 231, 55, 109, 203, 90, 103, 66, 104, 40, 89, 59, 68, 34, 112, 49, 138, 50, 500, 89, 90, 139, 75, 116, 404, 47, 49, 54, 61, 109, 278, 127, 24, 500, 64, 48, 31, 28, 96, 102, 88, 70, 56, 79, 187, 79, 44, 55, 89, 34, 32, 37, 107, 152, 97, 48, 98, 87, 65, 131, 132, 114, 83, 119, 79, 102, 79, 102, 47, 93, 61, 64, 124, 120, 58, 86, 121, 135, 72, 116, 42, 89, 82, 56, 153, 36, 50, 500, 48, 65, 116, 39, 75, 48, 141, 111, 65, 47, 59, 48, 90, 123, 95, 64, 296, 77, 99, 42, 38, 45, 243, 76, 120, 55, 75, 32, 139, 65, 83, 42, 54, 68, 54, 41, 105, 38, 45, 28, 29, 66, 55, 217, 107, 131, 31, 153, 69, 44, 85, 51, 46, 80, 38, 56, 105, 46, 63, 33, 85, 74, 112, 77, 61, 212, 500, 38, 86, 72, 42, 40, 69, 98, 39, 151, 66, 95, 71, 61, 49, 53, 72, 100, 121, 58, 39, 107, 118, 41, 417, 44, 55, 63, 42, 175, 146, 80, 115, 134, 151, 64, 256, 67, 113, 43, 36, 89, 57, 107, 37, 67, 78, 141, 84, 53, 55, 84, 139, 62, 94, 45, 31, 64, 22, 37, 106, 64, 47, 107, 44, 87, 154, 132, 96, 102, 86, 39, 317, 44, 152, 33, 38, 88, 168, 82, 232, 154, 85, 34, 91, 101, 97, 66, 38, 110, 55, 59, 82, 133, 32, 93, 56, 55, 102, 64, 207, 288, 171, 46, 172, 43, 33, 500, 238, 95, 50, 139, 70, 75, 34, 64, 86, 125, 70, 45, 55, 91, 163, 27, 98, 58, 101, 123, 50, 20, 129, 83, 500, 83, 81, 44, 58, 154, 92, 78, 46, 31, 56, 120, 85, 118, 24, 78, 72, 57, 151, 74, 148, 94, 31, 51, 131, 61, 40, 86, 72, 147, 83, 167, 469, 65, 47, 56, 61, 128, 126, 117, 58, 223, 87, 97, 74, 88, 275, 178, 180, 83, 65, 125, 323, 54, 30, 63, 77, 58, 66, 47, 266, 37, 75, 54, 84, 47, 51, 109, 46, 89, 53, 56, 81, 183, 68, 77, 29, 29, 138, 112, 76, 66, 106, 99, 56, 31, 211, 71, 46, 57, 65, 134, 30, 35, 140, 20, 63, 144, 43, 97, 44, 63, 36, 73, 65, 72, 113, 36, 45, 31, 34, 70, 65, 95, 95, 105, 79, 22, 62, 81, 77, 44, 52, 43, 40, 48, 63, 154, 69, 196, 32, 162, 60, 37, 28, 74, 90, 82, 28, 62, 79, 79, 70, 68, 42, 33, 125, 85, 130, 77, 62, 59, 35, 140, 64, 41, 85, 97, 61, 69, 102, 322, 86, 35, 69, 151, 107, 112, 76, 30, 133, 307, 62, 51, 24, 201, 157, 90, 49, 238, 104, 147, 58, 127, 162, 114, 74, 95, 53, 46, 121, 36, 226, 54, 38, 260, 53, 73, 167, 44, 200, 500, 57, 151, 96, 68, 245, 87, 43, 56, 28, 69, 500, 49, 173, 188, 248, 46, 82, 105, 70, 53, 94, 145, 52, 62, 348, 59, 120, 68, 63, 34, 111, 113, 285, 77, 500, 88, 125, 81, 19, 77, 58, 33, 51, 126, 54, 52, 79, 34, 161, 380, 323, 51, 57, 36, 248, 86, 180, 78, 55, 82, 101, 226, 31, 45, 243, 55, 114, 46, 61, 83, 141, 38, 75, 126, 266, 22, 79, 157, 183, 57, 80, 49, 50, 38, 47, 121, 49, 67, 85, 41, 53, 67, 58, 36, 72, 67, 101, 165, 43, 91, 136, 70, 48, 83, 144, 36, 26, 53, 41, 40, 107, 53, 82, 60, 80, 70, 82, 156, 71, 101, 34, 41, 51, 104, 25, 87, 68, 54, 54, 66, 39, 39, 52, 178, 95, 183, 46, 113, 32, 203, 62, 76, 111, 116, 42, 87, 50, 70, 20, 45, 71, 58, 146, 37, 40, 172, 155, 162, 83, 127, 29, 55, 55, 59, 500, 292, 363, 54, 89, 93, 99, 71, 80, 53, 76, 37, 283, 57, 83, 156, 117, 40, 101, 51, 56, 36, 42, 183, 106, 40, 33, 62, 71, 105, 69, 91, 82, 60, 101, 55, 253, 130, 107, 94, 32, 192, 73, 41, 34, 66, 61, 84, 90, 102, 59, 85, 81, 72, 278, 68, 38, 166, 61, 67, 500, 66, 55, 102, 77, 212, 32, 26, 72, 39, 36, 45, 139, 23, 69, 39, 137, 97, 165, 54, 109, 64, 167, 97, 87, 77, 87, 61, 197, 132, 119, 60, 69, 28, 45, 118, 47, 48, 64, 356, 29, 80, 20, 57, 197, 71, 95, 57, 72, 75, 43, 114, 40, 68, 58, 195, 66, 151, 68, 237, 92, 103, 41, 65, 137, 41, 30, 56, 37, 39, 29, 88, 61, 73, 249, 138, 39, 400, 72, 133, 284, 58, 70, 216, 145, 204, 31, 122, 43, 28, 44, 53, 64, 76, 66, 151, 107, 207, 60, 63, 69, 36, 63, 55, 300, 85, 29, 20, 95, 151, 120, 64, 169, 57, 100, 217, 38, 41, 55, 37, 22, 62, 247, 285, 44, 66, 500, 185, 43, 34, 43, 42, 43, 79, 51, 85, 105, 105, 90, 46, 56, 129, 87, 170, 103, 59, 78, 183, 52, 41, 52, 161, 269, 52, 94, 96, 24, 30, 72, 113, 88, 154, 56, 162, 42, 77, 49, 47, 45, 250, 43, 114, 51, 72, 60, 61, 62, 277, 110, 61, 203, 27, 174, 100, 44, 73, 132, 114, 50, 92, 63, 45, 36, 180, 44, 43, 91, 33, 107, 151, 64, 116, 49, 40, 216, 110, 89, 30, 122, 96, 102, 67, 51, 77, 53, 54, 30, 58, 44, 91, 124, 118, 100, 56, 192, 84, 68, 33, 44, 63, 42, 92, 301, 86, 80, 158, 106, 52, 64, 120, 98, 65, 132, 51, 175, 40, 164, 147, 36, 179, 44, 227, 500, 383, 56, 273, 43, 120, 78, 97, 396, 53, 278, 73, 93, 110, 74, 78, 114, 35, 144, 47, 70, 72, 74, 89, 52, 103, 38, 85, 291, 52, 80, 70, 344, 37, 58, 85, 75, 86, 31, 39, 203, 394, 37, 167, 177, 64, 73, 159, 231, 309, 201, 41, 105, 57, 79, 45, 68, 93, 64, 87, 109, 57, 33, 191, 70, 36, 59, 153, 102, 53, 115, 49, 95, 78, 185, 166, 177, 84, 198, 75, 153, 169, 86, 31, 150, 65, 43, 97, 56, 24, 96, 54, 21, 202, 96, 234, 47, 162, 49, 233, 91, 238, 47, 49, 46, 55, 175, 101, 39, 79, 79, 126, 122, 49, 44, 50, 249, 180, 78, 76, 99, 122, 32, 37, 130, 76, 72, 50, 66, 154, 187, 51, 51, 20, 30, 68, 110, 71, 119, 43, 102, 76, 62, 50, 73, 66, 54, 46, 284, 68, 70, 40, 44, 46, 75, 76, 49, 76, 43, 138, 63, 107, 59, 53, 45, 49, 54, 28, 66, 56, 417, 103, 106, 49, 54, 58, 27, 205, 60, 44, 83, 80, 385, 96, 193, 34, 41, 51, 39, 43, 37, 37, 55, 46, 106, 93, 64, 223, 92, 80, 25, 120, 66, 29, 59, 209, 205, 31, 133, 96, 64, 79, 34, 18, 51, 140, 55, 41, 48, 115, 33, 80, 81, 60, 67, 52, 63, 33, 51, 99, 122, 111, 51, 105, 52, 39, 92, 163, 72, 32, 81, 34, 18, 42, 46, 127, 95, 292, 46, 102, 58, 111, 500, 26, 86, 79, 221, 117, 130, 108, 110, 134, 93, 70, 500, 62, 98, 90, 30, 43, 27, 65, 78, 104, 120, 254, 42, 34, 500, 253, 43, 83, 46, 66, 32, 101, 77, 64, 129, 63, 73, 79, 84, 56, 90, 22, 140, 31, 88, 81, 74, 38, 79, 46, 44, 118, 68, 88, 87, 106, 73, 76, 70, 117, 37, 126, 72, 121, 76, 79, 77, 47, 73, 36, 53, 70, 71, 134, 109, 84, 37, 53, 135, 53, 46, 40, 68, 134, 40, 192, 290, 121, 70, 107, 46, 193, 88, 28, 64, 193, 87, 111, 100, 277, 155, 71, 74, 69, 47, 89, 157, 74, 94, 58, 132, 161, 61, 45, 50, 45, 81, 109, 27, 67, 40, 27, 121, 53, 52, 96, 137, 212, 64, 92, 58, 76, 42, 115, 30, 26, 25, 84, 62, 27, 49, 30, 208, 197, 51, 38, 38, 74, 33, 97, 92, 500, 69, 160, 105, 69, 87, 45, 500, 46, 40, 47, 227, 91, 86, 31, 48, 80, 71, 91, 96, 147, 59, 68, 94, 105, 76, 108, 101, 43, 37, 100, 137, 34, 44, 77, 86, 85, 67, 74, 104, 167, 49, 71, 36, 58, 61, 45, 42, 31, 227, 144, 39, 68, 27, 27, 240, 57, 66, 108, 40, 79, 47, 36, 51, 119, 216, 157, 75, 91, 108, 224, 65, 52, 329, 168, 94, 67, 67, 48, 97, 74, 39, 165, 107, 499, 153, 177, 195, 53, 71, 95, 179, 123, 53, 93, 44, 61, 72, 164, 123, 52, 155, 184, 92, 57, 111, 114, 70, 125, 45, 83, 284, 130, 41, 146, 151, 94, 167, 49, 43, 47, 42, 97, 226, 141, 67, 99, 27, 31, 200, 76, 46, 79, 50, 62, 75, 55, 91, 196, 55, 34, 41, 58, 105, 27, 136, 500, 132, 119, 107, 74, 78, 84, 33, 39, 154, 74, 64, 92, 161, 89, 45, 94, 60, 45, 80, 82, 52, 46, 82, 89, 143, 44, 244, 83, 451, 111, 70, 54, 93, 91, 30, 70, 50, 84, 141, 48, 91, 47, 47, 165, 150, 111, 53, 27, 105, 255, 53, 191, 49, 500, 132, 169, 58, 84, 108, 74, 272, 69, 104, 109, 59, 106, 88, 61, 72, 95, 69, 168, 121, 62, 43, 65, 64, 84, 179, 129, 83, 32, 46, 67, 60, 71, 106, 49, 31, 20, 164, 34, 68, 85, 103, 173, 206, 31, 103, 206, 44, 35, 79, 154, 227, 77, 138, 87, 73, 44, 41, 192, 291, 88, 87, 45, 74, 36, 39, 83, 138, 69, 98, 259, 54, 61, 132, 72, 322, 34, 49, 57, 101, 65, 131, 269, 471, 117, 75, 40, 118, 120, 30, 85, 55, 99, 159, 29, 48, 110, 500, 42, 104, 28, 46, 112, 53, 33, 79, 132, 131, 297, 182, 88, 130, 65, 125, 35, 387, 152, 239, 79, 59, 49, 81, 107, 58, 100, 54, 125, 120, 206, 59, 95, 54, 38, 209, 54, 44, 54, 87, 55, 108, 52, 58, 427, 117, 106, 171, 64, 40, 60, 96, 126, 117, 47, 52, 76, 86, 80, 112, 85, 122, 285, 75, 138, 101, 76, 66, 35, 73, 241, 63, 141, 25, 159, 82, 42, 37, 80, 30, 52, 40, 26, 49, 500, 411, 41, 123, 98, 226, 161, 340, 170, 62, 84, 133, 120, 58, 115, 106, 53, 178, 69, 97, 72, 128, 54, 109, 111, 43, 73, 183, 388, 105, 41, 231, 105, 44, 198, 38, 43, 83, 39, 57, 58, 108, 29, 114, 195, 44, 94, 37, 62, 146, 62, 500, 136, 84, 121, 42, 408, 32, 112, 31, 46, 121, 362, 175, 53, 53, 258, 63, 104, 37, 89, 91, 152, 89, 103, 125, 26, 53, 25, 57, 83, 116, 26, 97, 34, 85, 34, 299, 39, 114, 305, 82, 62, 89, 175, 44, 54, 89, 103, 26, 138, 157, 108, 52, 50, 91, 87, 78, 33, 500, 27, 121, 306, 143, 33, 500, 133, 84, 34, 54, 94, 37, 73, 22, 26, 78, 152, 48, 136, 280, 51, 40, 91, 80, 50, 265, 57, 152, 145, 38, 58, 120, 35, 295, 27, 44, 107, 41, 55, 71, 95, 188, 61, 26, 39, 107, 67, 146, 100, 388, 67, 82, 152, 120, 113, 144, 106, 60, 43, 128, 122, 199, 82, 26, 104, 99, 69, 448, 189, 33, 49, 99, 39, 76, 54, 52, 36, 119, 36, 252, 54, 72, 103, 126, 52, 85, 53, 87, 33, 139, 140, 92, 48, 500, 98, 45, 67, 88, 193, 197, 79, 500, 99, 106, 48, 26, 73, 104, 47, 33, 72, 91, 36, 165, 34, 36, 63, 163, 41, 91, 49, 500, 207, 45, 59, 75, 98, 52, 53, 60, 91, 113, 39, 84, 153, 74, 253, 189, 24, 66, 142, 144, 34, 176, 77, 72, 299, 71, 28, 52, 93, 23, 131, 138, 55, 47, 330, 120, 58, 56, 118, 58, 26, 38, 460, 133, 54, 263, 136, 27, 196, 92, 25, 86, 37, 130, 65, 75, 68, 88, 182, 77, 223, 68, 27, 79, 71, 55, 66, 128, 377, 60, 60, 61, 53, 254, 67, 101, 107, 52, 500, 95, 108, 25, 32, 87, 46, 154, 35, 35, 115, 174, 39, 60, 47, 137, 258, 106, 120, 121, 84, 49, 58, 59, 32, 201, 106, 173, 42, 66, 44, 194, 69, 68, 271, 94, 54, 72, 95, 54, 55, 74, 278, 141, 45, 34, 82, 32, 33, 33, 80, 205, 71, 162, 88, 39, 127, 35, 37, 46, 33, 170, 57, 147, 65, 140, 103, 160, 75, 64, 63, 20, 45, 44, 54, 134, 68, 250, 93, 104, 268, 111, 31, 62, 41, 47, 75, 83, 77, 132, 26, 61, 86, 500, 315, 48, 51, 48, 187, 37, 42, 56, 157, 83, 28, 93, 191, 121, 199, 83, 166, 56, 59, 29, 205, 61, 49, 235, 132, 29, 124, 86, 56, 77, 40, 133, 265, 60, 79, 106, 56, 103, 139, 119, 55, 82, 43, 39, 136, 38, 37, 37, 122, 80, 141, 61, 98, 97, 29, 431, 36, 71, 94, 104, 105, 48, 168, 71, 118, 46, 57, 32, 39, 68, 129, 140, 94, 111, 44, 51, 90, 53, 25, 113, 51, 78, 118, 107, 88, 500, 337, 81, 152, 70, 135, 128, 78, 25, 46, 83, 71, 79, 322, 84, 96, 111, 103, 48, 143, 132, 54, 46, 34, 204, 94, 38, 152, 500, 87, 28, 52, 82, 90, 74, 127, 110, 46, 38, 62, 162, 35, 118, 70, 462, 62, 174, 90, 49, 273, 162, 73, 37, 33, 300, 131, 134, 43, 110, 42, 92, 40, 160, 60, 106, 29, 37, 61, 66, 83, 58, 43, 34, 106, 63, 96, 117, 85, 25, 125, 171, 154, 99, 187, 500, 24, 124, 184, 76, 74, 88, 29, 28, 28, 226, 78, 82, 61, 98, 19, 35, 33, 27, 60, 116, 186, 19, 59, 47, 421, 74, 31, 56, 77, 39, 80, 247, 118, 500, 500, 82, 149, 40, 136, 130, 45, 139, 108, 316, 35, 95, 179, 133, 158, 55, 143, 79, 100, 41, 34, 74, 97, 81, 30, 119, 35, 33, 150, 64, 123, 29, 30, 177, 21, 73, 44, 87, 53, 40, 61, 169, 161, 148, 82, 98, 188, 245, 57, 93, 135, 141, 58, 65, 78, 358, 133, 74, 140, 76, 46, 72, 69, 37, 36, 28, 172, 90, 75, 43, 154, 46, 374, 52, 50, 57, 421, 77, 500, 138, 46, 37, 32, 22, 41, 50, 106, 173, 58, 68, 228, 142, 69, 64, 103, 143, 184, 97, 45, 53, 52, 188, 199, 282, 38, 157, 86, 49, 177, 69, 64, 384, 56, 61, 56, 75, 33, 70, 60, 69, 27, 76, 43, 87, 39, 146, 170, 128, 500, 74, 17, 153, 125, 84, 100, 59, 42, 59, 96, 47, 73, 65, 56, 79, 43, 41, 231, 30, 135, 59, 42, 167, 82, 187, 119, 62, 122, 134, 37, 54, 36, 117, 134, 45, 56, 38, 33, 107, 115, 80, 29, 62, 55, 240, 286, 68, 500, 51, 167, 92, 50, 136, 42, 116, 107, 155, 90, 79, 47, 59, 48, 85, 61, 29, 93, 149, 152, 103, 41, 29, 39, 31, 27, 63, 69, 32, 33, 154, 67, 101, 108, 22, 80, 450, 71, 91, 95, 86, 196, 91, 500, 144, 104, 117, 61, 159, 85, 80, 71, 80, 108, 121, 30, 73, 85, 77, 116, 137, 59, 63, 39, 67, 222, 72, 101, 228, 36, 46, 68, 112, 104, 41, 75, 80, 33, 53, 157, 53, 60, 214, 500, 126, 31, 27, 42, 269, 192, 96, 290, 56, 124, 106, 49, 100, 97, 264, 500, 133, 68, 101, 231, 89, 91, 36, 53, 94, 148, 26, 65, 81, 36, 57, 67, 29, 88, 77, 114, 107, 45, 88, 43, 37, 55, 75, 74, 127, 47, 54, 92, 281, 37, 47, 69, 82, 122, 39, 82, 42, 125, 73, 34, 41, 56, 107, 62, 51, 416, 136, 257, 22, 51, 84, 177, 185, 109, 92, 53, 55, 206, 78, 39, 89, 310, 49, 130, 32, 45, 91, 58, 62, 273, 162, 173, 44, 276, 97, 64, 48, 82, 500, 70, 94, 175, 101, 58, 247, 133, 500, 83, 365, 500, 110, 48, 74, 30, 48, 52, 94, 37, 101, 51, 57, 60, 177, 136, 191, 42, 34, 58, 101, 47, 68, 41, 78, 46, 36, 104, 45, 128, 94, 85, 77, 34, 59, 45, 132, 76, 142, 65, 27, 31, 119, 52, 29, 81, 37, 90, 59, 41, 125, 61, 41, 143, 109, 33, 103, 57, 113, 69, 102, 43, 203, 115, 98, 51, 29, 63, 81, 85, 316, 42, 500, 108, 81, 71, 172, 57, 371, 176, 60, 43, 66, 26, 194, 131, 62, 42, 28, 33, 38, 60, 94, 150, 100, 43, 16, 41, 31, 75, 66, 62, 68, 202, 105, 58, 84, 138, 69, 134, 500, 94, 96, 178, 23, 500, 91, 127, 92, 77, 29, 153, 42, 355, 31, 52, 35, 71, 46, 77, 69, 70, 203, 255, 156, 188, 55, 47, 23, 23, 26, 31, 153, 46, 54, 429, 87, 117, 23, 192, 138, 432, 54, 55, 100, 173, 68, 40, 188, 31, 28, 208, 155, 61, 155, 49, 228, 29, 87, 106, 35, 44, 62, 58, 168, 107, 46, 52, 125, 61, 121, 189, 20, 80, 136, 51, 30, 126, 313, 148, 29, 88, 70, 40, 35, 39, 51, 118, 60, 274, 52, 113, 176, 51, 49, 65, 85, 90, 90, 53, 60, 50, 82, 131, 69, 124, 63, 27, 32, 46, 82, 38, 94, 53, 62, 387, 106, 50, 89, 500, 76, 89, 97, 213, 79, 314, 38, 318, 89, 39, 54, 41, 85, 51, 43, 67, 118, 122, 158, 54, 72, 60, 38, 343, 41, 89, 75, 92, 91, 102, 86, 104, 141, 90, 62, 71, 85, 33, 61, 23, 41, 195, 50, 82, 38, 64, 18, 89, 132, 29, 86, 192, 126, 89, 107, 105, 41, 42, 83, 58, 96, 18, 44, 133, 99, 90, 500, 62, 83, 68, 76, 129, 56, 55, 148, 262, 321, 51, 86, 75, 51, 37, 105, 41, 99, 52, 38, 288, 93, 112, 29, 54, 52, 52, 128, 265, 55, 40, 208, 55, 70, 34, 32, 66, 43, 43, 194, 29, 86, 86, 94, 41, 71, 34, 153, 143, 38, 81, 163, 190, 52, 52, 47, 65, 37, 114, 87, 100, 54, 44, 220, 70, 122, 97, 44, 39, 93, 61, 79, 64, 182, 71, 67, 47, 49, 28, 31, 181, 58, 38, 33, 66, 42, 187, 80, 33, 123, 126, 192, 205, 96, 64, 215, 500, 36, 90, 66, 262, 184, 41, 65, 154, 352, 78, 100, 108, 312, 500, 47, 90, 280, 67, 42, 174, 113, 72, 152, 73, 43, 61, 67, 105, 51, 40, 142, 174, 61, 35, 216, 44, 60, 140, 222, 95, 66, 75, 55, 56, 54, 104, 71, 178, 44, 61, 138, 36, 63, 140, 123, 73, 216, 71, 98, 84, 56, 250, 166, 34, 59, 83, 87, 199, 89, 49, 238, 74, 72, 43, 31, 32, 87, 83, 53, 95, 112, 26, 127, 203, 43, 59, 125, 37, 52, 38, 51, 79, 36, 61, 193, 71, 347, 88, 126, 31, 45, 113, 146, 81, 64, 70, 100, 36, 69, 59, 67, 68, 48, 42, 76, 92, 106, 30, 56, 218, 500, 43, 62, 83, 176, 137, 64, 44, 75, 36, 219, 161, 179, 101, 81, 241, 96, 25, 77, 53, 132, 200, 140, 113, 104, 95, 229, 92, 62, 219, 49, 64, 95, 201, 47, 64, 47, 33, 342, 39, 50, 36, 75, 124, 142, 130, 330, 48, 113, 46, 35, 32, 64, 64, 47, 500, 73, 93, 44, 72, 71, 79, 154, 89, 109, 54, 49, 60, 136, 88, 53, 83, 173, 72, 41, 152, 127, 183, 44, 233, 87, 32, 67, 88, 28, 95, 76, 66, 156, 73, 134, 44, 133, 32, 104, 79, 52, 68, 148, 52, 47, 76, 477, 49, 109, 91, 33, 130, 481, 46, 500, 60, 167, 98, 97, 185, 31, 51, 94, 58, 164, 193, 95, 24, 57, 496, 120, 107, 145, 114, 66, 105, 20, 37, 82, 50, 44, 95, 44, 59, 108, 62, 125, 58, 333, 287, 75, 115, 40, 155, 65, 20, 51, 103, 87, 51, 43, 104, 45, 46, 81, 52, 52, 53, 57, 81, 195, 106, 55, 40, 92, 500, 199, 118, 38, 40, 79, 22, 60, 107, 70, 80, 136, 125, 57, 38, 47, 136, 83, 65, 64, 54, 124, 99, 210, 314, 90, 58, 124, 68, 340, 35, 48, 53, 97, 53, 40, 31, 66, 83, 109, 44, 41, 46, 38, 409, 51, 46, 34, 106, 87, 44, 154, 199, 130, 182, 84, 26, 36, 182, 107, 198, 61, 63, 61, 32, 61, 363, 87, 44, 192, 44, 67, 45, 215, 155, 251, 164, 65, 48, 19, 70, 47, 94, 38, 50, 236, 149, 61, 55, 43, 83, 328, 78, 39, 441, 120, 26, 100, 67, 93, 311, 112, 66, 36, 38, 29, 500, 78, 58, 28, 75, 45, 55, 56, 58, 36, 37, 337, 159, 50, 34, 90, 50, 87, 42, 50, 152, 148, 500, 15, 47, 59, 41, 253, 130, 52, 35, 27, 28, 17, 122, 104, 219, 44, 39, 37, 215, 40, 46, 39, 28, 54, 56, 62, 90, 87, 116, 58, 65, 140, 57, 87, 380, 99, 86, 60, 39, 48, 85, 66, 32, 42, 50, 140, 93, 65, 40, 52, 80, 356, 45, 243, 262, 27, 117, 119, 175, 43, 136, 124, 112, 42, 170, 33, 68, 57, 37, 96, 117, 52, 128, 500, 101, 106, 125, 103, 133, 36, 190, 57, 104, 33, 74, 32, 85, 55, 115, 67, 179, 83, 43, 300, 36, 86, 160, 53, 24, 91, 38, 150, 149, 309, 79, 180, 106, 157, 46, 42, 201, 125, 32, 78, 172, 41, 72, 101, 71, 99, 34, 37, 39, 62, 89, 66, 76, 69, 351, 131, 123, 144, 65, 59, 104, 68, 101, 92, 481, 57, 66, 236, 70, 228, 76, 40, 113, 57, 54, 34, 25, 64, 30, 33, 108, 145, 34, 138, 247, 104, 40, 72, 66, 34, 162, 30, 33, 113, 193, 77, 214, 33, 80, 62, 70, 63, 125, 70, 73, 148, 40, 193, 42, 72, 89, 54, 151, 106, 183, 242, 30, 147, 41, 70, 80, 158, 49, 128, 34, 54, 107, 127, 89, 46, 48, 500, 51, 52, 282, 167, 49, 129, 45, 41, 100, 149, 63, 63, 57, 116, 180, 165, 500, 66, 83, 47, 56, 44, 105, 78, 44, 39, 120, 86, 30, 94, 168, 52, 91, 85, 75, 63, 46, 57, 97, 42, 29, 77, 46, 41, 67, 285, 44, 44, 47, 47, 29, 19, 76, 112, 43, 48, 133, 90, 309, 26, 75, 282, 500, 89, 88, 39, 89, 49, 26, 49, 71, 292, 41, 122, 136, 96, 55, 57, 43, 183, 500, 78, 69, 38, 89, 68, 65, 55, 69, 63, 101, 187, 152, 65, 33, 187, 179, 500, 204, 137, 130, 247, 89, 57, 72, 29, 34, 123, 81, 61, 66, 72, 100, 62, 74, 62, 42, 45, 237, 24, 75, 37, 46, 36, 37, 56, 103, 52, 80, 41, 39, 69, 43, 39, 90, 172, 95, 27, 40, 108, 56, 48, 37, 48, 46, 103, 500, 66, 167, 104, 152, 20, 41, 136, 83, 21, 326, 32, 253, 80, 71, 37, 149, 500, 43, 76, 164, 115, 58, 17, 88, 127, 48, 51, 74, 42, 29, 55, 68, 24, 69, 60, 57, 131, 25, 22, 36, 46, 117, 39, 101, 45, 62, 86, 41, 163, 74, 39, 216, 70, 136, 47, 62, 71, 134, 277, 305, 175, 34, 80, 500, 32, 37, 156, 38, 46, 42, 178, 33, 280, 45, 42, 192, 80, 73, 41, 88, 53, 154, 217, 79, 57, 39, 100, 106, 86, 55, 46, 77, 56, 80, 92, 29, 48, 42, 90, 36, 115, 122, 195, 53, 29, 76, 37, 61, 51, 48, 79, 35, 120, 95, 200, 128, 58, 95, 84, 37, 100, 78, 57, 78, 47, 45, 192, 124, 253, 213, 31, 27, 230, 371, 22, 48, 67, 79, 41, 67, 60, 40, 166, 36, 48, 36, 76, 90, 92, 46, 30, 63, 123, 49, 44, 38, 59, 162, 56, 46, 44, 54, 91, 40, 127, 122, 192, 47, 96, 60, 181, 52, 50, 50, 76, 32, 62, 123, 169, 57, 58, 116, 228, 92, 37, 195, 127, 46, 107, 38, 87, 193, 83, 35, 147, 32, 40, 368, 70, 314, 48, 90, 135, 117, 32, 103, 48, 113, 164, 167, 51, 34, 29, 109, 41, 173, 214, 43, 38, 93, 59, 34, 158, 61, 44, 38, 206, 80, 103, 56, 39, 76, 134, 106, 35, 97, 21, 68, 48, 55, 75, 55, 102, 42, 74, 112, 66, 89, 131, 89, 142, 53, 111, 193, 95, 500, 103, 124, 165, 181, 142, 60, 53, 112, 67, 51, 168, 60, 41, 114, 68, 60, 326, 430, 290, 37, 59, 108, 109, 41, 147, 125, 40, 224, 187, 128, 72, 22, 96, 84, 50, 118, 41, 58, 74, 24, 79, 27, 57, 89, 30, 109, 86, 44, 45, 69, 53, 286, 89, 107, 37, 166, 41, 100, 267, 51, 103, 209, 91, 53, 38, 62, 117, 52, 73, 71, 58, 31, 52, 30, 312, 74, 134, 198, 90, 91, 71, 161, 217, 73, 135, 119, 55, 198, 36, 58, 197, 62, 71, 425, 26, 334, 45, 52, 74, 93, 48, 62, 121, 118, 36, 58, 72, 71, 133, 126, 79, 36, 122, 146, 137, 73, 63, 70, 500, 118, 181, 245, 47, 103, 89, 58, 95, 44, 164, 91, 113, 39, 103, 218, 116, 69, 102, 60, 55, 92, 65, 88, 168, 63, 103, 95, 500, 86, 125, 46, 192, 52, 76, 99, 68, 237, 41, 54, 86, 208, 44, 101, 34, 30, 82, 61, 89, 275, 169, 61, 262, 45, 64, 193, 87, 41, 119, 62, 66, 34, 47, 58, 86, 187, 91, 82, 439, 372, 43, 40, 160, 85, 27, 103, 39, 160, 30, 57, 49, 119, 114, 65, 45, 500, 248, 45, 69, 75, 89, 44, 143, 41, 34, 68, 229, 33, 34, 172, 108, 134, 29, 37, 24, 36, 25, 117, 153, 59, 212, 53, 28, 105, 73, 46, 96, 40, 87, 64, 51, 73, 76, 105, 24, 54, 52, 31, 48, 176, 112, 77, 64, 84, 75, 59, 132, 45, 62, 65, 32, 43, 34, 75, 50, 55, 93, 64, 79, 147, 32, 23, 43, 42, 32, 82, 103, 60, 25, 70, 81, 55, 238, 88, 94, 105, 101, 107, 54, 59, 188, 44, 322, 68, 173, 53, 25, 87, 29, 147, 119, 35, 40, 167, 88, 61, 135, 221, 88, 132, 44, 57, 28, 42, 120, 37, 93, 151, 222, 115, 27, 130, 46, 90, 35, 53, 85, 274, 34, 82, 34, 111, 63, 26, 61, 85, 73, 500, 57, 56, 32, 143, 65, 35, 105, 22, 76, 198, 30, 64, 66, 68, 74, 53, 43, 88, 259, 92, 53, 36, 123, 83, 90, 47, 52, 59, 31, 34, 82, 71, 44, 67, 122, 83, 49, 59, 51, 84, 107, 50, 57, 122, 53, 41, 86, 38, 89, 206, 85, 101, 45, 66, 51, 53, 61, 39, 103, 55, 78, 35, 21, 59, 412, 89, 79, 136, 89, 66, 58, 23, 44, 50, 78, 165, 306, 103, 93, 108, 36, 43, 100, 29, 65, 69, 74, 82, 143, 108, 88, 61, 65, 62, 27, 35, 52, 73, 87, 120, 103, 195, 43, 39, 306, 55, 239, 176, 45, 38, 55, 38, 71, 237, 199, 99, 99, 61, 151, 109, 210, 166, 69, 103, 37, 62, 66, 443, 123, 52, 88, 335, 140, 124, 114, 82, 28, 174, 492, 63, 26, 75, 140, 87, 255, 48, 53, 79, 166, 114, 49, 49, 34, 71, 95, 30, 213, 132, 65, 88, 39, 61, 56, 93, 33, 157, 55, 143, 153, 71, 43, 262, 210, 31, 102, 38, 29, 54, 95, 41, 62, 246, 78, 237, 47, 76, 64, 48, 67, 65, 56, 62, 57, 139, 120, 71, 32, 83, 285, 78, 128, 23, 49, 184, 55, 91, 500, 298, 77, 89, 161, 52, 53, 56, 42, 65, 42, 27, 79, 96, 40, 135, 70, 58, 86, 37, 66, 109, 77, 40, 79, 145, 166, 19, 46, 31, 77, 45, 77, 329, 125, 123, 89, 109, 72, 53, 75, 93, 288, 46, 27, 253, 99, 42, 42, 36, 275, 85, 134, 96, 98, 107, 38, 125, 93, 59, 100, 32, 169, 233, 109, 258, 177, 39, 204, 128, 45, 30, 340, 23, 77, 55, 120, 78, 41, 434, 29, 44, 45, 39, 477, 98, 28, 86, 228, 97, 38, 113, 115, 124, 36, 42, 60, 44, 256, 73, 41, 241, 31, 246, 25, 69, 177, 500, 111, 91, 60, 179, 35, 73, 133, 40, 66, 266, 226, 50, 46, 35, 79, 44, 173, 111, 33, 88, 56, 37, 36, 500, 90, 92, 74, 109, 160, 27, 81, 22, 252, 31, 131, 62, 73, 98, 38, 101, 67, 70, 74, 34, 86, 141, 47, 45, 125, 60, 60, 110, 64, 85, 80, 56, 70, 286, 40, 78, 32, 117, 50, 75, 26, 64, 87, 58, 178, 126, 74, 71, 63, 267, 84, 77, 50, 93, 61, 186, 63, 97, 147, 160, 58, 223, 48, 137, 45, 34, 171, 89, 123, 55, 34, 82, 193, 75, 120, 55, 64, 95, 52, 27, 39, 34, 30, 38, 30, 89, 180, 63, 50, 69, 132, 57, 27, 75, 110, 83, 44, 75, 43, 71, 97, 140, 62, 102, 31, 171, 152, 100, 78, 103, 58, 83, 138, 79, 38, 57, 55, 58, 58, 35, 24, 93, 118, 81, 25, 34, 32, 53, 81, 59, 63, 60, 47, 77, 81, 49, 165, 93, 435, 140, 320, 152, 41, 137, 42, 45, 224, 52, 53, 208, 151, 109, 118, 79, 425, 115, 39, 69, 25, 65, 62, 31, 41, 381, 32, 94, 265, 119, 147, 39, 40, 87, 255, 54, 154, 61, 66, 87, 87, 58, 58, 78, 74, 63, 195, 92, 41, 485, 90, 126, 28, 140, 45, 45, 58, 45, 106, 131, 67, 259, 268, 53, 35, 53, 135, 97, 500, 75, 307, 81, 87, 41, 67, 113, 62, 40, 62, 69, 93, 88, 62, 60, 76, 500, 64, 47, 119, 81, 46, 94, 91, 146, 140, 74, 35, 165, 87, 49, 118, 103, 84, 338, 48, 194, 73, 128, 23, 54, 68, 63, 145, 50, 58, 108, 73, 68, 57, 88, 42, 35, 500, 58, 69, 32, 40, 43, 33, 66, 58, 54, 25, 76, 169, 68, 37, 69, 57, 104, 54, 145, 100, 500, 372, 97, 23, 34, 59, 80, 50, 27, 41, 147, 43, 35, 85, 102, 500, 66, 285, 41, 173, 48, 51, 84, 120, 34, 59, 106, 75, 129, 231, 57, 77, 212, 54, 119, 73, 52, 73, 110, 52, 67, 142, 46, 69, 110, 45, 448, 131, 97, 151, 122, 320, 215, 103, 66, 351, 25, 41, 93, 64, 124, 127, 33, 136, 58, 81, 65, 51, 92, 97, 52, 103, 140, 73, 116, 92, 74, 70, 69, 92, 32, 96, 202, 21, 57, 62, 498, 65, 58, 185, 63, 203, 90, 127, 34, 67, 34, 52, 155, 107, 54, 138, 126, 56, 41, 40, 117, 26, 274, 126, 116, 182, 81, 126, 35, 31, 119, 58, 49, 140, 76, 134, 82, 113, 29, 75, 25, 73, 113, 83, 135, 65, 48, 44, 91, 42, 49, 36, 24, 52, 137, 34, 55, 225, 33, 51, 79, 101, 55, 86, 49, 138, 72, 193, 79, 38, 50, 71, 97, 37, 114, 47, 69, 156, 168, 69, 72, 41, 110, 53, 77, 76, 34, 33, 71, 122, 55, 83, 120, 72, 39, 77, 64, 64, 76, 99, 160, 139, 48, 75, 66, 35, 98, 132, 169, 113, 500, 133, 73, 68, 45, 114, 54, 29, 106, 221, 72, 119, 78, 46, 89, 63, 141, 125, 85, 166, 30, 96, 83, 137, 124, 72, 266, 44, 38, 56, 60, 104, 76, 94, 147, 48, 111, 74, 39, 39, 192, 43, 69, 64, 48, 76, 167, 142, 48, 75, 259, 216, 76, 62, 148, 69, 151, 154, 137, 124, 40, 213, 84, 60, 54, 34, 97, 292, 67, 106, 131, 52, 51, 114, 36, 54, 239, 51, 96, 47, 64, 500, 173, 61, 224, 17, 53, 75, 48, 173, 34, 93, 142, 110, 71, 64, 212, 38, 77, 249, 102, 111, 189, 46, 164, 159, 61, 63, 42, 41, 60, 21, 27, 91, 83, 87, 98, 151, 93, 57, 91, 56, 76, 50, 32, 64, 220, 93, 36, 175, 132, 80, 51, 229, 33, 104, 81, 143, 158, 44, 71, 32, 93, 135, 40, 106, 38, 132, 145, 19, 43, 59, 131, 106, 500, 70, 87, 103, 103, 85, 32, 57, 104, 233, 50, 72, 70, 65, 44, 95, 45, 64, 130, 45, 100, 37, 28, 267, 246, 70, 69, 51, 75, 168, 144, 85, 74, 76, 42, 74, 178, 87, 58, 58, 104, 62, 47, 48, 37, 27, 127, 33, 68, 30, 171, 28, 76, 77, 95, 100, 19, 60, 63, 65, 49, 25, 52, 500, 68, 127, 43, 40, 133, 80, 113, 48, 90, 108, 61, 30, 108, 39, 70, 120, 35, 117, 27, 43, 208, 61, 54, 316, 49, 117, 330, 90, 28, 55, 47, 127, 49, 97, 60, 59, 182, 85, 313, 67, 128, 121, 252, 66, 146, 72, 123, 95, 91, 79, 88, 27, 131, 78, 77, 138, 82, 68, 66, 193, 35, 146, 47, 500, 184, 82, 284, 67, 163, 141, 71, 49, 35, 27, 69, 139, 112, 93, 99, 57, 67, 56, 101, 105, 213, 79, 25, 87, 34, 132, 135, 42, 83, 66, 125, 82, 42, 125, 57, 192, 55, 62, 102, 500, 146, 74, 286, 88, 63, 96, 74, 78, 36, 36, 57, 53, 137, 134, 128, 60, 116, 43, 46, 77, 76, 500, 160, 96, 60, 37, 53, 39, 92, 49, 50, 64, 88, 112, 98, 63, 89, 56, 60, 36, 141, 54, 31, 103, 103, 60, 161, 31, 36, 31, 66, 124, 102, 78, 165, 49, 63, 52, 47, 95, 443, 88, 36, 59, 100, 114, 76, 39, 30, 40, 87, 28, 163, 40, 32, 155, 92, 47, 128, 95, 34, 182, 44, 117, 213, 48, 112, 45, 42, 68, 143, 36, 86, 54, 100, 58, 99, 47, 62, 82, 81, 66, 239, 100, 55, 80, 95, 25, 102, 76, 98, 58, 94, 384, 116, 55, 66, 404, 66, 52, 55, 104, 109, 37, 98, 61, 120, 144, 34, 293, 154, 67, 57, 209, 72, 147, 88, 31, 51, 74, 191, 150, 34, 54, 112, 193, 68, 35, 87, 51, 238, 178, 52, 48, 72, 124, 176, 40, 47, 76, 25, 39, 160, 141, 31, 138, 31, 133, 91, 191, 181, 87, 178, 35, 88, 46, 30, 66, 209, 85, 172, 73, 36, 59, 388, 49, 500, 185, 46, 219, 57, 33, 90, 50, 114, 83, 53, 40, 48, 81, 317, 140, 52, 193, 99, 64, 39, 87, 124, 28, 139, 130, 236, 57, 27, 41, 39, 48, 315, 117, 69, 63, 81, 60, 194, 117, 164, 81, 95, 92, 55, 63, 47, 61, 49, 137, 139, 265, 118, 84, 72, 200, 81, 107, 54, 68, 177, 41, 347, 89, 103, 161, 61, 36, 107, 162, 75, 44, 42, 74, 114, 45, 115, 176, 31, 130, 83, 108, 65, 81, 187, 83, 40, 51, 33, 302, 63, 47, 56, 56, 41, 92, 81, 153, 36, 51, 96, 41, 87, 81, 20, 208, 80, 86, 85, 85, 74, 97, 66, 33, 68, 196, 51, 480, 185, 125, 34, 91, 119, 39, 111, 170, 126, 72, 27, 312, 154, 48, 45, 75, 108, 83, 64, 48, 59, 41, 50, 63, 30, 33, 46, 282, 51, 74, 141, 130, 98, 66, 61, 104, 80, 49, 53, 94, 59, 35, 42, 47, 35, 34, 41, 62, 40, 74, 37, 138, 73, 144, 104, 55, 247, 59, 186, 51, 29, 41, 151, 84, 63, 38, 200, 94, 48, 91, 500, 117, 91, 72, 44, 100, 72, 116, 35, 118, 84, 269, 151, 310, 32, 107, 123, 252, 153, 51, 29, 140, 75, 116, 149, 57, 120, 78, 61, 47, 84, 120, 36, 128, 278, 115, 36, 171, 41, 53, 41, 22, 44, 73, 69, 89, 58, 71, 111, 33, 93, 92, 96, 83, 26, 331, 34, 35, 67, 223, 49, 109, 298, 166, 493, 27, 101, 33, 216, 62, 56, 46, 197, 248, 55, 26, 35, 152, 91, 56, 75, 107, 85, 69, 125, 68, 67, 40, 259, 147, 370, 32, 126, 131, 75, 38, 74, 65, 70, 86, 87, 129, 127, 139, 41, 103, 145, 84, 25, 142, 99, 54, 108, 80, 118, 49, 88, 126, 36, 52, 40, 94, 97, 54, 65, 195, 58, 81, 204, 25, 43, 36, 42, 29, 272, 27, 86, 31, 79, 140, 366, 154, 53, 101, 68, 115, 33, 35, 59, 51, 306, 43, 215, 88, 225, 42, 57, 72, 176, 77, 138, 62, 160, 64, 343, 57, 50, 30, 39, 74, 109, 40, 69, 76, 112, 40, 89, 65, 103, 43, 43, 51, 50, 59, 159, 66, 43, 36, 226, 220, 56, 239, 37, 36, 78, 86, 70, 127, 108, 174, 149, 199, 38, 101, 58, 57, 128, 35, 97, 99, 89, 230, 71, 35, 46, 67, 69, 116, 55, 277, 165, 102, 61, 121, 34, 237, 119, 375, 137, 196, 47, 86, 93, 169, 36, 66, 58, 32, 225, 190, 95, 198, 83, 493, 40, 108, 74, 125, 126, 134, 58, 44, 37, 500, 38, 49, 246, 50, 53, 63, 99, 54, 135, 84, 55, 71, 90, 103, 34, 49, 74, 44, 42, 75, 24, 39, 102, 171, 23, 82, 69, 88, 27, 287, 52, 125, 56, 58, 79, 47, 85, 72, 128, 45, 84, 41, 154, 107, 98, 58, 110, 35, 100, 36, 79, 69, 69, 67, 49, 91, 86, 64, 72, 24, 59, 97, 93, 105, 185, 38, 86, 39, 113, 57, 116, 28, 154, 44, 27, 31, 40, 43, 133, 80, 228, 20, 144, 43, 31, 100, 80, 121, 46, 47, 47, 55, 29, 96, 478, 95, 44, 76, 53, 106, 26, 30, 37, 54, 140, 75, 71, 57, 92, 113, 61, 41, 69, 148, 42, 49, 69, 108, 40, 64, 75, 65, 36, 109, 30, 43, 93, 55, 79, 222, 57, 45, 52, 58, 70, 395, 148, 109, 114, 176, 29, 500, 135, 38, 86, 184, 64, 37, 115, 187, 45, 86, 24, 53, 37, 197, 237, 40, 56, 48, 78, 60, 44, 62, 92, 113, 41, 203, 106, 88, 66, 181, 54, 33, 50, 43, 219, 95, 62, 88, 89, 130, 105, 53, 252, 51, 58, 31, 36, 71, 61, 54, 126, 58, 46, 425, 56, 42, 161, 66, 167, 33, 41, 27, 43, 34, 41, 68, 44, 54, 68, 59, 95, 110, 60, 32, 312, 152, 107, 86, 43, 102, 190, 198, 28, 102, 96, 44, 45, 45, 103, 55, 76, 212, 97, 61, 79, 239, 117, 32, 500, 317, 159, 101, 67, 66, 69, 144, 81, 192, 24, 88, 115, 376, 22, 31, 157, 169, 500, 83, 188, 43, 43, 42, 68, 77, 42, 102, 57, 80, 73, 127, 30, 79, 82, 145, 58, 184, 53, 32, 41, 71, 56, 207, 119, 63, 112, 33, 55, 189, 98, 84, 209, 139, 42, 72, 103, 93, 64, 437, 38, 96, 72, 121, 72, 59, 57, 52, 46, 37, 57, 63, 67, 84, 100, 71, 56, 136, 48, 99, 36, 66, 118, 94, 177, 25, 63, 66, 160, 74, 126, 500, 48, 102, 69, 64, 39, 87, 66, 27, 60, 74, 26, 72, 36, 50, 372, 319, 49, 39, 500, 38, 198, 74, 88, 87, 93, 33, 100, 76, 47, 53, 196, 47, 19, 88, 60, 76, 176, 56, 48, 27, 85, 82, 54, 50, 40, 47, 45, 32, 34, 32, 84, 41, 81, 97, 152, 116, 68, 29, 64, 49, 65, 42, 43, 58, 79, 104, 48, 126, 79, 129, 65, 153, 61, 103, 51, 230, 259, 172, 87, 126, 217, 48, 79, 52, 29, 58, 176, 157, 128, 67, 301, 48, 40, 170, 110, 76, 36, 94, 95, 63, 184, 39, 55, 55, 230, 57, 189, 139, 47, 115, 49, 83, 40, 87, 355, 35, 80, 70, 399, 217, 37, 167, 21, 39, 75, 36, 147, 96, 45, 78, 101, 141, 21, 212, 32, 34, 55, 45, 101, 243, 153, 48, 90, 78, 254, 56, 104, 139, 54, 81, 31, 55, 67, 500, 133, 78, 80, 43, 39, 114, 33, 69, 471, 67, 109, 45, 77, 78, 96, 52, 73, 37, 68, 120, 45, 45, 64, 77, 94, 60, 36, 68, 80, 54, 23, 67, 36, 141, 81, 498, 195, 65, 55, 98, 159, 155, 79, 56, 102, 79, 54, 180, 31, 61, 137, 76, 170, 99, 56, 122, 68, 42, 170, 189, 249, 47, 133, 186, 168, 211, 100, 204, 76, 32, 34, 55, 28, 111, 133, 51, 255, 65, 63, 169, 25, 66, 31, 53, 97, 96, 106, 45, 376, 330, 44, 34, 27, 170, 71, 47, 70, 109, 33, 119, 176, 68, 71, 105, 42, 49, 53, 45, 30, 112, 190, 196, 57, 241, 53, 81, 44, 38, 50, 70, 74, 103, 85, 165, 151, 48, 347, 64, 36, 48, 96, 110, 106, 101, 92, 27, 143, 58, 134, 48, 18, 66, 234, 49, 128, 134, 50, 116, 145, 153, 139, 115, 108, 248, 94, 86, 39, 88, 82, 77, 173, 101, 109, 86, 37, 43, 41, 171, 108, 124, 348, 139, 264, 93, 71, 74, 100, 311, 194, 78, 75, 31, 109, 67, 55, 71, 72, 84, 71, 87, 154, 136, 51, 79, 104, 46, 43, 144, 46, 68, 111, 98, 68, 48, 31, 80, 88, 43, 55, 141, 79, 59, 86, 105, 29, 349, 103, 44, 68, 101, 112, 39, 40, 206, 47, 149, 70, 97, 166, 182, 84, 36, 261, 90, 67, 71, 192, 66, 72, 48, 126, 45, 105, 60, 39, 26, 122, 77, 127, 58, 46, 103, 48, 70, 110, 62, 85, 257, 35, 107, 31, 212, 69, 72, 31, 92, 89, 82, 106, 174, 60, 131, 266, 96, 57, 55, 446, 45, 179, 79, 118, 118, 45, 37, 81, 72, 28, 35, 87, 45, 107, 49, 51, 78, 37, 116, 338, 225, 117, 32, 211, 153, 50, 112, 39, 72, 92, 33, 35, 63, 42, 148, 222, 113, 156, 107, 48, 45, 55, 49, 85, 32, 24, 22, 119, 54, 117, 43, 124, 112, 500, 286, 267, 283, 116, 186, 92, 118, 52, 38, 67, 161, 405, 87, 30, 180, 64, 25, 45, 74, 286, 293, 161, 164, 105, 84, 81, 37, 34, 95, 91, 54, 41, 59, 97, 52, 44, 69, 58, 315, 54, 142, 35, 68, 79, 79, 115, 40, 81, 60, 121, 123, 500, 43, 43, 57, 98, 103, 56, 61, 36, 50, 95, 46, 57, 58, 45, 49, 75, 107, 26, 68, 123, 60, 91, 500, 161, 53, 178, 42, 92, 102, 135, 32, 27, 64, 30, 57, 87, 38, 71, 228, 135, 170, 36, 125, 136, 69, 59, 120, 65, 44, 88, 183, 270, 129, 49, 68, 103, 142, 100, 94, 243, 166, 245, 29, 69, 112, 83, 36, 59, 96, 73, 82, 15, 153, 178, 44, 24, 46, 58, 100, 59, 90, 48, 76, 41, 103, 85, 44, 83, 103, 37, 106, 60, 71, 233, 61, 55, 110, 138, 160, 67, 56, 75, 140, 76, 60, 78, 75, 55, 43, 30, 35, 182, 42, 67, 129, 452, 40, 45, 79, 54, 80, 47, 36, 56, 161, 115, 114, 402, 34, 39, 129, 107, 41, 79, 70, 194, 61, 46, 86, 135, 161, 41, 42, 154, 53, 189, 70, 75, 48, 56, 113, 113, 115, 94, 92, 36, 225, 140, 72, 38, 28, 100, 81, 94, 84, 37, 178, 111, 30, 69, 71, 89, 118, 56, 41, 230, 34, 99, 88, 108, 62, 58, 101, 107, 66, 34, 500, 37, 31, 83, 53, 122, 83, 38, 67, 47, 91, 84, 55, 139, 86, 133, 49, 209, 74, 74, 154, 80, 256, 65, 49, 33, 65, 123, 79, 91, 59, 76, 92, 145, 217, 48, 46, 90, 80, 132, 112, 99, 182, 63, 29, 41, 97, 94, 78, 28, 88, 191, 34, 139, 160, 24, 42, 103, 87, 90, 289, 83, 34, 64, 137, 68, 115, 91, 72, 44, 168, 58, 85, 35, 20, 123, 186, 54, 43, 84, 58, 188, 59, 37, 67, 298, 112, 189, 99, 58, 34, 94, 88, 63, 41, 52, 33, 29, 44, 154, 134, 36, 106, 153, 71, 85, 65, 51, 35, 272, 56, 86, 92, 88, 109, 53, 111, 257, 52, 70, 65, 38, 75, 44, 97, 144, 29, 49, 97, 94, 92, 31, 67, 73, 169, 200, 83, 47, 153, 500, 71, 53, 57, 122, 148, 500, 150, 120, 118, 72, 172, 64, 49, 82, 83, 41, 61, 65, 63, 130, 56, 159, 92, 74, 105, 83, 355, 215, 94, 35, 105, 180, 35, 73, 77, 40, 25, 222, 59, 64, 53, 86, 32, 50, 165, 41, 119, 390, 154, 50, 75, 70, 70, 41, 107, 84, 83, 55, 100, 118, 237, 52, 213, 190, 71, 205, 18, 50, 82, 59, 423, 129, 94, 42, 50, 44, 88, 62, 94, 146, 48, 150, 134, 92, 50, 171, 51, 61, 62, 75, 42, 106, 48, 55, 76, 86, 79, 125, 74, 72, 172, 60, 139, 32, 288, 41, 500, 142, 123, 132, 168, 172, 48, 50, 47, 75, 91, 158, 78, 89, 94, 69, 54, 149, 100, 88, 33, 40, 60, 151, 90, 40, 58, 293, 83, 181, 113, 113, 179, 47, 25, 100, 56, 110, 133, 52, 96, 56, 92, 72, 231, 76, 99, 393, 166, 68, 42, 39, 98, 328, 132, 46, 52, 119, 88, 90, 47, 32, 65, 73, 26, 129, 94, 38, 124, 64, 188, 43, 57, 70, 48, 79, 77, 25, 71, 97, 41, 181, 72, 198, 181, 80, 194, 223, 70, 371, 107, 121, 84, 90, 34, 113, 188, 53, 93, 75, 83, 71, 87, 73, 53, 72, 38, 44, 58, 40, 47, 135, 59, 241, 166, 38, 34, 121, 47, 78, 86, 32, 69, 108, 66, 81, 40, 109, 60, 39, 43, 50, 40, 59, 46, 53, 40, 39, 163, 83, 85, 258, 45, 81, 70, 160, 100, 26, 34, 64, 224, 65, 21, 95, 55, 71, 75, 23, 113, 126, 39, 88, 96, 112, 30, 48, 44, 48, 56, 42, 58, 81, 180, 379, 72, 104, 76, 59, 88, 37, 157, 500, 114, 22, 119, 91, 71, 177, 37, 27, 154, 21, 132, 205, 23, 60, 89, 59, 35, 121, 96, 257, 104, 58, 26, 85, 123, 43, 95, 26, 44, 207, 92, 33, 138, 36, 100, 110, 17, 87, 65, 220, 70, 75, 33, 68, 46, 71, 50, 24, 113, 121, 47, 87, 35, 60, 77, 90, 71, 77, 111, 107, 120, 87, 93, 176, 369, 95, 68, 217, 94, 127, 36, 102, 171, 34, 81, 89, 25, 336, 128, 52, 76, 85, 343, 35, 176, 86, 223, 161, 60, 221, 39, 44, 35, 37, 22, 76, 112, 92, 87, 90, 41, 21, 91, 106, 129, 36, 70, 49, 121, 31, 47, 14, 89, 130, 88, 105, 56, 107, 135, 61, 28, 57, 500, 51, 155, 126, 165, 47, 53, 33, 29, 173, 43, 35, 38, 58, 61, 112, 38, 74, 173, 293, 103, 43, 97, 34, 56, 31, 76, 183, 44, 145, 60, 78, 65, 86, 82, 44, 68, 35, 168, 59, 165, 238, 52, 94, 74, 90, 53, 46, 103, 174, 41, 273, 126, 22, 38, 106, 19, 88, 364, 61, 64, 51, 91, 154, 95, 198, 97, 99, 28, 96, 98, 176, 75, 87, 122, 161, 44, 49, 287, 97, 203, 205, 28, 108, 29, 123, 89, 85, 96, 83, 210, 134, 86, 51, 125, 93, 92, 117, 114, 42, 150, 160, 131, 72, 72, 108, 500, 109, 36, 40, 24, 85, 43, 32, 33, 36, 44, 45, 132, 25, 302, 51, 23, 28, 37, 160, 120, 37, 60, 36, 65, 265, 145, 35, 66, 128, 37, 140, 134, 89, 59, 156, 100, 62, 118, 36, 67, 138, 32, 52, 382, 103, 170, 40, 77, 28, 43, 103, 108, 115, 69, 113, 65, 35, 33, 35, 39, 161, 28, 161, 167, 64, 58, 151, 223, 247, 29, 38, 60, 75, 61, 68, 169, 50, 75, 191, 40, 36, 36, 85, 396, 61, 152, 55, 29, 48, 36, 74, 500, 23, 94, 54, 102, 64, 39, 37, 179, 32, 102, 77, 45, 28, 25, 31, 147, 159, 11, 115, 45, 54, 173, 81, 140, 78, 52, 44, 49, 79, 164, 132, 58, 122, 90, 29, 90, 77, 38, 199, 43, 38, 158, 86, 45, 56, 68, 124, 59, 284, 71, 92, 147, 101, 48, 83, 29, 142, 123, 31, 137, 46, 52, 160, 451, 36, 93, 164, 48, 115, 36, 67, 36, 61, 258, 53, 97, 113, 49, 83, 163, 93, 76, 66, 86, 36, 80, 155, 62, 44, 68, 120, 30, 105, 116, 85, 81, 92, 80, 35, 74, 69, 92, 107, 117, 40, 75, 72, 59, 101, 52, 92, 49, 72, 79, 100, 343, 33, 68, 140, 70, 101, 500, 132, 35, 83, 59, 29, 128, 36, 176, 46, 103, 71, 70, 30, 69, 76, 38, 41, 88, 303, 50, 32, 87, 35, 70, 148, 50, 75, 43, 57, 49, 45, 302, 91, 208, 143, 75, 54, 43, 500, 202, 118, 66, 30, 29, 130, 49, 38, 57, 243, 108, 79, 70, 90, 51, 33, 34, 57, 73, 26, 26, 53, 33, 58, 147, 146, 66, 90, 31, 105, 129, 275, 219, 34, 29, 108, 56, 73, 151, 58, 37, 71, 45, 59, 82, 209, 70, 24, 87, 74, 151, 31, 62, 184, 54, 340, 149, 118, 54, 96, 74, 35, 306, 50, 187, 74, 19, 50, 48, 41, 58, 144, 164, 59, 46, 31, 66, 68, 28, 79, 32, 55, 63, 117, 35, 144, 62, 118, 205, 100, 113, 63, 93, 128, 141, 45, 83, 500, 295, 38, 42, 103, 188, 156, 200, 152, 248, 36, 40, 201, 35, 86, 29, 43, 111, 127, 42, 455, 167, 48, 32, 37, 90, 34, 72, 53, 133, 59, 131, 32, 30, 38, 55, 39, 72, 36, 102, 80, 72, 103, 47, 51, 115, 128, 205, 98, 127, 209, 128, 49, 55, 33, 67, 101, 144, 54, 98, 498, 45, 74, 92, 227, 363, 165, 80, 27, 106, 54, 116, 35, 112, 193, 123, 163, 295, 67, 52, 119, 51, 48, 34, 79, 67, 47, 81, 108, 78, 47, 37, 72, 93, 48, 47, 39, 78, 68, 88, 281, 51, 151, 208, 93, 103, 217, 57, 166, 35, 483, 48, 58, 120, 32, 58, 35, 26, 83, 76, 58, 75, 70, 75, 147, 49, 62, 54, 81, 62, 26, 132, 51, 58, 35, 60, 89, 169, 91, 63, 77, 417, 110, 90, 92, 165, 251, 83, 54, 75, 76, 29, 55, 96, 35, 162, 148, 76, 444, 190, 59, 54, 121, 29, 16, 36, 102, 67, 31, 66, 89, 40, 120, 43, 85, 68, 102, 303, 48, 120, 146, 44, 48, 114, 69, 252, 31, 175, 32, 65, 48, 237, 206, 36, 85, 94, 29, 113, 96, 83, 127, 92, 52, 190, 58, 22, 38, 59, 78, 86, 51, 72, 162, 54, 139, 47, 40, 104, 500, 214, 392, 118, 282, 252, 27, 59, 124, 271, 500, 82, 36, 102, 59, 52, 167, 37, 85, 33, 46, 130, 145, 60, 175, 113, 44, 86, 32, 46, 255, 85, 87, 57, 78, 167, 85, 92, 65, 160, 68, 119, 48, 367, 36, 106, 85, 79, 166, 78, 125, 57, 203, 115, 41, 62, 46, 37, 85, 102, 143, 41, 500, 39, 79, 133, 90, 77, 34, 101, 28, 273, 65, 69, 82, 63, 71, 226, 58, 67, 131, 89, 55, 75, 133, 53, 107, 83, 130, 52, 40, 81, 62, 73, 64, 111, 314, 61, 129, 52, 78, 83, 188, 155, 52, 87, 102, 91, 38, 130, 71, 48, 39, 61, 24, 73, 69, 117, 88, 65, 46, 30, 105, 70, 102, 125, 331, 69, 55, 188, 500, 67, 105, 44, 70, 36, 56, 39, 46, 152, 52, 136, 70, 34, 56, 97, 126, 43, 44, 118, 61, 44, 85, 43, 136, 92, 92, 162, 237, 78, 52, 104, 62, 30, 101, 263, 99, 172, 58, 179, 92, 37, 81, 57, 35, 210, 47, 37, 77, 64, 74, 116, 170, 110, 22, 43, 97, 52, 112, 35, 67, 31, 169, 59, 82, 75, 101, 73, 123, 41, 72, 95, 71, 74, 41, 62, 104, 36, 183, 55, 27, 103, 32, 104, 52, 142, 31, 65, 110, 66, 99, 60, 132, 75, 102, 73, 77, 142, 187, 47, 65, 77, 48, 41, 172, 123, 39, 106, 45, 60, 41, 48, 112, 32, 54, 52, 53, 50, 93, 45, 232, 214, 150, 118, 74, 92, 99, 166, 211, 168, 151, 86, 161, 62, 61, 108, 73, 52, 42, 209, 63, 233, 16, 71, 51, 91, 148, 91, 27, 150, 119, 57, 38, 51, 80, 73, 89, 167, 51, 29, 46, 112, 175, 43, 59, 79, 47, 49, 126, 50, 57, 35, 32, 56, 101, 92, 57, 351, 33, 29, 44, 65, 53, 85, 28, 132, 23, 43, 469, 83, 50, 53, 104, 77, 99, 21, 96, 58, 37, 76, 113, 82, 88, 73, 93, 142, 500, 91, 159, 73, 405, 87, 130, 111, 334, 42, 43, 64, 67, 26, 31, 49, 53, 65, 35, 27, 31, 24, 95, 317, 174, 49, 112, 47, 135, 131, 59, 60, 113, 114, 43, 204, 44, 65, 54, 82, 368, 89, 357, 66, 55, 199, 60, 74, 132, 25, 37, 59, 91, 116, 63, 30, 146, 80, 170, 86, 54, 86, 141, 98, 94, 75, 45, 47, 92, 62, 119, 118, 68, 112, 23, 65, 60, 79, 35, 77, 88, 312, 118, 60, 73, 185, 41, 28, 75, 24, 154, 34, 145, 99, 83, 50, 129, 57, 35, 144, 16, 106, 109, 114, 138, 55, 131, 63, 137, 73, 149, 195, 137, 27, 199, 58, 109, 37, 48, 59, 55, 156, 61, 54, 52, 92, 77, 69, 124, 67, 163, 61, 136, 140, 46, 96, 94, 29, 86, 59, 54, 75, 48, 127, 231, 71, 164, 292, 103, 164, 122, 63, 79, 98, 48, 175, 88, 108, 127, 82, 78, 38, 30, 327, 177, 195, 94, 170, 72, 144, 44, 99, 124, 147, 89, 55, 60, 126, 31, 136, 50, 206, 35, 302, 59, 151, 69, 115, 51, 144, 52, 28, 154, 110, 106, 37, 238, 34, 98, 74, 59, 79, 169, 242, 200, 57, 76, 31, 68, 59, 28, 108, 31, 25, 130, 29, 65, 168, 44, 107, 36, 108, 73, 193, 55, 57, 181, 35, 128, 94, 163, 33, 55, 57, 67, 66, 44, 46, 60, 212, 163, 121, 86, 43, 117, 47, 105, 42, 316, 70, 62, 137, 128, 30, 67, 105, 40, 72, 75, 22, 104, 71, 84, 38, 49, 121, 123, 77, 92, 325, 55, 167, 43, 62, 57, 130, 154, 59, 89, 140, 28, 42, 152, 31, 49, 83, 57, 114, 95, 43, 55, 136, 71, 98, 136, 41, 79, 85, 59, 117, 29, 142, 94, 91, 343, 54, 102, 29, 100, 35, 83, 396, 107, 46, 42, 194, 45, 98, 99, 136, 90, 99, 50, 74, 97, 151, 139, 105, 51, 54, 172, 32, 88, 147, 163, 109, 236, 294, 67, 27, 96, 111, 148, 61, 353, 121, 39, 56, 28, 92, 200, 41, 69, 53, 64, 65, 107, 170, 120, 94, 111, 99, 54, 63, 72, 22, 65, 166, 226, 217, 175, 36, 29, 110, 50, 193, 82, 51, 68, 123, 129, 68, 57, 133, 79, 91, 247, 28, 38, 108, 42, 85, 153, 233, 77, 71, 118, 434, 103, 21, 73, 54, 63, 62, 171, 247, 265, 74, 87, 37, 226, 46, 38, 51, 129, 46, 222, 35, 190, 35, 29, 76, 102, 45, 41, 103, 21, 34, 100, 136, 117, 109, 66, 106, 117, 60, 34, 103, 68, 27, 76, 43, 62, 100, 45, 96, 366, 143, 36, 46, 49, 82, 46, 82, 32, 25, 72, 114, 79, 104, 274, 155, 85, 177, 207, 110, 50, 71, 55, 87, 100, 104, 98, 68, 58, 85, 73, 94, 38, 131, 41, 73, 132, 143, 85, 38, 106, 95, 35, 134, 74, 500, 78, 54, 56, 43, 53, 72, 45, 101, 36, 60, 208, 65, 87, 42, 71, 68, 74, 46, 182, 73, 500, 32, 84, 60, 102, 64, 24, 36, 210, 105, 500, 442, 53, 76, 39, 68, 140, 113, 42, 51, 101, 61, 40, 32, 45, 31, 33, 36, 24, 119, 100, 108, 140, 110, 142, 72, 48, 41, 111, 44, 176, 61, 124, 56, 119, 270, 31, 38, 67, 73, 35, 358, 94, 193, 307, 114, 68, 45, 26, 126, 67, 20, 32, 94, 70, 110, 121, 83, 58, 86, 46, 172, 44, 118, 69, 94, 157, 79, 156, 35, 53, 100, 105, 201, 68, 140, 39, 91, 57, 66, 36, 49, 47, 47, 184, 78, 108, 75, 85, 56, 51, 55, 43, 47, 154, 57, 72, 130, 132, 71, 61, 56, 57, 94, 136, 36, 29, 88, 59, 147, 72, 23, 97, 34, 68, 197, 75, 83, 314, 175, 64, 84, 77, 500, 65, 86, 93, 66, 37, 80, 79, 398, 79, 160, 36, 77, 176, 98, 53, 61, 85, 35, 54, 29, 32, 214, 98, 53, 55, 47, 65, 54, 65, 34, 37, 81, 313, 87, 47, 72, 34, 32, 78, 111, 39, 70, 53, 38, 45, 82, 77, 111, 29, 90, 60, 86, 63, 86, 247, 500, 140, 110, 51, 92, 500, 63, 41, 117, 46, 37, 75, 164, 124, 44, 68, 51, 89, 146, 124, 48, 39, 89, 103, 81, 179, 205, 64, 39, 83, 109, 186, 82, 57, 86, 70, 23, 208, 83, 49, 45, 33, 149, 68, 177, 52, 90, 43, 71, 93, 45, 35, 48, 83, 38, 71, 141, 215, 43, 105, 45, 152, 346, 51, 116, 143, 102, 56, 408, 98, 75, 24, 77, 138, 50, 139, 45, 404, 87, 54, 49, 147, 84, 108, 55, 220, 114, 94, 60, 132, 114, 235, 251, 126, 63, 64, 42, 23, 36, 152, 59, 70, 142, 36, 167, 241, 37, 110, 75, 31, 82, 129, 59, 36, 67, 56, 67, 52, 50, 56, 83, 41, 110, 172, 21, 201, 23, 73, 337, 162, 127, 121, 30, 80, 133, 39, 77, 42, 388, 42, 110, 77, 95, 91, 46, 49, 57, 363, 64, 74, 53, 65, 54, 84, 73, 259, 183, 35, 71, 500, 63, 43, 82, 164, 98, 290, 374, 67, 24, 78, 38, 55, 124, 55, 93, 61, 103, 90, 52, 42, 60, 29, 24, 500, 82, 104, 256, 100, 51, 267, 109, 62, 31, 101, 146, 82, 296, 87, 29, 61, 80, 34, 61, 42, 34, 44, 76, 105, 182, 114, 33, 47, 128, 220, 174, 174, 77, 83, 322, 218, 60, 67, 31, 50, 26, 141, 116, 232, 57, 190, 135, 109, 31, 61, 99, 80, 81, 85, 174, 41, 60, 80, 35, 71, 58, 46, 98, 258, 134, 80, 165, 188, 80, 37, 43, 59, 50, 63, 127, 81, 137, 107, 110, 88, 92, 73, 136, 55, 117, 22, 48, 87, 75, 126, 79, 100, 168, 139, 46, 59, 127, 51, 67, 58, 168, 176, 69, 89, 63, 45, 59, 33, 27, 128, 103, 152, 58, 105, 34, 154, 69, 94, 102, 66, 104, 70, 28, 46, 193, 40, 111, 78, 230, 22, 344, 166, 46, 74, 55, 38, 66, 53, 98, 87, 79, 133, 246, 58, 180, 139, 273, 55, 42, 141, 77, 92, 105, 158, 116, 71, 66, 189, 93, 140, 71, 81, 194, 137, 31, 72, 187, 22, 114, 45, 32, 82, 63, 60, 75, 31, 147, 44, 311, 29, 123, 74, 46, 371, 58, 70, 147, 115, 198, 61, 50, 58, 117, 191, 53, 29, 49, 107, 121, 190, 227, 31, 40, 79, 140, 46, 60, 162, 32, 68, 40, 25, 190, 38, 404, 121, 123, 47, 43, 197, 121, 58, 109, 114, 264, 127, 129, 59, 500, 47, 101, 104, 52, 185, 40, 85, 110, 354, 105, 176, 167, 56, 69, 100, 34, 55, 62, 188, 52, 34, 122, 87, 206, 65, 287, 123, 35, 104, 93, 104, 117, 57, 72, 41, 36, 84, 33, 209, 60, 90, 21, 33, 38, 36, 95, 43, 43, 40, 38, 118, 46, 65, 95, 54, 63, 35, 44, 49, 71, 60, 56, 74, 100, 43, 128, 33, 45, 136, 76, 148, 40, 57, 467, 159, 356, 75, 45, 69, 75, 257, 65, 76, 120, 45, 97, 80, 262, 137, 24, 25, 62, 324, 126, 100, 192, 85, 94, 103, 118, 369, 79, 162, 96, 68, 122, 64, 31, 50, 69, 42, 41, 57, 46, 50, 33, 45, 111, 79, 59, 108, 65, 66, 46, 159, 37, 62, 117, 68, 71, 330, 73, 408, 95, 102, 37, 63, 241, 38, 102, 62, 190, 500, 103, 60, 81, 46, 61, 92, 42, 111, 44, 111, 86, 88, 150, 94, 78, 408, 51, 156, 31, 310, 143, 295, 91, 67, 108, 67, 106, 63, 91, 35, 68, 80, 40, 157, 140, 62, 309, 39, 25, 66, 66, 116, 58, 78, 102, 81, 46, 83, 76, 87, 37, 63, 58, 40, 91, 49, 260, 27, 29, 104, 117, 131, 59, 78, 145, 41, 190, 34, 146, 51, 113, 50, 40, 500, 69, 237, 58, 135, 164, 83, 122, 36, 92, 67, 38, 126, 180, 74, 234, 38, 57, 162, 56, 69, 44, 99, 105, 407, 37, 18, 255, 148, 102, 88, 128, 39, 77, 42, 87, 34, 309, 84, 41, 60, 100, 126, 47, 270, 93, 151, 88, 188, 439, 52, 14, 102, 115, 75, 79, 34, 37, 155, 41, 156, 28, 128, 112, 72, 86, 140, 41, 459, 85, 256, 35, 55, 152, 110, 87, 500, 171, 102, 60, 500, 54, 215, 217, 55, 142, 30, 25, 51, 87, 90, 64, 43, 34, 226, 70, 65, 180, 106, 71, 45, 49, 88, 49, 143, 99, 39, 268, 11, 85, 179, 78, 46, 52, 49, 78, 96, 182, 31, 52, 157, 36, 135, 28, 54, 500, 131, 84, 64, 180, 221, 46, 86, 34, 58, 126, 48, 199, 70, 56, 21, 140, 34, 109, 35, 97, 32, 19, 170, 107, 44, 110, 97, 61, 70, 47, 88, 109, 57, 55, 49, 92, 30, 49, 77, 67, 290, 91, 89, 81, 121, 56, 59, 135, 147, 125, 61, 59, 268, 131, 150, 85, 168, 81, 39, 52, 132, 82, 53, 97, 128, 238, 46, 108, 97, 311, 163, 109, 99, 95, 196, 38, 51, 139, 277, 65, 84, 131, 65, 37, 69, 112, 69, 97, 140, 90, 76, 118, 500, 52, 194, 154, 98, 112, 165, 407, 88, 158, 197, 383, 78, 70, 49, 45, 36, 86, 150, 112, 35, 170, 181, 134, 120, 91, 85, 202, 101, 114, 183, 221, 132, 80, 96, 81, 68, 76, 65, 31, 222, 70, 78, 57, 53, 40, 114, 118, 45, 38, 71, 45, 49, 38, 107, 87, 75, 61, 49, 82, 66, 140, 81, 30, 73, 94, 72, 148, 142, 95, 31, 118, 110, 70, 201, 63, 30, 81, 81, 224, 95, 118, 43, 156, 67, 216, 50, 157, 155, 62, 90, 117, 67, 67, 81, 74, 41, 60, 43, 70, 26, 73, 85, 231, 62, 35, 218, 60, 39, 71, 299, 197, 104, 71, 59, 219, 106, 268, 31, 47, 71, 348, 87, 37, 37, 149, 118, 106, 47, 83, 32, 119, 172, 275, 97, 39, 51, 40, 101, 201, 74, 59, 75, 39, 30, 56, 140, 55, 56, 44, 137, 500, 69, 58, 188, 108, 80, 46, 39, 181, 92, 148, 161, 63, 147, 112, 106, 85, 36, 155, 46, 149, 115, 67, 49, 72, 37, 152, 131, 135, 57, 47, 108, 125, 120, 85, 94, 46, 43, 26, 96, 293, 57, 89, 40, 48, 74, 65, 86, 283, 108, 136, 243, 232, 359, 197, 104, 211, 87, 95, 69, 76, 93, 57, 82, 52, 66, 46, 27, 150, 35, 500, 401, 126, 79, 27, 26, 110, 76, 31, 64, 66, 37, 40, 26, 32, 180, 170, 91, 83, 54, 110, 160, 304, 131, 78, 456, 37, 47, 166, 62, 118, 51, 196, 394, 48, 74, 125, 184, 116, 138, 41, 125, 194, 46, 34, 68, 53, 88, 123, 118, 246, 117, 96, 80, 48, 122, 64, 103, 217, 200, 60, 30, 103, 113, 28, 219, 143, 132, 58, 40, 125, 98, 169, 209, 131, 106, 63, 36, 96, 31, 132, 85, 95, 177, 141, 68, 85, 132, 54, 121, 57, 30, 45, 82, 499, 42, 308, 82, 500, 196, 185, 68, 39, 64, 131, 66, 137, 62, 33, 246, 74, 159, 106, 75, 179, 57, 48, 121, 84, 46, 43, 50, 37, 46, 132, 100, 209, 44, 66, 72, 99, 48, 150, 72, 224, 151, 32, 64, 75, 28, 88, 161, 49, 97, 110, 68, 87, 75, 140, 318, 79, 63, 80, 103, 50, 105, 161, 72, 121, 500, 57, 101, 48, 90, 205, 55, 59, 43, 42, 221, 56, 41, 37, 65, 500, 76, 115, 80, 59, 69, 59, 143, 77, 63, 258, 78, 235, 437, 132, 143, 83, 55, 94, 249, 284, 55, 163, 39, 55, 73, 125, 102, 126, 84, 43, 49, 152, 109, 81, 63, 116, 39, 143, 48, 139, 170, 140, 71, 63, 72, 30, 60, 92, 113, 89, 142, 63, 219, 64, 274, 85, 380, 104, 57, 38, 92, 50, 131, 120, 52, 196, 152, 50, 64, 57, 95, 107, 117, 61, 128, 54, 190, 66, 283, 100, 116, 155, 40, 500, 49, 40, 134, 185, 97, 65, 215, 57, 59, 51, 66, 50, 72, 192, 56, 37, 87, 109, 110, 63, 25, 58, 55, 101, 49, 61, 278, 115, 43, 74, 108, 38, 213, 117, 129, 44, 54, 33, 244, 129, 70, 86, 83, 108, 175, 53, 37, 102, 132, 235, 179, 105, 46, 120, 152, 118, 52, 79, 44, 136, 53, 279, 50, 143, 126, 244, 103, 41, 88, 39, 239, 58, 93, 39, 76, 54, 500, 111, 132, 176, 38, 43, 68, 91, 32, 109, 57, 167, 99, 82, 45, 259, 125, 97, 172, 61, 43, 60, 89, 183, 72, 108, 500, 182, 64, 48, 111, 225, 51, 122, 37, 91, 75, 187, 40, 37, 119, 65, 103, 151, 133, 78, 55, 30, 29, 179, 110, 49, 52, 32, 55, 45, 232, 37, 350, 279, 137, 186, 364, 210, 190, 119, 65, 83, 68, 184, 54, 144, 83, 188, 208, 116, 28, 49, 58, 33, 68, 55, 105, 145, 51, 141, 303, 75, 53, 104, 85, 69, 81, 48, 61, 59, 98, 141, 114, 68, 190, 75, 72, 70, 45, 87, 55, 68, 94, 43, 86, 164, 205, 68, 40, 54, 172, 81, 43, 129, 375, 110, 124, 191, 22, 23, 80, 46, 58, 41, 127, 66, 61, 86, 85, 108, 89, 67, 432, 390, 188, 171, 45, 33, 25, 87, 34, 75, 44, 90, 60, 390, 58, 110, 66, 71, 125, 375, 92, 43, 354, 42, 48, 35, 30, 32, 31, 104, 116, 120, 47, 184, 51, 72, 121, 68, 137, 78, 173, 145, 21, 45, 48, 41, 110, 38, 38, 38, 109, 198, 160, 56, 259, 25, 29, 93, 307, 63, 133, 39, 35, 57, 162, 37, 105, 376, 42, 39, 84, 36, 78, 59, 65, 167, 84, 41, 66, 89, 26, 35, 57, 31, 107, 94, 92, 152, 59, 36, 77, 62, 135, 152, 42, 66, 49, 132, 39, 96, 96, 83, 226, 59, 188, 108, 67, 87, 93, 61, 95, 134, 47, 39, 72, 56, 108, 63, 77, 446, 72, 184, 210, 45, 38, 246, 69, 127, 116, 21, 40, 210, 36, 94, 184, 37, 78, 48, 40, 68, 51, 58, 69, 82, 192, 71, 29, 58, 154, 46, 76, 102, 33, 55, 49, 93, 88, 152, 64, 55, 27, 84, 68, 45, 109, 31, 168, 32, 67, 150, 182, 104, 83, 92, 23, 119, 77, 61, 30, 186, 33, 34, 36, 38, 87, 70, 77, 48, 201, 50, 72, 165, 69, 51, 62, 101, 66, 37, 80, 107, 90, 184, 51, 42, 77, 144, 232, 71, 36, 50, 93, 53, 117, 97, 59, 39, 82, 189, 43, 84, 66, 30, 58, 44, 58, 21, 70, 74, 302, 44, 54, 144, 59, 36, 78, 59, 261, 38, 237, 80, 54, 76, 21, 33, 31, 108, 81, 43, 57, 114, 48, 33, 78, 62, 94, 87, 115, 61, 37, 69, 118, 75, 102, 58, 73, 58, 31, 51, 36, 148, 41, 35, 29, 46, 37, 59, 35, 118, 184, 346, 114, 61, 175, 39, 142, 310, 69, 65, 61, 99, 168, 51, 91, 32, 250, 117, 88, 66, 51, 185, 108, 214, 54, 76, 90, 110, 42, 80, 92, 62, 136, 60, 41, 45, 107, 374, 239, 36, 37, 35, 119, 59, 152, 71, 43, 189, 262, 36, 41, 396, 90, 63, 30, 150, 58, 69, 31, 72, 97, 34, 89, 38, 78, 60, 143, 104, 37, 136, 129, 286, 88, 85, 29, 113, 23, 40, 48, 53, 88, 189, 143, 34, 58, 55, 25, 78, 41, 46, 114, 35, 74, 98, 64, 43, 320, 53, 28, 76, 157, 50, 73, 59, 63, 191, 60, 128, 36, 102, 123, 54, 50, 71, 37, 57, 60, 192, 429, 77, 46, 50, 46, 70, 51, 67, 59, 41, 31, 29, 36, 137, 101, 40, 60, 63, 84, 140, 96, 65, 91, 18, 267, 292, 110, 31, 34, 37, 76, 111, 95, 181, 109, 43, 33, 304, 39, 211, 138, 100, 117, 122, 94, 85, 43, 97, 75, 500, 129, 170, 207, 188, 38, 171, 61, 92, 48, 96, 74, 55, 63, 218, 54, 49, 84, 147, 34, 146, 96, 186, 134, 127, 59, 49, 157, 108, 80, 500, 39, 69, 299, 82, 111, 65, 117, 22, 158, 141, 19, 33, 81, 32, 31, 31, 153, 161, 45, 52, 181, 50, 132, 98, 104, 78, 109, 72, 30, 56, 32, 148, 47, 86, 187, 61, 103, 107, 47, 141, 39, 87, 91, 190, 138, 50, 79, 81, 30, 78, 102, 69, 77, 97, 64, 160, 140, 40, 20, 349, 58, 62, 149, 47, 47, 44, 32, 26, 151, 72, 89, 110, 79, 124, 248, 40, 95, 78, 55, 103, 71, 87, 101, 69, 112, 38, 129, 50, 80, 110, 98, 162, 56, 113, 286, 293, 68, 73, 56, 59, 31, 57, 50, 39, 39, 245, 50, 38, 86, 135, 65, 45, 152, 44, 88, 107, 63, 57, 70, 61, 69, 137, 172, 71, 81, 107, 32, 54, 67, 42, 500, 168, 42, 156, 158, 117, 58, 59, 70, 50, 46, 138, 47, 500, 46, 48, 52, 53, 56, 62, 85, 65, 82, 61, 116, 52, 45, 32, 147, 27, 48, 21, 67, 119, 145, 39, 43, 46, 86, 51, 91, 68, 53, 59, 115, 16, 101, 96, 15, 76, 53, 210, 76, 31, 29, 70, 115, 135, 500, 84, 203, 71, 124, 181, 220, 52, 113, 74, 98, 92, 75, 112, 181, 136, 351, 53, 156, 45, 170, 29, 37, 70, 65, 53, 123, 26, 119, 500, 50, 46, 88, 136, 44, 52, 168, 86, 32, 85, 114, 44, 32, 77, 111, 59, 209, 112, 67, 108, 48, 92, 52, 51, 230, 82, 146, 189, 43, 57, 103, 132, 38, 63, 27, 309, 73, 166, 32, 90, 98, 142, 36, 98, 131, 347, 449, 55, 170, 80, 52, 128, 194, 80, 72, 85, 43, 63, 109, 94, 35, 70, 51, 108, 23, 50, 114, 40, 50, 84, 29, 79, 67, 213, 93, 68, 102, 293, 120, 40, 49, 100, 67, 52, 163, 70, 80, 57, 42, 270, 50, 121, 56, 23, 59, 50, 84, 189, 29, 196, 95, 67, 164, 63, 132, 114, 44, 68, 60, 39, 44, 70, 65, 120, 59, 64, 138, 90, 54, 86, 45, 57, 94, 42, 108, 64, 100, 65, 103, 93, 43, 51, 110, 63, 87, 108, 76, 76, 66, 97, 55, 56, 244, 56, 46, 199, 210, 140, 91, 56, 39, 30, 69, 72, 36, 280, 29, 195, 69, 38, 167, 249, 93, 53, 62, 211, 30, 34, 179, 423, 134, 50, 36, 83, 37, 76, 73, 341, 500, 65, 59, 52, 171, 73, 45, 191, 180, 52, 118, 44, 149, 158, 83, 97, 79, 58, 155, 70, 93, 37, 75, 193, 104, 157, 54, 47, 66, 121, 84, 81, 110, 52, 117, 96, 28, 39, 48, 43, 107, 85, 271, 145, 48, 56, 33, 30, 35, 212, 130, 107, 78, 54, 64, 500, 33, 350, 324, 51, 79, 80, 154, 44, 162, 198, 50, 69, 40, 313, 78, 59, 105, 117, 80, 105, 90, 48, 60, 35, 38, 31, 200, 70, 26, 69, 128, 137, 106, 50, 111, 102, 268, 55, 93, 212, 33, 58, 134, 63, 34, 52, 32, 61, 363, 96, 101, 261, 184, 57, 68, 37, 135, 105, 104, 59, 117, 38, 45, 40, 148, 93, 78, 119, 41, 72, 99, 46, 44, 172, 131, 60, 133, 176, 109, 77, 36, 141, 29, 46, 89, 49, 109, 80, 59, 99, 58, 29, 53, 256, 194, 36, 61, 84, 130, 95, 28, 90, 34, 81, 205, 68, 83, 111, 84, 164, 99, 62, 48, 90, 63, 48, 135, 105, 65, 31, 180, 96, 320, 234, 80, 192, 84, 72, 74, 38, 278, 69, 59, 98, 76, 58, 27, 89, 86, 37, 97, 64, 79, 36, 167, 34, 83, 66, 153, 62, 89, 96, 61, 25, 33, 91, 31, 500, 96, 52, 115, 42, 78, 83, 86, 126, 27, 32, 24, 49, 39, 42, 51, 45, 65, 99, 41, 72, 76, 139, 75, 85, 32, 48, 62, 156, 37, 79, 143, 103, 61, 56, 109, 70, 74, 137, 79, 129, 154, 436, 99, 62, 60, 87, 106, 33, 200, 191, 168, 51, 30, 94, 64, 35, 99, 68, 74, 76, 122, 61, 92, 53, 64, 131, 62, 56, 157, 57, 44, 50, 52, 87, 70, 82, 142, 34, 500, 50, 110, 58, 20, 47, 63, 180, 87, 116, 48, 68, 118, 55, 36, 280, 40, 56, 51, 78, 34, 58, 42, 64, 93, 49, 108, 48, 102, 100, 123, 37, 108, 89, 105, 120, 54, 174, 70, 61, 71, 80, 87, 59, 483, 85, 69, 83, 67, 45, 29, 147, 96, 91, 55, 93, 249, 76, 27, 79, 61, 28, 39, 122, 77, 44, 96, 60, 60, 53, 58, 143, 67, 44, 30, 44, 55, 183, 105, 32, 192, 167, 72, 76, 38, 176, 63, 166, 161, 45, 123, 160, 73, 53, 72, 43, 24, 175, 74, 40, 373, 54, 63, 49, 146, 107, 39, 29, 99, 60, 104, 150, 58, 53, 43, 98, 182, 72, 96, 86, 66, 88, 222, 135, 63, 54, 73, 119, 296, 263, 216, 68, 65, 110, 361, 68, 45, 93, 52, 50, 89, 140, 72, 148, 68, 50, 42, 76, 71, 122, 83, 30, 104, 117, 25, 55, 45, 164, 52, 75, 210, 98, 77, 61, 56, 39, 33, 86, 139, 88, 57, 41, 97, 59, 39, 47, 51, 130, 53, 50, 41, 71, 83, 78, 49, 125, 112, 155, 40, 29, 243, 60, 68, 62, 219, 132, 74, 46, 96, 71, 114, 237, 57, 49, 69, 147, 77, 133, 55, 81, 151, 133, 99, 178, 71, 26, 136, 69, 46, 103, 184, 100, 113, 91, 82, 44, 83, 131, 37, 65, 137, 100, 52, 103, 76, 68, 147, 87, 26, 87, 91, 111, 152, 84, 96, 65, 88, 63, 55, 228, 113, 70, 41, 141, 137, 73, 87, 99, 122, 52, 131, 78, 94, 57, 67, 329, 69, 43, 53, 38, 43, 81, 62, 102, 136, 151, 44, 103, 48, 35, 65, 121]}],\n",
              "                        {\"bargap\": 0.2, \"bargroupgap\": 0.1, \"barmode\": \"overlay\", \"template\": {\"data\": {\"bar\": [{\"error_x\": {\"color\": \"#2a3f5f\"}, \"error_y\": {\"color\": \"#2a3f5f\"}, \"marker\": {\"line\": {\"color\": \"#E5ECF6\", \"width\": 0.5}}, \"type\": \"bar\"}], \"barpolar\": [{\"marker\": {\"line\": {\"color\": \"#E5ECF6\", \"width\": 0.5}}, \"type\": \"barpolar\"}], \"carpet\": [{\"aaxis\": {\"endlinecolor\": \"#2a3f5f\", \"gridcolor\": \"white\", \"linecolor\": \"white\", \"minorgridcolor\": \"white\", \"startlinecolor\": \"#2a3f5f\"}, \"baxis\": {\"endlinecolor\": \"#2a3f5f\", \"gridcolor\": \"white\", \"linecolor\": \"white\", \"minorgridcolor\": \"white\", \"startlinecolor\": \"#2a3f5f\"}, \"type\": \"carpet\"}], \"choropleth\": [{\"colorbar\": {\"outlinewidth\": 0, \"ticks\": \"\"}, \"type\": \"choropleth\"}], \"contour\": [{\"colorbar\": {\"outlinewidth\": 0, \"ticks\": \"\"}, \"colorscale\": [[0.0, \"#0d0887\"], [0.1111111111111111, \"#46039f\"], [0.2222222222222222, \"#7201a8\"], [0.3333333333333333, \"#9c179e\"], [0.4444444444444444, \"#bd3786\"], [0.5555555555555556, \"#d8576b\"], [0.6666666666666666, \"#ed7953\"], [0.7777777777777778, \"#fb9f3a\"], [0.8888888888888888, \"#fdca26\"], [1.0, \"#f0f921\"]], \"type\": \"contour\"}], \"contourcarpet\": [{\"colorbar\": {\"outlinewidth\": 0, \"ticks\": \"\"}, \"type\": \"contourcarpet\"}], \"heatmap\": [{\"colorbar\": {\"outlinewidth\": 0, \"ticks\": \"\"}, \"colorscale\": [[0.0, \"#0d0887\"], [0.1111111111111111, \"#46039f\"], [0.2222222222222222, \"#7201a8\"], [0.3333333333333333, \"#9c179e\"], [0.4444444444444444, \"#bd3786\"], [0.5555555555555556, \"#d8576b\"], [0.6666666666666666, \"#ed7953\"], [0.7777777777777778, \"#fb9f3a\"], [0.8888888888888888, \"#fdca26\"], [1.0, \"#f0f921\"]], \"type\": \"heatmap\"}], \"heatmapgl\": [{\"colorbar\": {\"outlinewidth\": 0, \"ticks\": \"\"}, \"colorscale\": [[0.0, \"#0d0887\"], [0.1111111111111111, \"#46039f\"], [0.2222222222222222, \"#7201a8\"], [0.3333333333333333, \"#9c179e\"], [0.4444444444444444, \"#bd3786\"], [0.5555555555555556, \"#d8576b\"], [0.6666666666666666, \"#ed7953\"], [0.7777777777777778, \"#fb9f3a\"], [0.8888888888888888, \"#fdca26\"], [1.0, \"#f0f921\"]], \"type\": \"heatmapgl\"}], \"histogram\": [{\"marker\": {\"colorbar\": {\"outlinewidth\": 0, \"ticks\": \"\"}}, \"type\": \"histogram\"}], \"histogram2d\": [{\"colorbar\": {\"outlinewidth\": 0, \"ticks\": \"\"}, \"colorscale\": [[0.0, \"#0d0887\"], [0.1111111111111111, \"#46039f\"], [0.2222222222222222, \"#7201a8\"], [0.3333333333333333, \"#9c179e\"], [0.4444444444444444, \"#bd3786\"], [0.5555555555555556, \"#d8576b\"], [0.6666666666666666, \"#ed7953\"], [0.7777777777777778, \"#fb9f3a\"], [0.8888888888888888, \"#fdca26\"], [1.0, \"#f0f921\"]], \"type\": \"histogram2d\"}], \"histogram2dcontour\": [{\"colorbar\": {\"outlinewidth\": 0, \"ticks\": \"\"}, \"colorscale\": [[0.0, \"#0d0887\"], [0.1111111111111111, \"#46039f\"], [0.2222222222222222, \"#7201a8\"], [0.3333333333333333, \"#9c179e\"], [0.4444444444444444, \"#bd3786\"], [0.5555555555555556, \"#d8576b\"], [0.6666666666666666, \"#ed7953\"], [0.7777777777777778, \"#fb9f3a\"], [0.8888888888888888, \"#fdca26\"], [1.0, \"#f0f921\"]], \"type\": \"histogram2dcontour\"}], \"mesh3d\": [{\"colorbar\": {\"outlinewidth\": 0, \"ticks\": \"\"}, \"type\": \"mesh3d\"}], \"parcoords\": [{\"line\": {\"colorbar\": {\"outlinewidth\": 0, \"ticks\": \"\"}}, \"type\": \"parcoords\"}], \"pie\": [{\"automargin\": true, \"type\": \"pie\"}], \"scatter\": [{\"marker\": {\"colorbar\": {\"outlinewidth\": 0, \"ticks\": \"\"}}, \"type\": \"scatter\"}], \"scatter3d\": [{\"line\": {\"colorbar\": {\"outlinewidth\": 0, \"ticks\": \"\"}}, \"marker\": {\"colorbar\": {\"outlinewidth\": 0, \"ticks\": \"\"}}, \"type\": \"scatter3d\"}], \"scattercarpet\": [{\"marker\": {\"colorbar\": {\"outlinewidth\": 0, \"ticks\": \"\"}}, \"type\": \"scattercarpet\"}], \"scattergeo\": [{\"marker\": {\"colorbar\": {\"outlinewidth\": 0, \"ticks\": \"\"}}, \"type\": \"scattergeo\"}], \"scattergl\": [{\"marker\": {\"colorbar\": {\"outlinewidth\": 0, \"ticks\": \"\"}}, \"type\": \"scattergl\"}], \"scattermapbox\": [{\"marker\": {\"colorbar\": {\"outlinewidth\": 0, \"ticks\": \"\"}}, \"type\": \"scattermapbox\"}], \"scatterpolar\": [{\"marker\": {\"colorbar\": {\"outlinewidth\": 0, \"ticks\": \"\"}}, \"type\": \"scatterpolar\"}], \"scatterpolargl\": [{\"marker\": {\"colorbar\": {\"outlinewidth\": 0, \"ticks\": \"\"}}, \"type\": \"scatterpolargl\"}], \"scatterternary\": [{\"marker\": {\"colorbar\": {\"outlinewidth\": 0, \"ticks\": \"\"}}, \"type\": \"scatterternary\"}], \"surface\": [{\"colorbar\": {\"outlinewidth\": 0, \"ticks\": \"\"}, \"colorscale\": [[0.0, \"#0d0887\"], [0.1111111111111111, \"#46039f\"], [0.2222222222222222, \"#7201a8\"], [0.3333333333333333, \"#9c179e\"], [0.4444444444444444, \"#bd3786\"], [0.5555555555555556, \"#d8576b\"], [0.6666666666666666, \"#ed7953\"], [0.7777777777777778, \"#fb9f3a\"], [0.8888888888888888, \"#fdca26\"], [1.0, \"#f0f921\"]], \"type\": \"surface\"}], \"table\": [{\"cells\": {\"fill\": {\"color\": \"#EBF0F8\"}, \"line\": {\"color\": \"white\"}}, \"header\": {\"fill\": {\"color\": \"#C8D4E3\"}, \"line\": {\"color\": \"white\"}}, \"type\": \"table\"}]}, \"layout\": {\"annotationdefaults\": {\"arrowcolor\": \"#2a3f5f\", \"arrowhead\": 0, \"arrowwidth\": 1}, \"coloraxis\": {\"colorbar\": {\"outlinewidth\": 0, \"ticks\": \"\"}}, \"colorscale\": {\"diverging\": [[0, \"#8e0152\"], [0.1, \"#c51b7d\"], [0.2, \"#de77ae\"], [0.3, \"#f1b6da\"], [0.4, \"#fde0ef\"], [0.5, \"#f7f7f7\"], [0.6, \"#e6f5d0\"], [0.7, \"#b8e186\"], [0.8, \"#7fbc41\"], [0.9, \"#4d9221\"], [1, \"#276419\"]], \"sequential\": [[0.0, \"#0d0887\"], [0.1111111111111111, \"#46039f\"], [0.2222222222222222, \"#7201a8\"], [0.3333333333333333, \"#9c179e\"], [0.4444444444444444, \"#bd3786\"], [0.5555555555555556, \"#d8576b\"], [0.6666666666666666, \"#ed7953\"], [0.7777777777777778, \"#fb9f3a\"], [0.8888888888888888, \"#fdca26\"], [1.0, \"#f0f921\"]], \"sequentialminus\": [[0.0, \"#0d0887\"], [0.1111111111111111, \"#46039f\"], [0.2222222222222222, \"#7201a8\"], [0.3333333333333333, \"#9c179e\"], [0.4444444444444444, \"#bd3786\"], [0.5555555555555556, \"#d8576b\"], [0.6666666666666666, \"#ed7953\"], [0.7777777777777778, \"#fb9f3a\"], [0.8888888888888888, \"#fdca26\"], [1.0, \"#f0f921\"]]}, \"colorway\": [\"#636efa\", \"#EF553B\", \"#00cc96\", \"#ab63fa\", \"#FFA15A\", \"#19d3f3\", \"#FF6692\", \"#B6E880\", \"#FF97FF\", \"#FECB52\"], \"font\": {\"color\": \"#2a3f5f\"}, \"geo\": {\"bgcolor\": \"white\", \"lakecolor\": \"white\", \"landcolor\": \"#E5ECF6\", \"showlakes\": true, \"showland\": true, \"subunitcolor\": \"white\"}, \"hoverlabel\": {\"align\": \"left\"}, \"hovermode\": \"closest\", \"mapbox\": {\"style\": \"light\"}, \"paper_bgcolor\": \"white\", \"plot_bgcolor\": \"#E5ECF6\", \"polar\": {\"angularaxis\": {\"gridcolor\": \"white\", \"linecolor\": \"white\", \"ticks\": \"\"}, \"bgcolor\": \"#E5ECF6\", \"radialaxis\": {\"gridcolor\": \"white\", \"linecolor\": \"white\", \"ticks\": \"\"}}, \"scene\": {\"xaxis\": {\"backgroundcolor\": \"#E5ECF6\", \"gridcolor\": \"white\", \"gridwidth\": 2, \"linecolor\": \"white\", \"showbackground\": true, \"ticks\": \"\", \"zerolinecolor\": \"white\"}, \"yaxis\": {\"backgroundcolor\": \"#E5ECF6\", \"gridcolor\": \"white\", \"gridwidth\": 2, \"linecolor\": \"white\", \"showbackground\": true, \"ticks\": \"\", \"zerolinecolor\": \"white\"}, \"zaxis\": {\"backgroundcolor\": \"#E5ECF6\", \"gridcolor\": \"white\", \"gridwidth\": 2, \"linecolor\": \"white\", \"showbackground\": true, \"ticks\": \"\", \"zerolinecolor\": \"white\"}}, \"shapedefaults\": {\"line\": {\"color\": \"#2a3f5f\"}}, \"ternary\": {\"aaxis\": {\"gridcolor\": \"white\", \"linecolor\": \"white\", \"ticks\": \"\"}, \"baxis\": {\"gridcolor\": \"white\", \"linecolor\": \"white\", \"ticks\": \"\"}, \"bgcolor\": \"#E5ECF6\", \"caxis\": {\"gridcolor\": \"white\", \"linecolor\": \"white\", \"ticks\": \"\"}}, \"title\": {\"x\": 0.05}, \"xaxis\": {\"automargin\": true, \"gridcolor\": \"white\", \"linecolor\": \"white\", \"ticks\": \"\", \"title\": {\"standoff\": 15}, \"zerolinecolor\": \"white\", \"zerolinewidth\": 2}, \"yaxis\": {\"automargin\": true, \"gridcolor\": \"white\", \"linecolor\": \"white\", \"ticks\": \"\", \"title\": {\"standoff\": 15}, \"zerolinecolor\": \"white\", \"zerolinewidth\": 2}}}, \"title\": {\"text\": \"Number of words in post\"}, \"xaxis\": {\"title\": {\"text\": \"Value\"}}, \"yaxis\": {\"title\": {\"text\": \"Count\"}}},\n",
              "                        {\"responsive\": true}\n",
              "                    ).then(function(){\n",
              "                            \n",
              "var gd = document.getElementById('461fecb0-bd60-4ede-b82e-0d6fe83d8153');\n",
              "var x = new MutationObserver(function (mutations, observer) {{\n",
              "        var display = window.getComputedStyle(gd).display;\n",
              "        if (!display || display === 'none') {{\n",
              "            console.log([gd, 'removed!']);\n",
              "            Plotly.purge(gd);\n",
              "            observer.disconnect();\n",
              "        }}\n",
              "}});\n",
              "\n",
              "// Listen for the removal of the full notebook cells\n",
              "var notebookContainer = gd.closest('#notebook-container');\n",
              "if (notebookContainer) {{\n",
              "    x.observe(notebookContainer, {childList: true});\n",
              "}}\n",
              "\n",
              "// Listen for the clearing of the current output cell\n",
              "var outputEl = gd.closest('.output');\n",
              "if (outputEl) {{\n",
              "    x.observe(outputEl, {childList: true});\n",
              "}}\n",
              "\n",
              "                        })\n",
              "                };\n",
              "                \n",
              "            </script>\n",
              "        </div>\n",
              "</body>\n",
              "</html>"
            ]
          },
          "metadata": {
            "tags": []
          },
          "output_type": "display_data"
        }
      ],
      "source": [
        "fig = go.Figure()\n",
        "fig.add_trace(go.Histogram(x=high, histfunc='avg', name=\"HQ\", opacity=0.6, histnorm='probability density'))\n",
        "fig.add_trace(go.Histogram(x=low_open, histfunc='avg', name=\"LQ_EDIT\", opacity=0.6, histnorm='probability density'))\n",
        "fig.add_trace(go.Histogram(x=low_closed, histfunc='avg', name=\"LQ_CLOSE\", opacity=0.6, histnorm='probability density'))\n",
        "\n",
        "fig.update_layout(\n",
        "    title_text='Number of words in post', # title of plot\n",
        "    xaxis_title_text='Value', # xaxis label\n",
        "    yaxis_title_text='Count', # yaxis label\n",
        "    bargap=0.2,\n",
        "    bargroupgap=0.1,\n",
        "    barmode='overlay'\n",
        ")\n",
        "fig.show()"
      ]
    },
    {
      "cell_type": "code",
      "execution_count": 17,
      "metadata": {
        "colab": {
          "base_uri": "https://localhost:8080/",
          "height": 206
        },
        "id": "e9Ov49hx6hGi",
        "outputId": "8cc69f98-04ce-40d0-c0c4-4df09cc84999"
      },
      "outputs": [
        {
          "data": {
            "text/html": [
              "<div>\n",
              "<style scoped>\n",
              "    .dataframe tbody tr th:only-of-type {\n",
              "        vertical-align: middle;\n",
              "    }\n",
              "\n",
              "    .dataframe tbody tr th {\n",
              "        vertical-align: top;\n",
              "    }\n",
              "\n",
              "    .dataframe thead th {\n",
              "        text-align: right;\n",
              "    }\n",
              "</style>\n",
              "<table border=\"1\" class=\"dataframe\">\n",
              "  <thead>\n",
              "    <tr style=\"text-align: right;\">\n",
              "      <th></th>\n",
              "      <th>Title</th>\n",
              "      <th>Body</th>\n",
              "      <th>Tags</th>\n",
              "      <th>CreationDate</th>\n",
              "      <th>Y</th>\n",
              "    </tr>\n",
              "  </thead>\n",
              "  <tbody>\n",
              "    <tr>\n",
              "      <th>0</th>\n",
              "      <td>Java: Repeat Task Every Random Seconds</td>\n",
              "      <td>&lt;p&gt;I'm already familiar with repeating tasks e...</td>\n",
              "      <td>&lt;java&gt;&lt;repeat&gt;</td>\n",
              "      <td>2016-01-01 00:21:59</td>\n",
              "      <td>0</td>\n",
              "    </tr>\n",
              "    <tr>\n",
              "      <th>1</th>\n",
              "      <td>Why are Java Optionals immutable?</td>\n",
              "      <td>&lt;p&gt;I'd like to understand why Java 8 Optionals...</td>\n",
              "      <td>&lt;java&gt;&lt;optional&gt;</td>\n",
              "      <td>2016-01-01 02:03:20</td>\n",
              "      <td>2</td>\n",
              "    </tr>\n",
              "    <tr>\n",
              "      <th>2</th>\n",
              "      <td>Text Overlay Image with Darkened Opacity React...</td>\n",
              "      <td>&lt;p&gt;I am attempting to overlay a title over an ...</td>\n",
              "      <td>&lt;javascript&gt;&lt;image&gt;&lt;overlay&gt;&lt;react-native&gt;&lt;opa...</td>\n",
              "      <td>2016-01-01 02:48:24</td>\n",
              "      <td>2</td>\n",
              "    </tr>\n",
              "    <tr>\n",
              "      <th>3</th>\n",
              "      <td>Why ternary operator in swift is so picky?</td>\n",
              "      <td>&lt;p&gt;The question is very simple, but I just cou...</td>\n",
              "      <td>&lt;swift&gt;&lt;operators&gt;&lt;whitespace&gt;&lt;ternary-operato...</td>\n",
              "      <td>2016-01-01 03:30:17</td>\n",
              "      <td>2</td>\n",
              "    </tr>\n",
              "    <tr>\n",
              "      <th>4</th>\n",
              "      <td>hide/show fab with scale animation</td>\n",
              "      <td>&lt;p&gt;I'm using custom floatingactionmenu. I need...</td>\n",
              "      <td>&lt;android&gt;&lt;material-design&gt;&lt;floating-action-but...</td>\n",
              "      <td>2016-01-01 05:21:48</td>\n",
              "      <td>2</td>\n",
              "    </tr>\n",
              "  </tbody>\n",
              "</table>\n",
              "</div>"
            ],
            "text/plain": [
              "                                               Title  ...  Y\n",
              "0             Java: Repeat Task Every Random Seconds  ...  0\n",
              "1                  Why are Java Optionals immutable?  ...  2\n",
              "2  Text Overlay Image with Darkened Opacity React...  ...  2\n",
              "3         Why ternary operator in swift is so picky?  ...  2\n",
              "4                 hide/show fab with scale animation  ...  2\n",
              "\n",
              "[5 rows x 5 columns]"
            ]
          },
          "execution_count": 17,
          "metadata": {
            "tags": []
          },
          "output_type": "execute_result"
        }
      ],
      "source": [
        "dummy_data = df[['Title','Body','Tags','CreationDate','Y']]\n",
        "dummy_data['Y'] = dummy_data['Y'].map({'LQ_CLOSE':0, 'LQ_EDIT': 1, 'HQ':2})\n",
        "dummy_data.head()"
      ]
    },
    {
      "cell_type": "markdown",
      "metadata": {
        "id": "eBq-vrXFU9R0"
      },
      "source": [
        "## 4. Print the shapes of train and test data.\n"
      ]
    },
    {
      "cell_type": "code",
      "execution_count": 18,
      "metadata": {
        "colab": {
          "base_uri": "https://localhost:8080/"
        },
        "id": "x8QG0tdZZrNz",
        "outputId": "3ce53bdf-a114-41c0-e10f-5e6ab7f09792"
      },
      "outputs": [
        {
          "name": "stdout",
          "output_type": "stream",
          "text": [
            "(36000, 5)\n",
            "(9000, 5)\n"
          ]
        }
      ],
      "source": [
        "# Print the shapes of train and test data \n",
        "train, test = train_test_split(dummy_data, test_size=0.2)\n",
        "print(train.shape)\n",
        "print(test.shape)"
      ]
    },
    {
      "cell_type": "code",
      "execution_count": 19,
      "metadata": {
        "colab": {
          "base_uri": "https://localhost:8080/",
          "height": 206
        },
        "id": "Nd4BLi3VoQEQ",
        "outputId": "0d284222-650c-43a1-f434-bcb1c41cee39"
      },
      "outputs": [
        {
          "data": {
            "text/html": [
              "<div>\n",
              "<style scoped>\n",
              "    .dataframe tbody tr th:only-of-type {\n",
              "        vertical-align: middle;\n",
              "    }\n",
              "\n",
              "    .dataframe tbody tr th {\n",
              "        vertical-align: top;\n",
              "    }\n",
              "\n",
              "    .dataframe thead th {\n",
              "        text-align: right;\n",
              "    }\n",
              "</style>\n",
              "<table border=\"1\" class=\"dataframe\">\n",
              "  <thead>\n",
              "    <tr style=\"text-align: right;\">\n",
              "      <th></th>\n",
              "      <th>Title</th>\n",
              "      <th>Body</th>\n",
              "      <th>Tags</th>\n",
              "      <th>CreationDate</th>\n",
              "      <th>Y</th>\n",
              "    </tr>\n",
              "  </thead>\n",
              "  <tbody>\n",
              "    <tr>\n",
              "      <th>37874</th>\n",
              "      <td>Dictionary&lt;string, object&gt; to Dictionary&lt;strin...</td>\n",
              "      <td>&lt;p&gt;I'm currently working on a .NET Framework 4...</td>\n",
              "      <td>&lt;c#&gt;&lt;linq&gt;</td>\n",
              "      <td>2019-01-11 12:41:45</td>\n",
              "      <td>0</td>\n",
              "    </tr>\n",
              "    <tr>\n",
              "      <th>14202</th>\n",
              "      <td>Maven JAR Plugin 3.0.2 Error: You have to use ...</td>\n",
              "      <td>&lt;p&gt;Maven JAR plugin (version 3.0.2) keeps thro...</td>\n",
              "      <td>&lt;java&gt;&lt;maven&gt;&lt;jar&gt;&lt;maven-jar-plugin&gt;</td>\n",
              "      <td>2016-12-04 22:32:28</td>\n",
              "      <td>2</td>\n",
              "    </tr>\n",
              "    <tr>\n",
              "      <th>4788</th>\n",
              "      <td>Django Models - Retreiving multiple items and ...</td>\n",
              "      <td>I am trying to retrieve multiple records from ...</td>\n",
              "      <td>&lt;django&gt;&lt;django-models&gt;</td>\n",
              "      <td>2016-04-15 08:31:13</td>\n",
              "      <td>1</td>\n",
              "    </tr>\n",
              "    <tr>\n",
              "      <th>18147</th>\n",
              "      <td>C++ alternative virtual typedef without templates</td>\n",
              "      <td>As many (relatively new?) users of C++, I woul...</td>\n",
              "      <td>&lt;c++&gt;&lt;templates&gt;&lt;inheritance&gt;&lt;iterator&gt;</td>\n",
              "      <td>2017-03-11 19:14:31</td>\n",
              "      <td>1</td>\n",
              "    </tr>\n",
              "    <tr>\n",
              "      <th>2998</th>\n",
              "      <td>typescript - can tsc be run against an entire ...</td>\n",
              "      <td>&lt;p&gt;I'm pretty surprised this isn't in the docs...</td>\n",
              "      <td>&lt;typescript&gt;</td>\n",
              "      <td>2016-03-01 21:56:06</td>\n",
              "      <td>2</td>\n",
              "    </tr>\n",
              "  </tbody>\n",
              "</table>\n",
              "</div>"
            ],
            "text/plain": [
              "                                                   Title  ...  Y\n",
              "37874  Dictionary<string, object> to Dictionary<strin...  ...  0\n",
              "14202  Maven JAR Plugin 3.0.2 Error: You have to use ...  ...  2\n",
              "4788   Django Models - Retreiving multiple items and ...  ...  1\n",
              "18147  C++ alternative virtual typedef without templates  ...  1\n",
              "2998   typescript - can tsc be run against an entire ...  ...  2\n",
              "\n",
              "[5 rows x 5 columns]"
            ]
          },
          "execution_count": 19,
          "metadata": {
            "tags": []
          },
          "output_type": "execute_result"
        }
      ],
      "source": [
        "train.head()"
      ]
    },
    {
      "cell_type": "markdown",
      "metadata": {
        "id": "5K0eAvTc6bl8"
      },
      "source": [
        "# Data Pre-processing\n",
        "\n",
        "1. Need for this Step - Since the models we use cannot accept string inputs or cannot be of the string format. We have to come up with a way of handling this step. The discussion of different ways of handling this step is out of the scope of this assignment.\n",
        "2. Please use this pre-trained embedding layer (Links to an external site.) from TensorFlow hub for this assignment. This link also has a code snippet on how to convert a sentence to a vector. Refer to that for further clarity on this subject.\n",
        "3. Bring the train and test data in the required format."
      ]
    },
    {
      "cell_type": "markdown",
      "metadata": {
        "id": "L4Oh9LxjVRb2"
      },
      "source": [
        "## 1.Need for this Step - Since the models we use cannot accept string inputs or cannot be of the string format. We have to come up with a way of handling this step. The discussion of different ways of handling this step is out of the scope of this assignment."
      ]
    },
    {
      "cell_type": "markdown",
      "metadata": {
        "id": "mWfkM_vbcJ8c"
      },
      "source": [
        "Input Preprocessing Handling\n",
        "\n",
        "1. The column CreationDate is not relevant to the Label Y, so we can drop that column.\n",
        "\n",
        "2. The Columns title, body and tags can be related to Label Y stating the movie reviews are High Quality, Low Quality requires editing, Low Quality Closed.\n",
        "\n",
        "3. These 3 features can be recognized by 3 layers with atmost accuracy by Neural Networks but these string have to be embedded to provide them as input.\n",
        "\n",
        "**Naive Approach** - combine the 3 feature string and embed the single string.\n",
        "\n",
        "**Weighted Approach** - Body give detailed information of Quality of edit when compared to Title and Tag, Tag can be Grouped to check whether Quality is getting Low or High for particular tagged reviews only, Title which represents an identity for the Body can provide very low information on Quality of review. So more wieght can be given to Body, Lesser weightage to Tag and More lesser weightage to Title during Encoding or word embedding.\n",
        "\n",
        "**Simplified Approach** - Use only Body Test and Label 'Y' Column, use embeding to embed the Body text into numeric values as it is more relevant.\n",
        "\n",
        "We have only used \"Body\" content for embedding and training of Neural Network. Embedding is done with the help of nnlm-en-dim128 google model as recommended.\n"
      ]
    },
    {
      "cell_type": "markdown",
      "metadata": {
        "id": "n2Sen1I9VXYV"
      },
      "source": [
        "## 2. Please use this pre-trained embedding layer (Links to an external site.) from TensorFlow hub for this assignment. This link also has a code snippet on how to convert a sentence to a vector. Refer to that for further clarity on this subject."
      ]
    },
    {
      "cell_type": "code",
      "execution_count": 20,
      "metadata": {
        "id": "1VIOTh4gaELx"
      },
      "outputs": [],
      "source": [
        "# embedding = hub.KerasLayer(\"https://tfhub.dev/google/nnlm-en-dim128/1\")\n",
        "hub_layer = hub.KerasLayer(\"https://tfhub.dev/google/nnlm-en-dim128/2\", input_shape=[], dtype=tf.string, trainable=True)"
      ]
    },
    {
      "cell_type": "markdown",
      "metadata": {
        "id": "Nr2Xvn0LVgpY"
      },
      "source": [
        "## 3. Bring the train and test data in the required format."
      ]
    },
    {
      "cell_type": "code",
      "execution_count": 21,
      "metadata": {
        "id": "S_-bKLwxZv29"
      },
      "outputs": [],
      "source": [
        "from keras.utils import np_utils\n",
        "x_train = train['Body'].to_numpy()\n",
        "y_train = np_utils.to_categorical(train['Y'])\n",
        "\n",
        "x_test = test['Body'].to_numpy()\n",
        "y_test = np_utils.to_categorical(test['Y'])"
      ]
    },
    {
      "cell_type": "code",
      "execution_count": 22,
      "metadata": {
        "id": "KaR2CNVnaIKR"
      },
      "outputs": [],
      "source": [
        "train_ds = tf.data.Dataset.from_tensor_slices((x_train, y_train))\n",
        "test_ds = tf.data.Dataset.from_tensor_slices((x_test, y_test))"
      ]
    },
    {
      "cell_type": "markdown",
      "metadata": {
        "id": "X8bNx1AH6iBG"
      },
      "source": [
        "# Model Building\n",
        "\n",
        "1. Sequential Model layers- Use AT LEAST 3 hidden layers with appropriate input for each. Choose the best number for hidden units and give reasons.\n",
        "2. Add L2 regularization to all the layers.\n",
        "3. Add one layer of dropout at the appropriate position and give reasons.\n",
        "4. Choose the appropriate activation function for all the layers.\n",
        "5. Print the model summary.\n"
      ]
    },
    {
      "cell_type": "code",
      "execution_count": 38,
      "metadata": {
        "colab": {
          "base_uri": "https://localhost:8080/"
        },
        "id": "Kc3II3PLz1rm",
        "outputId": "7aa40b5f-5e54-4682-859f-5344321d6439"
      },
      "outputs": [
        {
          "data": {
            "text/plain": [
              "7484"
            ]
          },
          "execution_count": 38,
          "metadata": {
            "tags": []
          },
          "output_type": "execute_result"
        }
      ],
      "source": [
        "import gc\n",
        "tf.keras.backend.clear_session()\n",
        "gc.collect()"
      ]
    },
    {
      "cell_type": "code",
      "execution_count": 39,
      "metadata": {
        "colab": {
          "base_uri": "https://localhost:8080/"
        },
        "id": "utzOedhQZIXx",
        "outputId": "e57e4785-6c4f-4f5b-a976-6be1f60f5f29"
      },
      "outputs": [
        {
          "name": "stdout",
          "output_type": "stream",
          "text": [
            "WARNING:tensorflow:Please add `keras.layers.InputLayer` instead of `keras.Input` to Sequential model. `keras.Input` is intended to be used by Functional model.\n"
          ]
        },
        {
          "name": "stderr",
          "output_type": "stream",
          "text": [
            "WARNING:tensorflow:Please add `keras.layers.InputLayer` instead of `keras.Input` to Sequential model. `keras.Input` is intended to be used by Functional model.\n"
          ]
        },
        {
          "name": "stdout",
          "output_type": "stream",
          "text": [
            "Model: \"sequential\"\n",
            "_________________________________________________________________\n",
            "Layer (type)                 Output Shape              Param #   \n",
            "=================================================================\n",
            "keras_layer (KerasLayer)     (None, 128)               124642688 \n",
            "_________________________________________________________________\n",
            "dense (Dense)                (None, 64)                8256      \n",
            "_________________________________________________________________\n",
            "dropout (Dropout)            (None, 64)                0         \n",
            "_________________________________________________________________\n",
            "dense_1 (Dense)              (None, 24)                1560      \n",
            "_________________________________________________________________\n",
            "dense_2 (Dense)              (None, 3)                 75        \n",
            "=================================================================\n",
            "Total params: 124,652,579\n",
            "Trainable params: 124,652,579\n",
            "Non-trainable params: 0\n",
            "_________________________________________________________________\n"
          ]
        }
      ],
      "source": [
        "model = tf.keras.Sequential()\n",
        "model.add(tf.keras.layers.Input(shape=(), name=\"Input\", dtype=tf.string))\n",
        "model.add(hub_layer)\n",
        "model.add(tf.keras.layers.Dense(64, activation='relu', kernel_regularizer=tf.keras.regularizers.l2(l=0.1)))\n",
        "model.add(tf.keras.layers.Dropout(0.5))\n",
        "model.add(tf.keras.layers.Dense(24, activation='relu', kernel_regularizer=tf.keras.regularizers.l2(l=0.1)))\n",
        "model.add(tf.keras.layers.Dense(3, activation='softmax'))\n",
        "\n",
        "model.summary()"
      ]
    },
    {
      "cell_type": "markdown",
      "metadata": {
        "id": "mSOaBDIpbBHb"
      },
      "source": [
        "**Reason for choosing Hidden units:**\n",
        "\n",
        "| Number of Hidden Layers | Result |\n",
        "\n",
        " 0 - Only capable of representing linear separable functions or decisions.\n",
        "\n",
        " 1 - Can approximate any function that contains a continuous mapping\n",
        "from one finite space to another.\n",
        "\n",
        " 2 - Can represent an arbitrary decision boundary to arbitrary accuracy\n",
        "with rational activation functions and can approximate any smooth\n",
        "mapping to any accuracy.\n",
        "\n",
        "There are many rule-of-thumb methods for determining the correct number of neurons to use in the hidden layers, such as the following:\n",
        "\n",
        "1. The number of hidden neurons should be between the size of the input layer and the size of the output layer.<br>\n",
        "2. <b>The number of hidden neurons should be 2/3 the size of the input layer, plus the size of the output layer.</b><br>\n",
        "3. The number of hidden neurons should be less than twice the size of the input layer.\n",
        "\n",
        "Using these 3 formulas.<br> \n",
        "Getting values ~ 64 and 24 for the 2 hidden layers."
      ]
    },
    {
      "cell_type": "markdown",
      "metadata": {
        "id": "7j6VCQRJbIUF"
      },
      "source": [
        "**Reason for putting dropout just after the pre-trained vector.**\n",
        "\n",
        "Usually, dropout is placed on the fully connected layers only because they are the one with the greater number of parameters and thus they're likely to excessively co-adapting themselves causing overfitting"
      ]
    },
    {
      "cell_type": "markdown",
      "metadata": {
        "id": "wK1O__9WbK9q"
      },
      "source": [
        "**Choice of Activation functions:**\n",
        "\n",
        "We have used relu, in all the hidden layers because rectified linear activation function overcomes the vanishing gradient problem, allowing models to learn faster and perform better.\n",
        "\n",
        "In the output layer, we want Multiclass classification output so we have used softmax."
      ]
    },
    {
      "cell_type": "markdown",
      "metadata": {
        "id": "G6JDOKuO6p3Y"
      },
      "source": [
        "# Model Compilation\n",
        "\n",
        "1. Compile the model with the appropriate loss function.\n",
        "2. Use an appropriate optimizer. Give reasons for the choice of learning rate and its value.\n",
        "3. Use accuracy as a metric.\n"
      ]
    },
    {
      "cell_type": "code",
      "execution_count": 40,
      "metadata": {
        "id": "kFaXQJPR6uuM"
      },
      "outputs": [],
      "source": [
        "model.compile(optimizer='adam',\n",
        "              loss='categorical_crossentropy',\n",
        "              metrics=['categorical_accuracy'])"
      ]
    },
    {
      "cell_type": "markdown",
      "metadata": {
        "id": "qVZshAN7coJx"
      },
      "source": [
        "We are choosing Adam Optimizer.\n",
        "\n",
        "Adam is a replacement optimization algorithm for stochastic gradient descent for training deep learning models. Adam combines the best properties of the AdaGrad and RMSProp algorithms to provide an optimization algorithm that can handle sparse gradients on noisy problems. <b> This algorithm is used to accelerate the gradient descent algorithm by taking into consideration the 'exponentially weighted average' of the gradients. Using averages makes the algorithm converge towards the minima in a faster pace </b>\n",
        "\n",
        "<br>\n",
        "\n",
        "<b>Adam is and adaptive optimizer, and it learns the learning rates itself, on a per-parameter basis. So we are not specifying learning rate. Tried out learning rate 0.01 and 0.0001 but default value 0.001 works better, so sticked with it."
      ]
    },
    {
      "cell_type": "markdown",
      "metadata": {
        "id": "tkeuOgBV6xWC"
      },
      "source": [
        "# Model Training\n",
        "\n",
        "1. Train the model for an appropriate number of epochs. Print the train and validation accuracy and loss for each epoch. Use the appropriate batch size.\n",
        "2. Plot the loss and accuracy history graphs for both train and validation set. Print the total time taken for training.\n"
      ]
    },
    {
      "cell_type": "code",
      "execution_count": 41,
      "metadata": {
        "colab": {
          "base_uri": "https://localhost:8080/"
        },
        "id": "1j5Pm7O260Uw",
        "outputId": "2f52ef83-1733-49fb-ae64-6b086baad788"
      },
      "outputs": [
        {
          "name": "stdout",
          "output_type": "stream",
          "text": [
            "Epoch 1/20\n",
            "18/18 [==============================] - 3s 130ms/step - loss: 11.6158 - categorical_accuracy: 0.5014 - val_loss: 9.9994 - val_categorical_accuracy: 0.7390\n",
            "Epoch 2/20\n",
            "18/18 [==============================] - 2s 123ms/step - loss: 8.8105 - categorical_accuracy: 0.7001 - val_loss: 7.5864 - val_categorical_accuracy: 0.7824\n",
            "Epoch 3/20\n",
            "18/18 [==============================] - 2s 121ms/step - loss: 6.6887 - categorical_accuracy: 0.7562 - val_loss: 5.7782 - val_categorical_accuracy: 0.8001\n",
            "Epoch 4/20\n",
            "18/18 [==============================] - 2s 122ms/step - loss: 5.0880 - categorical_accuracy: 0.7968 - val_loss: 4.4243 - val_categorical_accuracy: 0.8058\n",
            "Epoch 5/20\n",
            "18/18 [==============================] - 2s 123ms/step - loss: 3.8946 - categorical_accuracy: 0.8275 - val_loss: 3.4183 - val_categorical_accuracy: 0.8079\n",
            "Epoch 6/20\n",
            "18/18 [==============================] - 2s 121ms/step - loss: 3.0035 - categorical_accuracy: 0.8520 - val_loss: 2.6752 - val_categorical_accuracy: 0.8077\n",
            "Epoch 7/20\n",
            "18/18 [==============================] - 2s 121ms/step - loss: 2.3391 - categorical_accuracy: 0.8669 - val_loss: 2.1287 - val_categorical_accuracy: 0.8084\n",
            "Epoch 8/20\n",
            "18/18 [==============================] - 2s 122ms/step - loss: 1.8491 - categorical_accuracy: 0.8758 - val_loss: 1.7266 - val_categorical_accuracy: 0.8093\n",
            "Epoch 9/20\n",
            "18/18 [==============================] - 2s 122ms/step - loss: 1.4854 - categorical_accuracy: 0.8860 - val_loss: 1.4332 - val_categorical_accuracy: 0.8100\n",
            "Epoch 10/20\n",
            "18/18 [==============================] - 2s 120ms/step - loss: 1.2213 - categorical_accuracy: 0.8894 - val_loss: 1.2203 - val_categorical_accuracy: 0.8124\n",
            "Epoch 11/20\n",
            "18/18 [==============================] - 2s 123ms/step - loss: 1.0265 - categorical_accuracy: 0.8972 - val_loss: 1.0669 - val_categorical_accuracy: 0.8104\n",
            "Epoch 12/20\n",
            "18/18 [==============================] - 2s 124ms/step - loss: 0.8849 - categorical_accuracy: 0.8996 - val_loss: 0.9557 - val_categorical_accuracy: 0.8133\n",
            "Epoch 13/20\n",
            "18/18 [==============================] - 2s 121ms/step - loss: 0.7809 - categorical_accuracy: 0.9044 - val_loss: 0.8751 - val_categorical_accuracy: 0.8131\n",
            "Epoch 14/20\n",
            "18/18 [==============================] - 2s 122ms/step - loss: 0.7044 - categorical_accuracy: 0.9065 - val_loss: 0.8173 - val_categorical_accuracy: 0.8127\n",
            "Epoch 15/20\n",
            "18/18 [==============================] - 2s 124ms/step - loss: 0.6479 - categorical_accuracy: 0.9086 - val_loss: 0.7747 - val_categorical_accuracy: 0.8127\n",
            "Epoch 16/20\n",
            "18/18 [==============================] - 2s 121ms/step - loss: 0.6052 - categorical_accuracy: 0.9111 - val_loss: 0.7430 - val_categorical_accuracy: 0.8139\n",
            "Epoch 17/20\n",
            "18/18 [==============================] - 2s 120ms/step - loss: 0.5708 - categorical_accuracy: 0.9132 - val_loss: 0.7196 - val_categorical_accuracy: 0.8133\n",
            "Epoch 18/20\n",
            "18/18 [==============================] - 2s 123ms/step - loss: 0.5453 - categorical_accuracy: 0.9154 - val_loss: 0.7019 - val_categorical_accuracy: 0.8129\n",
            "Epoch 19/20\n",
            "18/18 [==============================] - 2s 123ms/step - loss: 0.5258 - categorical_accuracy: 0.9158 - val_loss: 0.6889 - val_categorical_accuracy: 0.8121\n",
            "Epoch 20/20\n",
            "18/18 [==============================] - 2s 121ms/step - loss: 0.5083 - categorical_accuracy: 0.9186 - val_loss: 0.6791 - val_categorical_accuracy: 0.8116\n"
          ]
        }
      ],
      "source": [
        "import time\n",
        "\n",
        "t= time.time()\n",
        "history = model.fit(train_ds.batch(2000),epochs=20,validation_data=test_ds.batch(2000),verbose=1)\n",
        "t = time.time()-t"
      ]
    },
    {
      "cell_type": "code",
      "execution_count": 42,
      "metadata": {
        "colab": {
          "base_uri": "https://localhost:8080/"
        },
        "id": "ryr4iFIselZr",
        "outputId": "c28ff4a9-ff77-46e2-ab50-5dc8b76b6d39"
      },
      "outputs": [
        {
          "name": "stdout",
          "output_type": "stream",
          "text": [
            "Time taken to train: 49.10317039489746\n"
          ]
        }
      ],
      "source": [
        "print('Time taken to train: {}'.format(t))"
      ]
    },
    {
      "cell_type": "code",
      "execution_count": 43,
      "metadata": {
        "colab": {
          "base_uri": "https://localhost:8080/"
        },
        "id": "APGWiW3Ceowi",
        "outputId": "60c94dc7-9744-4601-8af4-810df129ae2c"
      },
      "outputs": [
        {
          "data": {
            "text/plain": [
              "dict_keys(['loss', 'categorical_accuracy', 'val_loss', 'val_categorical_accuracy'])"
            ]
          },
          "execution_count": 43,
          "metadata": {
            "tags": []
          },
          "output_type": "execute_result"
        }
      ],
      "source": [
        "history_dict = history.history\n",
        "history_dict.keys()"
      ]
    },
    {
      "cell_type": "code",
      "execution_count": 44,
      "metadata": {
        "colab": {
          "base_uri": "https://localhost:8080/",
          "height": 295
        },
        "id": "uoT4liGiesxF",
        "outputId": "a5ec0fe8-00b2-4ad6-bbd4-05cb378af807"
      },
      "outputs": [
        {
          "data": {
            "image/png": "[encoded data removed]",
            "text/plain": [
              "<Figure size 432x288 with 1 Axes>"
            ]
          },
          "metadata": {
            "needs_background": "light",
            "tags": []
          },
          "output_type": "display_data"
        }
      ],
      "source": [
        "acc = history_dict['categorical_accuracy']\n",
        "val_acc = history_dict['val_categorical_accuracy']\n",
        "loss = history_dict['loss']\n",
        "val_loss = history_dict['val_loss']\n",
        "\n",
        "epochs = range(1, len(acc) + 1)\n",
        "\n",
        "# \"bo\" is for \"blue dot\"\n",
        "plt.plot(epochs, loss, 'bo', label='Training loss')\n",
        "# b is for \"solid blue line\"\n",
        "plt.plot(epochs, val_loss, 'b', label='Validation loss')\n",
        "plt.title('Training and validation loss')\n",
        "plt.xlabel('Epochs')\n",
        "plt.ylabel('Loss')\n",
        "plt.legend()\n",
        "\n",
        "plt.show()"
      ]
    },
    {
      "cell_type": "code",
      "execution_count": 45,
      "metadata": {
        "colab": {
          "base_uri": "https://localhost:8080/",
          "height": 295
        },
        "id": "YFpMhhSRe1wM",
        "outputId": "a2d01c52-8da9-4ebd-d3c9-07c7ec0ad6e5"
      },
      "outputs": [
        {
          "data": {
            "image/png": "[encoded data removed]",
            "text/plain": [
              "<Figure size 432x288 with 1 Axes>"
            ]
          },
          "metadata": {
            "needs_background": "light",
            "tags": []
          },
          "output_type": "display_data"
        }
      ],
      "source": [
        "plt.clf()   # clear figure\n",
        "\n",
        "plt.plot(epochs, acc, 'bo', label='Training acc')\n",
        "plt.plot(epochs, val_acc, 'b', label='Validation acc')\n",
        "plt.title('Training and validation accuracy')\n",
        "plt.xlabel('Epochs')\n",
        "plt.ylabel('Accuracy')\n",
        "plt.legend()\n",
        "\n",
        "plt.show()"
      ]
    },
    {
      "cell_type": "markdown",
      "metadata": {
        "id": "29mlk1bb61Nw"
      },
      "source": [
        "# Model Evaluation\n",
        "\n",
        "1. Print the final train and validation loss and accuracy. Print confusion matrix and classification report for the validation dataset. Analyse and report the best and worst performing class.\n",
        "2. Print the two most incorrectly classified texts for each class in the test dataset.\n"
      ]
    },
    {
      "cell_type": "code",
      "execution_count": 46,
      "metadata": {
        "colab": {
          "base_uri": "https://localhost:8080/"
        },
        "id": "5CsLWcNr7BSL",
        "outputId": "451b3244-7658-4fd1-d337-9c9bddfeb5e5"
      },
      "outputs": [
        {
          "name": "stdout",
          "output_type": "stream",
          "text": [
            "18/18 - 0s - loss: 0.6791 - categorical_accuracy: 0.8116\n",
            "Final training loss : 0.5083189010620117\n",
            "Final training accuracy : 0.918583333492279\n",
            "Final validation loss : 0.6791049242019653\n",
            "Final validation accuracy : 0.8115555644035339\n",
            "loss: 0.679\n",
            "categorical_accuracy: 0.812\n"
          ]
        }
      ],
      "source": [
        "results = model.evaluate(test_ds.batch(512), verbose=2)\n",
        "\n",
        "print('Final training loss : {}'.format(history.history['loss'][-1]))\n",
        "print('Final training accuracy : {}'.format(history.history['categorical_accuracy'][-1]))\n",
        "print('Final validation loss : {}'.format(history.history['val_loss'][-1])) \n",
        "print('Final validation accuracy : {}'.format(history.history['val_categorical_accuracy'][-1]))\n",
        "\n",
        "for name, value in zip(model.metrics_names, results):\n",
        "  print(\"%s: %.3f\" % (name, value))"
      ]
    },
    {
      "cell_type": "code",
      "execution_count": 47,
      "metadata": {
        "colab": {
          "base_uri": "https://localhost:8080/"
        },
        "id": "K8IsNvZpfBT7",
        "outputId": "bf87b1d4-8774-4b9b-ab1f-df9aceaa1148"
      },
      "outputs": [
        {
          "name": "stdout",
          "output_type": "stream",
          "text": [
            "Confusion Matrix\n",
            "\n",
            "[[2436  174  362]\n",
            " [ 466 2456  107]\n",
            " [ 576   56 2367]]\n",
            "Classification Report\n",
            "\n",
            "              precision    recall  f1-score   support\n",
            "\n",
            "           0       0.77      0.73      0.75      2972\n",
            "           1       0.91      0.81      0.86      3029\n",
            "           2       0.83      0.79      0.81      2999\n",
            "\n",
            "   micro avg       0.84      0.78      0.81      9000\n",
            "   macro avg       0.84      0.78      0.81      9000\n",
            "weighted avg       0.84      0.78      0.81      9000\n",
            " samples avg       0.78      0.78      0.78      9000\n",
            "\n",
            "Time taken to predict the model 0.8882968425750732\n"
          ]
        }
      ],
      "source": [
        "from sklearn.metrics import confusion_matrix\n",
        "from sklearn.metrics import classification_report\n",
        "import time\n",
        "import numpy as np\n",
        "start_time = time.time()\n",
        "test_predictions = (model.predict(x_test) > 0.5).astype(\"int32\")\n",
        "# Comparing the predictions to actual forest cover types for the test rows\n",
        "# test is the data right after splitting into train, test and val (shuffle was false in dataset so the order will match)\n",
        "print('Confusion Matrix\\n')\n",
        "confusion = confusion_matrix(y_test.argmax(axis=1), test_predictions.argmax(axis=1))\n",
        "print(confusion)\n",
        "print(\"Classification Report\\n\")\n",
        "print(classification_report(y_test,test_predictions))\n",
        "print(\"Time taken to predict the model \" + str(time.time() - start_time))"
      ]
    },
    {
      "cell_type": "markdown",
      "metadata": {
        "id": "95ZkRdM5GffZ"
      },
      "source": [
        "Here class 0 is not performing better, class 1 is performing best and 2 is avgerage performing based on F1 score"
      ]
    },
    {
      "cell_type": "code",
      "execution_count": 48,
      "metadata": {
        "colab": {
          "base_uri": "https://localhost:8080/"
        },
        "id": "WuiQgzuCpvRB",
        "outputId": "ca8ac061-7100-4652-8796-75a5c8e89c3e"
      },
      "outputs": [
        {
          "name": "stdout",
          "output_type": "stream",
          "text": [
            "category  0  inaccurate last 2 records \n",
            "\n",
            "['Find the frequency of a number in array in less than bigo n time\\r\\nArray 1,2,2,3,4,5,5,5,2\\r\\nInput 5\\r\\nOutput 3\\r\\nArray 1,1,1,1,\\r\\nInput 1\\r\\nOutput 4\\r\\n\\r\\nKeep in mind less than bigo n\\r\\n\\r\\nThanks', array([-1.,  1.,  0.])]\n",
            "['<p>One rule every programmer quickly learns about multithreading is:  </p>\\n\\n<p><em>If more than one thread has access to a data structure, and at least one of threads might modify that data structure, then you\\'d better serialize all accesses to that data structure, or you\\'re in for a world of debugging pain</em>.  </p>\\n\\n<p>Typically this serialization is done via a mutex -- i.e. a thread that wants to read or write the data structure locks the mutex, does whatever it needs to do, and then unlocks the mutex to make it available again to other threads.</p>\\n\\n<p>Which brings me to the point:  the memory-heap of a process is a data structure which is accessible by multiple threads.  Does this mean that every call to default/non-overloaded <code>new</code> and <code>delete</code> is serialized by a process-global mutex, and is therefore a potential serialization-bottleneck that can slow down multithreaded programs?  Or do modern heap implementations avoid or mitigate that problem somehow, and if so, how do they do it?</p>\\n\\n<p>(Note:  I\\'m tagging this question <code>linux</code>, to avoid the correct-but-uninformative \"it\\'s implementation-dependent\" response, but I\\'d also be interested in hearing about how Windows and MacOS/X do it as well, if there are significant differences across implementations)</p>\\n', array([-1.,  0.,  1.])]\n",
            "\n",
            "category  1  inaccurate last 2 records \n",
            "\n",
            "['Find the frequency of a number in array in less than bigo n time\\r\\nArray 1,2,2,3,4,5,5,5,2\\r\\nInput 5\\r\\nOutput 3\\r\\nArray 1,1,1,1,\\r\\nInput 1\\r\\nOutput 4\\r\\n\\r\\nKeep in mind less than bigo n\\r\\n\\r\\nThanks', array([-1.,  1.,  0.])]\n",
            "['<p>One rule every programmer quickly learns about multithreading is:  </p>\\n\\n<p><em>If more than one thread has access to a data structure, and at least one of threads might modify that data structure, then you\\'d better serialize all accesses to that data structure, or you\\'re in for a world of debugging pain</em>.  </p>\\n\\n<p>Typically this serialization is done via a mutex -- i.e. a thread that wants to read or write the data structure locks the mutex, does whatever it needs to do, and then unlocks the mutex to make it available again to other threads.</p>\\n\\n<p>Which brings me to the point:  the memory-heap of a process is a data structure which is accessible by multiple threads.  Does this mean that every call to default/non-overloaded <code>new</code> and <code>delete</code> is serialized by a process-global mutex, and is therefore a potential serialization-bottleneck that can slow down multithreaded programs?  Or do modern heap implementations avoid or mitigate that problem somehow, and if so, how do they do it?</p>\\n\\n<p>(Note:  I\\'m tagging this question <code>linux</code>, to avoid the correct-but-uninformative \"it\\'s implementation-dependent\" response, but I\\'d also be interested in hearing about how Windows and MacOS/X do it as well, if there are significant differences across implementations)</p>\\n', array([-1.,  0.,  1.])]\n",
            "\n",
            "category  2  inaccurate last 2 records \n",
            "\n",
            "['Find the frequency of a number in array in less than bigo n time\\r\\nArray 1,2,2,3,4,5,5,5,2\\r\\nInput 5\\r\\nOutput 3\\r\\nArray 1,1,1,1,\\r\\nInput 1\\r\\nOutput 4\\r\\n\\r\\nKeep in mind less than bigo n\\r\\n\\r\\nThanks', array([-1.,  1.,  0.])]\n",
            "['<p>One rule every programmer quickly learns about multithreading is:  </p>\\n\\n<p><em>If more than one thread has access to a data structure, and at least one of threads might modify that data structure, then you\\'d better serialize all accesses to that data structure, or you\\'re in for a world of debugging pain</em>.  </p>\\n\\n<p>Typically this serialization is done via a mutex -- i.e. a thread that wants to read or write the data structure locks the mutex, does whatever it needs to do, and then unlocks the mutex to make it available again to other threads.</p>\\n\\n<p>Which brings me to the point:  the memory-heap of a process is a data structure which is accessible by multiple threads.  Does this mean that every call to default/non-overloaded <code>new</code> and <code>delete</code> is serialized by a process-global mutex, and is therefore a potential serialization-bottleneck that can slow down multithreaded programs?  Or do modern heap implementations avoid or mitigate that problem somehow, and if so, how do they do it?</p>\\n\\n<p>(Note:  I\\'m tagging this question <code>linux</code>, to avoid the correct-but-uninformative \"it\\'s implementation-dependent\" response, but I\\'d also be interested in hearing about how Windows and MacOS/X do it as well, if there are significant differences across implementations)</p>\\n', array([-1.,  0.,  1.])]\n",
            "\n"
          ]
        }
      ],
      "source": [
        "#Print the two most incorrectly classified texts for each class in the test dataset.\n",
        "\n",
        "res = []\n",
        "for i,j,k  in zip(x_test, y_test, test_predictions):\n",
        "    res.append([i, j-k])\n",
        "\n",
        "category = 0\n",
        "\n",
        "def takeSecond(elem):\n",
        "    return elem[1][category]\n",
        "\n",
        "def displayLeastAccurateTwoRecordsForCategory(category):\n",
        "  print(\"category \",category,\" inaccurate last 2 records \\n\")\n",
        "  category = category\n",
        "  res.sort(key=takeSecond)\n",
        "  print(res[1])\n",
        "  print(res[2])\n",
        "  print(\"\")\n",
        "\n",
        "displayLeastAccurateTwoRecordsForCategory(0)\n",
        "displayLeastAccurateTwoRecordsForCategory(1)\n",
        "displayLeastAccurateTwoRecordsForCategory(2)"
      ]
    },
    {
      "cell_type": "markdown",
      "metadata": {
        "id": "nC6ZHY3I65z-"
      },
      "source": [
        "# Hyperparameter Tuning- Build two more models by changing the following hyperparameters one at a time. Write the code for Model Building, Model Compilation, Model Training and Model Evaluation as given in the instructions above for each additional model.\n",
        "\n",
        "1. Dropout: Change the position and value of dropout layer\n",
        "2. Regularization: Train a model without regularization\n",
        "\n",
        "Write a comparison between each model and give reasons for the difference in results."
      ]
    },
    {
      "cell_type": "markdown",
      "metadata": {
        "id": "K9f6FL-PqU4x"
      },
      "source": [
        "## 1. Dropout: Change the position and value of dropout layer"
      ]
    },
    {
      "cell_type": "code",
      "execution_count": 49,
      "metadata": {
        "colab": {
          "base_uri": "https://localhost:8080/"
        },
        "id": "wQ9IgWdM5-cU",
        "outputId": "86b9aeee-ced1-451b-9c09-87a9c4d7d65b"
      },
      "outputs": [
        {
          "data": {
            "text/plain": [
              "6794"
            ]
          },
          "execution_count": 49,
          "metadata": {
            "tags": []
          },
          "output_type": "execute_result"
        }
      ],
      "source": [
        "import gc\n",
        "tf.keras.backend.clear_session()\n",
        "gc.collect()"
      ]
    },
    {
      "cell_type": "code",
      "execution_count": 50,
      "metadata": {
        "colab": {
          "base_uri": "https://localhost:8080/",
          "height": 1000
        },
        "id": "2TeElIII65Dv",
        "outputId": "19d5ca72-3e22-4df2-d444-bb29179bc1f7"
      },
      "outputs": [
        {
          "name": "stdout",
          "output_type": "stream",
          "text": [
            "WARNING:tensorflow:Please add `keras.layers.InputLayer` instead of `keras.Input` to Sequential model. `keras.Input` is intended to be used by Functional model.\n"
          ]
        },
        {
          "name": "stderr",
          "output_type": "stream",
          "text": [
            "WARNING:tensorflow:Please add `keras.layers.InputLayer` instead of `keras.Input` to Sequential model. `keras.Input` is intended to be used by Functional model.\n"
          ]
        },
        {
          "name": "stdout",
          "output_type": "stream",
          "text": [
            "Model: \"sequential\"\n",
            "_________________________________________________________________\n",
            "Layer (type)                 Output Shape              Param #   \n",
            "=================================================================\n",
            "keras_layer (KerasLayer)     (None, 128)               124642688 \n",
            "_________________________________________________________________\n",
            "dense (Dense)                (None, 64)                8256      \n",
            "_________________________________________________________________\n",
            "dense_1 (Dense)              (None, 24)                1560      \n",
            "_________________________________________________________________\n",
            "dropout (Dropout)            (None, 24)                0         \n",
            "_________________________________________________________________\n",
            "dense_2 (Dense)              (None, 3)                 75        \n",
            "=================================================================\n",
            "Total params: 124,652,579\n",
            "Trainable params: 124,652,579\n",
            "Non-trainable params: 0\n",
            "_________________________________________________________________\n",
            "Epoch 1/20\n",
            "18/18 [==============================] - 3s 130ms/step - loss: 11.8278 - categorical_accuracy: 0.5247 - val_loss: 10.2455 - val_categorical_accuracy: 0.7719\n",
            "Epoch 2/20\n",
            "18/18 [==============================] - 2s 122ms/step - loss: 9.1145 - categorical_accuracy: 0.6626 - val_loss: 7.8900 - val_categorical_accuracy: 0.7893\n",
            "Epoch 3/20\n",
            "18/18 [==============================] - 2s 123ms/step - loss: 6.9884 - categorical_accuracy: 0.7351 - val_loss: 6.0520 - val_categorical_accuracy: 0.7949\n",
            "Epoch 4/20\n",
            "18/18 [==============================] - 2s 124ms/step - loss: 5.3439 - categorical_accuracy: 0.7804 - val_loss: 4.6473 - val_categorical_accuracy: 0.8047\n",
            "Epoch 5/20\n",
            "18/18 [==============================] - 2s 123ms/step - loss: 4.1068 - categorical_accuracy: 0.8022 - val_loss: 3.5967 - val_categorical_accuracy: 0.8074\n",
            "Epoch 6/20\n",
            "18/18 [==============================] - 2s 121ms/step - loss: 3.1808 - categorical_accuracy: 0.8206 - val_loss: 2.8165 - val_categorical_accuracy: 0.8084\n",
            "Epoch 7/20\n",
            "18/18 [==============================] - 2s 120ms/step - loss: 2.4924 - categorical_accuracy: 0.8319 - val_loss: 2.2379 - val_categorical_accuracy: 0.8103\n",
            "Epoch 8/20\n",
            "18/18 [==============================] - 2s 121ms/step - loss: 1.9878 - categorical_accuracy: 0.8337 - val_loss: 1.8108 - val_categorical_accuracy: 0.8118\n",
            "Epoch 9/20\n",
            "18/18 [==============================] - 2s 123ms/step - loss: 1.6130 - categorical_accuracy: 0.8427 - val_loss: 1.4978 - val_categorical_accuracy: 0.8128\n",
            "Epoch 10/20\n",
            "18/18 [==============================] - 2s 123ms/step - loss: 1.3375 - categorical_accuracy: 0.8453 - val_loss: 1.2706 - val_categorical_accuracy: 0.8130\n",
            "Epoch 11/20\n",
            "18/18 [==============================] - 2s 125ms/step - loss: 1.1366 - categorical_accuracy: 0.8487 - val_loss: 1.1042 - val_categorical_accuracy: 0.8127\n",
            "Epoch 12/20\n",
            "18/18 [==============================] - 2s 124ms/step - loss: 0.9930 - categorical_accuracy: 0.8502 - val_loss: 0.9848 - val_categorical_accuracy: 0.8128\n",
            "Epoch 13/20\n",
            "18/18 [==============================] - 2s 125ms/step - loss: 0.8820 - categorical_accuracy: 0.8540 - val_loss: 0.8965 - val_categorical_accuracy: 0.8133\n",
            "Epoch 14/20\n",
            "18/18 [==============================] - 2s 126ms/step - loss: 0.8036 - categorical_accuracy: 0.8572 - val_loss: 0.8321 - val_categorical_accuracy: 0.8124\n",
            "Epoch 15/20\n",
            "18/18 [==============================] - 2s 123ms/step - loss: 0.7479 - categorical_accuracy: 0.8567 - val_loss: 0.7855 - val_categorical_accuracy: 0.8127\n",
            "Epoch 16/20\n",
            "18/18 [==============================] - 2s 124ms/step - loss: 0.7022 - categorical_accuracy: 0.8574 - val_loss: 0.7514 - val_categorical_accuracy: 0.8131\n",
            "Epoch 17/20\n",
            "18/18 [==============================] - 2s 123ms/step - loss: 0.6710 - categorical_accuracy: 0.8609 - val_loss: 0.7256 - val_categorical_accuracy: 0.8126\n",
            "Epoch 18/20\n",
            "18/18 [==============================] - 2s 123ms/step - loss: 0.6443 - categorical_accuracy: 0.8608 - val_loss: 0.7069 - val_categorical_accuracy: 0.8129\n",
            "Epoch 19/20\n",
            "18/18 [==============================] - 2s 122ms/step - loss: 0.6226 - categorical_accuracy: 0.8637 - val_loss: 0.6915 - val_categorical_accuracy: 0.8138\n",
            "Epoch 20/20\n",
            "18/18 [==============================] - 2s 124ms/step - loss: 0.6024 - categorical_accuracy: 0.8666 - val_loss: 0.6809 - val_categorical_accuracy: 0.8123\n"
          ]
        },
        {
          "data": {
            "image/png": "[encoded data removed]",
            "text/plain": [
              "<Figure size 432x288 with 1 Axes>"
            ]
          },
          "metadata": {
            "needs_background": "light",
            "tags": []
          },
          "output_type": "display_data"
        },
        {
          "data": {
            "image/png": "[encoded data removed]",
            "text/plain": [
              "<Figure size 432x288 with 1 Axes>"
            ]
          },
          "metadata": {
            "needs_background": "light",
            "tags": []
          },
          "output_type": "display_data"
        },
        {
          "name": "stdout",
          "output_type": "stream",
          "text": [
            "18/18 - 0s - loss: 0.6809 - categorical_accuracy: 0.8123\n",
            "Final training loss : 0.6023895144462585\n",
            "Final training accuracy : 0.866611123085022\n",
            "Final validation loss : 0.6809059381484985\n",
            "Final validation accuracy : 0.812333345413208\n",
            "loss: 0.681\n",
            "categorical_accuracy: 0.812\n",
            "Confusion Matrix\n",
            "\n",
            "[[2435  200  337]\n",
            " [ 424 2516   89]\n",
            " [ 641   71 2287]]\n",
            "Classification Report\n",
            "              precision    recall  f1-score   support\n",
            "\n",
            "           0       0.79      0.71      0.75      2972\n",
            "           1       0.90      0.83      0.87      3029\n",
            "           2       0.84      0.76      0.80      2999\n",
            "\n",
            "   micro avg       0.85      0.77      0.80      9000\n",
            "   macro avg       0.84      0.77      0.80      9000\n",
            "weighted avg       0.84      0.77      0.80      9000\n",
            " samples avg       0.77      0.77      0.77      9000\n",
            "\n",
            "Time taken to predict the model 0.9254612922668457\n"
          ]
        }
      ],
      "source": [
        "model = tf.keras.Sequential()\n",
        "model.add(tf.keras.layers.Input(shape=(), name=\"Input\", dtype=tf.string))\n",
        "model.add(hub_layer)\n",
        "model.add(tf.keras.layers.Dense(64, activation='relu', kernel_regularizer=tf.keras.regularizers.l2(l=0.1)))\n",
        "model.add(tf.keras.layers.Dense(24, activation='relu', kernel_regularizer=tf.keras.regularizers.l2(l=0.1)))\n",
        "model.add(tf.keras.layers.Dropout(0.7))\n",
        "model.add(tf.keras.layers.Dense(3, activation='softmax'))\n",
        "\n",
        "model.summary()\n",
        "\n",
        "model.compile(optimizer='adam',\n",
        "              loss='categorical_crossentropy',\n",
        "              metrics=['categorical_accuracy'])\n",
        "\n",
        "t= time.time()\n",
        "history = model.fit(train_ds.batch(2000),epochs=20,validation_data=test_ds.batch(2000),verbose=1)\n",
        "t = time.time()-t\n",
        "\n",
        "acc = history_dict['categorical_accuracy']\n",
        "val_acc = history_dict['val_categorical_accuracy']\n",
        "loss = history_dict['loss']\n",
        "val_loss = history_dict['val_loss']\n",
        "\n",
        "epochs = range(1, len(acc) + 1)\n",
        "\n",
        "# \"bo\" is for \"blue dot\"\n",
        "plt.plot(epochs, loss, 'bo', label='Training loss')\n",
        "# b is for \"solid blue line\"\n",
        "plt.plot(epochs, val_loss, 'b', label='Validation loss')\n",
        "plt.title('Training and validation loss')\n",
        "plt.xlabel('Epochs')\n",
        "plt.ylabel('Loss')\n",
        "plt.legend()\n",
        "\n",
        "plt.show()\n",
        "\n",
        "\n",
        "plt.clf()   # clear figure\n",
        "\n",
        "plt.plot(epochs, acc, 'bo', label='Training acc')\n",
        "plt.plot(epochs, val_acc, 'b', label='Validation acc')\n",
        "plt.title('Training and validation accuracy')\n",
        "plt.xlabel('Epochs')\n",
        "plt.ylabel('Accuracy')\n",
        "plt.legend()\n",
        "\n",
        "plt.show()\n",
        "\n",
        "\n",
        "results = model.evaluate(test_ds.batch(512), verbose=2)\n",
        "\n",
        "print('Final training loss : {}'.format(history.history['loss'][-1]))\n",
        "print('Final training accuracy : {}'.format(history.history['categorical_accuracy'][-1]))\n",
        "print('Final validation loss : {}'.format(history.history['val_loss'][-1])) \n",
        "print('Final validation accuracy : {}'.format(history.history['val_categorical_accuracy'][-1]))\n",
        "\n",
        "for name, value in zip(model.metrics_names, results):\n",
        "  print(\"%s: %.3f\" % (name, value))\n",
        "\n",
        "from sklearn.metrics import classification_report\n",
        "import time\n",
        "import numpy as np\n",
        "start_time = time.time()\n",
        "test_predictions = (model.predict(x_test) > 0.5).astype(\"int32\")\n",
        "# Comparing the predictions to actual forest cover types for the test rows\n",
        "# test is the data right after splitting into train, test and val (shuffle was false in dataset so the order will match)\n",
        "print('Confusion Matrix\\n')\n",
        "confusion = confusion_matrix(y_test.argmax(axis=1), test_predictions.argmax(axis=1))\n",
        "print(confusion)\n",
        "print(\"Classification Report\")\n",
        "print(classification_report(y_test,test_predictions))\n",
        "print(\"Time taken to predict the model \" + str(time.time() - start_time))"
      ]
    },
    {
      "cell_type": "markdown",
      "metadata": {
        "id": "3__jcDGqqXVE"
      },
      "source": [
        "##2. Regularization: Train a model without regularization"
      ]
    },
    {
      "cell_type": "code",
      "execution_count": 51,
      "metadata": {
        "colab": {
          "base_uri": "https://localhost:8080/"
        },
        "id": "k72u5Qgi6Au6",
        "outputId": "3a95997a-2830-4a38-b94d-be3e01bd7ab5"
      },
      "outputs": [
        {
          "data": {
            "text/plain": [
              "7582"
            ]
          },
          "execution_count": 51,
          "metadata": {
            "tags": []
          },
          "output_type": "execute_result"
        }
      ],
      "source": [
        "import gc\n",
        "tf.keras.backend.clear_session()\n",
        "gc.collect()"
      ]
    },
    {
      "cell_type": "code",
      "execution_count": 52,
      "metadata": {
        "colab": {
          "base_uri": "https://localhost:8080/",
          "height": 1000
        },
        "id": "V2tbY0_mqcDY",
        "outputId": "a2bf1ac2-3478-431a-cf2f-7f3546e86bff"
      },
      "outputs": [
        {
          "name": "stdout",
          "output_type": "stream",
          "text": [
            "WARNING:tensorflow:Please add `keras.layers.InputLayer` instead of `keras.Input` to Sequential model. `keras.Input` is intended to be used by Functional model.\n"
          ]
        },
        {
          "name": "stderr",
          "output_type": "stream",
          "text": [
            "WARNING:tensorflow:Please add `keras.layers.InputLayer` instead of `keras.Input` to Sequential model. `keras.Input` is intended to be used by Functional model.\n"
          ]
        },
        {
          "name": "stdout",
          "output_type": "stream",
          "text": [
            "Model: \"sequential\"\n",
            "_________________________________________________________________\n",
            "Layer (type)                 Output Shape              Param #   \n",
            "=================================================================\n",
            "keras_layer (KerasLayer)     (None, 128)               124642688 \n",
            "_________________________________________________________________\n",
            "dense (Dense)                (None, 64)                8256      \n",
            "_________________________________________________________________\n",
            "dense_1 (Dense)              (None, 24)                1560      \n",
            "_________________________________________________________________\n",
            "dense_2 (Dense)              (None, 3)                 75        \n",
            "=================================================================\n",
            "Total params: 124,652,579\n",
            "Trainable params: 124,652,579\n",
            "Non-trainable params: 0\n",
            "_________________________________________________________________\n",
            "Epoch 1/20\n",
            "18/18 [==============================] - 3s 132ms/step - loss: 0.6324 - categorical_accuracy: 0.8225 - val_loss: 0.5182 - val_categorical_accuracy: 0.8029\n",
            "Epoch 2/20\n",
            "18/18 [==============================] - 2s 122ms/step - loss: 0.2550 - categorical_accuracy: 0.9341 - val_loss: 0.4999 - val_categorical_accuracy: 0.8093\n",
            "Epoch 3/20\n",
            "18/18 [==============================] - 2s 121ms/step - loss: 0.1732 - categorical_accuracy: 0.9423 - val_loss: 0.5591 - val_categorical_accuracy: 0.8077\n",
            "Epoch 4/20\n",
            "18/18 [==============================] - 2s 121ms/step - loss: 0.1472 - categorical_accuracy: 0.9502 - val_loss: 0.5920 - val_categorical_accuracy: 0.8050\n",
            "Epoch 5/20\n",
            "18/18 [==============================] - 2s 122ms/step - loss: 0.1290 - categorical_accuracy: 0.9590 - val_loss: 0.6242 - val_categorical_accuracy: 0.8028\n",
            "Epoch 6/20\n",
            "18/18 [==============================] - 2s 122ms/step - loss: 0.1135 - categorical_accuracy: 0.9656 - val_loss: 0.6631 - val_categorical_accuracy: 0.8002\n",
            "Epoch 7/20\n",
            "18/18 [==============================] - 2s 123ms/step - loss: 0.0995 - categorical_accuracy: 0.9718 - val_loss: 0.7082 - val_categorical_accuracy: 0.7930\n",
            "Epoch 8/20\n",
            "18/18 [==============================] - 2s 122ms/step - loss: 0.0869 - categorical_accuracy: 0.9778 - val_loss: 0.7587 - val_categorical_accuracy: 0.7918\n",
            "Epoch 9/20\n",
            "18/18 [==============================] - 2s 122ms/step - loss: 0.0756 - categorical_accuracy: 0.9813 - val_loss: 0.8127 - val_categorical_accuracy: 0.7892\n",
            "Epoch 10/20\n",
            "18/18 [==============================] - 2s 122ms/step - loss: 0.0656 - categorical_accuracy: 0.9850 - val_loss: 0.8691 - val_categorical_accuracy: 0.7862\n",
            "Epoch 11/20\n",
            "18/18 [==============================] - 2s 123ms/step - loss: 0.0571 - categorical_accuracy: 0.9881 - val_loss: 0.9254 - val_categorical_accuracy: 0.7831\n",
            "Epoch 12/20\n",
            "18/18 [==============================] - 2s 123ms/step - loss: 0.0503 - categorical_accuracy: 0.9906 - val_loss: 0.9808 - val_categorical_accuracy: 0.7810\n",
            "Epoch 13/20\n",
            "18/18 [==============================] - 2s 123ms/step - loss: 0.0461 - categorical_accuracy: 0.9916 - val_loss: 1.0386 - val_categorical_accuracy: 0.7807\n",
            "Epoch 14/20\n",
            "18/18 [==============================] - 2s 123ms/step - loss: 0.0474 - categorical_accuracy: 0.9886 - val_loss: 1.1169 - val_categorical_accuracy: 0.7737\n",
            "Epoch 15/20\n",
            "18/18 [==============================] - 2s 124ms/step - loss: 0.0722 - categorical_accuracy: 0.9740 - val_loss: 1.1667 - val_categorical_accuracy: 0.7782\n",
            "Epoch 16/20\n",
            "18/18 [==============================] - 2s 123ms/step - loss: 0.0540 - categorical_accuracy: 0.9827 - val_loss: 1.1286 - val_categorical_accuracy: 0.7787\n",
            "Epoch 17/20\n",
            "18/18 [==============================] - 2s 122ms/step - loss: 0.0335 - categorical_accuracy: 0.9942 - val_loss: 1.1455 - val_categorical_accuracy: 0.7780\n",
            "Epoch 18/20\n",
            "18/18 [==============================] - 2s 124ms/step - loss: 0.0286 - categorical_accuracy: 0.9957 - val_loss: 1.1819 - val_categorical_accuracy: 0.7766\n",
            "Epoch 19/20\n",
            "18/18 [==============================] - 2s 123ms/step - loss: 0.0243 - categorical_accuracy: 0.9969 - val_loss: 1.2222 - val_categorical_accuracy: 0.7758\n",
            "Epoch 20/20\n",
            "18/18 [==============================] - 2s 123ms/step - loss: 0.0212 - categorical_accuracy: 0.9971 - val_loss: 1.2543 - val_categorical_accuracy: 0.7761\n"
          ]
        },
        {
          "data": {
            "image/png": "[encoded data removed]",
            "text/plain": [
              "<Figure size 432x288 with 1 Axes>"
            ]
          },
          "metadata": {
            "needs_background": "light",
            "tags": []
          },
          "output_type": "display_data"
        },
        {
          "data": {
            "image/png": "[encoded data removed]",
            "text/plain": [
              "<Figure size 432x288 with 1 Axes>"
            ]
          },
          "metadata": {
            "needs_background": "light",
            "tags": []
          },
          "output_type": "display_data"
        },
        {
          "name": "stdout",
          "output_type": "stream",
          "text": [
            "18/18 - 0s - loss: 1.2543 - categorical_accuracy: 0.7761\n",
            "Final training loss : 0.021185092628002167\n",
            "Final training accuracy : 0.9971389174461365\n",
            "Final validation loss : 1.254332184791565\n",
            "Final validation accuracy : 0.7761111259460449\n",
            "loss: 1.254\n",
            "categorical_accuracy: 0.776\n",
            "Confusion Matrix\n",
            "\n",
            "[[2110  256  606]\n",
            " [ 321 2531  177]\n",
            " [ 531  121 2347]]\n",
            "Classification Report\n",
            "              precision    recall  f1-score   support\n",
            "\n",
            "           0       0.71      0.71      0.71      2972\n",
            "           1       0.87      0.84      0.85      3029\n",
            "           2       0.75      0.78      0.77      2999\n",
            "\n",
            "   micro avg       0.78      0.78      0.78      9000\n",
            "   macro avg       0.78      0.77      0.78      9000\n",
            "weighted avg       0.78      0.78      0.78      9000\n",
            " samples avg       0.78      0.78      0.78      9000\n",
            "\n",
            "Time taken to predict the model 0.8851170539855957\n"
          ]
        }
      ],
      "source": [
        "model = tf.keras.Sequential()\n",
        "model.add(tf.keras.layers.Input(shape=(), name=\"Input\", dtype=tf.string))\n",
        "model.add(hub_layer)\n",
        "model.add(tf.keras.layers.Dense(64, activation='relu'))\n",
        "model.add(tf.keras.layers.Dense(24, activation='relu'))\n",
        "model.add(tf.keras.layers.Dense(3, activation='softmax'))\n",
        "\n",
        "model.summary()\n",
        "\n",
        "model.compile(optimizer='adam',\n",
        "              loss='categorical_crossentropy',\n",
        "              metrics=['categorical_accuracy'])\n",
        "\n",
        "t= time.time()\n",
        "history = model.fit(train_ds.batch(2000),epochs=20,validation_data=test_ds.batch(2000),verbose=1)\n",
        "t = time.time()-t\n",
        "\n",
        "acc = history_dict['categorical_accuracy']\n",
        "val_acc = history_dict['val_categorical_accuracy']\n",
        "loss = history_dict['loss']\n",
        "val_loss = history_dict['val_loss']\n",
        "\n",
        "epochs = range(1, len(acc) + 1)\n",
        "\n",
        "# \"bo\" is for \"blue dot\"\n",
        "plt.plot(epochs, loss, 'bo', label='Training loss')\n",
        "# b is for \"solid blue line\"\n",
        "plt.plot(epochs, val_loss, 'b', label='Validation loss')\n",
        "plt.title('Training and validation loss')\n",
        "plt.xlabel('Epochs')\n",
        "plt.ylabel('Loss')\n",
        "plt.legend()\n",
        "\n",
        "plt.show()\n",
        "\n",
        "\n",
        "plt.clf()   # clear figure\n",
        "\n",
        "plt.plot(epochs, acc, 'bo', label='Training acc')\n",
        "plt.plot(epochs, val_acc, 'b', label='Validation acc')\n",
        "plt.title('Training and validation accuracy')\n",
        "plt.xlabel('Epochs')\n",
        "plt.ylabel('Accuracy')\n",
        "plt.legend()\n",
        "\n",
        "plt.show()\n",
        "\n",
        "\n",
        "results = model.evaluate(test_ds.batch(512), verbose=2)\n",
        "print('Final training loss : {}'.format(history.history['loss'][-1]))\n",
        "print('Final training accuracy : {}'.format(history.history['categorical_accuracy'][-1]))\n",
        "print('Final validation loss : {}'.format(history.history['val_loss'][-1])) \n",
        "print('Final validation accuracy : {}'.format(history.history['val_categorical_accuracy'][-1]))\n",
        "\n",
        "for name, value in zip(model.metrics_names, results):\n",
        "  print(\"%s: %.3f\" % (name, value))\n",
        "\n",
        "from sklearn.metrics import classification_report\n",
        "import time\n",
        "import numpy as np\n",
        "start_time = time.time()\n",
        "test_predictions = (model.predict(x_test) > 0.5).astype(\"int32\")\n",
        "# Comparing the predictions to actual forest cover types for the test rows\n",
        "# test is the data right after splitting into train, test and val (shuffle was false in dataset so the order will match)\n",
        "print('Confusion Matrix\\n')\n",
        "confusion = confusion_matrix(y_test.argmax(axis=1), test_predictions.argmax(axis=1))\n",
        "print(confusion)\n",
        "print(\"Classification Report\")\n",
        "print(classification_report(y_test,test_predictions))\n",
        "print(\"Time taken to predict the model \" + str(time.time() - start_time))"
      ]
    },
    {
      "cell_type": "markdown",
      "metadata": {
        "id": "k_-TmkMMWwY3"
      },
      "source": [
        "## Comparison between each model and give reasons for the difference in results.\n",
        "\n",
        "The Base model with dropout in 1st layer and with regularization is in par with 2nd model with dropout in second layer, 1st and 2nd model are better than 3rd model without regularization. The dropout change did not introduce improvement or degradation in test accuracy.\n",
        "\n",
        "1. The categorical_accuracy is 81% for 1st model, 81% for 2nd Model and 77.6% for 3rd Model.\n",
        "2. F1 Score micro, macro and weighted avg is 81% for model 1 and 80% model 2 and 78% for model 3."
      ]
    },
    {
      "cell_type": "markdown",
      "metadata": {
        "id": "HnmoGvNB7HHa"
      },
      "source": [
        "# Refereces\n",
        "\n",
        "\n",
        "\n",
        "\n",
        "1. https://www.kaggle.com/achintyatripathi/gensim-word2vec-usage-with-t-sne-plot\n",
        "\n",
        "2. https://www.kaggle.com/anmolkumar/stack-overflow-eda-bert-model-accuracy-87-6\n",
        "\n",
        "3. https://machinelearningmastery.com/multi-class-classification-tutorial-keras-deep-learning-library/\n",
        "\n",
        "\n",
        "Kaggle API\n",
        "1. https://colab.research.google.com/github/corrieann/kaggle/blob/master/kaggle_api_in_colab.ipynb#scrollTo=hMY4CFezjcG-\n",
        "2. https://medium.com/@move37timm/using-kaggle-api-for-google-colaboratory-d18645f93648\n",
        "\n",
        "Word Embedding\n",
        "\n",
        "1. https://www.kaggle.com/kshitijmohan/nlp-word-embedding-glove-vs-model-bert-93-acc\n",
        "2. https://www.kaggle.com/gsdeepakkumar/sof-embeddings-simple-model\n",
        "3. https://www.kaggle.com/elanrob/title-and-body-encoding-with-word2vec\n",
        "4. https://www.kaggle.com/nerdscoding/60k-stackoverflow-data-eda-and-nn-classification\n",
        "\n",
        "No. of Layers and Neuron units\n",
        "1. https://machinelearningmastery.com/how-to-configure-the-number-of-layers-and-nodes-in-a-neural-network/\n",
        "2. https://stats.stackexchange.com/questions/181/how-to-choose-the-number-of-hidden-layers-and-nodes-in-a-feedforward-neural-netw\n",
        "\n",
        "\n",
        "Activation Functions\n",
        "\n",
        "1. https://www.analyticsvidhya.com/blog/2020/01/fundamentals-deep-learning-activation-functions-when-to-use-them/\n",
        "\n",
        "\n",
        "No. of Layers and Units in Layers\n",
        "\n",
        "1. https://www.linkedin.com/pulse/choosing-number-hidden-layers-neurons-neural-networks-sachdev/\n",
        "\n",
        "Learning Rate\n",
        "https://machinelearningmastery.com/understand-the-dynamics-of-learning-rate-on-deep-learning-neural-networks/\n",
        "https://www.jeremyjordan.me/nn-learning-rate/\n",
        "\n",
        "Metrics\n",
        "1. https://scikit-learn.org/stable/modules/model_evaluation.html#classification-metrics\n",
        "2. https://towardsdatascience.com/keras-accuracy-metrics-8572eb479ec7\n",
        "\n",
        "Binary Cross Entropy\n",
        "\n",
        "1. https://towardsdatascience.com/understanding-binary-cross-entropy-log-loss-a-visual-explanation-a3ac6025181a\n",
        "\n",
        "2. https://www.analyticsvidhya.com/blog/2021/03/binary-cross-entropy-log-loss-for-binary-classification/\n",
        "\n",
        "Regularizer\n",
        "1. https://xzz201920.medium.com/kernel-regularizer-vs-bias-regularizer-vs-activity-regularizer-a34c5915fc03\n",
        "2. https://keras.io/api/layers/regularizers/\n",
        "\n",
        "\n",
        "Learning Rate\n",
        "1. https://towardsdatascience.com/learning-parameters-part-4-6a18d1d3000b\n",
        "2. https://towardsdatascience.com/estimating-optimal-learning-rate-for-a-deep-neural-network-ce32f2556ce0\n",
        "\n",
        "Loss Function choice\n",
        "1. https://machinelearningmastery.com/how-to-choose-loss-functions-when-training-deep-learning-neural-networks/\n",
        "\n",
        "Overfit and Underfit\n",
        "1. https://www.tensorflow.org/tutorials/keras/overfit_and_underfit\n"
      ]
    }
  ],
  "metadata": {
    "accelerator": "GPU",
    "colab": {
      "collapsed_sections": [
        "-ul_H9KM5j-H",
        "MtHAx4Ci6C_9",
        "hExBnIVvTkQX",
        "Zoa0K0jfTpL8",
        "w3ve4bc6Ws9f",
        "e2EyefKoWy2I",
        "Hohe6GmD6MFb",
        "uoMdj03hUeFY",
        "ClO4gULeUnzV",
        "OKg6w5vbU4Dg",
        "eBq-vrXFU9R0",
        "5K0eAvTc6bl8",
        "L4Oh9LxjVRb2",
        "n2Sen1I9VXYV",
        "Nr2Xvn0LVgpY",
        "X8bNx1AH6iBG",
        "G6JDOKuO6p3Y",
        "tkeuOgBV6xWC",
        "29mlk1bb61Nw",
        "nC6ZHY3I65z-",
        "K9f6FL-PqU4x",
        "3__jcDGqqXVE",
        "k_-TmkMMWwY3",
        "HnmoGvNB7HHa"
      ],
      "name": "Question No.2. NLP Dataset: Sentiment Analysis dataset - 1.6 Million tweets.ipynb",
      "provenance": []
    },
    "kernelspec": {
      "display_name": "Python 3",
      "name": "python3"
    },
    "language_info": {
      "name": "python"
    }
  },
  "nbformat": 4,
  "nbformat_minor": 0
}
