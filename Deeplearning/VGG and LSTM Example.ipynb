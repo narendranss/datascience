{
 "cells": [
  {
   "cell_type": "markdown",
   "metadata": {
    "id": "IwP-IWQVsYKL"
   },
   "source": [
    "# Import Libraries"
   ]
  },
  {
   "cell_type": "code",
   "execution_count": null,
   "metadata": {
    "executionInfo": {
     "elapsed": 10510,
     "status": "ok",
     "timestamp": 1632156983185,
     "user": {
      "displayName": "narendran solai sridharan",
      "photoUrl": "https://lh3.googleusercontent.com/a/default-user=s64",
      "userId": "16755550907293243255"
     },
     "user_tz": -330
    },
    "id": "N6QDmnJpsRIi"
   },
   "outputs": [
    {
     "ename": "",
     "evalue": "",
     "output_type": "error",
     "traceback": [
      "\u001b[1;31mRunning cells with 'Python 3.12.8' requires the ipykernel package.\n",
      "\u001b[1;31m<a href='command:jupyter.createPythonEnvAndSelectController'>Create a Python Environment</a> with the required packages.\n",
      "\u001b[1;31mOr install 'ipykernel' using the command: '/opt/homebrew/bin/python3.12 -m pip install ipykernel -U --user --force-reinstall'"
     ]
    }
   ],
   "source": [
    "from os import listdir\n",
    "from os import path\n",
    "import pickle\n",
    "import random\n",
    "import datetime\n",
    "import numpy as np\n",
    "from tensorflow.keras.preprocessing.image import load_img, img_to_array\n",
    "from tensorflow.keras.applications.vgg16 import preprocess_input, VGG16\n",
    "from tensorflow.keras.models import Model\n",
    "from nltk.tokenize import word_tokenize\n",
    "from tensorflow.keras.preprocessing.text import Tokenizer\n",
    "from tensorflow.keras.preprocessing.sequence import pad_sequences\n",
    "from tensorflow.keras.utils import to_categorical, plot_model\n",
    "from tensorflow.keras.layers import Input, Dropout, Dense, Embedding, LSTM, add\n",
    "import tensorflow.keras as tk\n",
    "from tensorflow.keras.models import load_model\n",
    "from nltk.translate.bleu_score import corpus_bleu\n",
    "from IPython.display import Image"
   ]
  },
  {
   "cell_type": "code",
   "execution_count": null,
   "metadata": {
    "executionInfo": {
     "elapsed": 13,
     "status": "ok",
     "timestamp": 1632156983189,
     "user": {
      "displayName": "narendran solai sridharan",
      "photoUrl": "https://lh3.googleusercontent.com/a/default-user=s64",
      "userId": "16755550907293243255"
     },
     "user_tz": -330
    },
    "id": "EHeSe2yjsdxf"
   },
   "outputs": [],
   "source": [
    "%load_ext tensorboard"
   ]
  },
  {
   "cell_type": "markdown",
   "metadata": {
    "id": "TKo5txspskRg"
   },
   "source": [
    "# Data Engineering"
   ]
  },
  {
   "cell_type": "code",
   "execution_count": null,
   "metadata": {
    "executionInfo": {
     "elapsed": 13,
     "status": "ok",
     "timestamp": 1632156983192,
     "user": {
      "displayName": "narendran solai sridharan",
      "photoUrl": "https://lh3.googleusercontent.com/a/default-user=s64",
      "userId": "16755550907293243255"
     },
     "user_tz": -330
    },
    "id": "qN-fw9UDsgv0"
   },
   "outputs": [],
   "source": [
    "# function to load the images\n",
    "def load_photos(directory):\n",
    "    images = dict()\n",
    "    for name in listdir(directory):\n",
    "        print(name)\n",
    "        # load image\n",
    "        filename = path.join(directory, name)\n",
    "        image = load_img(filename, target_size=(224,224))\n",
    "        # convert image to array\n",
    "        image = img_to_array(image)\n",
    "        # reshape data\n",
    "        image = image.reshape((1, image.shape[0], image.shape[1], image.shape[2]))\n",
    "        # normalize images with parameters for the model\n",
    "        image = preprocess_input(image)\n",
    "        # get the image id\n",
    "        image_id = name.split('.')[0]\n",
    "        images[image_id] = image\n",
    "    return images"
   ]
  },
  {
   "cell_type": "code",
   "execution_count": null,
   "metadata": {
    "executionInfo": {
     "elapsed": 16,
     "status": "ok",
     "timestamp": 1632156983196,
     "user": {
      "displayName": "narendran solai sridharan",
      "photoUrl": "https://lh3.googleusercontent.com/a/default-user=s64",
      "userId": "16755550907293243255"
     },
     "user_tz": -330
    },
    "id": "-jaRZ7ZdspQK"
   },
   "outputs": [],
   "source": [
    "# function to run the images through the VGG model and save the features\n",
    "# purpose is so that we don't have to run two models at a time later when we train the text generator\n",
    "def extract_features(directory):\n",
    "    # import the VGG model\n",
    "    model = VGG16()\n",
    "    model = Model(inputs=model.inputs, outputs=model.layers[-2].output)\n",
    "    # remove the last layer of the model so that we can take those as input for the model\n",
    "    model.summary()\n",
    "    features = dict()\n",
    "    images = load_photos(directory)\n",
    "    for image_id, image in images.items():\n",
    "        print(image_id)\n",
    "        feature = model.predict(image, verbose=0)\n",
    "        features[image_id] = feature\n",
    "    return features"
   ]
  },
  {
   "cell_type": "code",
   "execution_count": null,
   "metadata": {
    "executionInfo": {
     "elapsed": 4283,
     "status": "ok",
     "timestamp": 1632156987466,
     "user": {
      "displayName": "narendran solai sridharan",
      "photoUrl": "https://lh3.googleusercontent.com/a/default-user=s64",
      "userId": "16755550907293243255"
     },
     "user_tz": -330
    },
    "id": "mKJVkw9FtX66"
   },
   "outputs": [],
   "source": [
    "!pip install -U -q PyDrive\n",
    "from pydrive.auth import GoogleAuth\n",
    "from pydrive.drive import GoogleDrive\n",
    "from google.colab import auth\n",
    "from oauth2client.client import GoogleCredentials"
   ]
  },
  {
   "cell_type": "code",
   "execution_count": null,
   "metadata": {
    "executionInfo": {
     "elapsed": 9,
     "status": "ok",
     "timestamp": 1632156987467,
     "user": {
      "displayName": "narendran solai sridharan",
      "photoUrl": "https://lh3.googleusercontent.com/a/default-user=s64",
      "userId": "16755550907293243255"
     },
     "user_tz": -330
    },
    "id": "_A5x837atkn1"
   },
   "outputs": [],
   "source": [
    "auth.authenticate_user()\n",
    "driveAuth = GoogleAuth()\n",
    "driveAuth.credentials = GoogleCredentials.get_application_default()\n",
    "drive = GoogleDrive(driveAuth)"
   ]
  },
  {
   "cell_type": "code",
   "execution_count": null,
   "metadata": {
    "executionInfo": {
     "elapsed": 4846,
     "status": "ok",
     "timestamp": 1632156992307,
     "user": {
      "displayName": "narendran solai sridharan",
      "photoUrl": "https://lh3.googleusercontent.com/a/default-user=s64",
      "userId": "16755550907293243255"
     },
     "user_tz": -330
    },
    "id": "IrLciAaJuuxr"
   },
   "outputs": [],
   "source": [
    "pickleFileDownloaded = drive.CreateFile({'id':'1A8g74ohdb_5d2fPjc72yF7GxufE9GRcu'})\n",
    "pickleFileDownloaded.GetContentFile('set_1.pkl')"
   ]
  },
  {
   "cell_type": "code",
   "execution_count": null,
   "metadata": {
    "colab": {
     "base_uri": "https://localhost:8080/",
     "output_embedded_package_id": "1hhfzqIWoh4L5gsWVndjly_334Ef-WrWm"
    },
    "executionInfo": {
     "elapsed": 85,
     "status": "ok",
     "timestamp": 1632156992313,
     "user": {
      "displayName": "narendran solai sridharan",
      "photoUrl": "https://lh3.googleusercontent.com/a/default-user=s64",
      "userId": "16755550907293243255"
     },
     "user_tz": -330
    },
    "id": "afa0ov_MujF5",
    "outputId": "51bd7549-4fb0-44ec-94d2-04e3e6b93d82"
   },
   "outputs": [
    {
     "data": {
      "text/plain": [
       "Output hidden; open in https://colab.research.google.com to view."
      ]
     },
     "metadata": {},
     "output_type": "display_data"
    }
   ],
   "source": [
    "import pickle\n",
    "\n",
    "infile = open('set_1.pkl','rb')\n",
    "image_captions = pickle.load(infile)\n",
    "infile.close()\n",
    "\n",
    "print(image_captions)"
   ]
  },
  {
   "cell_type": "code",
   "execution_count": null,
   "metadata": {
    "colab": {
     "base_uri": "https://localhost:8080/",
     "height": 206
    },
    "executionInfo": {
     "elapsed": 527,
     "status": "ok",
     "timestamp": 1632157620101,
     "user": {
      "displayName": "narendran solai sridharan",
      "photoUrl": "https://lh3.googleusercontent.com/a/default-user=s64",
      "userId": "16755550907293243255"
     },
     "user_tz": -330
    },
    "id": "zUsDSCXcuoRL",
    "outputId": "c72d215d-4d5d-406d-a90e-4ea4176fac75"
   },
   "outputs": [
    {
     "data": {
      "text/html": [
       "<div>\n",
       "<style scoped>\n",
       "    .dataframe tbody tr th:only-of-type {\n",
       "        vertical-align: middle;\n",
       "    }\n",
       "\n",
       "    .dataframe tbody tr th {\n",
       "        vertical-align: top;\n",
       "    }\n",
       "\n",
       "    .dataframe thead th {\n",
       "        text-align: right;\n",
       "    }\n",
       "</style>\n",
       "<table border=\"1\" class=\"dataframe\">\n",
       "  <thead>\n",
       "    <tr style=\"text-align: right;\">\n",
       "      <th></th>\n",
       "      <th>caption_id</th>\n",
       "      <th>image_file_name</th>\n",
       "      <th>caption</th>\n",
       "    </tr>\n",
       "  </thead>\n",
       "  <tbody>\n",
       "    <tr>\n",
       "      <th>0</th>\n",
       "      <td>3</td>\n",
       "      <td>2089122314_40d5739aef</td>\n",
       "      <td>&lt;start&gt; A fluffy , tri-colored dog be run down...</td>\n",
       "    </tr>\n",
       "    <tr>\n",
       "      <th>1</th>\n",
       "      <td>0</td>\n",
       "      <td>1295671216_cde1b9c9d1</td>\n",
       "      <td>&lt;start&gt; A crowd of person be stand together on...</td>\n",
       "    </tr>\n",
       "    <tr>\n",
       "      <th>2</th>\n",
       "      <td>4</td>\n",
       "      <td>3183195185_cd0ff994a1</td>\n",
       "      <td>&lt;start&gt; The man and boy sit on the ground , ne...</td>\n",
       "    </tr>\n",
       "    <tr>\n",
       "      <th>3</th>\n",
       "      <td>1</td>\n",
       "      <td>2949353587_64c54e9589</td>\n",
       "      <td>&lt;start&gt; A brown dog be play with a white fluff...</td>\n",
       "    </tr>\n",
       "    <tr>\n",
       "      <th>4</th>\n",
       "      <td>2</td>\n",
       "      <td>361092202_3d70144ebd</td>\n",
       "      <td>&lt;start&gt; A man hike with a large backpack and t...</td>\n",
       "    </tr>\n",
       "  </tbody>\n",
       "</table>\n",
       "</div>"
      ],
      "text/plain": [
       "  caption_id  ...                                            caption\n",
       "0          3  ...  <start> A fluffy , tri-colored dog be run down...\n",
       "1          0  ...  <start> A crowd of person be stand together on...\n",
       "2          4  ...  <start> The man and boy sit on the ground , ne...\n",
       "3          1  ...  <start> A brown dog be play with a white fluff...\n",
       "4          2  ...  <start> A man hike with a large backpack and t...\n",
       "\n",
       "[5 rows x 3 columns]"
      ]
     },
     "execution_count": 34,
     "metadata": {},
     "output_type": "execute_result"
    }
   ],
   "source": [
    "import pandas as pd\n",
    "\n",
    "imageNames = []\n",
    "captionIds = []\n",
    "captions = []\n",
    "for text in image_captions:\n",
    "  if (text.find(\"#\") and text.find(\"\\t\") and text.find(\".jpg#\")):\n",
    "    imageName = text[:text.find(\"#\")]\n",
    "    captionId = text[text.find(\"#\")+1:text.find(\"\\t\")]\n",
    "    caption = text[text.find(\"\\t\")+1:]\n",
    "    if (imageName.endswith(\".jpg\")):\n",
    "      imageNames.append(imageName.replace('.jpg', \"\"))\n",
    "      captionIds.append(captionId)\n",
    "      captions.append(caption)\n",
    "  else:\n",
    "    print(text)\n",
    "\n",
    "entries = {\n",
    "    'caption_id':captionIds,\n",
    "    'image_file_name':imageNames,\n",
    "    'caption':captions\n",
    "    }\n",
    "\n",
    "df = pd.DataFrame(entries)\n",
    "df['caption']=df.apply(lambda x: '<start> '+x['caption']+' <end>',axis=1)\n",
    "\n",
    "df.head()"
   ]
  },
  {
   "cell_type": "code",
   "execution_count": null,
   "metadata": {
    "colab": {
     "base_uri": "https://localhost:8080/",
     "height": 643
    },
    "executionInfo": {
     "elapsed": 1397,
     "status": "ok",
     "timestamp": 1632157658792,
     "user": {
      "displayName": "narendran solai sridharan",
      "photoUrl": "https://lh3.googleusercontent.com/a/default-user=s64",
      "userId": "16755550907293243255"
     },
     "user_tz": -330
    },
    "id": "5ddf645_LOZ3",
    "outputId": "c1cf195e-02a5-4b69-9046-e59b24a4d982"
   },
   "outputs": [
    {
     "data": {
      "image/jpeg": "[encoded data removed]",
      "text/plain": [
       "<IPython.core.display.Image object>"
      ]
     },
     "metadata": {},
     "output_type": "display_data"
    },
    {
     "data": {
      "text/html": [
       "<div>\n",
       "<style scoped>\n",
       "    .dataframe tbody tr th:only-of-type {\n",
       "        vertical-align: middle;\n",
       "    }\n",
       "\n",
       "    .dataframe tbody tr th {\n",
       "        vertical-align: top;\n",
       "    }\n",
       "\n",
       "    .dataframe thead th {\n",
       "        text-align: right;\n",
       "    }\n",
       "</style>\n",
       "<table border=\"1\" class=\"dataframe\">\n",
       "  <thead>\n",
       "    <tr style=\"text-align: right;\">\n",
       "      <th></th>\n",
       "      <th>caption_id</th>\n",
       "      <th>image_file_name</th>\n",
       "      <th>caption</th>\n",
       "    </tr>\n",
       "  </thead>\n",
       "  <tbody>\n",
       "    <tr>\n",
       "      <th>1</th>\n",
       "      <td>0</td>\n",
       "      <td>1295671216_cde1b9c9d1</td>\n",
       "      <td>&lt;start&gt; A crowd of person be stand together on...</td>\n",
       "    </tr>\n",
       "    <tr>\n",
       "      <th>943</th>\n",
       "      <td>4</td>\n",
       "      <td>1295671216_cde1b9c9d1</td>\n",
       "      <td>&lt;start&gt; A person in jean and a blue sweatshirt...</td>\n",
       "    </tr>\n",
       "    <tr>\n",
       "      <th>21590</th>\n",
       "      <td>1</td>\n",
       "      <td>1295671216_cde1b9c9d1</td>\n",
       "      <td>&lt;start&gt; A guy in a blue sweatshirt take a pict...</td>\n",
       "    </tr>\n",
       "  </tbody>\n",
       "</table>\n",
       "</div>"
      ],
      "text/plain": [
       "      caption_id  ...                                            caption\n",
       "1              0  ...  <start> A crowd of person be stand together on...\n",
       "943            4  ...  <start> A person in jean and a blue sweatshirt...\n",
       "21590          1  ...  <start> A guy in a blue sweatshirt take a pict...\n",
       "\n",
       "[3 rows x 3 columns]"
      ]
     },
     "execution_count": 36,
     "metadata": {},
     "output_type": "execute_result"
    }
   ],
   "source": [
    "image = \"1295671216_cde1b9c9d1.jpg\"\n",
    "images_path = \"Flicker8k_Dataset\"\n",
    "path = images_path + \"/\" + image\n",
    "from IPython.display import Image, display\n",
    "z = Image(filename=path)\n",
    "display(z)\n",
    "\n",
    "df[df['image_file_name']=='1295671216_cde1b9c9d1']"
   ]
  },
  {
   "cell_type": "code",
   "execution_count": null,
   "metadata": {
    "colab": {
     "base_uri": "https://localhost:8080/",
     "height": 508
    },
    "executionInfo": {
     "elapsed": 1055,
     "status": "ok",
     "timestamp": 1632157696581,
     "user": {
      "displayName": "narendran solai sridharan",
      "photoUrl": "https://lh3.googleusercontent.com/a/default-user=s64",
      "userId": "16755550907293243255"
     },
     "user_tz": -330
    },
    "id": "cMI2yqtFLRE8",
    "outputId": "5b928082-d826-49c7-90c9-8a33e5407f0e"
   },
   "outputs": [
    {
     "data": {
      "image/jpeg": "[encoded data removed]",
      "text/plain": [
       "<IPython.core.display.Image object>"
      ]
     },
     "metadata": {},
     "output_type": "display_data"
    },
    {
     "data": {
      "text/html": [
       "<div>\n",
       "<style scoped>\n",
       "    .dataframe tbody tr th:only-of-type {\n",
       "        vertical-align: middle;\n",
       "    }\n",
       "\n",
       "    .dataframe tbody tr th {\n",
       "        vertical-align: top;\n",
       "    }\n",
       "\n",
       "    .dataframe thead th {\n",
       "        text-align: right;\n",
       "    }\n",
       "</style>\n",
       "<table border=\"1\" class=\"dataframe\">\n",
       "  <thead>\n",
       "    <tr style=\"text-align: right;\">\n",
       "      <th></th>\n",
       "      <th>caption_id</th>\n",
       "      <th>image_file_name</th>\n",
       "      <th>caption</th>\n",
       "    </tr>\n",
       "  </thead>\n",
       "  <tbody>\n",
       "    <tr>\n",
       "      <th>3</th>\n",
       "      <td>1</td>\n",
       "      <td>2949353587_64c54e9589</td>\n",
       "      <td>&lt;start&gt; A brown dog be play with a white fluff...</td>\n",
       "    </tr>\n",
       "    <tr>\n",
       "      <th>12699</th>\n",
       "      <td>3</td>\n",
       "      <td>2949353587_64c54e9589</td>\n",
       "      <td>&lt;start&gt; A dark brown dog chew on something whi...</td>\n",
       "    </tr>\n",
       "    <tr>\n",
       "      <th>17748</th>\n",
       "      <td>4</td>\n",
       "      <td>2949353587_64c54e9589</td>\n",
       "      <td>&lt;start&gt; A dog tug on a piece of fabric . &lt;end&gt;</td>\n",
       "    </tr>\n",
       "    <tr>\n",
       "      <th>23219</th>\n",
       "      <td>0</td>\n",
       "      <td>2949353587_64c54e9589</td>\n",
       "      <td>&lt;start&gt; A brown dog be chew on a white rug whi...</td>\n",
       "    </tr>\n",
       "  </tbody>\n",
       "</table>\n",
       "</div>"
      ],
      "text/plain": [
       "      caption_id  ...                                            caption\n",
       "3              1  ...  <start> A brown dog be play with a white fluff...\n",
       "12699          3  ...  <start> A dark brown dog chew on something whi...\n",
       "17748          4  ...     <start> A dog tug on a piece of fabric . <end>\n",
       "23219          0  ...  <start> A brown dog be chew on a white rug whi...\n",
       "\n",
       "[4 rows x 3 columns]"
      ]
     },
     "execution_count": 37,
     "metadata": {},
     "output_type": "execute_result"
    }
   ],
   "source": [
    "image = \"2949353587_64c54e9589.jpg\"\n",
    "images_path = \"Flicker8k_Dataset\"\n",
    "path = images_path + \"/\" + image\n",
    "from IPython.display import Image, display\n",
    "z = Image(filename=path)\n",
    "display(z)\n",
    "\n",
    "df[df['image_file_name']=='2949353587_64c54e9589']"
   ]
  },
  {
   "cell_type": "code",
   "execution_count": null,
   "metadata": {
    "executionInfo": {
     "elapsed": 10032,
     "status": "ok",
     "timestamp": 1632157002337,
     "user": {
      "displayName": "narendran solai sridharan",
      "photoUrl": "https://lh3.googleusercontent.com/a/default-user=s64",
      "userId": "16755550907293243255"
     },
     "user_tz": -330
    },
    "id": "mRjnpgFGtOYB"
   },
   "outputs": [],
   "source": [
    "imageCaptionFileDownloaded = drive.CreateFile({'id':'1-mPKMpphaKqtT26ZzbR5hCHGedkNyAf1'})\n",
    "imageCaptionFileDownloaded.GetContentFile('Image_captioning_Dataset.zip')"
   ]
  },
  {
   "cell_type": "code",
   "execution_count": null,
   "metadata": {
    "executionInfo": {
     "elapsed": 409,
     "status": "ok",
     "timestamp": 1632157720630,
     "user": {
      "displayName": "narendran solai sridharan",
      "photoUrl": "https://lh3.googleusercontent.com/a/default-user=s64",
      "userId": "16755550907293243255"
     },
     "user_tz": -330
    },
    "id": "o0pOAR4CLlL1"
   },
   "outputs": [],
   "source": [
    "ds = df.values"
   ]
  },
  {
   "cell_type": "code",
   "execution_count": null,
   "metadata": {
    "colab": {
     "base_uri": "https://localhost:8080/"
    },
    "executionInfo": {
     "elapsed": 711,
     "status": "ok",
     "timestamp": 1632157003045,
     "user": {
      "displayName": "narendran solai sridharan",
      "photoUrl": "https://lh3.googleusercontent.com/a/default-user=s64",
      "userId": "16755550907293243255"
     },
     "user_tz": -330
    },
    "id": "z-Qm5DPttaoR",
    "outputId": "1b722b55-fe22-44da-a89b-1458eb9d04b2"
   },
   "outputs": [
    {
     "name": "stdout",
     "output_type": "stream",
     "text": [
      "Archive:  Image_captioning_Dataset.zip\n"
     ]
    }
   ],
   "source": [
    "#unzip and read contents of Flicker8k_Dataset folder\n",
    "!unzip -u Image_captioning_Dataset"
   ]
  },
  {
   "cell_type": "code",
   "execution_count": null,
   "metadata": {
    "executionInfo": {
     "elapsed": 10,
     "status": "ok",
     "timestamp": 1632157003046,
     "user": {
      "displayName": "narendran solai sridharan",
      "photoUrl": "https://lh3.googleusercontent.com/a/default-user=s64",
      "userId": "16755550907293243255"
     },
     "user_tz": -330
    },
    "id": "yE42w27Jsreb"
   },
   "outputs": [],
   "source": [
    "# extracting and saving the features\n",
    "#directory = 'Flicker8k_Dataset'\n",
    "#features = extract_features(directory)"
   ]
  },
  {
   "cell_type": "code",
   "execution_count": null,
   "metadata": {
    "executionInfo": {
     "elapsed": 10,
     "status": "ok",
     "timestamp": 1632157003047,
     "user": {
      "displayName": "narendran solai sridharan",
      "photoUrl": "https://lh3.googleusercontent.com/a/default-user=s64",
      "userId": "16755550907293243255"
     },
     "user_tz": -330
    },
    "id": "tvVa8MmNstjX"
   },
   "outputs": [],
   "source": [
    "# time consumed so removed, uncomment to train\n",
    "#pickle.dump(features, open('features.pkl', 'wb'))"
   ]
  },
  {
   "cell_type": "code",
   "execution_count": null,
   "metadata": {
    "executionInfo": {
     "elapsed": 9,
     "status": "ok",
     "timestamp": 1632157003048,
     "user": {
      "displayName": "narendran solai sridharan",
      "photoUrl": "https://lh3.googleusercontent.com/a/default-user=s64",
      "userId": "16755550907293243255"
     },
     "user_tz": -330
    },
    "id": "3tmXTc6h3l5e"
   },
   "outputs": [],
   "source": [
    "# opens a text file reads it and saves it to an object\n",
    "def load_doc(filename):\n",
    "    file = open(filename, 'r')\n",
    "    text = file.read()\n",
    "    file.close()\n",
    "    return text"
   ]
  },
  {
   "cell_type": "code",
   "execution_count": null,
   "metadata": {
    "executionInfo": {
     "elapsed": 10,
     "status": "ok",
     "timestamp": 1632157003049,
     "user": {
      "displayName": "narendran solai sridharan",
      "photoUrl": "https://lh3.googleusercontent.com/a/default-user=s64",
      "userId": "16755550907293243255"
     },
     "user_tz": -330
    },
    "id": "Cl61c6uW303c"
   },
   "outputs": [],
   "source": [
    "# extracting the captions\n",
    "def load_captions(doc):\n",
    "    captions = dict()\n",
    "    for line in doc.split('\\n'):\n",
    "        tokens = line.split()\n",
    "        if len(line)<2:\n",
    "            continue\n",
    "        # in the file, the first token of each line is the image id\n",
    "        image_id, image_caption = tokens[0], tokens[1:]\n",
    "        # remove the filename from the image id\n",
    "        image_id = image_id.split('.')[0]\n",
    "        # convert the image description back into text\n",
    "        image_caption = ' '.join(image_caption)\n",
    "        # initiate the list in the dictionary if not already\n",
    "        if image_id not in captions:\n",
    "            captions[image_id] = list()\n",
    "        captions[image_id].append(image_caption)\n",
    "    return captions\n",
    "# perform some basic clean up on the captions\n",
    "def clean_captions(captions):\n",
    "    for _, captions_list in captions.items():\n",
    "        for i in range(len(captions_list)):\n",
    "            caption = captions_list[i]\n",
    "            # break the caption into words, also makes lowercase\n",
    "            caption = word_tokenize(caption)\n",
    "            # removes single characters\n",
    "            caption = [word for word in caption if len(word)>1]\n",
    "            # removes punctuation and numbers\n",
    "            caption = [word for word in caption if word.isalpha()]\n",
    "            # store again as a string\n",
    "            captions_list[i] = ' '.join(caption)\n",
    "    return captions"
   ]
  },
  {
   "cell_type": "code",
   "execution_count": null,
   "metadata": {
    "executionInfo": {
     "elapsed": 10,
     "status": "ok",
     "timestamp": 1632157003050,
     "user": {
      "displayName": "narendran solai sridharan",
      "photoUrl": "https://lh3.googleusercontent.com/a/default-user=s64",
      "userId": "16755550907293243255"
     },
     "user_tz": -330
    },
    "id": "h1CpCJCR33Rz"
   },
   "outputs": [],
   "source": [
    "# use the captions to generate a vocabulary for the captions\n",
    "def gen_vocab(captions):\n",
    "    vocab = set()\n",
    "    for image_id in captions.keys():\n",
    "        [vocab.update(word_tokenize(caption)) for caption in captions[image_id]]\n",
    "    return vocab"
   ]
  },
  {
   "cell_type": "code",
   "execution_count": null,
   "metadata": {
    "executionInfo": {
     "elapsed": 10,
     "status": "ok",
     "timestamp": 1632157003051,
     "user": {
      "displayName": "narendran solai sridharan",
      "photoUrl": "https://lh3.googleusercontent.com/a/default-user=s64",
      "userId": "16755550907293243255"
     },
     "user_tz": -330
    },
    "id": "d2Qs4QIA34iZ"
   },
   "outputs": [],
   "source": [
    "# save the captions to a file to be used again\n",
    "def save_captions(captions, filename):\n",
    "    lines = list()\n",
    "    for image_id, caption_list in captions.items():\n",
    "        for caption in caption_list:\n",
    "            lines.append(image_id + ' ' + caption)\n",
    "    data = '\\n'.join(lines)\n",
    "    file = open(filename, 'w')\n",
    "    file.write(data)\n",
    "    file.close()"
   ]
  },
  {
   "cell_type": "code",
   "execution_count": null,
   "metadata": {
    "colab": {
     "base_uri": "https://localhost:8080/"
    },
    "executionInfo": {
     "elapsed": 16655,
     "status": "ok",
     "timestamp": 1632157019696,
     "user": {
      "displayName": "narendran solai sridharan",
      "photoUrl": "https://lh3.googleusercontent.com/a/default-user=s64",
      "userId": "16755550907293243255"
     },
     "user_tz": -330
    },
    "id": "iDTqsUhq35zk",
    "outputId": "5173a08a-8972-4603-a7e5-40b79e353785"
   },
   "outputs": [
    {
     "name": "stdout",
     "output_type": "stream",
     "text": [
      "Loaded: 8032\n"
     ]
    }
   ],
   "source": [
    "captions = {}\n",
    "for image in df['image_file_name'].unique():\n",
    "  captionTxt = df[df['image_file_name']==image]['caption']\n",
    "  image\n",
    "  captions[image]= captionTxt.tolist()\n",
    "\n",
    "print('Loaded:', len(captions))"
   ]
  },
  {
   "cell_type": "code",
   "execution_count": null,
   "metadata": {
    "colab": {
     "base_uri": "https://localhost:8080/"
    },
    "executionInfo": {
     "elapsed": 14,
     "status": "ok",
     "timestamp": 1632157019696,
     "user": {
      "displayName": "narendran solai sridharan",
      "photoUrl": "https://lh3.googleusercontent.com/a/default-user=s64",
      "userId": "16755550907293243255"
     },
     "user_tz": -330
    },
    "id": "xP-b8Uyg_CIa",
    "outputId": "6ebbe3c7-109a-43d0-a7ad-d5219d5d0a6d"
   },
   "outputs": [
    {
     "name": "stdout",
     "output_type": "stream",
     "text": [
      "Caption sample: ('3225880532_c8d5d1d798', ['A man wear a red coat with glass look at another man .', 'Two man talk outdoors .', 'A man in a red coat and hat talk to another man in red .', 'A man in a red jacket and hat talk to another man .'])\n"
     ]
    }
   ],
   "source": [
    "print('Caption sample:', random.choice(list(captions.items())))"
   ]
  },
  {
   "cell_type": "code",
   "execution_count": null,
   "metadata": {
    "colab": {
     "base_uri": "https://localhost:8080/"
    },
    "executionInfo": {
     "elapsed": 13,
     "status": "ok",
     "timestamp": 1632157019700,
     "user": {
      "displayName": "narendran solai sridharan",
      "photoUrl": "https://lh3.googleusercontent.com/a/default-user=s64",
      "userId": "16755550907293243255"
     },
     "user_tz": -330
    },
    "id": "-IUuWNot_TVK",
    "outputId": "16a55a1b-cdc7-4656-ac38-e38e8f774f4d"
   },
   "outputs": [
    {
     "name": "stdout",
     "output_type": "stream",
     "text": [
      "[nltk_data] Downloading package punkt to /root/nltk_data...\n",
      "[nltk_data]   Package punkt is already up-to-date!\n"
     ]
    },
    {
     "data": {
      "text/plain": [
       "True"
      ]
     },
     "execution_count": 20,
     "metadata": {},
     "output_type": "execute_result"
    }
   ],
   "source": [
    "import nltk\n",
    "nltk.download('punkt')"
   ]
  },
  {
   "cell_type": "code",
   "execution_count": null,
   "metadata": {
    "colab": {
     "base_uri": "https://localhost:8080/"
    },
    "executionInfo": {
     "elapsed": 6608,
     "status": "ok",
     "timestamp": 1632157026300,
     "user": {
      "displayName": "narendran solai sridharan",
      "photoUrl": "https://lh3.googleusercontent.com/a/default-user=s64",
      "userId": "16755550907293243255"
     },
     "user_tz": -330
    },
    "id": "9GpeGK6L_IWe",
    "outputId": "85ff7db7-49f9-4538-d107-12c7b6164f90"
   },
   "outputs": [
    {
     "name": "stdout",
     "output_type": "stream",
     "text": [
      "Vocab Size: 5640\n"
     ]
    }
   ],
   "source": [
    "captions = clean_captions(captions)\n",
    "vocabulary = gen_vocab(captions)\n",
    "print('Vocab Size:', len(vocabulary))\n",
    "save_captions(captions, 'captions.txt')"
   ]
  },
  {
   "cell_type": "markdown",
   "metadata": {
    "id": "LSphzxeN_Z7s"
   },
   "source": [
    "# Load and transform data"
   ]
  },
  {
   "cell_type": "code",
   "execution_count": null,
   "metadata": {
    "executionInfo": {
     "elapsed": 14,
     "status": "ok",
     "timestamp": 1632157026301,
     "user": {
      "displayName": "narendran solai sridharan",
      "photoUrl": "https://lh3.googleusercontent.com/a/default-user=s64",
      "userId": "16755550907293243255"
     },
     "user_tz": -330
    },
    "id": "XpnnoxGd_NBH"
   },
   "outputs": [],
   "source": [
    "# load list of images\n",
    "def load_set(filename):\n",
    "    doc = load_doc(filename)\n",
    "    dataset = list()\n",
    "    for line in doc.split('\\n'):\n",
    "        if len(line)<1:\n",
    "            continue\n",
    "        identifier = line.split('.')[0]\n",
    "        dataset.append(identifier)\n",
    "    return set(dataset)"
   ]
  },
  {
   "cell_type": "code",
   "execution_count": null,
   "metadata": {
    "executionInfo": {
     "elapsed": 12,
     "status": "ok",
     "timestamp": 1632157026302,
     "user": {
      "displayName": "narendran solai sridharan",
      "photoUrl": "https://lh3.googleusercontent.com/a/default-user=s64",
      "userId": "16755550907293243255"
     },
     "user_tz": -330
    },
    "id": "U1T_4P2y_d2_"
   },
   "outputs": [],
   "source": [
    "def load_formated_captions(filename, dataset):\n",
    "    doc = load_doc(filename)\n",
    "    captions = dict()\n",
    "    for line in doc.split('\\n'):\n",
    "        tokens = line.split()\n",
    "        image_id, image_caption = tokens[0], tokens[1:]\n",
    "        if image_id in dataset:\n",
    "            if image_id not in captions:\n",
    "                captions[image_id] = list()\n",
    "            caption = 'startseq ' + ' '.join(image_caption) + ' endseq'\n",
    "            captions[image_id].append(caption)\n",
    "    return captions"
   ]
  },
  {
   "cell_type": "code",
   "execution_count": null,
   "metadata": {
    "executionInfo": {
     "elapsed": 12,
     "status": "ok",
     "timestamp": 1632157026303,
     "user": {
      "displayName": "narendran solai sridharan",
      "photoUrl": "https://lh3.googleusercontent.com/a/default-user=s64",
      "userId": "16755550907293243255"
     },
     "user_tz": -330
    },
    "id": "WCjJy9LX_gUu"
   },
   "outputs": [],
   "source": [
    "def load_photo_features(filename, dataset=None):\n",
    "    all_features = pickle.load(open(filename, 'rb'))\n",
    "    if dataset:\n",
    "        features = {k: all_features[k] for k in dataset}\n",
    "        return features\n",
    "    else:\n",
    "        return all_features"
   ]
  },
  {
   "cell_type": "code",
   "execution_count": null,
   "metadata": {
    "colab": {
     "base_uri": "https://localhost:8080/"
    },
    "executionInfo": {
     "elapsed": 3604,
     "status": "ok",
     "timestamp": 1632157029897,
     "user": {
      "displayName": "narendran solai sridharan",
      "photoUrl": "https://lh3.googleusercontent.com/a/default-user=s64",
      "userId": "16755550907293243255"
     },
     "user_tz": -330
    },
    "id": "RNLk95w8_iDn",
    "outputId": "d8e97ccd-8aa4-416d-d0ee-f32a97345721"
   },
   "outputs": [
    {
     "name": "stdout",
     "output_type": "stream",
     "text": [
      "Dataset: 8032\n",
      "Training Captions: 8032\n",
      "Training Images: 8032\n"
     ]
    }
   ],
   "source": [
    "filename = 'Flickr8k_text/Flickr_8k.trainImages.txt'\n",
    "train = df['image_file_name'].unique()\n",
    "train = set(train.flatten())\n",
    "print('Dataset:', len(train))\n",
    "train_captions = load_formated_captions('captions.txt', train)\n",
    "print('Training Captions:', len(train_captions))\n",
    "train_features = load_photo_features('features.pkl', train)\n",
    "print('Training Images:', len(train_features))"
   ]
  },
  {
   "cell_type": "code",
   "execution_count": null,
   "metadata": {
    "executionInfo": {
     "elapsed": 16,
     "status": "ok",
     "timestamp": 1632157029897,
     "user": {
      "displayName": "narendran solai sridharan",
      "photoUrl": "https://lh3.googleusercontent.com/a/default-user=s64",
      "userId": "16755550907293243255"
     },
     "user_tz": -330
    },
    "id": "Ki1x9SyT_jxF"
   },
   "outputs": [],
   "source": [
    "# creating a tokenizer on the dictionary means we need unpack the dictionary into a list of lists\n",
    "def create_tokenizer(captions):\n",
    "    lines = list()\n",
    "    for caption_list in captions.values():\n",
    "        [lines.append(caption) for caption in caption_list]\n",
    "    tokenizer = Tokenizer()\n",
    "    tokenizer.fit_on_texts(lines)\n",
    "    return tokenizer"
   ]
  },
  {
   "cell_type": "code",
   "execution_count": null,
   "metadata": {
    "colab": {
     "base_uri": "https://localhost:8080/"
    },
    "executionInfo": {
     "elapsed": 15,
     "status": "ok",
     "timestamp": 1632157029898,
     "user": {
      "displayName": "narendran solai sridharan",
      "photoUrl": "https://lh3.googleusercontent.com/a/default-user=s64",
      "userId": "16755550907293243255"
     },
     "user_tz": -330
    },
    "id": "AlULKyCYBJQb",
    "outputId": "eeecbe6b-f936-4c0b-c50a-f9f4ed5b6b0b"
   },
   "outputs": [
    {
     "name": "stdout",
     "output_type": "stream",
     "text": [
      "vocab_dim: 5184\n"
     ]
    }
   ],
   "source": [
    "# creating the tokenizer\n",
    "tokenizer = create_tokenizer(train_captions)\n",
    "# the dimension that we pass into the algorithms needs to be 1 larger than the vocab size\n",
    "vocab_dim = len(tokenizer.word_index) + 1\n",
    "print('vocab_dim:', vocab_dim)"
   ]
  },
  {
   "cell_type": "code",
   "execution_count": null,
   "metadata": {
    "executionInfo": {
     "elapsed": 10,
     "status": "ok",
     "timestamp": 1632157029898,
     "user": {
      "displayName": "narendran solai sridharan",
      "photoUrl": "https://lh3.googleusercontent.com/a/default-user=s64",
      "userId": "16755550907293243255"
     },
     "user_tz": -330
    },
    "id": "tAAkpsQLBKmH"
   },
   "outputs": [],
   "source": [
    "# save the tokenizer\n",
    "pickle.dump(tokenizer, open('tokenizer.pkl', 'wb'))"
   ]
  },
  {
   "cell_type": "code",
   "execution_count": null,
   "metadata": {
    "executionInfo": {
     "elapsed": 9,
     "status": "ok",
     "timestamp": 1632157029898,
     "user": {
      "displayName": "narendran solai sridharan",
      "photoUrl": "https://lh3.googleusercontent.com/a/default-user=s64",
      "userId": "16755550907293243255"
     },
     "user_tz": -330
    },
    "id": "af3KnbhcBM1I"
   },
   "outputs": [],
   "source": [
    "# getting the max length of the captions\n",
    "def get_max_length(captions):\n",
    "    lines = list()\n",
    "    for caption_list in captions.values():\n",
    "        [lines.append(caption) for caption in caption_list]\n",
    "    return max(len(line.split()) for line in lines)"
   ]
  },
  {
   "cell_type": "code",
   "execution_count": null,
   "metadata": {
    "executionInfo": {
     "elapsed": 9,
     "status": "ok",
     "timestamp": 1632157029899,
     "user": {
      "displayName": "narendran solai sridharan",
      "photoUrl": "https://lh3.googleusercontent.com/a/default-user=s64",
      "userId": "16755550907293243255"
     },
     "user_tz": -330
    },
    "id": "V2942iScBORI"
   },
   "outputs": [],
   "source": [
    "# transform the data to be used for model training\n",
    "def gen_Xy(captions, max_length, features, tokenizer):\n",
    "    # we need two training feature arrays, and a training target array\n",
    "    X1, X2, y = list(), list(), list()\n",
    "    # extract these to shape the arrays\n",
    "    vocab_dim = len(tokenizer.word_index) + 1\n",
    "    # generate the training features for the text data\n",
    "    for image_id, caption_list in captions.items():\n",
    "        for caption in caption_list:\n",
    "            seq = tokenizer.texts_to_sequences([caption])[0]\n",
    "            # generate partial sequences\n",
    "            for i in range(1, len(seq)):\n",
    "                in_seq, out_seq = seq[:i], seq[i]\n",
    "                # pad the partial sequence for consistent input length\n",
    "                in_seq = pad_sequences([in_seq], maxlen=max_length)[0]\n",
    "                # encode output sequence\n",
    "                out_seq = to_categorical([out_seq], num_classes=vocab_dim)[0]\n",
    "                # store into the training features and target array\n",
    "                X1.append(features[image_id][0])\n",
    "                X2.append(in_seq)\n",
    "                y.append(out_seq)\n",
    "    return np.array(X1), np.array(X2), np.array(y)"
   ]
  },
  {
   "cell_type": "code",
   "execution_count": null,
   "metadata": {
    "executionInfo": {
     "elapsed": 9,
     "status": "ok",
     "timestamp": 1632157029900,
     "user": {
      "displayName": "narendran solai sridharan",
      "photoUrl": "https://lh3.googleusercontent.com/a/default-user=s64",
      "userId": "16755550907293243255"
     },
     "user_tz": -330
    },
    "id": "GLYv2knhBQPq"
   },
   "outputs": [],
   "source": [
    "max_length = get_max_length(train_captions)"
   ]
  },
  {
   "cell_type": "code",
   "execution_count": null,
   "metadata": {
    "executionInfo": {
     "elapsed": 8,
     "status": "ok",
     "timestamp": 1632157029900,
     "user": {
      "displayName": "narendran solai sridharan",
      "photoUrl": "https://lh3.googleusercontent.com/a/default-user=s64",
      "userId": "16755550907293243255"
     },
     "user_tz": -330
    },
    "id": "N5heMhrmD51O"
   },
   "outputs": [],
   "source": [
    "from itertools import islice\n",
    "\n",
    "def take(n, iterable):\n",
    "    \"Return first n items of the iterable as a list\"\n",
    "    return list(islice(iterable, n))\n",
    "\n",
    "n_items = take(100, train_captions.items())"
   ]
  },
  {
   "cell_type": "code",
   "execution_count": null,
   "metadata": {
    "colab": {
     "base_uri": "https://localhost:8080/"
    },
    "executionInfo": {
     "elapsed": 415,
     "status": "ok",
     "timestamp": 1632157776235,
     "user": {
      "displayName": "narendran solai sridharan",
      "photoUrl": "https://lh3.googleusercontent.com/a/default-user=s64",
      "userId": "16755550907293243255"
     },
     "user_tz": -330
    },
    "id": "VljiXZqFIyhg",
    "outputId": "c29f5868-197e-4264-e4a3-ab0a968c867d"
   },
   "outputs": [
    {
     "name": "stdout",
     "output_type": "stream",
     "text": [
      "<start> A fluffy , tri-colored dog be run down a road with a paper in its mouth . <end>\n",
      "<start> a bald man with a tattooed head stand next to a man with a brown t-shirt in front of a transparent awning . <end>\n",
      "<start> a tan dog jog with his tongue hang out <end>\n",
      "<start> A little girl wear pink be have fun bungee jump . <end>\n",
      "<start> A boy in blue run away from a woman in blue . <end>\n",
      "<start> A silhouette of a skateboarder in the air . <end>\n",
      "<start> A person ski down a snowy hill . <end>\n",
      "<start> A man sit in front of a wall with art picture on it . <end>\n",
      "<start> Three girl dance . <end>\n",
      "<start> A dog run quick through the wood . <end>\n",
      "<start> A dog run overtop the dry earth . <end>\n",
      "<start> A blond haired child with blue and red floaties play in the ocean . <end>\n",
      "<start> A dance girl perform a high kick in a parade . <end>\n",
      "<start> A goalie block the puck in a field hockey game . <end>\n",
      "<start> A woman be sit at a beach cover by a lot of seaweed . <end>\n",
      "<start> A man on the ground near a row of car , and another man stand hold the first man 's leg . <end>\n",
      "<start> A guy on a log . <end>\n",
      "<start> Two woman in bikini play on a beach . <end>\n",
      "<start> A man be sit on a black and brown dog . <end>\n",
      "<start> A dog retrieve a golf ball . <end>\n",
      "<start> A boy sit on a stump . <end>\n",
      "<start> Two man wear sunglasses . <end>\n",
      "<start> A girl in a yellow shirt walk with her hand in her pocket on a bridge . <end>\n",
      "<start> A wet dog shake its self dry . <end>\n",
      "<start> There be a little boy in a red shirt and a dirty face and he be smile . <end>\n",
      "<start> A brown dog be play ball in a yard . <end>\n",
      "<start> A man in a hat be display picture next to a skier in a blue hat . <end>\n",
      "<start> Woman with a brown paper bag on a bus . <end>\n",
      "<start> A group of child run a footrace in the snow . <end>\n",
      "<start> A boy be leap over a blue hose pipe as a little girl watch . <end>\n",
      "<start> A brown dog trot across a grassy , fenced-in yard . <end>\n",
      "<start> A woman in a red shirt be sit on the edge of a cliff . <end>\n",
      "<start> A horse be in midair in a corral . <end>\n",
      "<start> Two girl sit along a lake while a man in background fish <end>\n",
      "<start> Six pre-teen boy pose in front of an old building <end>\n",
      "<start> On a rainy day , a woman hold an umbrella above a runner and give her water . <end>\n",
      "<start> Woman with three child fish over boardwalk in the even . <end>\n",
      "<start> A group of smile young woman pose together . <end>\n",
      "<start> Two little kid play in a colapsable fabric tunnel . <end>\n",
      "<start> The dog team be pull a man on a sled . <end>\n",
      "<start> child watch a play . <end>\n",
      "<start> People in dark clothing sit together . <end>\n",
      "<start> A duck be splash in a puddle of water . <end>\n",
      "<start> A woman talk on a cellphone walk in front of water . <end>\n",
      "<start> A boy pose for a picture and in the background a man be hang by a rope . <end>\n",
      "<start> A young boy and girl cuddle in a grassy field . <end>\n",
      "<start> a person snowboard on a refrigerator <end>\n",
      "<start> A baby hang off an adult 's back while laugh . <end>\n",
      "<start> A dog be walk with a toy . <end>\n",
      "<start> A child eat food and smile at the camera . <end>\n",
      "<start> Two child in the wood near a pond . <end>\n",
      "<start> A woman with a beverage and a guy walk behind her . <end>\n",
      "<start> A white pelican be fly over the ocean . <end>\n",
      "<start> child in bathe suit play . <end>\n",
      "<start> A woman and three child . <end>\n",
      "<start> Two man , with sunglasses on their head , talk . <end>\n",
      "<start> A man be crouch down hold on to his large brown dog . <end>\n",
      "<start> A girl carry a lot through the grass . <end>\n",
      "<start> Swimmer move through the water . <end>\n",
      "<start> Four middle eastern child , three girl and one boy , climb on a grotto with a pink interior . <end>\n",
      "<start> A dog run down a ramp during a dog show . <end>\n",
      "<start> A girl in black tank top catch a fish . <end>\n",
      "<start> A boy in an orange snorkel mask swim underwater . <end>\n",
      "<start> A child be hold a camera up close . <end>\n",
      "<start> A little girl hold her hand so that it look a rainbow end in her hand . <end>\n",
      "<start> Two boy be play with a soccer ball on a sport field . <end>\n",
      "<start> Two dog play on the grass . <end>\n",
      "<start> A girl on monkey bar . <end>\n",
      "<start> Closeup of a white bunny with another white bunny and black horse in the background . <end>\n",
      "<start> A girl in a bikini run out of the surf . <end>\n",
      "<start> Three person sit on a bench . <end>\n",
      "<start> A person surf a wave . <end>\n",
      "<start> A girl cringe when drop of water come her way . <end>\n",
      "<start> A person in a red and black ski outfit be look over a snowy , mountainous landscape . <end>\n",
      "<start> A guy ride a bike through mud and water . <end>\n",
      "<start> A closeup of a little girl on a swing . <end>\n",
      "<start> a lone person stand on some rock with large snowy mountain in the background . <end>\n",
      "<start> An ump in black watch a baseball game . <end>\n",
      "<start> A bunch of person at a train station . <end>\n",
      "<start> Race on wet road while man hang on back . <end>\n",
      "<start> A motorcycle be be ride on a track whilst pull a wheelie . <end>\n",
      "<start> a man jump off a ramp in a bike <end>\n",
      "<start> A young girl be prepare to blow on a dandelion in her hand . <end>\n",
      "<start> A hiker in a red cap walk along a mountain path . <end>\n",
      "<start> A group of person with their back to the camera and a little girl face a lady . <end>\n",
      "<start> Two child try to squeeze under some metal bar <end>\n",
      "<start> A skier fly through the air . <end>\n",
      "<start> A small child be carry a large hoop . <end>\n",
      "<start> Three child be play badminton . <end>\n",
      "<start> A pro football player tackle another player on the goal line in a crowded stadium . <end>\n",
      "<start> In rural outdoors , blond woman sit on roof of yellow Bmw vehicle , two person inside . <end>\n",
      "<start> A boy in a green shirt above something blue . <end>\n",
      "<start> Someone fire a bullet from a handgun into the wood . <end>\n",
      "<start> A basketball player run while another try to block him . <end>\n",
      "<start> A group of horse and rider be play polo on the grass . <end>\n",
      "<start> Three person pose for a picture with one man give a kiss face . <end>\n",
      "<start> A small dog jump an obstacle in a grassy field . <end>\n",
      "<start> A man hold a trophy on a stage . <end>\n",
      "<start> The man and dog , which be leap into the air , be play Frisbee . <end>\n",
      "<start> A large sleek brown dog be stand in the water . <end>\n",
      "<start> Young girl in orange dress hold orange flower . <end>\n",
      "<start> A bicycle stunt jump be be perforced in a city . <end>\n",
      "<start> A crowded street in Italy . <end>\n",
      "<start> A dog run while hold an object in its mouth . <end>\n",
      "<start> A skateboarder be airborne on a bridge . <end>\n",
      "<start> Three person in dark clothing stand in a field of melt snow . <end>\n",
      "<start> People sit near a fire outside . <end>\n",
      "<start> A baseball player swing a bat <end>\n",
      "<start> The man and woman show off their matching skull tattoo . <end>\n",
      "<start> A man with Rollerblade grind a curb . <end>\n",
      "<start> A man skateboard on the side of step <end>\n",
      "<start> A child be well bundle as he walk in the snow . <end>\n",
      "<start> A brown dog be jump over a tree limb in a wooded area . <end>\n",
      "<start> A group of man stand in a gymnasium with a basketball . <end>\n",
      "<start> A football player in an orange uniform have the ball in his arm . <end>\n",
      "<start> A female martial artist kick another female martial artist in the face <end>\n",
      "<start> two dog play on the dry ground . <end>\n",
      "<start> A boy be dress as Freddy Krueger . <end>\n",
      "<start> Closeup of two woman hug each other <end>\n",
      "<start> A kid be under a blue umbrella . <end>\n",
      "<start> A girl ride a scooter on a sidewalk . <end>\n",
      "<start> A woman hula hoop down a sidewalk . <end>\n",
      "<start> A man stand in front of a brick building . <end>\n",
      "<start> A man wear an Indian costume be play a snare drum . <end>\n",
      "<start> A black and white dog be watch over a flock of white sheep . <end>\n",
      "<start> A small child be give heavy metal sign <end>\n",
      "<start> Two dog be lay in the snow with their mouth open . <end>\n",
      "<start> Two child be play hockey on a frozen pond <end>\n",
      "<start> A man throw a small child up in the air . <end>\n",
      "<start> Muzzled greyhound be race along a dog track . <end>\n",
      "<start> Two person ride their bike on a hill . <end>\n",
      "<start> A brown dog hold a huge stick in its mouth run in the snow . <end>\n",
      "<start> Three child run by the water . <end>\n",
      "<start> Two girl wake through some mud at a park . <end>\n",
      "<start> A white dog in a blue leap over a man in a blue outfit with yellow star in order to catch a Frisbee whilst person stand by and watch . <end>\n",
      "<start> Two girl crouch in a small stall . <end>\n",
      "<start> A man dress in black ride a green bike . <end>\n",
      "<start> A distored image of a man drink a green liquid in a mug . <end>\n",
      "<start> many bride line up on a street . <end>\n",
      "<start> A policeman stand in a crosswalk in a city . <end>\n",
      "<start> Two dog be play tug of war with a green toy . <end>\n",
      "<start> A white dog with a collar and leash be about to chew on a stick . <end>\n",
      "<start> A dog sit back on his hind leg and another dog stoop down . <end>\n",
      "<start> Two young girl make face from below a sculpture . <end>\n",
      "<start> A girl in a colorful skirt and blue shirt pounce onto her bed . <end>\n",
      "<start> Football player be tackle a football player carry the football . <end>\n",
      "<start> A man wear red short be hold onto rock beside the water . <end>\n",
      "<start> two man , one in a red shirt , run towards a Frisbee . <end>\n",
      "<start> A crowd gather at an ice skate park in the winter . <end>\n",
      "<start> A man smoke a cigar read a paper in a city <end>\n",
      "<start> A woman walk after two geese near the ocean . <end>\n",
      "<start> A boy be jump forwards down a water slide . <end>\n",
      "<start> A boy jump off of a cement block . <end>\n",
      "<start> A small girl dress in yellow wear flip flop climb onto red playground equipment . <end>\n",
      "<start> A dog with a ball in its mouth swim in the water . <end>\n",
      "<start> A motorcyclist \" pop a wheelie \" in a grassy field frame by roll hill . <end>\n",
      "<start> A man be sit in a race car near a woman with an umbrella . <end>\n",
      "<start> A man do a trick on ski . <end>\n",
      "<start> A red car be catch in an explosion . <end>\n",
      "<start> Two brown dog run through the grass together . <end>\n",
      "<start> A person sit in a chair suspend by chain at an amusement park . <end>\n",
      "<start> Two man with white glove box in a dim lit box rink . <end>\n",
      "<start> A girl be peek in a window . <end>\n",
      "<start> A small race car with advertise be drive on a rainy track . <end>\n",
      "<start> There be a white and black dog jump off the ground try to catch a ball . <end>\n",
      "<start> There be a skier get some air on slope . <end>\n",
      "<start> A guy on a snowboard grind . <end>\n",
      "<start> A brown dog be carry a wet stick on the shore of the ocean . <end>\n",
      "<start> Two person look at a light exhibit of some sort . <end>\n",
      "<start> A woman with bright red hair stand on a street . <end>\n",
      "<start> Two woman on rollerskates be grapple . <end>\n",
      "<start> A puppy play with an adult dog in the snow . <end>\n",
      "<start> A boy be stand on a playground equipment in a blue triangle . <end>\n",
      "<start> a man in a red outfit be ride a red motorbike uphill on a motocross circuit . <end>\n",
      "<start> Two child outside near a container of water and a water pail <end>\n",
      "<start> A boy be make a splash in a swim pool . <end>\n",
      "<start> A dog catch a fly disk in a yard with a tree . <end>\n",
      "<start> A woman walk across a hill with dark cloud in the background . <end>\n",
      "<start> A boy jump on a bed . <end>\n",
      "<start> A group of person be stand and sit around on the ground at night . <end>\n",
      "<start> A guy stand be watch another guy in midair . <end>\n",
      "<start> A brown and white cow jump away from a black and white cattle dog . <end>\n",
      "<start> A dog bite a cat whiel they lay on a bed together . <end>\n",
      "<start> A dog swim in a pool while another watch . <end>\n",
      "<start> A young girl climb a rock wall . <end>\n",
      "<start> A hockey player during a game . <end>\n",
      "<start> Kid swim underwater in a pool . <end>\n",
      "<start> two dog be on a carpet in front of a cardboard box . <end>\n",
      "<start> A child admire an exhibit or store window . <end>\n",
      "<start> Young boy in red run on beach and pass white , blue and green beach hut . <end>\n",
      "<start> A multicolor cat fight with a black and brown dog in a red collar . <end>\n",
      "<start> A rock climber wear a Santa suit be hang from a strand of Christmas light . <end>\n",
      "<start> Two small child walk away in a field . <end>\n",
      "<start> A couple in a restaurant be hold hand . <end>\n",
      "<start> A brown cow jump near a black one as a dog herd them . <end>\n",
      "<start> A young girl be sit in the grass . <end>\n",
      "<start> two man wear nametags have a drink and smile <end>\n",
      "<start> A small dog run from the dirt onto a street <end>\n",
      "<start> Walker on a concrete boardwalk under a blue sky . <end>\n",
      "<start> a tennis player wear a green shirt about to hit a ball with his racquet . <end>\n",
      "<start> A blond haired and blue eye child hold a wooden airplane in his hand . <end>\n",
      "<start> A man be walk by tree in front of a city skyline . <end>\n",
      "<start> Two child hang on a large branch . <end>\n",
      "<start> A girl be jump in the air while hold an orange and white guitar . <end>\n",
      "<start> Three toddler be run towards the camera in a grassy yard . <end>\n",
      "<start> A little child be hold a tail that belong to a very large crocodile . <end>\n",
      "<start> Boy skate on a railing in a park lot . <end>\n",
      "<start> Three young sheep walk along a grassy hill . <end>\n",
      "<start> A black dog with a brown muzzle swim in water . <end>\n",
      "<start> Two little girl , one with chocolate on her face , make face . <end>\n",
      "<start> a man wear a yellow shirt stand in the middle of two bed that a boy be jump on in the background <end>\n",
      "<start> A woman next to a dog which be run an obstacle course . <end>\n",
      "<start> a group of woman in pink dress walk across a crosswalk towards a cruisship . <end>\n",
      "<start> two scantily clad girl hold checkered flag stand on each side of a classic red car . <end>\n",
      "<start> Men at a rodeo try to tame a bull . <end>\n",
      "<start> a black and white dog jump in the air to catch a Frisbee <end>\n",
      "<start> A homeless man sit on a sofa under an overpass . <end>\n",
      "<start> A man poke his head out of a red tent in the snow . <end>\n",
      "<start> Two kid be stand in the ocean hug each other . <end>\n",
      "<start> A boy wear a red shirt be run through the sand . <end>\n",
      "<start> Two dog play tug of war with a ball . <end>\n",
      "<start> A man be stand on a big rock overlook a valley . <end>\n",
      "<start> A large dog chase a small dog on the sand . <end>\n",
      "<start> There be a child in a red and yellow toy car . <end>\n",
      "<start> Men play soccer on red sand . <end>\n",
      "<start> Two skier get ready to jump off of a ski lift . <end>\n",
      "<start> A young boy wear a gray shirt eat pasta . <end>\n",
      "<start> A tan colored dog have a yellow toy in its mouth . <end>\n",
      "<start> An individual be ski down a mountain slope . <end>\n",
      "<start> A large dog stand with a small dog near the edge of the water . <end>\n",
      "<start> A man and two lady look fade as they hold bottle of beer in their hand . <end>\n",
      "<start> A small furry dog be jump over a low beam . <end>\n",
      "<start> A girl be sit on a bench eat ice cream with a bike next to her . <end>\n",
      "<start> A blond girl with a blue stripe shirt be swing . <end>\n",
      "<start> A white dog run on a beach . <end>\n",
      "<start> A young man in a white shirt and gold and black hat sit cross legged . <end>\n",
      "<start> Two person , one in blue and one in red , stand in front of a building . <end>\n",
      "<start> A baby in a pool splash water in the air . <end>\n",
      "<start> A man wear a blue shirt and matching helmet be jump his bike over a hill . <end>\n",
      "<start> Man in safety gear ride a bike on a rocky trail . <end>\n",
      "<start> A person be ride their bike on a trail next to the wood . <end>\n",
      "<start> The back of a lady wear a blue halter top be show , a crowd in the distance . <end>\n",
      "<start> Two teenage girl be wear fancy dress at an event . <end>\n",
      "<start> A brown dog be swim in a creek . <end>\n",
      "<start> A black dog be swim while carry a tennis <end>\n",
      "<start> Girl swing on a swing outside in a wooded area . <end>\n",
      "<start> A black dog sit in brown grass with a colorful ball . <end>\n",
      "<start> A boy in black wave his arm while other person be behind him on a field . <end>\n",
      "<start> A woman and girl pose together in a garden . <end>\n",
      "<start> A person jump high in the air hold onto their bicycle . <end>\n",
      "<start> A deer jump over a fence . <end>\n",
      "<start> A beagle walk along the calm shore . <end>\n",
      "<start> Men train for ballet dance in gym <end>\n",
      "<start> Three child play in an outside wood structure . <end>\n",
      "<start> A man be wear a white shirt and sunglasses . <end>\n",
      "<start> Naked child bathe outside under a stream of water . <end>\n",
      "<start> Three person be mountain climb and a lady in front have long hair . <end>\n",
      "<start> A small dog grind against a stuff animal . <end>\n",
      "<start> A light colored dog be chase after a toy outdoors . <end>\n",
      "<start> child and adult play with a sprinkler . <end>\n",
      "<start> A white dog be walk on top of a mountain . <end>\n",
      "<start> A person on a motorcycle be turn on a dirt track behind some bush . <end>\n",
      "<start> The first baseman dive to catch a throw , while the runner touch first base in a softball game <end>\n",
      "<start> a black dog with a blue tag run on a beach <end>\n",
      "<start> Four boy be sit in a muddy stream . <end>\n",
      "<start> A dog wear a green sweater and backpack run in the snow <end>\n",
      "<start> A man be hold a violin whilst a woman play it with a bow . <end>\n",
      "<start> A pack of Pug . <end>\n",
      "<start> A man with a white beard be play a red bagpipe . <end>\n",
      "<start> A group of person stand on a balcony in a very modern set . <end>\n",
      "<start> A woman in a park be talk to a few man <end>\n",
      "<start> A man in colorful short be surf under a wave . <end>\n",
      "<start> An athletic girl in an orange uniform be on a play field of green grass and swing at a ball . <end>\n",
      "<start> A white motorcycle be be ride around a racetrack . <end>\n",
      "<start> Four dog race around a turn . <end>\n",
      "<start> A brown and white dog bark through a fence at small black and white dog . <end>\n",
      "<start> A man be wear a black shirt and hat and smile . <end>\n",
      "<start> Two young dog bite a Frisbee playful . <end>\n",
      "24996\n"
     ]
    }
   ],
   "source": [
    "sentences = []\n",
    "i = 0\n",
    "for i in range(ds.shape[0]):\n",
    "    sentences.append(ds[i, 2])\n",
    "    if i%90==0:\n",
    "        print(ds[i, 2])\n",
    "    \n",
    "print(len(sentences))"
   ]
  },
  {
   "cell_type": "code",
   "execution_count": null,
   "metadata": {
    "colab": {
     "base_uri": "https://localhost:8080/"
    },
    "executionInfo": {
     "elapsed": 674,
     "status": "ok",
     "timestamp": 1632157815599,
     "user": {
      "displayName": "narendran solai sridharan",
      "photoUrl": "https://lh3.googleusercontent.com/a/default-user=s64",
      "userId": "16755550907293243255"
     },
     "user_tz": -330
    },
    "id": "giNl_uU4LzT6",
    "outputId": "c256af25-b050-4549-9521-59839013f8c9"
   },
   "outputs": [
    {
     "name": "stdout",
     "output_type": "stream",
     "text": [
      "['<start>', 'A', 'fluffy', ',', 'tri-colored', 'dog', 'be', 'run', 'down', 'a', 'road', 'with', 'a', 'paper', 'in', 'its', 'mouth', '.', '<end>', '<start>', 'A', 'crowd', 'of', 'person', 'be', 'stand', 'together', 'on', 'a', 'sidewalk', ',', 'while', 'one', 'man', 'be', 'take', 'a', 'picture', '.', '<end>']\n",
      "5996\n",
      "dict_keys(['suspension', 'net', 'excavate', 'enforcment', 'casket', 'dinghy', 'crowd', 'stony', \"'s\", 'live', 'swine', 'Karate', 'prarie', 'feed', 'surface', 'Day', 'staff', 'Bicyclist', 'spotted', 'fireman', 'shredded', 'possessively', 'hall', 'accross', 'bone', 'disk', 'recreational', 'open-air', 'plant', 'marketplace', 'index', 'messily', 'Easter', 'sea', 'wet', 'than', 'stomach', 'whip', 'enter', 'teenager', 'hunt', 'Wolf-like', 'silly', 'rotate', 'clause', 'Kayacker', 'threaten', 'moss-covered', 'scruffy', 'reflect', 'windsail', 'extremely', 'crib', 'That', 'bus', 'Obama', 'bicycle-cross', 'present', 'wicket', 'tractor', 'double', 'pup', 'power', 'smear', 'hoddie', 'form', 'brown-and-white', 'onslaught', 'chime', 'pierced', 'snub', 'sock', 'perfect', 'Indy', 'pain', 'cord', 'bulldog', 'tune', 'perches', 'make', 'cloth', 'tattoo', 'beaded', 'tub', 'passifier', 'gear', 'dramatically', 'juice', 'fuchsia', 'ask', 'candle', 'oncoming', 'motorcyle', 'piano', 'Tow', 'snap', 'milk', 'exhaust', 'four-wheeled', 'runway', 'nature', 'mean', 'bee', 'cot', 'grill', 'defend', 'performs', 'harness', 'construct', 'meditate', 'puppet', 'feathery', 'retriving', 'knoll', 'jetski', 'poorly-lit', 'cookie', 'citizen', 'easy', 'lift', 'sliiding', 'cutout', 'bug', 'dunk', 'piggy', 'Zara', 'tri-colored', 'brief', 'shoe', 'leather', 'bookstore', 'red-dressed', 'horse', 'photography', 'athletics', 'swaetshirt', 'surronded', 'scene', 'flooded', 'indian', 'scope', 'letter', 'litter', 'dame', 'depict', 'rice', 'haul', 'swims', 'relate', 'display', 'Band', 'hammer', 'spacious', 'windshield', 'belay', 'other', 'dump', 'sailboard', 'near', 'get', 'Help', 'gold', 'guidewire', 'house', 'Sheltie', 'powerwash', 'homerun', 'Average', 'fantastic', 'nip', 'East', 'mark', 'protector', 'face', 'Yerba', 'acoustic', 'earring', 'gaurdian', 'heather', 'Chinatown', 'country', 'biek', 'blazer', 'vest', 'elderly', 'goggles', 'mannequin', 'greets', 'rope', 'skimpy', 'clever', 'blurry', 'hoodoo', 'seabird', 'formula', '5', 'Bird', 'enthusiastic', 'Bike', 'Greenpeace', 'Indian', 'afternoon', 'yard', 'Cooper', 'match', 'controller', 'Animal', 'mossy', 'surrounded', 'marshy', 'special', 'graze', 'bare', 'French', 'scottish', 'trail', 'brochure', 'sandy', 'covered', 'hard-hats', 'stoplight', 'left', 'there', 'swimcap', 'zombie', '21', 'glittery', '1', 'Lean', 'streght', 'breathe', 'chart', 'raincoat', 'shoelace', 'steady', 'expanse', 'inside', 'mock', 'industrial', 'traveler', 'grip', 'those', 'tuft', 'snoopy', 'Boy', 'waterfall', 'foggy', 'Cowboy', 'swordfighting', 'additional', 'flap', 'creepy', 'lolly', 'floppy', 'girls', 'rainy', 'nothing', 'breed', 'Not', 'Wine', 'finger', 'mechanical', 'athletic', 'headlight', 'dreary', 'attraction', 'rash', 'amusement', 'attend', 'Green', 'apparantly', 'behinds', 'break', 'trampoline', 'decorated', 'tone', 'Member', 'Incredible', 'gettin', 'polka-dotted', 'inch', 'thick', 'Tigger', 'hilltop', 'balance', 'club', 'roller', 'turbulent', 'stab', 'pants', 'strip', 'which', 'magenta', 'thermos', 'harnessed', 'X', 'cartoon', 'longeared', 'lacrosse', 'creamy', 'shiner', 'gyro', 'asian', 'shelter', 'Pitbull', 'bead', 'wood', 'cake', 'bobsled', 'egg', 'backside', 'girt', 'bowl', 'objective', 'tarp', 'streak', 'thatched', 'Gallery', 'patroller', 'point', 'doorstep', 'beer', 'necklaces', 'eat', 'soap', 'Tree', 'jar', 'overshadows', 'amaze', 'kiddie', 'sits', 'brilliant', 'air', 'mardi', 'shaped', 'shirtless', 'do', 'Shaft', 'out', 'accordion', 'sidewalk', 'groceries', 'Orca', 'Segway', 'someone', 'custom', 'projector', 'extend', 'Youth', 'breakdances', 'sleek', 'props', 'early', 'billboard', 'In', 'Row', 'computer', 'cheap', 'below', 'dog-shirt', 'floatation', 'mom', 'umpire', 'God', 'black-robed', 'stack', '80', 'footpath', 'Groom', 'rooftop', 'sari', 'mini-race', 'yoga', 'crouches', 'onlooker', 'nod', 'hoist', 'wand', 'fiddle', 'donkey', 'collie', 'hurdle', 'human', 'teacher', 'sidecar', '7', '661', 'judo', 'fabric', 'jersy', 'snore', 'fight', 'Ski', 'tile', 'Youngle', 'morning', 'trophy', 'nurse', 'lake', 'Espana', 'natural', 'South', 'Terrier', 'couple', '4', 'brighly', 'apex', 'Weirmeiner', 'braided', 'soggy', 'stained', 'paper', 'ladder', 'people', 'cruise', 'scalling', 'camo', 'rodent', 'slowly', 'Aquos', 'feild', 'pavilion', 'Surfer', 'rock', 'vegetation', 'tunnel', 'rifle', 'dimlight', 'jumper', 'stereo', 'Winnie', 'bunny', 'protection', 'scoop', 'broad', 'lifevest', 'wander', 'underwear', 'stripped', 'skydiver', 'occasion', 'pleasant', 'her', 'skid', 'just', 'Best', 'apartment', 'anciet', 'Parent', 'Shirtless', 'clothe', 'spike', 'gondolier', 'moon', 'Interest', 'lookout', 'solid', 'else', 'leash', 'Onlooker', 'tennis', 'virtual', 'goat', 'hula', 'contemplate', 'geese', 'organization', 'hods', 'narrow', 'alone', 'pitcher', 'teach', 'badly', 'Saharan', 'vintage', 'dressed-up', 'fireplace', 'bonnet', 'collaborate', 'oval', 'iceburg', 'pillar', 'fortess', 'hot', 'wave', 'toss', 'jailbird', 'mill', 'Rower', 'Multiple', 'Oriental', 'competitor', 'sleigh', 'touchline', 'review', 'hobby', 'muscle', 'barrior', 'paraskier', 'remain', 'Finley', 'Toyota', 'boat', 'milkweed', 'barefooted', 'routine', 'tram', 'stoppie', 'Homeless', 'grocery', 'rugby', 'pine', 'gated', 'fingerpaints', 'biscut', 'hairnet', 'tripod', 'referee', 'walmart', 'shit', 'oriental', 'confrontation', 'binoculars', 'lavendar', 'snowmobile', 'Grayhound', 'tap', 'pitbull', 'Purple', 'redwood', 'boarded-up', 'Little', 'facepaint', 'four-wheel', 'tickle', 'snowflake', 'him', 'drak', 'line', 'urban', 'along', 'sideways', 'splatter', 'pot', 'statue', 'Puma', 'motorcycle', 'crazily', 'Waist', 'mat', 'Amish', 'interest', 'childing', 'lie', '13', 'Fireworks', 'any', 'wild', 'top', 'puffy', 'floor', 'impeach', 'topless', 'kit', 'to', 'squirt', 'goalkeeper', 'Rocky', 'standind', 'masquerade', 'hi', 'monitor', 'outfield', 'rodeo', 'an', 'memorabilia', 'lifeguard', 'fully', 'Snowy', 'drill', 'bandaged', 'Man', 'oout', 'Albert', 'madly', 'mountainous', 'incredible', 'turtle', 'silk', 'liquid', 'Cows', 'weiner', 'veteran', 'contestant', 'dolphin', 'blow', 'squeeze', 'marina', 'sprinker', 'whiffle', 'signal', 'Halloween', 'Sumo', 'payer', 'signage', 'Wave', 'grayhound', 'deep', 'atomic', 'barbed', 'wake', 'pagent', 'dirt-covered', 'boatful', 'propel', 'slush', 'hope', 'utility', 'bulletproof', 'time', 'queue', 'haystack', 'Middle-eastern', 'freshly', 'atmosphere', 'Window', 'policeman', 'tussle', 'walkway', 'foreign', 'waterfront', 'mosaic', 'armoire', 'chandelier', 'tide', 'wizard', 'corridor', 'neon-colored', 'five', 'competiting', 'wrecked', 'windsurfs', 'send', 'song', '57', 'domed', 'outfits', 'halloween', 'Peolple', 'fellow', 'flail', 'bmx', 'dim', 'curious', 'plush', 'Drenched', 'plow', 'bright', 'Dog', 'gymnasium', 'raling', 'celebrates', 'Bride', 'pizza', 'aerodynamically', 'vent', 'discovery', 'words', 'marked', 'god', 'mickey', 'border', 'Arch', 'apron', 'h', 'Ten', 'feamle', 'red-clad', 'within', 'turquiose', 'newspaper', 'supervise', 'craw', 'compact', 'showerhead', 'chain', 'stiffing', 'law', 'derby', 'handicapped', 'cappedhills', 'snack', 'Lab', 'thorugh', 'firecracker', 'waitress', 'multicolor', 'discouraged', 'dragon', 'gym', 'frisbree', 'Spelunker', 'livestock', 'kitty', 'lunchbox', 'contort', 'pavement', 'trick', 'darkness', 'street', 'parade', 'gathering', 'prisoner', 'brighty', 'crazy', 'pylon', 'yellowish', 'silky', 'Mountain', 'off-camera', 'crack', 'wasteland', 'Lafayette', 'keffiyahs', 'music', 'plastic', 'completely', 'everyone', 'fry', 'cliffside', 'concert', 'khaki-colored', 'mills', 'stepstool', 'surfer', 'instructor', 'chinese', 'eccentric', 'Chicken', 'bicylist', 'airport', 'chocolate', 'surfung', 'Mountain-dew', '10', 'dangle', 'arm', 'tassel', 'sit', 'off-road', 'fanny', 'Buddist', 'whale', 'Rabbit', 'spigot', 'Hello', 'shred', 'paraglides', 'land', 'warmly', 'attentive', 'four-wheeler', 'parrot', 'graduation', '8', 'dance', 'teeter', 'build', 'tug-of-war', 'camel', 'travel', 'Falcon', 'sweatshirt', 'tube', '22', 'non-working', 'work', 'bleacher', 'acrobat', 'Rodderick', 'yarn', 'kiddy', 'platform', 'gnaws', 'tether', 'casually', 'wring', 'goalie', 'leap', 'chat', 'hypocrite', 'Of', 'monkey-bars', 'Tiny', 'layup', 'seawall', 'indescript', 'spot', 'boy', 'spotlight', 'dancer', 'wash', 'butterfly-catcher', 'sheepdog', 'R.v.', 'almost-dried', 'shirted', 'icicle', 'mid', 'tethered', 'glacier', 'Lay', 'takedown', 'Another', 'goofy', 'roadside', 'whom', 'hug', 'maneuver', 'canon', 'Kite', 'kitchen', 'outstretched', 'manner', 'Gigolo', 'ancient', 'centipede', 'feature', 'nightclub', 'Hiker', 'backed', 'shoot', 'prestends', 'ls', 'sword', 'headscarf', 'bloom', 'concentrate', 'casual', 'tulip', 'procession', 'bedspread', 'bison', 'twisted', 'slimy', 'bunk', 'front', 'guide', 'embrace', 'speech', 'short-sleeved', 'leaf', 'jewel', 'Spanish', 'lap', 'ladie', 'free-falling', 'desert', 'Uniformed', 'guitarist', 'thumb', 'affectionately', 'Mini', 'cockpit', 'experience', 'easel', 'once', 'fuzzy', 'cringe', 'whitewater', 'crawl', 'shorline', 'stay', 'tree', 'emerge', 'coverall', 'before', 'Israel', 'barista', 'plenty', 'blast', 'pong', 'bra', 'classic-style', 'practice', 'ox', 'dirtracing', 'pamphlet', 'snowpile', 'trial', 'flowery', 'everywhere', 'tree-lined', 'bodyboard', 'nice', 'waterhole', 'stunt', 'zippered', 'muti', 'encircle', 'glacial', 'rock-strewn', 'school', 'brindle', 'brown', 'shallow', 'neatly', 'cargo', 'distorted', 'expansive', 'mommy', 'cylindrical', 'golden-brown', 'obscure', 'Right', 'rustric', 'silhouette', 'halo', 'use', 'elementary', '\"', 'massage', 'opponent', 'Fame', 'chip', 'stool', 'liberty', 'mustached', 'merry', 'Schoolchildren', 'pause', 'flower-bed', 'wheelie', 'stoll', 'rail', 'florescent', 'screen', 'upturned', 'hook', 'riverrafting', 'sunbather', 'Toddler', 'card', 'circular', 'level', 'upward', 'Batman', 'support', 'ankle', 'storm', 'responder', 'offensive', 'Wall', 'alongside', 'puddle', 'it', 'Kitty', 'coastline', 'slushies', 'Ivars', 'Shotput', 'utensil', 'Pet', 'Dragon', 'Fawkes', 'potrait', 'flex', 'deliver', 'disheveled', 'Gymnast', 'dominant', 'clay', 'bowler', 'steam', 'biplane', 'windy', 'dive', 'Canadian', 'clergy', 'headphone', 'demolished', 'fluid', 'Somone', 'tangle', 'waterski', 'donate', 'Diego', 'pointed', 'active', 'beige', 'row', 'carries', 'shoulder', 'his', 'mushroom', 'romantically', 'seek', 'backgroud', 'joke', 'passage', 'embed', 'strung', 'cart', 'Female', 'palid', 'boot', 's', 'Canon', 'collides', 'blueleash', 'hood', 'aluminum', 'system', 'float', 'flank', 'stumble', 'sewer', 'snow-patched', 'smoky', 'tugboat', 'end', 'neighborhood', 'mountain', 'Motorcycle', 'messy', 'dimond', 'clown', 'barely', 'Kawasaki', 'Un', 'pier-like', 'harvested', 'horizon', 'crewman', 'ornate', 'pane', 'collect', 'teeshirt', 'offstage', 'off', 'dalmation', 'aqua', 'coaster', 'butterfly', 'brow', 'Various', 'highway', 'trek', 'rise', 'Bicycle', 'illustrated', 'catholic', 'accent', 'cast', 'Referee', 'learn', 'teddy', 'whack', 'fly', 'Golden', 'railing', 'throws', 'masses', 'March', 'dinner', 'nuzzle', 'reflection', 'cheerleader', 'score', 'deflate', 'during', 'Policeman', 'jaywalk', 'way', 'worker', 'inflated', 'lick', 'technical', 'trackside', 'rather', 'codpiece', 'soaker', 'kennel', 'wiener', 'wooden', 'beat', 'garden', 'consume', 'protrude', 'beam', 'engage', 'grimmaces', 'magazine', 'worm', 'applaud', 'cafe', 'jug', 'majestically', 'aggressive', 'alike', 'invention', 'Penske', 'comic', 'compound', 'without', 'slurps', 'cup', 'collapse', 'big-box', 'tent', 'dry', 'Cyclist', 'birdcage', 'stockcar', 'Muzzled', 'mechanism', 'headband', 'electronics', 'thatch', 'min', 'midfield', 'gazebo', 'jump', 'skull', 'wooly', 'seidwalk', 'unoccupied', 'employee', 'amazed', 'bite', 'puff', 'stroll', 'disturb', 'chainmail', 'spew', 'tackle', 'fold', 'Jesus', 'potted', 'firetruck', 'tin', 'Wrestler', 'currently', 'Mallard', 'newly', 'Shephard', 'study', 'long-spandex', 'cape', 'ceiling', 'nametags', 'lush', 'situate', 'Times', 'grotto', 'chaperone', 'fur-trimmed', 'strange', 'waterproof', 'boarder', 'brass', 'vigorous', 'telescope', 'nighttime', 'pearl', 'corkscrew', 'tiger', 'meeting', 'bookshelf', 'enclosed', 'horn', 'fluffy', 'well-lit', '(', 'champ', 'belly-surfing', 'rooster', 'section', 'raceway', 'red-clothed', 'landscaped', 'counter', 'swim', 'fton', 'Kiss', 'disguise', 'squeezes', 'red-carpeted', 'operate', 'drain', 'floaties', 'hip', 'fang', 'soft', 'fall', 'rapid', 'wrestler', 'skeleton-printed', 'sprint', 'wait', 'jazz', 'shop', 'expose', 'downward', 'real', 'deer', 'inspect', 'conoes', 'lay', 'uniformed', 'source', 'anchor', 'flyer', 'vibrate', 'bouquet', 'poke', 'pre-teen', 'few', 'motor', 'track', 'bundled-up', 'overall', 'wicker', 'lapel', 'device', 'Dalmatian', 'coyote', 'badge', 'studio', 'Buster', 'soapy', 'quintet', 'thing', 'drug', 'smile', 'grove', 'orange', 'garbage', 'effects', 'netted', 'tow', 'classic', 'scout', 'Pride', 'fend', 'weimaraner', 'Deer', 'driftwood', 'thousand', 'spangle', 'diveboard', 'Venice', 'whiel', 'prow', 'stonesign', 'cigarette', 'tow-rope', 'another', 'rellow', 'brown-spotted', 'faithful', 'surfboard', 'Flickr', 'this', 'sitts', 'punches', 'coral', 'Closeup', 'convention', 'Bullrider', 'youth', 'buddist', 'Island', 'gloved', 'Bmw', 'water', 'twin', 'sand', 'wagon', 'chopstick', 'calm', 'fire-dancer', 'lavender', 'perked', 'blame', 'recreation', 'popcycles', 'blanket', 'face-down', 'surprise', 'lamp', 'outcrop', 'burst', 'wheeler', 'feel', 'seat', 'communications', 'Astroturf', 'upside', 'Recked', 'Armenian', 'extravagent', 'our', 'paintbrush', 'abandoned', 'rabbit', 'try', 'necklace', 'sunrise', 'wind', 'orange-clad', 'plaid', 'milkshake', 'unpaved', 'overhear', 'fig', 'Kong', 'tire', 'Scuba', 'magizine', 'secured', 'bathrobe', 'slicker', 'yellow-suited', 'glow', 'crate', 'steap', 'follow', 'cheery', 'Guy', 'after', 'distance', 'while', 'interact', 'Empty', 'painted', 'sponsored', 'block', 'desk', 'bin', 'sundown', 'windsurfer', 'Genocide', 'eyepatch', 'Shopper', 'jet', 'swirl', 'duel', 'stringed', 'holey', 'forwards', 'rower', 'Jack', 'three-way', 'implement', 'rimmed', 'choke', 'woodland', 'ballerina', 'U', 'teammate', 'cracked', 'strand', 'coast', 'crust', 'floral', 'kickboxer', 'launcher', 'military', 'elbow', 'kill', 'Hug', 'rip', 'Rotweiler', 'beetle', 'brimmed', 'amplifier', 'pack', 'cathcer', 'chair', 'divind', 'Paint', 'shower', 'hello', 'ticket', 'carve', 'pours', 'brige', 'dot', 'skateboard', 'artifact', 'bring', 'rhododendron', 'lantern', 'right', 'pebble', 'Quinta', 'pucker', 'husk', 'satchel', '625', 'Mickey', 'ocean', 'not', 'dizzy', 'jaket', 'pray', 'defecate', 'favorite', 'needlepoint', 'evil', 'stoop', 'flamboyantly', 'green', 'destination', 'windowsill', 'yawn', 'Mercury', 'link', 'down', 'wear', 'boardwalk', 'Judea', 'collared', 'boundary', 'childrens', 'awkwardly', 'doggy', 'flatbed', 'wispy', 'faux', 'Twp', 'Mcdonalds', 'looker', 'Setter', 'bland', 'Duck', 'label', 'sculpture', 'homebase', 'branch', 'commercial', 'conifer', 'weeds', 'fenced-in', 'Egytian-like', 'underfoot', 'Dew', 'tandem', 'linger', 'Rock', 'confronts', 'fade', 'motorbike', 'dozen', 'walled', 'middle', 'twirl', 'tropical', 'staffordshire', 'environment', 'reptile', 'space', 'Sillhouttes', 'Doe', 'competitively', 'ten', 'choir', 'program', 'audience', 'information', 'tent-like', 'dart', 'change', 'shocked', 'moss', 'croquet', 'park-like', 'Six', 'ankle-deep', 'unison', 'leapfrog', 'rollerskate', 'superman', 'forage', 'careful', 'red', 'even', 'determined', 'experimenter', 'chipmunk', 'roughhouse', 'pretty', 'Seven', 'collapsed', 'kickbox', 'Brazilian', 'Eleven', 'uggs', 'backhand', 'cupcake', 'elevator', 'choppy', 'camp', 'except', 'remove', 'blog', 'Black', 'clutch', 'oddly', 'Senior', 'Yorkshire', 'browse', 'posh', 'fetch', 'collide', 'lounge', 'wrestle', 'naked', 'Bear', 'Speed', 'opposite', 'Ocean', 'enjoy', 'board', 'Chrismas', 'ramp', 'cradle', 'driveway', 'passerby', 'speaker', 'wetsuite', 'mule', 'scooter', 'payfully', 'kneepads', 'judge', 'Circle', 'tracksuit', 'blur', 'personnel', 'As', 'sequined', 'river', 'county', 'tug-o-war', 'peep', 'stone-filled', 'id', 'Spray', 'sun-setting', 'alertly', 'piercings', 'sumo', 'duke', 'Climber', 'Alon', 'war', 'grown', 'mullet', 'demonstarting', 'lump', 'open', 'treat', 'San', 'mesa', 'antique', 'perfomed', 'twirls', 'rental', 'tartan', 'hulk', 'woody', 'tear', 'aboriginal', 'parachute', 'goldenrod', 'works', 'tackler', 'snake', 'station', 'strew', 'pattern', 'Pelican', 'determination', 'occassion', 'release', 'trooper', 'glance', 'sillhouetted', 'think', 'dancefloor', 'dogsled', 'feet', 'Watch', 'sleve', 'Us', 'sled-like', 'belongings', 'rosy', 'setup', 'Player', 'severe', 'peek', 'sparsely', 'landform', 'traffic', 'stripy', 'powerboat', 'poise', 'tape', 'prom', 'Sole', 'go', 'chairlift', 'speckled', 'Snowmobiler', 'brightly-lit', 'slacks', 'shadow', 'turkey', 'Buena', 'potty', 'Unified', 'perplex', 'padded', 'scan', 'coach', 'foggyday', 'Hanna', 'assemble', 'pretend', 'Bald', 'Blurry', 'political', 'buddha', 'cane', 'haired', 'wool', 'security', 'Camera', 'dryed', \"o'clock\", 'afghan', 'instrument', 'demonstration', 'stoney', 'Sheppard', 'length', 'Volkswagen', 'rungs', 'lifeboat', 'carriage', 'distant', 'crossed', 'press', 'Downward', 'tumble', 'suspiciously', 'cannonball', 'slump', 'safron', 'Performer', 'thrash', 'surprised', 'cruisship', 'North', 'gelled', 'nursery', 'Center', 'Football', 'direct', 'button-up', 'fancy', 'marathon', 'handwritten', 'climber', 'hot-pink', 'Palestinian', 'turn', 'slate', 'bass', 'shoe-shine', 'mosque', 'logo', 'competitive', ')', 'Motorcyclist', 'smiff', 'frightened', 'bound', 'suntan', 'Red', 'pice', '97', 'hair', 'dog', 'Applebee', ';', 'pout', 'roadway', 'piggyback', 'Dale', 'quiet', 'siluettes', 'canned', 'Mouse', 'Yankee', 'client', 'print', 'sweat', 'Subaru', 'gray', 'mud', 'headresses', 'footbridge', 'jean', 'truck', 'sling', 'pointer', 'progressively', 'layer', 'official', 'Everybody', 'tuxes', 'coloful', 'news', 'center', 'sheer', 'meat', 'sort', '32', 'snow-gear', 'pickup', 'gound', 'continue', 'scarf', 'ninja', 'barettes', 'stocky', 'silohuetted', 'entrance', 'cut', 'Corgi', 'chubby', 'jack-o-lantern', 'snorkel', 'light-colored', 'Slide', 'steal', 'amid', 'bathroom', 'separate', 'Very', 'pumpkin', 'peer', 'nudge', 'uncrowded', 'pyramid-shaped', 'embankment', 'Canyon', 'sunglasses', 'eachother', 'tell', 'illuminate', 'shoeless', 'ride', 'national', 'exchange', 'burlap', 'Hell', 'multi-cultural', 'patrol', 'lemonade', 'pensive', 'utilities', 'Outdoors', 'prepairing', 'pressure', 'tame', 'goer', 'catcher', 'emblazon', 'progress', 'Drag', 'wader', 'marine-life-themed', 'emotionally', 'Boston', 'push', 'mingle', 'angry', 'musical', 'heap', 'Walk', 'weird', 'rubber', 'bumper', 'beautiful', 'dachshund', 'curly-haired', 'is', 'startle', 'Person', 'for', 'hero', 'weep', 'kelp', 'bury', 'ouside', 'Mma', 'vault', 'barechested', 'gain', 'venture', 'confuse', 'but', 'American', 'yellow', 'spill', 'm', 'await', 'motor-scooter', 'ally', 'fast-food', 'want', 'mid-leap', 'mown', 'bakery', 'meet', 'bodyless', 'gover', 'lawn', 'muff', 'ceramic', 'hunter', 'sarong', 'stump', 'Italy', 'fool', 'barrette', 'hazmat', 'cement', 'perform', 'waing', 'washes', 'prison', 'bedroom', 'strawberry', 'examine', 'bash', 'frame', 'oppsing', 'sparkle', 'clasp', 'barrier', 'white-haired', 'scuffle', 'clowds', 'mike', 'hill', 'robot', 'catch', 'elevation', 'carousel', 'Rollerblade', 'drape', 'basketball', 'kind', 'suburb', 'album', 'unmanned', 'vendor', 'lame', 'cotton', 'save', 'wince', 'kayaks', 'karate', 'summersault', 'atop', 'Third', 'cavern', 'schoolyard', 'soled', 'amphitheater', 'doghouse', 'safari', 'visor', 'funeral', 'toward', 'intricate', 'trendy', 'wilderness', 'contracption', 'halfway', 'complete', 'swerve', 'playpen', 'freeze', 'polka', 'thin', 'Michael', 'carrier', 'carry', 'exercise', 'minivan', 'humorous', 'flurry', 'conditions', 'circuit', 'half', 'zip', 'beneath', 'Interracial', 'paddler', 'interview', 'intersection', 'peck', 'firehose', 'brush', 'swordfight', 'hardhat', 'lifesaver', 'treefilled', 'scrubland', 'playy', 'While', 'gravel', 'Flock', 'cheese', 'strap', 'alter', 'marvel', 'also', 'chestnut', 'Touchdown', 'unfurl', 'empty', 'garter', 'waterspout', 'heavy', 'challenge', 'pigtail', 'deserted', 'Friend', 'landmark', 'spoted', 'science', 'Verizon', 'speaks', 'quarter', 'hummer', 'urge', 'Peterson', 'hula-hoop', 'checked', 'yet', 'dirtbikes', 'defensive', 'nibble', 'dalmatian', 'hold', 'Binky', 'Twelve', 'Oppose', 'landscape', 'Silver', 'park', 'Lacrosse', 'creature', 'poll', 'sweatpants', 'fitness', 'umbrella', 'Company', 'object', 'sleeve', 'smoke', 'advertisment', 'black-green', 'neck-deep', 'healthy', 'scrape', 'viewer', 'Fuzzy', 'into', 'Dalmation', 'trunks', 'bark', 'barren', 'crossbones', 'excited', 'demonstrate', 'harpsichord', 'This', 'cycle', 'lace-up', 'enviorment', 'explore', 'spotter', 'expand', 'two-piece', 'bottom', 'amuse', 'headlamp', 'observes', 'black-yellow', 'crocodile', 'design', 'behing', 'Fan', 'jersey', 'fairway', 'spring', 'a', 'middleaged', 'vision', 'own', 'scent', 'powerful', 'spaniel', 'Nerf', 'Hands', 'vapour', 'odd', 'occupied', 'fortune', 'powerlines', 'autumn', 'Thie', 'join', 'spiderman', 'panoramic', 'hound', 'total', 'terrior', 'bout', 'purse', 'peak', 'carying', 'coconut', 'resort', 'tire-swing', 'distnat', 'glassy', 'advertisement', 'freesbies', 'more', 'breast', 'diamond', 'Frog', 'Mom', 'foil', 'valley', 'Arab', 'muddy', 'attach', 'anticipate', 'skew', 'scrub', 'Popsicle', 'cricket', 'gorup', 'cricketer', 'dirt', 'formally', 'backyard', 'Musician', 'Trash', 'Coach', 'Chinese', 'ceremony', 'War', 'hardwood', 'loofa', 'pair', 'Five', 'glee', 'port', 'fountain', 'punch', 'pyramid', 'swinsuit', 'longish', 'backback', 'Mother', 'Spiderman', 'baseball', 'too', 'stretch', 'Fat', 'Arabian', 'fenced', 'topple', 'inflatbale', 'fisher', 'lighter', 'big', 'desert-like', 'Simpson', 'puzzle', 'outdoor', 'dove', 'formally-dressed', 'Ranger', 'canvasses', 'burrow', 'hawk', 'churn', 'traverse', 'chap', 'monk', 'sunhat', 'civillians', 'mate', 'Adhd', 'seater', 'Crowded', 'reacts', 'Horse', 'across', 'sky', 'diferent', 'batman', 'around', 'Seattle', 'upon', 'lose', 'belly-smacker', 'snowsuit', 'fingertip', 'Change', 'mottled', 'convoy', 'Bridge', 'Tw', 'movie', 'soar', 'planter', 'gaze', 'contact', 'corn', 'they', 'Earnhardt', 'enthusiast', 'firework', 'record', 'skyline', 'frisbeen', 'short', 'Small', 'unicycle', 'others', 'automobile', 'emit', 'counry', 'Ad', 'yarn-like', 'jumpos', 'tanned', 'stud', 'eadult', 'rough', 'extravagantly-haired', 'palying', '13406', 'bridal', 'greenish', 'T-shirt', 'Marlin', 'corndogs', 'soak', 'wiffle', 'post', 'pond', 'lilies', 'log', 'buckle', 'court', 'waterbed', 'under', 'serious', 'black', 'potato', 'groupe', 'powdery', 'capri', 'seahorse', 'series', 'physical', 'sunshade', 'moutnain', 'Santa', 'alert', 'poodle', 'trows', 'become', 'lady', 'hospital', 'fiery', 'quilt', 'sunlit', 'dirty-blond', 'witnesses', 'pocket', 'hugs', 'brindle-coated', 'spray', 'outstreched', 'manequins', 'gold-colored', 'hooded-coat', 'soda', 'warm', 'cobblestone', 'Dane', 'trunk', 'Zchtv', 'squeal', 'Childern', 'balcony', 'mound', 'flips', 'anouther', 'sight', 'Tattoed', 'Christmastime', 'calico', 'darked', 'staue', 'yellow-gold', 'loose', 'class', 'Scottish', 'straight', 'gymnastic', 'Starbuck', 'comforter', 'occupy', 'helmeted', 'sport', 'handed', 'snuggle', 'mostly', 'lighted', 'plat', 'bleak', 'recieving', 'ping', 'Artist', 'all-terrain', 'navigate', 'kite', 'holiday', 'snowman', 'father', 'bicycler', 'execute', 'many', 'cub', 'goatee', 'Christ', 'gust', 'African', 'water-filled', 'pedal', 'trot', 'quilted', 'affix', 'soaked', 'assorted', 'teen', 'elephant', 'scowl', 'traditional', 'breeze', 'eyeshadow', 'cyclist', 'town', 'Stunt', 'performance', 'escort', 'skim', 'waeribng', 'Purina', 'riverside', 'red-vested', 'loan', 'hoof', 'somehow', 'hop', 'cache', 'policeperson', 'innertubes', 'nose', 'basset', 'mascot', 'thumbs-up', 'upper', 'act', 'Lassie', 'tissue', 'film', 'tortoise', 'nervous', 'twilight', 'runner', 'onesie', 'footrace', 'stick', 'Kildare', 'belong', 'graffiti-heavy', 'stiped', 'perhaps', 'bmxer', 'pleadingly', 'persue', 'art', 'kayaker', 'age', 'forehand', 'Packer', 'parked', 'Sheepdog', 'establishment', 'hippie', 'International', 'reed', 'bushy', 'life', 'furry', 'leopard', 'We', 'otherwise', 'cling', 'burger', 'Fries', 'mandolin', 'Picture', 'wetsuit', 'wrist', 'balck', 'shaggy', 'guy', 'vast', 'thinner', 'about', 'youngster', 'sweater', 'conversation', 'thoroughly', 'Diner', 'suggestive', 'certificate', 'meadow', 'billiards', 'stair', 'play-fighting', 'acrobatic', 'incoming', 'cadet', 'twig', 'enclose', 'romp', 'hole', 'sidwalk', 'the', 'fourwheeler', 'corner', 'rectangular', ':', 'side', 'sharp', 'carpeted', 'licks', 'Stretch', 'heavy-metal', 'bikini', 'color', 'seed', 'eleven', 'will', 'small', 'rain', 'midst', 'ankle-high', 'union', 'seaside', 'drink', 'aross', 'lobster', 'handle', 'Australian', 'gal', 'dock', 'torii', 'Costumed', 'exposure', 'dilapidated', 'loom', 'soccor', 'Photo', 'fork', 'associated', 'collision', 'Snowboard', 'swallow', 'reared', 'possession', 'smack', 'base', 'entry', 'department', 'goodbye', 'joust', 'rippled', 'campsite', 'shave', 'Aig', 'cacti', 'clibing', 'cramp', 'cowgirl', 'helmets', 'white', 'donut', 'long-bearded', 'rapels', 'furniture', 'bungee', 'shorthaired', 'canvas', 'neclace', 'youn', 'Tv', 'camera-phone', 'iced', 'hsirt', 'arcade', 'Rottweiler', 'triangular', 'awe', 'discuss', 'confetti', 'reddish', 'young', 'unconventional', 'Soccer', 'rock-climb', 'graffitied', 'pontoon', 'grownup', 'sneaker', 'brunette', 'junk', 'polo', 'Gatorade', 'group', 'fame', 'rafter', 'shortly', 'attack', 'Atv', 'hut', 'pistol', 'goal', 'dead', 'Pirate', 'ilk', 'graveyard', 'mountaineer', 'baseman', 'pathway', 'blowup', 'win', 'warn', 'infant', 'Bridal', 'backview', 'goaltender', 'jaw', 'scramble', 'cigar', 'litlle', 'males', 'laundry', 'flamboyant', 'Jeep', 'wakeboards', 'polka-dot', 'sillouhette', 'grow', 'bracelet', 'Softball', 'halter', 'ragged', 'spark', 'brand', 'mount', 'potty-potty', 'transit', 'marble', 'alcohol', 'slalom', 'zip-line', 'medal', 'barricade', 'limb', 'frustrate', \"'\", 'construction', 'Shadowed', 'dew', 'They', 'anti-tax', 'curtsey', 'animal', 'blood', 'kayak', 'summer', 'seller', 'columned', 'chef', 'longsleeve', 'whit', 'weave', 'Fedex', 'tourist', 'stun', 'retreiver', 'Afro', 'open-mouthed', 'topped', 'downstream', 'itself', 'fit', 'Sheep', 'biscuit', 'deeper', 'Hero', 'Twins', 'dirtbed', 'skill', 'Ray', 'snare', 'kiosk', 'bodysurfs', 'clear', 'wag', 'persues', 'Frisbee', 'plane', 'character', 'downtown', 'grapple', 'Dc', 'spectate', 'Eight', 'treetop', 'flame', 'build-a-bear', 'heel', 'downsteps', 'over', 'spiral', 'shepherd', 'by', 'tongue', 'mole', 'inground', 'wallride', 'performer', 'mid-flight', 'United', 'shawled', 'long', 'crow', 'parasail', 'saddle', 'sweatsuit', 'cabana', 'parasails', 'Airplane', 'joint', 'adult', 'piglet', 'wound', 'adventurer', 'cloak', 'israei', 'Javelin', 'buck', 'cardigan', 'redheaded', 'connect', 'road', 'half-dressed', 'wakeboarder', 'baggy', 'stripe', 'Vega', 'poor', 'foreround', 'Retriever', 'bookcase', 'Naked', 'come', 'tough', 'so', 'phrase', 'single', 'explosion', 'rider', 'Army', 'obese', 'exotic', 'capture', 'prance', 'mallard', 'mast', 'sponge', 'thrust', 'fort', 'swimwear', 'mitt', 'reenactor', 'Rollerblader', 'either', 'shine', 'zoom', 'balloon', 'huddle', 'rage', 'secure', 'conference', 'all', 'skit', 'penguin', 'broom', 'hapy', 'vista', 'showroom', 'grin', 'flyaway', 'filiming', 'bicycle', 'trolley', 'find', 'hydrant', 'football', 'furnace', 'encourage', 'owner', 'comfort', 'mustard', 'dolly', 'ear', 'tights', 'gondola', 'food', 'tow-headed', 'crucified', '4-wheeler', 'swear', 'flee', 'German', 'roman', 'Hopper', 'State', 'camper', 'photographer', 'half-completed', 'rolled', 'african', 'Legs', 'note', 'helemt', 'mountain-climb', 'Miami', 'rappel', 'shawl', 'baptize', 'material', 'clipped', 'podium', 'intercept', 'put', 'play', 'daisies', 'brownish-red', 'nestle', 'smilely', 'perforced', 'Stand', 'hallway', 'entangle', 'Hooded', 'T-ball', 'Snowboarder', 'jog', 'spit', 'story', 'stove', 'cemetery', 'shot-on-goal', 'Those', 'angrily', 'notepad', 'belly', 'search', 'pinkish', 'Yellow', 'beret', 'toast', 'aim', 'midjump', 'orchestra', 'braid', 'makeshift', 'luggage', 'shirt', 'stand', 'astro', 'backdrop', 'lean', 'oppose', 'Year', 'seven', 'pastel', 'paperwork', 'feather', 'nicely', 'intense', 'fairies', 'spokesmodels', 'site', 'kneel', 'seated', 'Persian', 'sledder', 'rack', 'razer', '19', 'unner', 'Firefighter', 'colecting', 'daredevil', 'leave', 'aboard', 'Carolina', 'if', 'graffti', 'slighty', 'colander', 'piece', 'ninja-like', 'bundle', 'patterned', 'justice', 'civil', 'grass', 'verbal', 'advertise', 'farm', 'colonial', 'yellow-grassed', 'noticable', 'Axe', 'ban', 'Love', 'equpiment', 'Adult', 'amongst', 'type', 'oppsite', 'late', 'Cute', 'pompoms', 'cushion', 'tosses', 'lonely', 'ashen', 'gra', 'hind', 'repair', 'windows', 'bruised', 'unique', 'Korean', 'diver', 'viewpoint', 'basement', 'staircase', 'lot', 'produce', 'earmuff', 'glider', 'Pleople', 'coliding', 'swing', 'escalator', 'have', 'mermaid', 'upset', \"n't\", 'brownish', 'Smartly', 'Skateboard', 'largley', 'fear', 'bunch', 'twos', 'rocker', 'dresser', 'canal', 'rollerblade', 'Gothic', 'atrium', 'horseman', 'I', 'bar', 'gymnastics', 'workout', 'dodge', 'dragster', 'Four', 'overhead', 'honest', 'arch', 'knight', 'Ambulance', 'curvy', 'pasture', 'Bee', 'shield', 'ca', 'spaghetti', 'baked', 'novelty', 'Blues', 'guard', 'aside', 'Atvs', 'flip', 'massive', 'Leap', 'hummingbird', 'scratch', 'party', 'Styrofoam', 'third', 'congratulate', 'award', 'helments', 'high-fiving', 'harvest', '25', 'arrange', 'Whoa', 'streches', 'cello', 'Doberman', 'check', 'slat', 'alley', '281', 'target', 'escape', 'legged', 'skyward', 'high-five', 'texting', 'column', 'aerodynamic', 'beagle', 'colapsable', 'cock', 'saw', 'how', 'lemon', 'longhaired', 'advance', 'dribble', 'soccer', 'cannon', 'twist', 'fries', 'basker', 'cave', 'menacingly', 'crank', 'stunt-bicyclist', 'bank', 'seaguls', 'between', 'organize', 'submissive', 'apple', 'split', 'perspective', 'Mutltiple', 'somthing', 'stock', 'Bearded', 'patterened', 'Olympics', 'roof', '.', 'take', 'Bmx', 'son', 'wuth', 'shaky', 'identical', 'no', 'sushi', 'acrobatics', 'motorbiker', 'found', 'boulder', 'internet', 'Redbull', 'auto', 'retrieve', 'Vuitton', 'puck', 'suburban', 'rollerskater', 'dumbbell', 'dark-colored', 'identifier', 'jukebox', 'elaborate', 'Collie', 'biker', 'accept', 'woman', 'Spectator', 'Freddy', 'flaps', 'British', 'moment', 'partially', 'daschunds', 'fierce', 'closeup', 'dashboard', 'race', 'heron', 'beaver', 'dunks', 'argue', 'glide', 'wearfing', 'cry', 'royal', 'scanner', 'chin', 'rear', 'concerned', 'downhill', 'Distant', 'trench', 'steer', 'snowfall', 'cage', 'backseat', 'skier', 'underneath', 'Monster', 'midair', 'oar', 'Santana', 'billow', 'bit', 'proximity', 'shiny', 'picket', 'Ghostbuster', 'bouncer', 'excitement', 'teeth', 'Three', 'parkinglot', 'development', 'winter', 'Remax', 'shaded', 'route', 'fantasy', 'receiver', 'above', 'wield', 'leaf-covered', 'waitresses', 'Redheaded', 'tike', 'roped', 'basett', 'figure', 'ferrett', 'carabiner', 'relax', 'fireball', 'both', 'flees', 'school-aged', 'strain', 'festive', 'beef', 'With', 'he', 'Pomeranian', 'median', 'its', 'playful', 'black-and-white', 'Wrecked', 'furred', 'Barechested', 'critter', 'area', 'neeling', 'Brunette', 'motocross', 'silver', 'bluejeans', 'whistle', 'lone', 'Kid', 'bathtub', 'Gate', 'volleyball', 'snow-covered', 'jetty', 'spin', 'buisness', 'vie', 'flat', 'smal', 'blossom', 'inertia', 'extinguish', 'smartly', 'key', 'Look', 'protest', 'deflated', 'cabin', 'summit', 'mold', 'Polaris', 'solitary', 'Ballplayer', 'lilypads', 'Domino', 'sun-dappled', 'towel', 'electrical', 'scenery', 'Catcher', 'snowboarder', 'swimsuit', 'Russell', 'Skimply', 'themed', 'on', 'reflective', 'floatlys', 'fairy', 'television', 'wed', 'Runner', 'pick', 'haircut', 'listen', 'astride', 'though', 'fashion', 'name', 'brick', 'Pizza', 'Mexican', 'medieval', 'hiss', 'march', 'cardboard', 'apparatus', 'wintery', 'low', 'plain', 'manager', 'owl', 'curl', 'diagram', 'intot', 'abseil', 'reception', 'waterskier', 'door', 'beach', 'Brian', 'tuck', 'map', 'China', 'asphalt', 'riverbank', 'Some', 'arena', 'pf', 'geyser', 'outfit', 'Male', 'farward', 'passin', 'condom', 'beanie', 'Pigeon', 'erupts', 'rollercoaster', 'floored', 'flats', 'magnificant', 'amazement', 'bird', 'wheelchair', 'brightly-colored', 'vase', 'monument', 'chalkboard', 'home', 'dangles', 'ghost', 'kakhi', 'overgrown', 'rubble', 'headwrap', 'wig', 'boa', 'Beard', 'harbor', 'wipe', 'sum', 'doughnut', 'striped', 'holder', 'cop', 'wheel', 'soocerball', 'Water', 'gift', 'rag', 'drool', 'Rear', 'litttle', 'tawny', 'decorative', 'exhibit', 'damaged', 'cap', 'shoulder-length', 'desolate', 'batsman', 'crotch', 'Pokemon', 'attempt', 'siren', 'forearm', 'cattle', 'noise', 'stage', 'campfire', 'protester', 'container', 'monkey', 'Tennis', 'turquoise', 'West', 'bell', 'message', 'mitten', 'eastern', 'And', 'view', 'motorcyclist', 'ash', 'Truck', 'glasses', 'storefront', 'rebound', 'Square', 'Street', 'glove', 'Well', 'submerges', 'tattoos', 'bats', 'star-shaped', 'burgundy', 'coppery', 'black-blue', 'footage', 'Airborne', 'murky', 'sub', 'outline', 'cattail', 'hoop', 'shute', 'pajama', 'venue', 'wire', 'one-armed', 'university', 'euro', 'everyday', 'visible', 'shrubbery', 'velvet', 'church', 'sidewalks', 'community', 'airplane', 'housekeep', 'barrel', 'sunbathe', 'exit', 'lanyard', 'David', 'pure', 'convienience', 'and', 'second', 'heat', 'tankini', 'pastry', 'paraglide', 'room', 'bull', 'flower', 'tackled', 'gap', 'Cami', 'lease', 'smooth', \"'n'\", 'beverage', 'stalk', 'videocameras', 'district', 'observe', 'wrap', 'sat', 'anatomy', 'chili', 'alleyway', 'head', 'man', 'lighter-skinned', 'drive', 'brace', 'sled', 'brides', 'cathedral', 'Casterol', 'ethnicity', 'camouflage', 'antiquated', 'brown-eyed', 'village', 'muscular', 'dark-haired', 'wide-brimmed', 'greenhouse', 'Cheerleader', 'Crocs', 'Build', 'soil', 'stubbled', 'llama', 'keep', 'backbend', 'street-shot', 'midget', 'dhe', 'raingear', 'kiss', 'slides', 'perm', 'fence', 'hurridly', 'signer', 'Bigg', 'ups', 'sound', 'french', 'perfoms', 'world', 'approach', 'ball', 'newlywed', 'past', 'rusty', 'pull', 'Lilly', 'ant', 'descend', 'refreshment', 'countryside', 'transportation', 'stall', 'vary', 'mouse', 'helmet', 'Athlete', 'waaves', 'kid-sized', 'hike', 'person', 'turnaround', 'toothpaste', 'uphill', 'butcher', 'spash', 'During', 'lecture', 'tak', 'windmill', 'mono-color', 'arts-style', 'Wheel', 'whose', 'Lady', 'meal', 'pant', 'lens', 'Singer', 'Race', 'brawl', 'Arabic', 'combat', 'rollerblader', 'Dolphin', 'american', 'swarm', 'battle', 'latter', 'fribee', 'abandon', 'Atm', 'bulge', 'hairstyle', 'gate', 'mustache', 'squirrel', 'island', 'look', 'horse-drawn', 'pebbly', 'can', 'dealth', 'defaced', 'guitar', 'snowbound', 'fleece', 'cam', 'interlock', 'cluster', 'ethnic', 'noy', 'doorbell', 'Eastern', 'streamer', 'discussion', 'memorial', 'fringe', 'tribal', 'playtoy', 'Motocross', 'formal', 'sleeveless', 'Men', 'pale', 'spout', 'crosslegged', 'adopt', 'bullseye', 'rainstorm', 'cautious', 'Shepherd', 'yacht', 'outwards', 'Olympic', 'necktie', 'seagull', 'decorate', 'fur', 'bounds', 'incline', 'pool', 'fell', 'circle', 'canoe', 'Cross-country', 'dish', 'Star', 'drench', 'Smu', 'content', 'Gonzaga', 'endzone', 'Kiss-costumed', 'chest', 'pipe', 'White', 'Bull', 'wish', 'dome', 'mobile', 'adolescent', 'strength', 'Smile', 'rival', 'punt', 'portion', 'diner', 'tuxedo', 'arrow', 'loop-the-loop', 'sunny', 'feathered', 'crudely', 'tablet', 'encripted', 'League', 'facial', 'snout', 'junction', 'happen', 'tutu', 'carnival', 'tag', 'egret', 'untangles', 'red-haired', 'engine', 'Bright', 'headress', 'hay', 'snowbank', 'sledge', 'bottle', 'Turbaned', 'U.', 'coat', 'husky', 'care', 'would', 'tan-skinned', 'number', 'mountaintop', 'city', 'fix', 'different', 'agility', 'neon', 'backless', 'overshadow', 'knee-high', 'adorn', 'swing-set', 'snowy', 'struggle', 'smell', 'Game', 'mudfight', 'Lots', 'telephone', 'upright', 'Tan', 'sad', 'beyond', 'debris', 'propeller', 'Helmeted', 'messenger', 'mouthguards', 'earphone', 'magician', 'German-shepherd', 'boredom', 'toilet', 'fixer', 'Diver', 'ad', 'parallel', 'artistic', 'vampire', 'spandex', 'concern', 'lamppost', 'fire', 'viz', 'fencer', 'florist', 'Two', 'iron', 'whisper', 'boxy', 'downwards', 'dandilions', 'banana', 'playgym', 'dreadlock', 'sunset', 'high', 'dune', 'tower', 'army', 'sip', 'quad', 'begin', 'Joker', 'Highland', 'peanut', 'herd', 'New', 'willow', 'fake', 'coal', 'brown-haired', 'matching', 'clap', 'eagle', 'It', 'Montana', 'roller-skate', 'surge', 'nude', 'curb', 'vandalized', 'back-to-back', 'manmade', 'keep-away', 'bubble', 'widow', 'frizzy', 'crevice', 'already', 'shore', 'rest', 'poster', 'underpass', 'makeup', 'necked', 'beak', 'hang', 'dong', 'Several', 'wearhing', 'challange', 'appear', 'crafted', 'snowstorm', 'distored', 'Ace', 'bicyclist', 'dust', 'chop', 'Sox', 'hate', 'prop', 'artificial', 'bigs', 'Fisheye', 'sign', 'blurred', 'skirt', 'droplet', 'launch', 'scantily', 'plank', 'little', 'pincer', 'she', 'overcoat', 'Samsung', 'spay', 'Lucky', 'pooh', 'gothically', 'gay', 'gettnig', 'half-buried', 'waterside', 'chasse', 'ahead', 'away', 'carpet', 'nipple', 'daylight', 'Lego', 'facility', 'lead', 'S.c.u.b.a.', 'skinny', 'rural', 'drum', 'surf', 'Wet', 'shake', 'neckless', 'portrait', 'from', 'Rider', 'black-shirt', 'advantage', 'Lone', 'Baseball', 'clover', 'greyish-brown', 'Pack', 'Seagull', 'mother', 'accends', 'dark', 'Skateboarder', 'cameraman', 'dressed', 'identically', 'tray', 'rickety', 'ice', 'shire', 'pier', 'watersports', 'hose', 'someones', 'together', 'vend', 'slope', 'hooded', 'size', 'lipstick', 'collection', 'skatepark', 'converge', 'beard', 'vert', 'domino', 'wrapping', 'google', 'skate', 'huge', 'carton', 'safely', 'recliner', 'carring', 'teenage', 'oxford', 'bikina', 'wildebeest', 'flowered', 'be', 'terrace', 'Macintosh', 'close', 'because', '?', 'pitbulls', 'wall', 'pavillion', 'snowcapped', '2', 'Real', 'toe', 'jockey', 'lakefront', 'opinion', 'flexable', 'waterskis', 'Skater', 'preserver', 'wink', 'samll', 'Thre', 'rid', 'fashionably', 'paved', 'temporary', 'Brown', 'blank', 'drag', 'admire', 'through', 'Wisconsin', 'sing', 'Union', 'van', 'tge', 'pasta', 'pedestal', 'Rodeo', 'classmate', 'Barack', 'test', 'shot', 'tabloid', 'band', 'driver-side', 'canoer', 'walk', 'ledge', 'breath', 'giant', 'railway', 'Trumpet', 'Gator', 'cracker', 'solicit', 'headfirst', 'rowboat', 'straddle', 'downriver', 'well-groomed', 'prairie', 'canooer', 'trekkies', 'Nugent', 'retreiving', 'bting', 'paralell', 'victory', 'Linet', 'off-roading', 'extreme', 'toboggan', 'dummy', 'leafless', 'parka', 'whil', 'refuse', 'midstride', 'hillside', 'Buy', 'trap', 'mural', 'half-naked', 'inflatable', 'kangaroo', 'untouched', 'lab', 'clad', 'synchronized', 'watch', 'Middle', 'paraphernalia', 'lime', 'knee-deep', 'mind', 'piled', 'welcome', 'adobe', 'Pool', 'fun', 'avrovulcan.com', 'On', 'Young', 'boogie', 'Quarterback', 'footbride', 'mysterious', 'City', 'tightly', 'large', 'sailboat', 'overpass', 'cubicle', 'hotrod', 'costume', 'lighting', 'overlook', 'thought', 'redhead', 'colorful', 'window', 'joy', 'barber', 'tea', 'doll', 'Ferris', 'tantrum', 'funny', 'perfors', 'creep', 'painting', 'Dark', 'gren', 'Teenager', 'headed', 'hooker', 'griding', 'sunflower', 'surfboarder', 'tournament', 'Bernard', 'unsual', 'Starbucks', 'cin', 'place', 'bump', 'curtain', 'fast', 'ax', 'spiked', 'sooner', 'vine', 'lunch', '&', 'couch', 'fairground', 'conch', 'rally', 'fruit', 'palace', 'artwork', 'juming', 'leafy', 'kart', 'photograhi', 'tented', 'involve', 'ollie', 'muzzle', 'furious', 'walker', 'bloody', 'headline', 'attractive', 'directly', 'buffalo', 'fly-fish', 'heavily', 'moustache', 'accompany', 'Words', 'cylinder', 'freestyle', 'insect', 'kid', 'wheeled', 'somebody', 'adjust', 'mantle', 'whilst', 'pour', 'enforcement', 'Memorial', 'dumpster', 'with', 'Chocolate', 'height', 'Snow', 'denim', 'bride', 'comfortable', 'somersault', 'swimmies', 'degree', 'bluejean', 'naval', 'hiker', 'forested', 'doorway', 'accident', 'write', 'everything', 'underground', 'Huskies', 'lightsaber', 'sparkler', 'apparel', 'grab', 'garage', 'firefighter', 'flock', 'watercraft', 'graphic', 'company', 'native', 'climb', 'Hawaiian', 'graffiti', 'schoolboy', 'great', 'painter', 'bench', 'Shop', 'Blond', 'salon', 'box', 'strainer', 'excercise', 'Roddick', 'peddle', 'Rescue', 'stride', 'allow', 'tank', 'ability', 'stuffed', 'their', 'amount', 'pirate', 'overlooks', 'jack', 'coaster-like', '3', 'zig', 'singer', 'behind', 'alien', 'Rv', 'checkered', 'knee', 'friend', 'genocide', 'Basketball', 'upwards', 'prevent', 'neat', 'pring', 'skeptically', 'apparently', 'cow-like', 'sew', 'tread', 'closed', 'Flame', 'Punk', 'graffiti-filled', 'falcon', 'love', 'well-kept', 'metal', 'drainpipe', 'powder', 'endorsement-covered', 'lagoon', 'limo', 'binocular', 'howl', 'Slurpees', 'damp', 'fingerpaint', 'Marx', 'burn', 'Jewish', 'wooded', 'V', 'puppy', 'shimp', 'mush', 'clean', 'product', 'rode', 'Neptuno', 'phone', 'grss', 'contest', 'Washington', 'marsh', 'vacant', 'official-looking', 'sniff', 'The', 'Sparrow', 'vacation', 'antelope', 'bale', 'ref', 'gentleman', 'rod', 'spare', 'consult', 'shout', 'fixture', 'next', 'mug', 'legging', 'joyfully', 'Cbs', 'skateboarder', 'wildflower', 'tubular', ',', 'golf', 'need', 'brown-and-black', 'rink', 'library', 'headwraps', 'scrubby', 'snowboard', 'transparent', 'foothill', 'courtyard', 'Matt', 'Puppy', 'Nadal', 'background', 'ridge', 'draft', 'usual', 'lizard', 'plate', 'Light', 'arid', 'maker', 'physique', 'bartender', 'exibit', 'Victorian', 'hulahoop', 'let', 'expression', 'slide', 'one', 'Yorkie', 'tightrope', 'evade', 'Military', 'possible', 'wildebeast', 'store', 'frolicks', 'trip', 'pointy', 'cellphone', 'pride', '84', 'n', 'vessel', 'dojo', 'stance', 'emerges', 'cloudy', 'much', 'dollar', 'anthem', 'mansion', 'tongee', 'placid', 'pen', 'hillock', 'steamy', 'Needle', 'cowboy', 'sash', 'collapsable', 'ready', 'remember', 'jacuzzi', 'athlete', 'photo', 'ground', 'sponsor', 'Pooh', 'participates', 'turban', 'farmer', 'butt', 'don', 'sideline', '29', 'University', 'Dont', 'hamburger', 'suit', 'nearly', 'brave', 'misses', 'sheilding', 'santa', 'quarry', 'hr', 'nearby', 'Cat', 'antenna', 'tunic', 'Priest', 'Grand', 'playgroud', 'cone', 'jumpsuit', 'boxer', 'charge', 'surfs', 'leotard', 'ascend', 'water-wings', 'noodle', 'fin', 'growl', 'scary', 'toolbox', 'hedge', 'khaki', 'hi-viz', 'Gandhi', 'Dupar', 'prepares', 'outdoors', 'intently', 'A-frame', 'paddle', 'slipper', 'flop', 'chello', 'circus', 'pinata', 'Shaggy', 'antoher', 'mountaintops', 'totter', 'cheeseburger', 'toddler', 'Gray', 'tattered', 'blue', 'numbered', 'freefall', 'Florida', 'onstage', 'Fireman', 'speak', 'trailer', 'fastest', 'event', 'mama', 'passenager', 'grey-suited', 'pass', 'pacifier', 'scrimmage', 'overnight', 'free', 'universal', 'flatscreen', 'that', 'seperated', 'bullhorn', 'motorcross', 'far', 'Wilbert', 'surround', 'chested', 'pinestraw', 'Andy', 'Sand', 'crouch', 'checkstand', 'gallop', 'machinery', 'train', 'college', 'buy', 'hapily', 'observer', 'slant', 'World', 'pace', 'not-so-crowded', 'congregation', 'questioningly', 'fro', 'dear', 'v', 'eyebrow', 'gown', 'clothes', 'lighthouse', 'juggle', 'lane', 'artist', 'shoulderbag', 'snapshot', 'when', 'palm', 'mail', 'picute', 'two', 'Pnc', 'horizontal', 'broken', 'America', 'cower', 'soldier', 'hard', 'specialized', 'barbwire', 'agent', 'skater', 'square', 'Weimeraner', 'inline-skates', 'poem', 'trimmed', 'rush', 'slice', 'lope', 'Guitar', 'low-cut', 'kickboxing', 'incense', 'avoid', 'male', 'retangular', 'mobility', 'entitle', 'fist', 'collage', 'locate', 'recline', 'till', 'crossing', 'jacketed', 'taste', 'pail', 'battons', 'culprit', 'pouch', 'chunk', 'Sound', 'bike', 'wristband', 'set', 'seaworld', 'presentation', '08', 'help', 'pole', 'duck', 'sun', 'tatooed', 'Yong', 'see', 'pilot', 'tiretracks', 'outfir', 'overwhelmed', 'exception', 'donation', 'mesh', 'gleefully', 'writing', 'ditch', 'lollipop', 'historic', 'structure', 'dare', 'at', 'Raft', 'garb', 'dimmly', 'Drink', 'laptop', 'Skydiver', 'bullfighting', 'light', 'eyese', 'oversized', 'state', 'Energizer', 'vibrant', 'Will', 'jewlery', 'rollerskates', 'skip', 'sequin', 'curly', 'dodgeball', 'ignore', 'cross', 'long-beaked', 'jungle', 'style', 'vat', 'mountian', 'equiment', '90', 'well', 'wipeout', 'someplace', 'sandal', 'jib', 'Bug', 'shovel', 'Topless', 'fat', 'winner', 'framed', 'rapids', 'edge', 'bend', 'martial', 'rub', 'mowed', 'Mohawk', 'Suprised', '11', 'Marathon', '-', 'Beautiful', 'tight', 'lock', 'wolf-like', 'provocative', 'dad', 'cloud-covered', 'sister', 'probably', 'broach', 'camera', 'stringless', 'bow', 'jungle-gym', 'mid-sections', 'sandpit', 'circumvent', 'fill', 'campaign', 'kick', 'locker', 'palm-tree', 'Boat', 'frown', 'Claus', 'three-wheeled', 'tractor-like', 'retriever', 'dimpled', 'hit', 'These', 'attire', 'bearded', 'thong', 'Gras', 'bandage', 'thirty', 'graffiti-strewn', 'sunlight', 'ward', 'terrain', 'wade', 'fraternal', 'sloped', 'interior', 'several', 'peace', 'wrinkled', 'rugged', 'watermelon', 'Penzance', 'farmland', 'motorboat', 'Brother', 'snowball', 'where', 'path', 'suspend', 'Italian', 'stop', 'playhouse', 'sunshine', 'bluff', 'regalia', 'peacefully', 'unseen', 'control', 'Vendor', 'buzy', 'garland', 'Child', 'melted', 'museum', 'my', 'int', 'Inline', 'go-cart', 'fasten', 'tip', 'preserves', 'Smoke', 'load', 'first', 'jagged', 'flannel', 'bagpipe', 'against', 'shiver', 'perch', 'jello', 'Silhouette', 'handcrank', 'whild', 'sleeding', 'innertube', 'profession', 'lobby', 'Pug', 'Blue', 'self', 'speedboat', 'same', 'chow', 'hunch', 'muzzled', 'six', 'Pall', 'handgun', 'pink', 'drop', 'shape', 'spoon', 'old-fashioned', 'mattress', 'member', 'decide', 'face-painted', 'Christmas', 'hump', 'agile', 'wakeboard', 'limousine', 'bullet', 'family', 'nutcracker', 'red-seated', 'jomps', 'medium', 'christmas', 'Gentleman', 'fisherman', 'himself', 'scrolled', 'tandom', 'unfinished', 'ruin', 'proudly', 'gesticulate', 'prey', 'sleeved', 'rapidly', 'gnarly', 'fan', 'drawn', 'Armor', 'rug', 'illustration', 'still', 'sentence', 'question', 'as', 'faced', 'quarterpipe', 'wreck', 'call', 'long-necked', 'radio', 'motorize', 'upside-down', 'flag', 'toy', 'booth', 'mix', 'shelf', 'has', 'hitter', 'unusual', 'return', 'teamates', 'Extreme', 'Live', 'narby', 'string', 'dusk', 'bang', 'protect', 'Uno', 'indoors', 'individual', 'portrate', 'package', 'crucifixion', 'sprinkler', 'trike', 'crevasse', 'bear', 'brush-land', 'banner', 'stuff', 'team', 'pile', 'red-brown', 'enclosure', 'hear', 'document', 'reach', 'Student', 'tout', 'hand', 'something', '6', 'Vw', 'outstreached', 'upraised', 'footprint', 'contents', 'Genetic', 'petterned', 'warily', 'waterway', 'scenic', 'schoolgirl', 'amuseument', 'excite', 'doze', 'paw', 'flip-flop', 'barn', 'yuong', 'skijoring', 'stuntman', 'contain', 'minerature', 'Waterskier', 'Fishemen', 'crustacean', 'roll', 'basket', 'Abarrotes', 'glass', 'flare', 'moped', 'protected', 'breastfeed', 'agency', 'vaulated', 'cook', 'jersay', 'swimmer', 'array', 'Dachshund', 'religious', 'flier', 'asleep', 'banjo', 'Beijing', 'shell', 'fling', 'loop', 'perfom', 'cable', 'fedora', 'book', 'beauty', 'washer', 'proof', 'obedience', 'Business', 'happy', 'subway', 'handicap', 'perpendicular', 'Sooner', 'Car', 'manicured', 'tv', 'aquarium', 'streched', 'tagged', 'timeout', 'scatter', 'lip', 'apart', 'checker', 'bread', 'Talk', 'urinate', 'say', 'knife', 'measure', 'vegetable', 'greyhound', 'samoyads', 'side-by-side', 'aligator', 'Louis', '12', 'Ladies', 'breakdancer', 'flagger', 'air-filled', 'steel', 'image', 'refrigerator', 'underwater', 'item', 'office', 'saber', 'gun', 'indoor', 'saturated', 'Seat', 'Group', 'pat', 'watery', 'swoop', 'poppies', 'Long-necked', 'like', 'Baby', 'awning', 'gleam', 'jogger', 'wrinkley', 'graffiti-covered', 'cow', 'dyed', 'prepare', 'very', 'building', 'coutryside', 'heart', 'toppless', 'Number', 'brickwall', 'windsurf', 'foreleg', 'competition', 'microphone', 'Asian', 'caravan', 'hoodie', 'faucet', 'slab', 'Building', 'onto', 'railroad', 'descent', 'Energy', 'trudge', 'Ring', 'tumbleweed', 'unpainted', 'fallen', 'shamrock', 'guardsman', 'range', 'chalk', 'pad', 'picnicker', 'posign', 'Yound', '#', 'dip', 'herself', 'deposit', 'ware', 'day', 'modern', 'backlit', 'mittened', 'origin', 'pan', 'table', 'share', 'Hockey', 'forward', 'ques', 'pink-hooded', 'ferry', 'nowhere', 'gingerbread', 'assist', 'glvoes', 'me', 'retain', 'theater', 'cheek', 'entire', 'bow-tie', 'booklet', 'worship', 'baton', 'residential', 'cover', 'upraise', 'wide', 'sample', 'pee', 'bath', 'torso', 'who', 'us', 'chew', 'hairdo', 'congregate', 'tiled', 'fronr', 'armful', 'shutter', 'bar-type', 'whist', 'rounded', 'dappled', 'Rival', 'gesture', 'torso-deep', 'hotel', 'swan', 'clip', 'tour', 'grassy', 'Dupont', 'judgement', 'bust', 'backround', 'treck', 'Gateway', 'parasailer', 'tire-shaped', 'calf', 'steep', 'elder', 'directs', 'overcast', 'picnic', 'Orange', 'common', 'obstacle', 'wmoan', 'entertainer', 'passenger', 'caution', 'flower-covered', 'yell', 'mime', 'eagerly', 'Family', 'groomsman', 'cobbled', 'pluck', 'john', 'poncho', 'uplifted', 'fiels', 'register', 'confused', 'Egyptian', 'brindle-colored', 'strike', 'goldfish', 'punctured', 'bamboo', 'daft', '93', '42', 'poolside', 'rundown', 'evergreen', 'patiently', 'Bohemian', 'Biker', 'crew', 'beside', 'waterskiis', 'harmonica', 'Husky', 'portfolio', 'musician', 'knock', 'waterful', 'lillypads', 'groom', 'armchair', 'violinist', 'trashcan', 'wheat', 'lesson', 'wine', 'scar', 'sofa', 'rocky', 'negotiate', 'cavort', 'scratches', 'engulf', 'four', 'restaraunt', 'bungee-type', 'waist', 'bonfire', 'guess', 'Girl', 'Someone', 'Sandy', 'lined', 'huskey', 'throught', 'part', 'taxi', 'weather', 'pooping', 'Speedo', 'steeple', 'bomber', 'frisbie', 'casually-dressed', 'shew', 'Einstein', 'nech', 'language', 'tote', 'Juggler', 'least', 'lodge', 'Playstation', 'busstop', 'seem', 'spelunker', 'thrower', 'suitcase', 'overweight', 'clump', 'collar', 'At', 'electronic', 'momma', 'beanches', 'fatigues', 'paintball', 'tee', 'creek', 'seal', 'frosty', 'dug', 'Japanese', 'backwards', 'goose', 'strong', 'coloring', 'fair', 'Fluffy', 'model', 'patch', 'stiffly-posed', 'chute', 'lei', 'spectator', 'spool', 'cosplayer', 'officer', 'replace', 'pave', 'repel', 'new', 'Jump', 'swing-type', 'Retreiver', 'mic', 'helment', 'backward', 'Minor', 'marker', 'dinosaur', 'sale', 'submerge', 'Ou', 'elegant', 'well-dressed', 'chicken', 'bridesmaid', 'emphatically', 'tax', 'drift', 'divide', '58', 'riverboat', 'order', 'Clause', 'directory', '28', 'spiky', 'jumpinjg', 'agains', 'medium-sized', 'splash', 'kilt', 'henna', 'stretcher', 'snowpants', 'cream', 'mulch', 'lav', 'stain', 'doberman', 'laden', 'woooden', 'St', 'foreground', 'Womand', 'pencil', 'gigantic', 'knit', 'Skier', 'lasso', 'golden', 'backpacker', 'compose', 'bouncy', 'celebrate', 'flipper', 'crab', 'Suv', 'injure', 'Kerry', 'bikins', 'fron', 'stone', 'wife', 'golden-colored', 'hopscotch', 'hockey', 'protective', 'defender', 'bill', 'diaper', 'ractrack', 'facepaintings', 'crash', 'Market', 'drummer', 'tend', 'skydive', 'boatload', 'bulky', 'heard', 'slalom-like', 'Canada', 'Greyhound', 'roundabout', 'Nike', 'hula-hoops', 'slam', 'bearer', 'baby', 'Teen', 'symbol', 'buoy', 'Jr.', 'multicolored', 'complex', 'overtop', 'ipod', 'ponytail', 'serve', 'terrier', 'give', 'Freak', 'quietly', 'anime', 'populated', 'cross-country', 'guardrail', 'evident', 'headlong', 'stare', 'bystander', 'foreigner', 'customer', 'back', 'rake', 'stadium', 'disc', 'faint', 'mouth', 'handlebar', 'subject', 'stadning', 'white-footed', 'ciff', 'Winston', 'Teenage', 'cold', '!', 'blindfold', 'maroon', 'white-bearded', 'signpost', 'Oceanside', 'eyeglasses', 'greyish', 'substance', 'brownstone', 'recyclable', 'tipped', 'robe', 'tilt', 'hat', 'purchase', 'arbor', 'water-wear', 'bay', 'lakeside', 'rocket', 'show', 'constructed', 'supplies', 'headdress', 'orb', 'Above', 'Giant', 'standard', 'pigeon', 'ink', 'India', 'Hear', 'canyon', 'cause', 'fighter', 'pullover', 'lit', 'foul', 'streaked', 'workshop', 'large-boned', 'seaweed', 'plywood', 'flight', 'kicker', 'saxaphones', 'injured', 'popscicles', 'grimace', 'knotted', 'panhandler', 'banister', 'Elderly', 'finish', 'shade', 'recorder', 'scrap', 'shoreline', 'non-grassy', 'strapped', 'crowded', 'mixed', 'Reflection', 'sun-shaped', 'smokestack', 'really', 'brightly-colred', 'pig', 'pedestrian', 'chase', 'saroog', 'compete', 'tall', 'wrangle', 'Sled', 'trample', 'high-rise', 'musicans', 'moutainside', 'restrain', 'exited', 'moutains', 'pop', '3rd', 'bag', 'hover', 'wisks', 'Autumn', 'bucket', 'case', 'forehead', 'seafood', 'touch', 't-shirt', 'stream', 'bumpy', 'Team', 'stingray', 'unknown', 'tinsel', 'squint', 'Riwal', 'celebration', 'uniform', 'Ritz', 'brother', 'chisel', 'enjoyable', 'bad', 'classroom', 'skinned', 'various', 'star', 'spread', 'action', 'shaved', 'cries', 'tabby', 'calculate', 'cob', 'Arizona', 'machine', 'quarterback', 'peircings', 'ponytailed', 'renaissance', 'gauzey', 'devil', 'electric', 'overshirt', 'light-up', 'Pyranha', 'explosive', 'formation', 'straggle', 'Nine', 'miscellaneous', 'start', 'peach', 'Overweight', 'bulldozer', 'closeout', 'master', 'pose', 'mist', 'nine', 'camcorder', 'Clown', 'safety', 'Rack', 'visitor', 'high-fives', 'course', 'submerged', 'loader', 'laugh', 'frolic', 'reson', 'greet', 'we', 'Police', 'practise', 'ring', 'african-american', 'here', 'body', 'mini', 'ducky', 'bent', 'fern', 'slippery', 'goth', 'nation', 'princess', 'ultimate', 'direction', 'racket', 'half-pipe', 'nubby', 'tooth', 'moonwalk', 'worried', 'crane', 'coupe', 'unhappy', 'borader', 'apply', 'transport', 'peddal', 'spar', 'throw', 'parent', 'boogieboard', 'kitten', 'menu', 'similarly', 'awkward', 'eject', 'trumpet', 'wharf', 'bobbed', 'ambulance', 'mature', 'angel', 'round', 'sportswear', 'create', 'female', 'sleep', 'Space', 'express', 'ladle', 'Swimmer', 'blue-green', 'zagging', 'buddy', 'furiously', 'Parachuter', 'ski-lift', 'suds', 'in-synch', 'crown', 'turf', 'busy', 'barefoot', 'add', 'beg', 'iceskate', 'tundra', 'People', 'long-boarder', 'seeing-eye', 'saturate', 'Hollywood', 'jacket', 'softball', 'frozen', 'driver', 'lamb', 'violin', 'dine', 'showgirl', 'draw', 'bits', 'matador', 'Pedestrian', 'alligator', 'messanger', 'super', 'old', 'socialize', 'only', 'pounce', 'dense', 'airtime', 'partner', 'embroider', 'Winter', 'girder', 'cartwheel', 'oiled', 'scientist', 'Peoople', 'contraption', 'move', 'lesh', 'raised', 'sprawl', 'pelican', 'dried', 'Dirty', 'impersonator', 'outrun', 'gush', 'full', 'tan', 'abs', 'waterskies', 'tambourine', 'gauntlet', 'tentatively', 'Vfw', 'Blue-eyed', 'racer', 'batter', 'Mexico', 'attention', 'coffee', 'aisle', 'spouse', 'towards', 'Walker', 'lion', 'cute', 'blade', 'Bank', 'piercing', 'lampost', 'frilly', 'global', 'suffer', 'choreograph', 'among', 'One', 'buggy', 'Big', 'seesaw', 'pug', 'wodden', 'web', 'foot', 'restaurant', 'sell', 'speed', 'ship', 'up', 'aerial', 'Ont', 'cloud', 'rearview', 'gallery', 'eye', '23', 'miniature', 'tie', 'identification', 'cool', 'gamble', 'i', 'mirror', 'supermarket', 'Mardi', 'Outdoor', 'Barefoot', 'birthday', 'La', 'local', 'gas', 'vaste', 'medow', 'windbreaker', 'region', 'brake', 'shrub', 'jewelry', 'flood', 'imagery', 'saucer', 'seedoo', 'rescue', 'Caribbean', 'countertop', 'blindfolded', 'marking', 'decoration', 'parody', 'flash', 'trade', 'amidst', 'literature', 'Rugby', 'pyrotechnics', 'texts', 'student', 'girl', 'period', 'merry-go-round', 'curiously', 'crest', 'suck', 'participate', 'recently', 'headgear', 'multiple', 'He', 'Minivan', 'terminal', 't-ball', 'lotion', 'vine-covered', 'cube', 'celebrities', 'apportion', 'leg', 'stop-action', 'stairway', 'handkerchief', 'mall', 'pin', 'rose', 'straw', 'lioness', 'chess', 'earth', 'Ac', 'Spain', 'zoo', 'sombrero', 'lack', 'dirty', 'nap', 'darkly', 'Mets', 'collegiate', 'fluorecent', 'grate', 'picture', 'vertical', 'hairy', 'meditational', 'step', 'excitedly', 'mid-day', 'Parade', 'poof', 'sightsee', 'canopy', 'gith', 'patio', 'again', 'fadora', 'bridge', 'Tourist', 'foliaged', 'you', 'roil', 'entwine', 'blond-haired', 'horseshoe', 'buff', 'armband', 'attrative', 'photograph', 'c', 'sail', 'fancily', 'bro!', 'helicopter', 'casino', 'Rugger', 'quick', 'crosswalk', 'manual', 'baggage', 'P', 'bedroll', 'Patrick', 'masked', 'similar', 'pro', 'woolen', 'hankerchief', 'competiton', 'nylon', 'racetrack', 'dusty', 'parasurfs', 'daschund', 'grasp', 'skeleton', 'Iguana', 'plushie', 'greenery', 'represent', 'pom', 'clue', 'meter', 'Fayre', 'or', 'Shelton', 'misty', 'sparse', 'D.c.', 'dge', 'activity', 'badminton', 'position', 'bald', 'Arts', 'chips', 'speedos', '104', 'grind', 'propels', 'Kisses', 'caged', 'homeless', 'mid-run', 'Fit', 'long-handled', 'scuba', 'colored', 'Smilling', 'roughly', 'pepco', 'Gloved', 'multistory', 'military-style', 'otuside', 'paraglider', 'accessories', 'darker', 'depth', 'stroller', 'read', 'Dj', 'raft', 'paddock', 'intervene', 'trim', 'ballplayer', 'chidl', 'fashioned', 'pillow', 'crock', 'midriff', 'run', 'matchin', 'elude', 'meander', 'bareback', 'video', 'priest', 'guest', 'mountin', 'Numerous', 'horseback', 'temple', 'kneels', 'reenactment', '1923', 'backpack', 'corgi', 'bandanna', 'overturn', 'blueish', 'retrive', 'Where', 'suspender', 'labradoodle', 'mask', 'ourdoors', 'discover', 'deck', 'notice', 'ump', 'smock', 'skin', 'Fisherman', 'Father', 'Newlywed', 'sprinking', 'waiter', 'homemade', 'Chicago', 'laborador', 'Dirt', 'throat', 'headset', '<end>', 'Clemson', 'icy', 'daughter', 'Anything', 'brook', 'almost', 'hairclips', 'Goggle', 'shoulder-high', 'middle-eastern', 'police', 'Dad', 'K2', 'You', 'Lecture', 'trouser', 'partly', 'hurry', 'squat', 'uncut', 'equipment', 'purple', 'contestent', 'mouthpiece', 'pit', 'surgical', 'bleach', 'investigate', 'stoic', 'league', 'Near', 'file', 'highschool', 'Many', 'motorized', 'ravine', 'prize', 'bodysuit', 'handrail', 'professional', 'latte', 'pursue', 'Challenge', 'Israeli', 'weight', 'cd', 'Muslim', 'Both', 'parlor', 'kimono', 'An', 'themselves', 'player', 'driftrood', 'Busy', 'pensively', 'raise', 'slip', 'include', 'belt', 'handbag', 'dandelion', 'companion', 'cereal', 'Irish', 'wintry', 'Old', 'Fellow', 'mess', 'fog', 'bigwheels', '1915', 'pump', 'happiness', 'tricycle', 'Orthodox', 'Groucho', 'sweep', 'mosque-like', 'teal', 'Bay', 'daytime', 'drapped', 'grassland', 'tattooed', 'shack', 'clothing', 'blond', 'pay', 'concrete', 'snarl', 'Cricket', 'motley', 'wings', 'Crowd', 'dark-skinned', 'miss', 'Labrador', 'tophats', 'Couple', 'froup', 'skyscraper', 'decoy-animal', 'are', 'Rafael', 'above-ground', 'current', 'jacked', 'backstroke', 'playground', 'Mitsubishi', 'Dave', 'lower', 'butter', 'sink', 'unshaven', 'York', 'European', 'overhang', 'pierce', 'motion', 'tug', 'dig', 'blown-up', 'Mark', 'plaza', 'blue-tinted', 'Ride', 'igloo', 'golfer', 'Inside', 'Candle', 'equestrian', 'mop', 'lining', 'Bannister', 'gray-haired', 'converse', 'best', 'midpitch', 'squad', 'flexible', 'flexibility', 'chainsaw', 'Top-down', 'Free', 'eight', 'seashore', 'fish', 'candy', 'blouse', 'neck', 'Woman', 'underbrush', 'graffited', 'hide', 'notre', 'Krueger', 'numeral', 'money', 'vehicle', 'craft', 'queen', 'African-american', 'one-handed', 'blue-striped', 'ribbon', 'egde', 'pianist', 'bush', 'lunge', 'pod', 'public', 'offer', 'romantic', 'hundred', 'cat', 'syrup', 'elevated', 'flute', 'triangle', 'focus', 'wax', 'trapped', 'digital', 'sack', 'swat', 'Take', 'underside', 'establish', 'foliage', 'crumble', 'pitch', 'ollies', 'car', 'sandbox', 'talk', 'melt', 'rottweiler', 'darkened', 'sports-field', 'gallopsing', 'Croc', 'swampy', 'mambo', 'cinderblock', 'chief', 'cheer', 'bib', 'choice', 'sick', 'cuddle', 'Mcdonald', 'concentration', 'business', 'location', 'cathing', 'manually', 'Dirtbiker', 'field', 'rainling', 'trash', 'navy', 'architectural', 'trainer', 'nail', 'tiara', 'gather', 'Tribal', 'night', 'reveal', 'ice-skate', 'coarse', 'versus', 'respond', 'stairs', 'sundress', 'Sweat', 'strapless', 'campground', 'Park', 'angle', 'pony', 'covering', 'Do', 'onward', 'off-white', 'report', 'grafitti', 'slouch', 'snow', 'aged', 'Dinner', 'cascade', 'pullup', 'sponsorship', 'monster', 'numerous', 'Sabre', 'ski', 'outside', 'long-legged', 'sheet', 'rummage', 'racquet', 'each', 'uniquely-shaped', 'cheerfully', 'buster', 'convienance', 'tiny', 'blaze', 'cliff', 'Amnesty', 'profile', 'blacktop', 'fronmt', 'scale', 'moutain', 'tool', 'carreis', 'garment', 'snowfield', 'intertube', 'bathe', 'salmon', 'annoy', 'archway', 'Concentration', 'reindeer', 'prefabricated', 'shrine', 'newborn', 'containig', 'game', 'horizontally-striped', 'what', 'jeep', 'Beckham', 'pulley', 'corrugated', 'winter-gear', 'curve', 'exhibt', 'barn-like', 'Pale', 'Tinkerbell', 'Ok', 'bat', 'auditorium', 'reclines', 'sailor', 'aerobatics', 'main', 'sift', 'stickball', 'fluorescent', 'cash', 'button', 'marquee', 'them', 'stir', 'of', 'dress', 'barb', 'scream', 'airborne', 'good', 'crystal', 'videotape', 'rainbow', 'castle', 'gymnast', 'campus', 'gauge', 'duffel', 'ornament', 'merchandise', 'forest', 'corral', 'cheerlead', 'worn', 'portable', 'three', 'frayed', 'cycler', 'advertize', 'receive', 'roast', 'mountainside', 'gray-green', 'statute', 'takeout', 'Jackson', 'belays', 'There', 'gnaw', 'in', 'arrangement', 'zigzag', 'Power', 'dye', '<start>', 'vike', 'tail', 'cater', 'inline', 'A', 'porch', 'Skiier', 'these', 'festival', 'market', 'sings', 'wolf', 'hoodies', 'trace', 'Stop', 'fitls', 'mid-swing', 'serveral', 'View', 'Wolf', 'leashed', 'black-rimmed', 'flip-flops', 'Jockey', 'rangler', 'readied', 'bounce', 'wheelbarrow', 'pet', 'sect', 'participant', 'paint', 'paperback', 'dismount', 'aid', 'gorgeous', 'foam', 'petal', 'sippy', 'Oregon', 'miniskirt', 'properly', 'footballer', 'gloved-hand', 'child', 'Slip', 'mogul', 'panel', 'shed', 'Handicapped', 'Oklahoma', 'bunchh', 'bed', 'entertain', 'punk', 'keyboard', 'segway', 'interested', 'sheep', 'percussionist', 'Eastpak', 'some', 'rock-climbs', 'chemical', 'session', 'swinger', 'scarily', 'handstand', 'closely', 'slingshot', 'copper', 'Large', 'ballet', 'slightly', 'UNK'])\n"
     ]
    }
   ],
   "source": [
    "words = [sentence.split() for sentence in sentences]\n",
    "i = 0\n",
    "all_words = []\n",
    "for k in words:\n",
    "    for word in k:\n",
    "        all_words.append(word)\n",
    "print(all_words[0:40])\n",
    "\n",
    "unique = list(set(all_words))\n",
    "print(len(unique))\n",
    "vocab_size = len(unique)\n",
    "\n",
    "word_2_indices = {val:index for index,val in enumerate(unique)}\n",
    "indices_2_word = {index:val for index,val in enumerate(unique)}\n",
    "\n",
    "word_2_indices['UNK'] = 0\n",
    "indices_2_word[0] = 'UNK'\n",
    "print(word_2_indices.keys())"
   ]
  },
  {
   "cell_type": "code",
   "execution_count": null,
   "metadata": {
    "colab": {
     "base_uri": "https://localhost:8080/"
    },
    "executionInfo": {
     "elapsed": 529,
     "status": "ok",
     "timestamp": 1632157834220,
     "user": {
      "displayName": "narendran solai sridharan",
      "photoUrl": "https://lh3.googleusercontent.com/a/default-user=s64",
      "userId": "16755550907293243255"
     },
     "user_tz": -330
    },
    "id": "bjomozgGL820",
    "outputId": "0204715d-8b22-4255-bee4-816f4db6fe9c"
   },
   "outputs": [
    {
     "name": "stdout",
     "output_type": "stream",
     "text": [
      "40\n",
      "['<start>', 'An', 'African-american', 'man', 'wear', 'a', 'green', 'sweatshirt', 'and', 'blue', 'vest', 'be', 'hold', 'up', '2', 'dollar', 'bill', 'in', 'front', 'of', 'his', 'face', ',', 'while', 'stand', 'on', 'a', 'busy', 'sidewalk', 'in', 'front', 'of', 'a', 'group', 'of', 'man', 'play', 'instrument', '.', '<end>']\n"
     ]
    }
   ],
   "source": [
    "vocab_size = len(word_2_indices.keys())\n",
    "max_len = -1\n",
    "for k in sentences:\n",
    "    a = k.split(\" \")\n",
    "    \n",
    "    if len(a)>max_len:\n",
    "        max_len = len(a)\n",
    "        arr = a\n",
    "print(max_len)\n",
    "print(arr)"
   ]
  },
  {
   "cell_type": "code",
   "execution_count": null,
   "metadata": {
    "colab": {
     "base_uri": "https://localhost:8080/"
    },
    "executionInfo": {
     "elapsed": 3695,
     "status": "ok",
     "timestamp": 1632157950097,
     "user": {
      "displayName": "narendran solai sridharan",
      "photoUrl": "https://lh3.googleusercontent.com/a/default-user=s64",
      "userId": "16755550907293243255"
     },
     "user_tz": -330
    },
    "id": "th6i_sFpMBdY",
    "outputId": "f0f34c81-a151-401c-fdb6-f62553820ce6"
   },
   "outputs": [
    {
     "name": "stdout",
     "output_type": "stream",
     "text": [
      "(24996,)\n",
      "(24996,)\n"
     ]
    },
    {
     "name": "stderr",
     "output_type": "stream",
     "text": [
      "/usr/local/lib/python3.7/dist-packages/numpy/core/_asarray.py:83: VisibleDeprecationWarning: Creating an ndarray from ragged nested sequences (which is a list-or-tuple of lists-or-tuples-or ndarrays with different lengths or shapes) is deprecated. If you meant to do this, you must specify 'dtype=object' when creating the ndarray\n",
      "  return array(a, dtype, copy=False, order=order)\n"
     ]
    }
   ],
   "source": [
    "from keras.preprocessing import image, sequence\n",
    "\n",
    "padded_sequences = []\n",
    "subsequent_words = []\n",
    "\n",
    "for i in range(ds.shape[0]):\n",
    "    partial_seqs = []\n",
    "    next_words = []\n",
    "    \n",
    "    text = ds[i,2].split(\" \")\n",
    "    text = [word_2_indices[i] for i in text]\n",
    "    \n",
    "    for i in range(0,len(text)):\n",
    "        partial_seqs.append(text[:i])\n",
    "        next_words.append(text[i])\n",
    "    \n",
    "    padded_partial_seqs = sequence.pad_sequences(partial_seqs, max_len, padding='post')\n",
    "    next_words_1hot = np.zeros([len(next_words), vocab_size], dtype=np.bool)\n",
    "    \n",
    "    for i,next_word in enumerate(next_words):\n",
    "        next_words_1hot[i, next_word] = 1\n",
    "        \n",
    "    padded_sequences.append(padded_partial_seqs)\n",
    "    subsequent_words.append(next_words_1hot)\n",
    "   \n",
    "padded_sequences = np.asarray(padded_sequences)\n",
    "subsequent_words = np.asarray(subsequent_words)\n",
    "\n",
    "print(padded_sequences.shape)\n",
    "print(subsequent_words.shape)"
   ]
  },
  {
   "cell_type": "code",
   "execution_count": null,
   "metadata": {
    "colab": {
     "base_uri": "https://localhost:8080/"
    },
    "executionInfo": {
     "elapsed": 407,
     "status": "ok",
     "timestamp": 1632157965868,
     "user": {
      "displayName": "narendran solai sridharan",
      "photoUrl": "https://lh3.googleusercontent.com/a/default-user=s64",
      "userId": "16755550907293243255"
     },
     "user_tz": -330
    },
    "id": "IePeOWUGMKpv",
    "outputId": "b58f66b3-8ede-4e10-9eed-43eaecc535bf"
   },
   "outputs": [
    {
     "name": "stdout",
     "output_type": "stream",
     "text": [
      "['UNK', 'UNK', 'UNK', 'UNK', 'UNK', 'UNK', 'UNK', 'UNK', 'UNK', 'UNK', 'UNK', 'UNK', 'UNK', 'UNK', 'UNK', 'UNK', 'UNK', 'UNK', 'UNK', 'UNK', 'UNK', 'UNK', 'UNK', 'UNK', 'UNK', 'UNK', 'UNK', 'UNK', 'UNK', 'UNK', 'UNK', 'UNK', 'UNK', 'UNK', 'UNK', 'UNK', 'UNK', 'UNK', 'UNK', 'UNK']\n",
      "\n",
      "\n",
      "['<start>', 'UNK', 'UNK', 'UNK', 'UNK', 'UNK', 'UNK', 'UNK', 'UNK', 'UNK', 'UNK', 'UNK', 'UNK', 'UNK', 'UNK', 'UNK', 'UNK', 'UNK', 'UNK', 'UNK', 'UNK', 'UNK', 'UNK', 'UNK', 'UNK', 'UNK', 'UNK', 'UNK', 'UNK', 'UNK', 'UNK', 'UNK', 'UNK', 'UNK', 'UNK', 'UNK', 'UNK', 'UNK', 'UNK', 'UNK']\n",
      "\n",
      "\n",
      "['<start>', 'A', 'UNK', 'UNK', 'UNK', 'UNK', 'UNK', 'UNK', 'UNK', 'UNK', 'UNK', 'UNK', 'UNK', 'UNK', 'UNK', 'UNK', 'UNK', 'UNK', 'UNK', 'UNK', 'UNK', 'UNK', 'UNK', 'UNK', 'UNK', 'UNK', 'UNK', 'UNK', 'UNK', 'UNK', 'UNK', 'UNK', 'UNK', 'UNK', 'UNK', 'UNK', 'UNK', 'UNK', 'UNK', 'UNK']\n",
      "\n",
      "\n",
      "['<start>', 'A', 'fluffy', 'UNK', 'UNK', 'UNK', 'UNK', 'UNK', 'UNK', 'UNK', 'UNK', 'UNK', 'UNK', 'UNK', 'UNK', 'UNK', 'UNK', 'UNK', 'UNK', 'UNK', 'UNK', 'UNK', 'UNK', 'UNK', 'UNK', 'UNK', 'UNK', 'UNK', 'UNK', 'UNK', 'UNK', 'UNK', 'UNK', 'UNK', 'UNK', 'UNK', 'UNK', 'UNK', 'UNK', 'UNK']\n",
      "\n",
      "\n",
      "['<start>', 'A', 'fluffy', ',', 'UNK', 'UNK', 'UNK', 'UNK', 'UNK', 'UNK', 'UNK', 'UNK', 'UNK', 'UNK', 'UNK', 'UNK', 'UNK', 'UNK', 'UNK', 'UNK', 'UNK', 'UNK', 'UNK', 'UNK', 'UNK', 'UNK', 'UNK', 'UNK', 'UNK', 'UNK', 'UNK', 'UNK', 'UNK', 'UNK', 'UNK', 'UNK', 'UNK', 'UNK', 'UNK', 'UNK']\n",
      "\n",
      "\n",
      "['<start>', 'A', 'fluffy', ',', 'tri-colored', 'UNK', 'UNK', 'UNK', 'UNK', 'UNK', 'UNK', 'UNK', 'UNK', 'UNK', 'UNK', 'UNK', 'UNK', 'UNK', 'UNK', 'UNK', 'UNK', 'UNK', 'UNK', 'UNK', 'UNK', 'UNK', 'UNK', 'UNK', 'UNK', 'UNK', 'UNK', 'UNK', 'UNK', 'UNK', 'UNK', 'UNK', 'UNK', 'UNK', 'UNK', 'UNK']\n",
      "\n",
      "\n",
      "['<start>', 'A', 'fluffy', ',', 'tri-colored', 'dog', 'UNK', 'UNK', 'UNK', 'UNK', 'UNK', 'UNK', 'UNK', 'UNK', 'UNK', 'UNK', 'UNK', 'UNK', 'UNK', 'UNK', 'UNK', 'UNK', 'UNK', 'UNK', 'UNK', 'UNK', 'UNK', 'UNK', 'UNK', 'UNK', 'UNK', 'UNK', 'UNK', 'UNK', 'UNK', 'UNK', 'UNK', 'UNK', 'UNK', 'UNK']\n",
      "\n",
      "\n",
      "['<start>', 'A', 'fluffy', ',', 'tri-colored', 'dog', 'be', 'UNK', 'UNK', 'UNK', 'UNK', 'UNK', 'UNK', 'UNK', 'UNK', 'UNK', 'UNK', 'UNK', 'UNK', 'UNK', 'UNK', 'UNK', 'UNK', 'UNK', 'UNK', 'UNK', 'UNK', 'UNK', 'UNK', 'UNK', 'UNK', 'UNK', 'UNK', 'UNK', 'UNK', 'UNK', 'UNK', 'UNK', 'UNK', 'UNK']\n",
      "\n",
      "\n",
      "['<start>', 'A', 'fluffy', ',', 'tri-colored', 'dog', 'be', 'run', 'UNK', 'UNK', 'UNK', 'UNK', 'UNK', 'UNK', 'UNK', 'UNK', 'UNK', 'UNK', 'UNK', 'UNK', 'UNK', 'UNK', 'UNK', 'UNK', 'UNK', 'UNK', 'UNK', 'UNK', 'UNK', 'UNK', 'UNK', 'UNK', 'UNK', 'UNK', 'UNK', 'UNK', 'UNK', 'UNK', 'UNK', 'UNK']\n",
      "\n",
      "\n",
      "['<start>', 'A', 'fluffy', ',', 'tri-colored', 'dog', 'be', 'run', 'down', 'UNK', 'UNK', 'UNK', 'UNK', 'UNK', 'UNK', 'UNK', 'UNK', 'UNK', 'UNK', 'UNK', 'UNK', 'UNK', 'UNK', 'UNK', 'UNK', 'UNK', 'UNK', 'UNK', 'UNK', 'UNK', 'UNK', 'UNK', 'UNK', 'UNK', 'UNK', 'UNK', 'UNK', 'UNK', 'UNK', 'UNK']\n",
      "\n",
      "\n",
      "['<start>', 'A', 'fluffy', ',', 'tri-colored', 'dog', 'be', 'run', 'down', 'a', 'UNK', 'UNK', 'UNK', 'UNK', 'UNK', 'UNK', 'UNK', 'UNK', 'UNK', 'UNK', 'UNK', 'UNK', 'UNK', 'UNK', 'UNK', 'UNK', 'UNK', 'UNK', 'UNK', 'UNK', 'UNK', 'UNK', 'UNK', 'UNK', 'UNK', 'UNK', 'UNK', 'UNK', 'UNK', 'UNK']\n",
      "\n",
      "\n",
      "['<start>', 'A', 'fluffy', ',', 'tri-colored', 'dog', 'be', 'run', 'down', 'a', 'road', 'UNK', 'UNK', 'UNK', 'UNK', 'UNK', 'UNK', 'UNK', 'UNK', 'UNK', 'UNK', 'UNK', 'UNK', 'UNK', 'UNK', 'UNK', 'UNK', 'UNK', 'UNK', 'UNK', 'UNK', 'UNK', 'UNK', 'UNK', 'UNK', 'UNK', 'UNK', 'UNK', 'UNK', 'UNK']\n",
      "\n",
      "\n",
      "['<start>', 'A', 'fluffy', ',', 'tri-colored', 'dog', 'be', 'run', 'down', 'a', 'road', 'with', 'UNK', 'UNK', 'UNK', 'UNK', 'UNK', 'UNK', 'UNK', 'UNK', 'UNK', 'UNK', 'UNK', 'UNK', 'UNK', 'UNK', 'UNK', 'UNK', 'UNK', 'UNK', 'UNK', 'UNK', 'UNK', 'UNK', 'UNK', 'UNK', 'UNK', 'UNK', 'UNK', 'UNK']\n",
      "\n",
      "\n",
      "['<start>', 'A', 'fluffy', ',', 'tri-colored', 'dog', 'be', 'run', 'down', 'a', 'road', 'with', 'a', 'UNK', 'UNK', 'UNK', 'UNK', 'UNK', 'UNK', 'UNK', 'UNK', 'UNK', 'UNK', 'UNK', 'UNK', 'UNK', 'UNK', 'UNK', 'UNK', 'UNK', 'UNK', 'UNK', 'UNK', 'UNK', 'UNK', 'UNK', 'UNK', 'UNK', 'UNK', 'UNK']\n",
      "\n",
      "\n",
      "['<start>', 'A', 'fluffy', ',', 'tri-colored', 'dog', 'be', 'run', 'down', 'a', 'road', 'with', 'a', 'paper', 'UNK', 'UNK', 'UNK', 'UNK', 'UNK', 'UNK', 'UNK', 'UNK', 'UNK', 'UNK', 'UNK', 'UNK', 'UNK', 'UNK', 'UNK', 'UNK', 'UNK', 'UNK', 'UNK', 'UNK', 'UNK', 'UNK', 'UNK', 'UNK', 'UNK', 'UNK']\n",
      "\n",
      "\n",
      "['<start>', 'A', 'fluffy', ',', 'tri-colored', 'dog', 'be', 'run', 'down', 'a', 'road', 'with', 'a', 'paper', 'in', 'UNK', 'UNK', 'UNK', 'UNK', 'UNK', 'UNK', 'UNK', 'UNK', 'UNK', 'UNK', 'UNK', 'UNK', 'UNK', 'UNK', 'UNK', 'UNK', 'UNK', 'UNK', 'UNK', 'UNK', 'UNK', 'UNK', 'UNK', 'UNK', 'UNK']\n",
      "\n",
      "\n",
      "['<start>', 'A', 'fluffy', ',', 'tri-colored', 'dog', 'be', 'run', 'down', 'a', 'road', 'with', 'a', 'paper', 'in', 'its', 'UNK', 'UNK', 'UNK', 'UNK', 'UNK', 'UNK', 'UNK', 'UNK', 'UNK', 'UNK', 'UNK', 'UNK', 'UNK', 'UNK', 'UNK', 'UNK', 'UNK', 'UNK', 'UNK', 'UNK', 'UNK', 'UNK', 'UNK', 'UNK']\n",
      "\n",
      "\n",
      "['<start>', 'A', 'fluffy', ',', 'tri-colored', 'dog', 'be', 'run', 'down', 'a', 'road', 'with', 'a', 'paper', 'in', 'its', 'mouth', 'UNK', 'UNK', 'UNK', 'UNK', 'UNK', 'UNK', 'UNK', 'UNK', 'UNK', 'UNK', 'UNK', 'UNK', 'UNK', 'UNK', 'UNK', 'UNK', 'UNK', 'UNK', 'UNK', 'UNK', 'UNK', 'UNK', 'UNK']\n",
      "\n",
      "\n",
      "['<start>', 'A', 'fluffy', ',', 'tri-colored', 'dog', 'be', 'run', 'down', 'a', 'road', 'with', 'a', 'paper', 'in', 'its', 'mouth', '.', 'UNK', 'UNK', 'UNK', 'UNK', 'UNK', 'UNK', 'UNK', 'UNK', 'UNK', 'UNK', 'UNK', 'UNK', 'UNK', 'UNK', 'UNK', 'UNK', 'UNK', 'UNK', 'UNK', 'UNK', 'UNK', 'UNK']\n",
      "\n",
      "\n"
     ]
    }
   ],
   "source": [
    "#20,36\n",
    "for x in range(len(padded_sequences[0])):\n",
    "    array_ = []\n",
    "    for y in range(max_len):\n",
    "        array_.append(indices_2_word[padded_sequences[0][x][y]])\n",
    "    print(array_)\n",
    "    print(\"\\n\")"
   ]
  },
  {
   "cell_type": "code",
   "execution_count": null,
   "metadata": {
    "executionInfo": {
     "elapsed": 416,
     "status": "ok",
     "timestamp": 1632157990004,
     "user": {
      "displayName": "narendran solai sridharan",
      "photoUrl": "https://lh3.googleusercontent.com/a/default-user=s64",
      "userId": "16755550907293243255"
     },
     "user_tz": -330
    },
    "id": "x49MfwNoL4op"
   },
   "outputs": [],
   "source": [
    "num_of_images = 2000\n",
    "captions = np.zeros([0, max_len])\n",
    "next_words = np.zeros([0, vocab_size])"
   ]
  },
  {
   "cell_type": "code",
   "execution_count": null,
   "metadata": {
    "colab": {
     "base_uri": "https://localhost:8080/"
    },
    "executionInfo": {
     "elapsed": 269127,
     "status": "ok",
     "timestamp": 1632158302881,
     "user": {
      "displayName": "narendran solai sridharan",
      "photoUrl": "https://lh3.googleusercontent.com/a/default-user=s64",
      "userId": "16755550907293243255"
     },
     "user_tz": -330
    },
    "id": "WDbcgB98Mnha",
    "outputId": "b4daf301-542a-49b1-d53b-4c1b3877c907"
   },
   "outputs": [
    {
     "name": "stdout",
     "output_type": "stream",
     "text": [
      "0\n",
      "100\n",
      "200\n",
      "300\n",
      "400\n",
      "500\n",
      "600\n",
      "700\n",
      "800\n",
      "900\n",
      "1000\n",
      "1100\n",
      "1200\n",
      "1300\n",
      "1400\n",
      "1500\n",
      "1600\n",
      "1700\n",
      "1800\n",
      "1900\n",
      "(27694, 40)\n",
      "(27694, 5997)\n"
     ]
    }
   ],
   "source": [
    "for i in range(num_of_images):\n",
    "    captions = np.concatenate([captions, padded_sequences[i]])\n",
    "    next_words = np.concatenate([next_words, subsequent_words[i]])\n",
    "    if(i%100==0):\n",
    "        print(i)\n",
    "\n",
    "np.save(\"captions.npy\", captions)\n",
    "np.save(\"next_words.npy\", next_words)\n",
    "\n",
    "print(captions.shape)\n",
    "print(next_words.shape)"
   ]
  },
  {
   "cell_type": "code",
   "execution_count": null,
   "metadata": {
    "id": "NFFVFwuFMyTa"
   },
   "outputs": [],
   "source": []
  },
  {
   "cell_type": "code",
   "execution_count": null,
   "metadata": {
    "id": "hfZbYrWrBRwr"
   },
   "outputs": [],
   "source": [
    "# transform the training data\n",
    "X1train, X2train, ytrain = gen_Xy(train_captions, max_length, train_features, tokenizer)\n",
    "print(X1train.shape, X2train.shape, ytrain.shape)"
   ]
  },
  {
   "cell_type": "code",
   "execution_count": null,
   "metadata": {
    "id": "_sWxU0QRBT68"
   },
   "outputs": [],
   "source": [
    "# load and transform the testing data\n",
    "filename = 'Flickr8k_text/Flickr_8k.devImages.txt'\n",
    "test = load_set(filename)\n",
    "print('Dataset:', len(test))\n",
    "test_captions = load_formated_captions('captions.txt', test)\n",
    "print('Test Captions:', len(test_captions))\n",
    "test_features = load_photo_features('features.pkl', test)\n",
    "print('Test Images:', len(test_features))\n",
    "X1test, X2test, ytest = gen_Xy(test_captions, max_length, test_features, tokenizer)\n",
    "print(X1test.shape, X2test.shape, ytest.shape)"
   ]
  },
  {
   "cell_type": "markdown",
   "metadata": {
    "id": "aLa1gMbq1nkO"
   },
   "source": [
    "# Reference\n",
    "\n",
    "https://kenanwang.github.io/processed%20data/2020/01/08/photo-captioning.html"
   ]
  }
 ],
 "metadata": {
  "accelerator": "GPU",
  "colab": {
   "authorship_tag": "ABX9TyNc+0LZlrQrqKOPnwHob+qC",
   "collapsed_sections": [],
   "name": "VGG Example.ipynb",
   "provenance": [],
   "toc_visible": true
  },
  "kernelspec": {
   "display_name": "Python 3",
   "language": "python",
   "name": "python3"
  },
  "language_info": {
   "name": "python",
   "version": "3.12.8"
  }
 },
 "nbformat": 4,
 "nbformat_minor": 0
}
