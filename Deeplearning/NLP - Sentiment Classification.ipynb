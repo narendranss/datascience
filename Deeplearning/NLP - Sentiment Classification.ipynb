{
 "cells": [
  {
   "cell_type": "markdown",
   "metadata": {
    "id": "b005fIeWbign"
   },
   "source": [
    "# Sentiment Classification with Deeplearning\n",
    "\n",
    "### 1.Import Libraries/Dataset.\n",
    "> a.Import the required libraries andthe dataset (use Google Drive if required).\n",
    "\n",
    ">b.Check the GPU available (recommended-use free GPU provided by Google Colab)."
   ]
  },
  {
   "cell_type": "code",
   "execution_count": null,
   "metadata": {
    "colab": {
     "base_uri": "https://localhost:8080/"
    },
    "id": "-iS38zKuJqwA",
    "outputId": "5387e507-9f5c-43a2-edea-7f7ed9aadb16"
   },
   "outputs": [
    {
     "name": "stdout",
     "output_type": "stream",
     "text": [
      "Drive already mounted at /content/drive; to attempt to forcibly remount, call drive.mount(\"/content/drive\", force_remount=True).\n"
     ]
    }
   ],
   "source": [
    "from google.colab import drive\n",
    "drive.mount('/content/drive')"
   ]
  },
  {
   "cell_type": "code",
   "execution_count": null,
   "metadata": {
    "id": "2NssB7Z4DcHK"
   },
   "outputs": [],
   "source": [
    "import tensorflow as tf\n",
    "import pandas as pd\n",
    "import seaborn as sns\n",
    "\n",
    "path = \"/content/drive/MyDrive/IMDB Dataset.csv\"\n",
    "df = pd.read_csv(path)"
   ]
  },
  {
   "cell_type": "markdown",
   "metadata": {
    "id": "FezQ6obNb2jr"
   },
   "source": [
    "### 2.Data Visualization.\n",
    "> a.Print at least two movie reviews from each class of the dataset, for a sanity check that labels match the text.\n",
    "\n",
    "> b.Plot a bar graph of class distribution in dataset. Each bar depicts the number of tweets belonging to a particular sentiment. (recommended -matplotlib/seaborn libraries)\n",
    "\n",
    ">c.Any other visualizations that seem appropriate for this problem are encouraged but not necessary, for the points.\n",
    "\n",
    ">d.Print the shapes of train and test data."
   ]
  },
  {
   "cell_type": "code",
   "execution_count": null,
   "metadata": {
    "colab": {
     "base_uri": "https://localhost:8080/",
     "height": 171
    },
    "id": "7YOb6T9EcRl1",
    "outputId": "21535b44-e920-45c1-baab-5fbd1c5cad54"
   },
   "outputs": [
    {
     "data": {
      "text/html": [
       "<div>\n",
       "<style scoped>\n",
       "    .dataframe tbody tr th:only-of-type {\n",
       "        vertical-align: middle;\n",
       "    }\n",
       "\n",
       "    .dataframe tbody tr th {\n",
       "        vertical-align: top;\n",
       "    }\n",
       "\n",
       "    .dataframe thead th {\n",
       "        text-align: right;\n",
       "    }\n",
       "</style>\n",
       "<table border=\"1\" class=\"dataframe\">\n",
       "  <thead>\n",
       "    <tr style=\"text-align: right;\">\n",
       "      <th></th>\n",
       "      <th>review</th>\n",
       "      <th>sentiment</th>\n",
       "    </tr>\n",
       "  </thead>\n",
       "  <tbody>\n",
       "    <tr>\n",
       "      <th>0</th>\n",
       "      <td>One of the other reviewers has mentioned that ...</td>\n",
       "      <td>positive</td>\n",
       "    </tr>\n",
       "    <tr>\n",
       "      <th>1</th>\n",
       "      <td>A wonderful little production. &lt;br /&gt;&lt;br /&gt;The...</td>\n",
       "      <td>positive</td>\n",
       "    </tr>\n",
       "    <tr>\n",
       "      <th>3</th>\n",
       "      <td>Basically there's a family where a little boy ...</td>\n",
       "      <td>negative</td>\n",
       "    </tr>\n",
       "    <tr>\n",
       "      <th>7</th>\n",
       "      <td>This show was an amazing, fresh &amp; innovative i...</td>\n",
       "      <td>negative</td>\n",
       "    </tr>\n",
       "  </tbody>\n",
       "</table>\n",
       "</div>"
      ],
      "text/plain": [
       "                                              review sentiment\n",
       "0  One of the other reviewers has mentioned that ...  positive\n",
       "1  A wonderful little production. <br /><br />The...  positive\n",
       "3  Basically there's a family where a little boy ...  negative\n",
       "7  This show was an amazing, fresh & innovative i...  negative"
      ]
     },
     "execution_count": 4,
     "metadata": {
      "tags": []
     },
     "output_type": "execute_result"
    }
   ],
   "source": [
    "df.groupby('sentiment', as_index=False).head(2)"
   ]
  },
  {
   "cell_type": "code",
   "execution_count": null,
   "metadata": {
    "colab": {
     "base_uri": "https://localhost:8080/",
     "height": 351
    },
    "id": "6JHcnYf2WNlH",
    "outputId": "8d3c586e-96de-487c-a7b8-8dfb7f67440c"
   },
   "outputs": [
    {
     "name": "stderr",
     "output_type": "stream",
     "text": [
      "/usr/local/lib/python3.7/dist-packages/seaborn/_decorators.py:43: FutureWarning: Pass the following variable as a keyword arg: x. From version 0.12, the only valid positional argument will be `data`, and passing other arguments without an explicit keyword will result in an error or misinterpretation.\n",
      "  FutureWarning\n"
     ]
    },
    {
     "data": {
      "text/plain": [
       "<matplotlib.axes._subplots.AxesSubplot at 0x7ff1b2b84350>"
      ]
     },
     "execution_count": 5,
     "metadata": {
      "tags": []
     },
     "output_type": "execute_result"
    },
    {
     "data": {
      "image/png": "[encoded data removed]",
      "text/plain": [
       "<Figure size 432x288 with 1 Axes>"
      ]
     },
     "metadata": {
      "needs_background": "light",
      "tags": []
     },
     "output_type": "display_data"
    }
   ],
   "source": [
    "sns.countplot(df[\"sentiment\"])"
   ]
  },
  {
   "cell_type": "code",
   "execution_count": null,
   "metadata": {
    "colab": {
     "base_uri": "https://localhost:8080/",
     "height": 202
    },
    "id": "Q-SjjDG3IIZ6",
    "outputId": "bf7732c6-2409-40c1-fc5b-f954ed186002"
   },
   "outputs": [
    {
     "data": {
      "text/html": [
       "<div>\n",
       "<style scoped>\n",
       "    .dataframe tbody tr th:only-of-type {\n",
       "        vertical-align: middle;\n",
       "    }\n",
       "\n",
       "    .dataframe tbody tr th {\n",
       "        vertical-align: top;\n",
       "    }\n",
       "\n",
       "    .dataframe thead th {\n",
       "        text-align: right;\n",
       "    }\n",
       "</style>\n",
       "<table border=\"1\" class=\"dataframe\">\n",
       "  <thead>\n",
       "    <tr style=\"text-align: right;\">\n",
       "      <th></th>\n",
       "      <th>review</th>\n",
       "      <th>sentiment</th>\n",
       "    </tr>\n",
       "  </thead>\n",
       "  <tbody>\n",
       "    <tr>\n",
       "      <th>0</th>\n",
       "      <td>One of the other reviewers has mentioned that ...</td>\n",
       "      <td>positive</td>\n",
       "    </tr>\n",
       "    <tr>\n",
       "      <th>1</th>\n",
       "      <td>A wonderful little production. &lt;br /&gt;&lt;br /&gt;The...</td>\n",
       "      <td>positive</td>\n",
       "    </tr>\n",
       "    <tr>\n",
       "      <th>2</th>\n",
       "      <td>I thought this was a wonderful way to spend ti...</td>\n",
       "      <td>positive</td>\n",
       "    </tr>\n",
       "    <tr>\n",
       "      <th>3</th>\n",
       "      <td>Basically there's a family where a little boy ...</td>\n",
       "      <td>negative</td>\n",
       "    </tr>\n",
       "    <tr>\n",
       "      <th>4</th>\n",
       "      <td>Petter Mattei's \"Love in the Time of Money\" is...</td>\n",
       "      <td>positive</td>\n",
       "    </tr>\n",
       "  </tbody>\n",
       "</table>\n",
       "</div>"
      ],
      "text/plain": [
       "                                              review sentiment\n",
       "0  One of the other reviewers has mentioned that ...  positive\n",
       "1  A wonderful little production. <br /><br />The...  positive\n",
       "2  I thought this was a wonderful way to spend ti...  positive\n",
       "3  Basically there's a family where a little boy ...  negative\n",
       "4  Petter Mattei's \"Love in the Time of Money\" is...  positive"
      ]
     },
     "execution_count": 6,
     "metadata": {
      "tags": []
     },
     "output_type": "execute_result"
    }
   ],
   "source": [
    "df.head()"
   ]
  },
  {
   "cell_type": "code",
   "execution_count": null,
   "metadata": {
    "id": "n6oyq3RgeMME"
   },
   "outputs": [],
   "source": [
    "df['sentiment'] = pd.Categorical(df['sentiment'])\n",
    "df['sentiment'] = df.sentiment.cat.codes"
   ]
  },
  {
   "cell_type": "code",
   "execution_count": null,
   "metadata": {
    "id": "hAvyAm_8dpeO"
   },
   "outputs": [],
   "source": [
    "from sklearn.model_selection import train_test_split\n",
    "train, test = train_test_split(df, test_size=0.2)"
   ]
  },
  {
   "cell_type": "code",
   "execution_count": null,
   "metadata": {
    "colab": {
     "base_uri": "https://localhost:8080/"
    },
    "id": "pupmwdNpdtOo",
    "outputId": "b2ee9e2f-1ce9-4835-9261-8ae0b053b73a"
   },
   "outputs": [
    {
     "data": {
      "text/plain": [
       "((40000, 2), (10000, 2))"
      ]
     },
     "execution_count": 9,
     "metadata": {
      "tags": []
     },
     "output_type": "execute_result"
    }
   ],
   "source": [
    "train.shape, test.shape"
   ]
  },
  {
   "cell_type": "markdown",
   "metadata": {
    "id": "m8VmlOQXeprN"
   },
   "source": [
    "### 3.Data Pre-processing\n",
    "> a.Need for this Step-Since the models we use cannot accept string inputs or cannot be of the string format. We have to come up with a way of handling this step. The discussion of different ways of handling this step is out of the scope of this assignment.\n",
    "\n",
    "> b.Please use this pre-trained embedding layerfrom TensorFlow hub for this assignment. This link also has a code snippet on how to convert a sentence to a vector. Refer to that for further clarity on this subject.\n",
    "\n",
    "> c.Bring the train and test data in the required format."
   ]
  },
  {
   "cell_type": "code",
   "execution_count": null,
   "metadata": {
    "id": "mn5ai6gCee5j"
   },
   "outputs": [],
   "source": [
    "x_train = train['review'].to_numpy()\n",
    "y_train = train['sentiment'].to_numpy()\n",
    "\n",
    "x_test = test['review'].to_numpy()\n",
    "y_test = test['sentiment'].to_numpy()"
   ]
  },
  {
   "cell_type": "code",
   "execution_count": null,
   "metadata": {
    "id": "eGO8HFSNXtVE"
   },
   "outputs": [],
   "source": [
    " import tensorflow_hub as hub\n",
    "embedding = hub.KerasLayer(\"https://tfhub.dev/google/nnlm-en-dim128/1\")\n",
    "\n",
    "hub_layer = hub.KerasLayer(\"https://tfhub.dev/google/nnlm-en-dim128/2\", input_shape=[], \n",
    "                           dtype=tf.string, trainable=True)"
   ]
  },
  {
   "cell_type": "code",
   "execution_count": null,
   "metadata": {
    "id": "YnvZS-Jwfmk6"
   },
   "outputs": [],
   "source": [
    "train_ds = tf.data.Dataset.from_tensor_slices((x_train, y_train))\n",
    "test_ds = tf.data.Dataset.from_tensor_slices((x_test, y_test))"
   ]
  },
  {
   "cell_type": "markdown",
   "metadata": {
    "id": "SMvaabitgD-X"
   },
   "source": [
    "### 4.Model Building\n",
    "> a.Sequential Model layers-Use AT LEAST 3 hiddenlayers with appropriate input for each. Choose the best number for hidden units and give reasons.\n",
    "\n",
    "> b.Add L2 regularization to all the layers.\n",
    "\n",
    "> c.Add one layer of dropout at the appropriate position and give reasons.\n",
    "\n",
    "> d.Choose the appropriate activation function for all the layers.\n",
    "\n",
    "> e.Print the model summary."
   ]
  },
  {
   "cell_type": "code",
   "execution_count": null,
   "metadata": {
    "id": "DEiCObXQf8R0"
   },
   "outputs": [],
   "source": [
    "import tensorflow as tf\n",
    "from tensorflow.keras.models import Sequential\n",
    "from tensorflow.keras.layers import Dense, Flatten, Dropout"
   ]
  },
  {
   "cell_type": "code",
   "execution_count": null,
   "metadata": {
    "colab": {
     "base_uri": "https://localhost:8080/"
    },
    "id": "jjaUJ4ccf8AY",
    "outputId": "cfc76397-4fe4-4746-cbb3-d74905f7e5fe"
   },
   "outputs": [
    {
     "name": "stdout",
     "output_type": "stream",
     "text": [
      "Model: \"sequential\"\n",
      "_________________________________________________________________\n",
      "Layer (type)                 Output Shape              Param #   \n",
      "=================================================================\n",
      "keras_layer_1 (KerasLayer)   (None, 128)               124642688 \n",
      "_________________________________________________________________\n",
      "dense (Dense)                (None, 32)                4128      \n",
      "_________________________________________________________________\n",
      "dropout (Dropout)            (None, 32)                0         \n",
      "_________________________________________________________________\n",
      "dense_1 (Dense)              (None, 16)                528       \n",
      "_________________________________________________________________\n",
      "dense_2 (Dense)              (None, 1)                 17        \n",
      "=================================================================\n",
      "Total params: 124,647,361\n",
      "Trainable params: 124,647,361\n",
      "Non-trainable params: 0\n",
      "_________________________________________________________________\n"
     ]
    }
   ],
   "source": [
    "model = tf.keras.Sequential()\n",
    "model.add(tf.keras.layers.Input(shape=(), name=\"Input\", dtype=tf.string))\n",
    "model.add(hub_layer)\n",
    "model.add(tf.keras.layers.Dense(32, activation='relu', kernel_regularizer=tf.keras.regularizers.l2(l=0.1)))\n",
    "model.add(tf.keras.layers.Dropout(0.5))\n",
    "model.add(tf.keras.layers.Dense(16, activation='relu', kernel_regularizer=tf.keras.regularizers.l2(l=0.1)))\n",
    "model.add(tf.keras.layers.Dense(1, activation='sigmoid'))\n",
    "\n",
    "model.summary()"
   ]
  },
  {
   "cell_type": "markdown",
   "metadata": {
    "id": "3RQeXea8aSyr"
   },
   "source": [
    "Reason for choosing Hidden units:\n",
    "\n",
    "There are many rule-of-thumb methods for determining the correct number of neurons to use in the hidden layers, such as the following:\n",
    "\n",
    "1. The number of hidden neurons should be between the size of the input layer and the size of the output layer.<br>\n",
    "2. <b>The number of hidden neurons should be 2/3 the size of the input layer, plus the size of the output layer.</b><br>\n",
    "3. The number of hidden neurons should be less than twice the size of the input layer.\n",
    "\n",
    "Using these 3 formulas.<br> \n",
    "Getting values ~ 32 and 16 for the 2 hidden layers."
   ]
  },
  {
   "cell_type": "markdown",
   "metadata": {
    "id": "YyqTcYwdaYed"
   },
   "source": [
    "Reason for putting dropout just after the pre-trained vector.\n",
    "\n",
    "<b>Usually, dropout is placed on the fully connected layers only because they are the one with the greater number of parameters and thus they're likely to excessively co-adapting themselves causing overfitting</b>"
   ]
  },
  {
   "cell_type": "markdown",
   "metadata": {
    "id": "an8rEkwjadBH"
   },
   "source": [
    "Choice of Activation functions:\n",
    "\n",
    "<b> We have used relu, in all the hidden layers because rectified linear activation function overcomes the vanishing gradient problem, allowing models to learn faster and perform better.\n",
    "\n",
    "In the output layer, we want binary output (0 or 1) so we have used sigmoid."
   ]
  },
  {
   "cell_type": "markdown",
   "metadata": {
    "id": "NIHNlM5Ik4WR"
   },
   "source": [
    "### 5.Model Compilation\n",
    "\n",
    "> a.Compile the model with the appropriate loss function.\n",
    "\n",
    "> b.Use an appropriate optimizer. Give reasons for the choice of learning rate and its value.\n",
    "\n",
    ">c.Use accuracy as metric."
   ]
  },
  {
   "cell_type": "code",
   "execution_count": null,
   "metadata": {
    "id": "t2TILxpDhAa7"
   },
   "outputs": [],
   "source": [
    "model.compile(optimizer='adam',\n",
    "              loss=tf.keras.losses.BinaryCrossentropy(from_logits=True),\n",
    "              metrics=['accuracy'])"
   ]
  },
  {
   "cell_type": "markdown",
   "metadata": {
    "id": "EvrpENERakF-"
   },
   "source": [
    "We are choosing Adam Optimizer.\n",
    "\n",
    "Adam is a replacement optimization algorithm for stochastic gradient descent for training deep learning models. Adam combines the best properties of the AdaGrad and RMSProp algorithms to provide an optimization algorithm that can handle sparse gradients on noisy problems. <b> This algorithm is used to accelerate the gradient descent algorithm by taking into consideration the 'exponentially weighted average' of the gradients. Using averages makes the algorithm converge towards the minima in a faster pace </b>\n",
    "\n",
    "<br>\n",
    "\n",
    "<b>Adam is and adaptive optimizer, and it learns the learning rates itself, on a per-parameter basis. So we are not specifying learning rate"
   ]
  },
  {
   "cell_type": "markdown",
   "metadata": {
    "id": "RJABUrY_lYhg"
   },
   "source": [
    "### 6.Model Training\n",
    "\n",
    "> a.Train the model for an appropriate number of epochs. Print the train and validation accuracyand loss for each epoch. Use the appropriate batch size.\n",
    "\n",
    "> b.Plot the loss and accuracy history graphsfor both train and validation set. Print the total time taken for training."
   ]
  },
  {
   "cell_type": "code",
   "execution_count": null,
   "metadata": {
    "colab": {
     "base_uri": "https://localhost:8080/"
    },
    "id": "Q572_8b6hET3",
    "outputId": "75f01167-4d27-40ba-cca3-7813f108e549"
   },
   "outputs": [
    {
     "name": "stdout",
     "output_type": "stream",
     "text": [
      "Epoch 1/10\n",
      "79/79 [==============================] - 11s 102ms/step - loss: 6.3766 - accuracy: 0.6091 - val_loss: 2.9729 - val_accuracy: 0.8226\n",
      "Epoch 2/10\n",
      "79/79 [==============================] - 8s 97ms/step - loss: 2.4427 - accuracy: 0.7715 - val_loss: 1.3073 - val_accuracy: 0.8558\n",
      "Epoch 3/10\n",
      "79/79 [==============================] - 8s 97ms/step - loss: 1.1368 - accuracy: 0.8438 - val_loss: 0.7530 - val_accuracy: 0.8718\n",
      "Epoch 4/10\n",
      "79/79 [==============================] - 8s 96ms/step - loss: 0.6873 - accuracy: 0.8781 - val_loss: 0.5494 - val_accuracy: 0.8825\n",
      "Epoch 5/10\n",
      "79/79 [==============================] - 8s 96ms/step - loss: 0.5052 - accuracy: 0.9010 - val_loss: 0.4629 - val_accuracy: 0.8862\n",
      "Epoch 6/10\n",
      "79/79 [==============================] - 8s 96ms/step - loss: 0.4212 - accuracy: 0.9142 - val_loss: 0.4210 - val_accuracy: 0.8881\n",
      "Epoch 7/10\n",
      "79/79 [==============================] - 8s 96ms/step - loss: 0.3652 - accuracy: 0.9303 - val_loss: 0.3983 - val_accuracy: 0.8921\n",
      "Epoch 8/10\n",
      "79/79 [==============================] - 8s 96ms/step - loss: 0.3358 - accuracy: 0.9370 - val_loss: 0.3847 - val_accuracy: 0.8920\n",
      "Epoch 9/10\n",
      "79/79 [==============================] - 8s 96ms/step - loss: 0.3126 - accuracy: 0.9429 - val_loss: 0.3774 - val_accuracy: 0.8934\n",
      "Epoch 10/10\n",
      "79/79 [==============================] - 8s 97ms/step - loss: 0.2919 - accuracy: 0.9493 - val_loss: 0.3706 - val_accuracy: 0.8943\n"
     ]
    }
   ],
   "source": [
    "import time\n",
    "\n",
    "t= time.time()\n",
    "\n",
    "history = model.fit(train_ds.shuffle(10000).batch(512),\n",
    "                    epochs=10,\n",
    "                    validation_data=test_ds.batch(512),\n",
    "                    verbose=1)\n",
    "\n",
    "t = time.time() -t"
   ]
  },
  {
   "cell_type": "code",
   "execution_count": null,
   "metadata": {
    "colab": {
     "base_uri": "https://localhost:8080/"
    },
    "id": "hL11haEDhDm9",
    "outputId": "efe415b8-ccac-4877-b221-498439c25e8a"
   },
   "outputs": [
    {
     "name": "stdout",
     "output_type": "stream",
     "text": [
      "Time taken to train: 80.07733941078186\n"
     ]
    }
   ],
   "source": [
    "print('Time taken to train: {}'.format(t))\n"
   ]
  },
  {
   "cell_type": "code",
   "execution_count": null,
   "metadata": {
    "colab": {
     "base_uri": "https://localhost:8080/"
    },
    "id": "FzaPUQBdhA_Q",
    "outputId": "ac243afa-4d29-48c9-972d-c6ebd5c2e463"
   },
   "outputs": [
    {
     "data": {
      "text/plain": [
       "dict_keys(['loss', 'accuracy', 'val_loss', 'val_accuracy'])"
      ]
     },
     "execution_count": 54,
     "metadata": {
      "tags": []
     },
     "output_type": "execute_result"
    }
   ],
   "source": [
    "# Plot the loss and accuracy history graphs for both train and validation set. Print the total\n",
    "# time taken for training.\n",
    "\n",
    "history_dict = history.history\n",
    "history_dict.keys()"
   ]
  },
  {
   "cell_type": "code",
   "execution_count": null,
   "metadata": {
    "colab": {
     "base_uri": "https://localhost:8080/",
     "height": 295
    },
    "id": "bUUNEXbchEFl",
    "outputId": "6d30f638-db69-4a04-eee4-492db66d8cd4"
   },
   "outputs": [
    {
     "data": {
      "image/png": "[encoded data removed]",
      "text/plain": [
       "<Figure size 432x288 with 1 Axes>"
      ]
     },
     "metadata": {
      "needs_background": "light",
      "tags": []
     },
     "output_type": "display_data"
    }
   ],
   "source": [
    "acc = history_dict['accuracy']\n",
    "val_acc = history_dict['val_accuracy']\n",
    "loss = history_dict['loss']\n",
    "val_loss = history_dict['val_loss']\n",
    "\n",
    "epochs = range(1, len(acc) + 1)\n",
    "\n",
    "# \"bo\" is for \"blue dot\"\n",
    "plt.plot(epochs, loss, 'bo', label='Training loss')\n",
    "# b is for \"solid blue line\"\n",
    "plt.plot(epochs, val_loss, 'b', label='Validation loss')\n",
    "plt.title('Training and validation loss')\n",
    "plt.xlabel('Epochs')\n",
    "plt.ylabel('Loss')\n",
    "plt.legend()\n",
    "\n",
    "plt.show()"
   ]
  },
  {
   "cell_type": "code",
   "execution_count": null,
   "metadata": {
    "colab": {
     "base_uri": "https://localhost:8080/",
     "height": 295
    },
    "id": "2rlDieV0hMaG",
    "outputId": "7506230e-8abc-4ed4-e078-0b47f0712a83"
   },
   "outputs": [
    {
     "data": {
      "image/png": "[encoded data removed]",
      "text/plain": [
       "<Figure size 432x288 with 1 Axes>"
      ]
     },
     "metadata": {
      "needs_background": "light",
      "tags": []
     },
     "output_type": "display_data"
    }
   ],
   "source": [
    "plt.clf()   # clear figure\n",
    "\n",
    "plt.plot(epochs, acc, 'bo', label='Training acc')\n",
    "plt.plot(epochs, val_acc, 'b', label='Validation acc')\n",
    "plt.title('Training and validation accuracy')\n",
    "plt.xlabel('Epochs')\n",
    "plt.ylabel('Accuracy')\n",
    "plt.legend()\n",
    "\n",
    "plt.show()"
   ]
  },
  {
   "cell_type": "markdown",
   "metadata": {
    "id": "akCK6pWKbtiW"
   },
   "source": [
    "### 7.Model Evaluation\n",
    "> a.Print the final train and validation loss and accuracy.Print confusion matrix and classification report for the validation dataset. Analyse and report the best and worst performing class.\n",
    "\n",
    ">b.Print the two most incorrectly classified texts foreach class in the test dataset."
   ]
  },
  {
   "cell_type": "code",
   "execution_count": null,
   "metadata": {
    "colab": {
     "base_uri": "https://localhost:8080/"
    },
    "id": "IalY_XbfhD6H",
    "outputId": "b9b705fb-b6ab-42eb-d234-fbc30e7dc7e2"
   },
   "outputs": [
    {
     "name": "stdout",
     "output_type": "stream",
     "text": [
      "20/20 - 0s - loss: 0.3706 - accuracy: 0.8943\n",
      "loss: 0.371\n",
      "accuracy: 0.894\n"
     ]
    }
   ],
   "source": [
    "results = model.evaluate(test_ds.batch(512), verbose=2)\n",
    "\n",
    "for name, value in zip(model.metrics_names, results):\n",
    "  print(\"%s: %.3f\" % (name, value))"
   ]
  },
  {
   "cell_type": "code",
   "execution_count": null,
   "metadata": {
    "id": "byZud2b7cc0f"
   },
   "outputs": [],
   "source": [
    "y_pred = (model.predict(x_test) > 0.5).astype(\"int32\")\n",
    "y_pred_prob = model.predict(x_test)"
   ]
  },
  {
   "cell_type": "code",
   "execution_count": null,
   "metadata": {
    "colab": {
     "base_uri": "https://localhost:8080/"
    },
    "id": "aaBHpu97cIRk",
    "outputId": "8f715151-d933-4784-d86a-12f5855d38ac"
   },
   "outputs": [
    {
     "data": {
      "text/plain": [
       "<tf.Tensor: shape=(2, 2), dtype=int32, numpy=\n",
       "array([[4534,  523],\n",
       "       [ 534, 4409]], dtype=int32)>"
      ]
     },
     "execution_count": 34,
     "metadata": {
      "tags": []
     },
     "output_type": "execute_result"
    }
   ],
   "source": [
    "# Confusion Matrix\n",
    "\n",
    "confusion = tf.math.confusion_matrix(labels=y_test, predictions=y_pred)\n",
    "confusion"
   ]
  },
  {
   "cell_type": "code",
   "execution_count": null,
   "metadata": {
    "colab": {
     "base_uri": "https://localhost:8080/"
    },
    "id": "IgGmkOcecsrM",
    "outputId": "ed67e3f1-3b40-4cf0-943c-1f5a200b8cd7"
   },
   "outputs": [
    {
     "name": "stdout",
     "output_type": "stream",
     "text": [
      "              precision    recall  f1-score   support\n",
      "\n",
      "           0       0.89      0.90      0.90      5057\n",
      "           1       0.89      0.89      0.89      4943\n",
      "\n",
      "    accuracy                           0.89     10000\n",
      "   macro avg       0.89      0.89      0.89     10000\n",
      "weighted avg       0.89      0.89      0.89     10000\n",
      "\n",
      "Time taken to predict the model 0.931915283203125\n"
     ]
    }
   ],
   "source": [
    "from sklearn.metrics import classification_report\n",
    "import time\n",
    "import numpy as np\n",
    "start_time = time.time()\n",
    "test_predictions = (model.predict(x_test) > 0.5).astype(\"int32\")\n",
    "# Comparing the predictions to actual forest cover types for the test rows\n",
    "# test is the data right after splitting into train, test and val (shuffle was false in dataset so the order will match)\n",
    "print(classification_report(y_test,test_predictions))\n",
    "print(\"Time taken to predict the model \" + str(time.time() - start_time))"
   ]
  },
  {
   "cell_type": "markdown",
   "metadata": {
    "id": "wsm7GdN4hhZt"
   },
   "source": [
    "#### Compute most errorenous predictions"
   ]
  },
  {
   "cell_type": "code",
   "execution_count": null,
   "metadata": {
    "id": "jJbQujkDhg5_"
   },
   "outputs": [],
   "source": [
    "res = []\n",
    "for i,j,k  in zip(x_test, y_test, y_pred_prob):\n",
    "    res.append([i, j-k])\n",
    "    "
   ]
  },
  {
   "cell_type": "code",
   "execution_count": null,
   "metadata": {
    "id": "viEgP5kThsVQ"
   },
   "outputs": [],
   "source": [
    "def takeSecond(elem):\n",
    "    return elem[1]\n",
    "res.sort(key=takeSecond)"
   ]
  },
  {
   "cell_type": "code",
   "execution_count": null,
   "metadata": {
    "colab": {
     "base_uri": "https://localhost:8080/"
    },
    "id": "ox5eQPWbhu14",
    "outputId": "b211d75d-87e1-4c17-ba47-303b1e9dcdc6"
   },
   "outputs": [
    {
     "data": {
      "text/plain": [
       "[[\"this is a great movie. I love the series on tv and so I loved the movie. One of the best things in the movie is that Helga finally admits her deepest darkest secret to Arnold!!! that was great. i loved it it was pretty funny too. It's a great movie! Doy!!!\",\n",
       "  array([-0.99687517], dtype=float32)],\n",
       " [\"Jack London's life was certainly colorful enough for a dozen films about different aspects of him. Sad to say though that what his life was used for in film was some wartime propaganda that put the best face on some of the least attractive parts of his character.<br /><br />Jack London who barely saw the age of 40 when he died wrote some of the best stories around. He wrote on what he knew, but he also wrote as does everyone else bringing the baggage of his own life experience with him. Some of that experience in another day and time would have been condemned as racism. But this was World War II and London was a big believer in the 'yellow peril' as it was called back in the day.<br /><br />Two thirds of the film covers his life as author, we see his years as a seaman from where he got the inspiration for The Sea Wolf. We see him up in the Yukon in a miner's cabin with a dog that was no doubt his inspiration for The Call of the Wild. London was able to capture the spirit of adventure that his own life was all about right on paper for the world to enjoy ever since.<br /><br />The final third dealt with his time as a war correspondent covering the Russo-Japanese War. London was a socialist, but his socialism did not encompass folks who were Oriental. Like a few million others he saw the rising immigration of the Chinese and Japanese to our Pacific coast as a threat to jobs for the white people. He advocated strict immigration policies for Orientals.<br /><br />The film puts the cart before the horse. London is presented as a man who saw because he was on hand at the Russo-Japanese War what Japan's ambitions were and for that reason was as xenophobic as he was. Actually the kind of atrocities present in World War II were not existent during the Russo-Japanese conflict. Japan had her imperial ambitions, but so did everyone else including the USA at that time. But our immigration policies caused by pressure from our West Coast politicians was a big contributing factor to the deterioration of relations with Japan over a couple of generations. London was part of the cause not a prophet crying in the wilderness.<br /><br />This film was the first independent production of Samuel Bronston who later did some films with a bit more budget than Jack London. Had he a bit more money Bronston might have gotten James Cagney or Spencer Tracy, both who would have been right for the role. Instead they got Michael O'Shea who was making his second film after Lady of Burlesque. O'Shea is fine in the part, but certainly was no box office.<br /><br />As London is covering the war, he meets up with a Captain Tanaka who is played by Leonard Strong, an actor who specialized in Orientals and played a ton of them in World War II. From the vantage point in 1905 Strong outlines in the best Fu Manchu tradition Japan's imperial aims right up to taking on the USA eventually. Must have gone over great with the swing shift crowd. <br /><br />A lot of course is left out of London's life including a first wife. Playing the second and only wife in this film is Susan Hayward who only comes into the movie when it's half over. I wish we'd have seen more of her. Charmian Kittredge London survived her husband by almost 40 years dying in 1955.<br /><br />O'Shea in fact met and married the leading lady of his life in Jack London. Virginia Mayo has a small role in Jack London and they married for 30 years until O'Shea died in 1973.<br /><br />Maybe one day we'll get a view of Jack London that will be a lot better than this one.\",\n",
       "  array([-0.9875777], dtype=float32)]]"
      ]
     },
     "execution_count": 60,
     "metadata": {
      "tags": []
     },
     "output_type": "execute_result"
    }
   ],
   "source": [
    "# Most errorenous positive predictions\n",
    "res[:2]"
   ]
  },
  {
   "cell_type": "code",
   "execution_count": null,
   "metadata": {
    "colab": {
     "base_uri": "https://localhost:8080/"
    },
    "id": "vXxjdCW7hwK2",
    "outputId": "3a27351e-1d4c-48ed-e8b0-0fd07505e6ab"
   },
   "outputs": [
    {
     "data": {
      "text/plain": [
       "[[\"This is simply the funniest movie I've seen in a long time. The bad acting, bad script, bad scenery, bad costumes, bad camera work and bad special effects are so stupid that you find yourself reeling with laughter.<br /><br />So it's not gonna win an Oscar but if you've got beer and friends round then you can't go wrong.\",\n",
       "  array([0.975356], dtype=float32)],\n",
       " ['This movie has to be my favorite of all time. Its not supposed to have a plot, because its makers wanted people (Charlie Sheen, I think)to believe it was a real snuff film. This was an exercise in visual effects, and doesn\\'t cut away when the action happens like every other film does. Movies these days are now all about sound effects, leaving the visuals to be made by computers cause its easier to deal with CGI blood. There still are movie makers who still can\\'t get fake blood to look like the real thing. There is no rape scene because that wasn\\'t the point of making the film. Have you seen the hills have eyes 2? The rape scene was funny instead of shocking. Although i\\'m sure there are some GONZO porn film makers that have tried to marry porn with horror. But since they probably suck at making films, they probably wouldn\\'t be able to pull it off. The movie \"Baise Moi\" has a disturbing rape scene because the actresses are actually porn stars and they show everything even though the movie overall sucks.<br /><br />Its too bad that a movie can\\'t be made without thinking of the money aspect of it all, especially when talking about an AO or NC-17 rating. I\\'m sure Eli Roth has the ability/talent to make his Hostel film series much much better, but he has too tame it down to get an R rating...or at least I hope that his movies sucked because of these limitations.<br /><br />Watch Traces of Death or More than Smashed Pumpkins if you want no frills real footage (accident & crime scenes/footage). Don\\'t forget that this movie was made in 1985. The fact that this film can still stand up against most crap made these days says a lot about this film. That would be like someone saying the 8bit Super Mario Brothers sucks because the PS3 has better graphics.',\n",
       "  array([0.97587955], dtype=float32)]]"
      ]
     },
     "execution_count": 61,
     "metadata": {
      "tags": []
     },
     "output_type": "execute_result"
    }
   ],
   "source": [
    "# Most errorenous negative predictions\n",
    "res[-2:]"
   ]
  },
  {
   "cell_type": "markdown",
   "metadata": {
    "id": "Rryae2QNdb8L"
   },
   "source": [
    "### Hyperparameter Tuning\n",
    "Build two more models by changing the following hyperparameters one at a time. Write the code for Model Building, Model Compilation, Model Training and Model Evaluation as given in the instructions above for each additional model.\n",
    "\n",
    "> 1. Network Depth: Change the number of hidden layers and hidden units for each layer\n",
    "\n",
    ">2. Optimiser: Use a different optimizer with the appropriate LR value. Write a comparison between each model and give reasons for the difference in results."
   ]
  },
  {
   "cell_type": "markdown",
   "metadata": {
    "id": "3TWxWoW5fVaX"
   },
   "source": [
    "### Modified Model 1"
   ]
  },
  {
   "cell_type": "code",
   "execution_count": null,
   "metadata": {
    "colab": {
     "base_uri": "https://localhost:8080/"
    },
    "id": "UzEtGrmJgeQm",
    "outputId": "5fc4f077-4a20-452a-b2e1-6e07c07e2135"
   },
   "outputs": [
    {
     "data": {
      "text/plain": [
       "3738"
      ]
     },
     "execution_count": 76,
     "metadata": {
      "tags": []
     },
     "output_type": "execute_result"
    }
   ],
   "source": [
    "import gc\n",
    "tf.keras.backend.clear_session()\n",
    "gc.collect()"
   ]
  },
  {
   "cell_type": "code",
   "execution_count": null,
   "metadata": {
    "colab": {
     "base_uri": "https://localhost:8080/"
    },
    "id": "c9lzt2mccz5n",
    "outputId": "69ecb552-2ef0-443d-cd6d-7847f824c470"
   },
   "outputs": [
    {
     "name": "stdout",
     "output_type": "stream",
     "text": [
      "Model: \"sequential\"\n",
      "_________________________________________________________________\n",
      "Layer (type)                 Output Shape              Param #   \n",
      "=================================================================\n",
      "keras_layer_1 (KerasLayer)   (None, 128)               124642688 \n",
      "_________________________________________________________________\n",
      "dropout (Dropout)            (None, 128)               0         \n",
      "_________________________________________________________________\n",
      "dense (Dense)                (None, 128)               16512     \n",
      "_________________________________________________________________\n",
      "dropout_1 (Dropout)          (None, 128)               0         \n",
      "_________________________________________________________________\n",
      "dense_1 (Dense)              (None, 32)                4128      \n",
      "_________________________________________________________________\n",
      "dropout_2 (Dropout)          (None, 32)                0         \n",
      "_________________________________________________________________\n",
      "dense_2 (Dense)              (None, 16)                528       \n",
      "_________________________________________________________________\n",
      "dropout_3 (Dropout)          (None, 16)                0         \n",
      "_________________________________________________________________\n",
      "dense_3 (Dense)              (None, 1)                 17        \n",
      "=================================================================\n",
      "Total params: 124,663,873\n",
      "Trainable params: 124,663,873\n",
      "Non-trainable params: 0\n",
      "_________________________________________________________________\n"
     ]
    }
   ],
   "source": [
    "# Dropout: Change the position and value of dropout layer\n",
    "\n",
    "model1 = tf.keras.Sequential()\n",
    "model1.add(tf.keras.layers.Input(shape=(), name=\"Input\", dtype=tf.string))\n",
    "model1.add(hub_layer)\n",
    "model1.add(tf.keras.layers.Dropout(0.50))\n",
    "model1.add(tf.keras.layers.Dense(128, activation='relu', kernel_regularizer=tf.keras.regularizers.l2(l=0.1)))\n",
    "model1.add(tf.keras.layers.Dropout(0.50))\n",
    "model1.add(tf.keras.layers.Dense(32, activation='relu', kernel_regularizer=tf.keras.regularizers.l2(l=0.1)))\n",
    "model1.add(tf.keras.layers.Dropout(0.50))\n",
    "model1.add(tf.keras.layers.Dense(16, activation='relu', kernel_regularizer=tf.keras.regularizers.l2(l=0.1)))\n",
    "model1.add(tf.keras.layers.Dropout(0.20))\n",
    "model1.add(tf.keras.layers.Dense(1, activation='sigmoid'))\n",
    "\n",
    "model1.summary()"
   ]
  },
  {
   "cell_type": "code",
   "execution_count": null,
   "metadata": {
    "id": "pw2eBpKaeQqp"
   },
   "outputs": [],
   "source": [
    "model1.compile(optimizer='adamax',\n",
    "              loss=tf.losses.BinaryCrossentropy(from_logits=True),\n",
    "              metrics=['accuracy'])  \n",
    "              # metrics=[tf.metrics.BinaryAccuracy(threshold=0.0, name='accuracy')])  "
   ]
  },
  {
   "cell_type": "code",
   "execution_count": null,
   "metadata": {
    "colab": {
     "base_uri": "https://localhost:8080/"
    },
    "id": "rxe-YTZCeh6-",
    "outputId": "63ed027b-0e41-410d-c2ef-7ee92ed95826"
   },
   "outputs": [
    {
     "name": "stdout",
     "output_type": "stream",
     "text": [
      "Epoch 1/25\n",
      "157/157 [==============================] - 4s 24ms/step - loss: 13.8340 - accuracy: 0.7446 - val_loss: 3.4910 - val_accuracy: 0.8863\n",
      "Epoch 2/25\n",
      "157/157 [==============================] - 4s 23ms/step - loss: 2.4984 - accuracy: 0.9740 - val_loss: 1.1310 - val_accuracy: 0.8861\n",
      "Epoch 3/25\n",
      "157/157 [==============================] - 4s 23ms/step - loss: 0.8280 - accuracy: 0.9881 - val_loss: 0.6743 - val_accuracy: 0.8861\n",
      "Epoch 4/25\n",
      "157/157 [==============================] - 4s 24ms/step - loss: 0.4769 - accuracy: 0.9891 - val_loss: 0.5453 - val_accuracy: 0.8864\n",
      "Epoch 5/25\n",
      "157/157 [==============================] - 4s 23ms/step - loss: 0.3660 - accuracy: 0.9896 - val_loss: 0.4966 - val_accuracy: 0.8859\n",
      "Epoch 6/25\n",
      "157/157 [==============================] - 4s 23ms/step - loss: 0.3171 - accuracy: 0.9887 - val_loss: 0.4722 - val_accuracy: 0.8861\n",
      "Epoch 7/25\n",
      "157/157 [==============================] - 4s 23ms/step - loss: 0.2862 - accuracy: 0.9900 - val_loss: 0.4588 - val_accuracy: 0.8860\n",
      "Epoch 8/25\n",
      "157/157 [==============================] - 4s 23ms/step - loss: 0.2683 - accuracy: 0.9877 - val_loss: 0.4523 - val_accuracy: 0.8860\n",
      "Epoch 9/25\n",
      "157/157 [==============================] - 4s 24ms/step - loss: 0.2552 - accuracy: 0.9888 - val_loss: 0.4462 - val_accuracy: 0.8864\n",
      "Epoch 10/25\n",
      "157/157 [==============================] - 4s 23ms/step - loss: 0.2447 - accuracy: 0.9878 - val_loss: 0.4442 - val_accuracy: 0.8866\n",
      "Epoch 11/25\n",
      "157/157 [==============================] - 4s 23ms/step - loss: 0.2362 - accuracy: 0.9878 - val_loss: 0.4377 - val_accuracy: 0.8868\n",
      "Epoch 12/25\n",
      "157/157 [==============================] - 4s 24ms/step - loss: 0.2289 - accuracy: 0.9879 - val_loss: 0.4345 - val_accuracy: 0.8865\n",
      "Epoch 13/25\n",
      "157/157 [==============================] - 4s 23ms/step - loss: 0.2227 - accuracy: 0.9878 - val_loss: 0.4395 - val_accuracy: 0.8877\n",
      "Epoch 14/25\n",
      "157/157 [==============================] - 4s 23ms/step - loss: 0.2170 - accuracy: 0.9876 - val_loss: 0.4356 - val_accuracy: 0.8880\n",
      "Epoch 15/25\n",
      "157/157 [==============================] - 4s 23ms/step - loss: 0.2096 - accuracy: 0.9887 - val_loss: 0.4394 - val_accuracy: 0.8874\n",
      "Epoch 16/25\n",
      "157/157 [==============================] - 4s 23ms/step - loss: 0.2070 - accuracy: 0.9876 - val_loss: 0.4345 - val_accuracy: 0.8877\n",
      "Epoch 17/25\n",
      "157/157 [==============================] - 4s 23ms/step - loss: 0.1987 - accuracy: 0.9884 - val_loss: 0.4263 - val_accuracy: 0.8885\n",
      "Epoch 18/25\n",
      "157/157 [==============================] - 4s 23ms/step - loss: 0.1948 - accuracy: 0.9884 - val_loss: 0.4275 - val_accuracy: 0.8874\n",
      "Epoch 19/25\n",
      "157/157 [==============================] - 4s 23ms/step - loss: 0.1902 - accuracy: 0.9905 - val_loss: 0.4302 - val_accuracy: 0.8881\n",
      "Epoch 20/25\n",
      "157/157 [==============================] - 4s 24ms/step - loss: 0.1876 - accuracy: 0.9896 - val_loss: 0.4329 - val_accuracy: 0.8881\n",
      "Epoch 21/25\n",
      "157/157 [==============================] - 4s 23ms/step - loss: 0.1814 - accuracy: 0.9898 - val_loss: 0.4292 - val_accuracy: 0.8868\n",
      "Epoch 22/25\n",
      "157/157 [==============================] - 4s 23ms/step - loss: 0.1808 - accuracy: 0.9900 - val_loss: 0.4348 - val_accuracy: 0.8871\n",
      "Epoch 23/25\n",
      "157/157 [==============================] - 4s 23ms/step - loss: 0.1750 - accuracy: 0.9913 - val_loss: 0.4301 - val_accuracy: 0.8884\n",
      "Epoch 24/25\n",
      "157/157 [==============================] - 4s 23ms/step - loss: 0.1729 - accuracy: 0.9895 - val_loss: 0.4302 - val_accuracy: 0.8881\n",
      "Epoch 25/25\n",
      "157/157 [==============================] - 4s 23ms/step - loss: 0.1692 - accuracy: 0.9908 - val_loss: 0.4341 - val_accuracy: 0.8878\n"
     ]
    }
   ],
   "source": [
    "history = model1.fit(x_train,\n",
    "                    y_train,\n",
    "                    epochs=25,\n",
    "                    batch_size=256,\n",
    "                    validation_data=(x_test, y_test),\n",
    "                    verbose=1)"
   ]
  },
  {
   "cell_type": "code",
   "execution_count": null,
   "metadata": {
    "colab": {
     "base_uri": "https://localhost:8080/"
    },
    "id": "bqClduN6epQj",
    "outputId": "307e2d65-8fe6-44c4-ac55-b522315c59f6"
   },
   "outputs": [
    {
     "name": "stdout",
     "output_type": "stream",
     "text": [
      "313/313 [==============================] - 1s 4ms/step - loss: 0.3843 - accuracy: 0.8881\n",
      "[0.38433611392974854, 0.8881000280380249]\n"
     ]
    }
   ],
   "source": [
    "results = model.evaluate(x_test, y_test)\n",
    "\n",
    "print(results)"
   ]
  },
  {
   "cell_type": "markdown",
   "metadata": {
    "id": "1zWDvjNmfYrH"
   },
   "source": [
    "### Modified Model 2"
   ]
  },
  {
   "cell_type": "code",
   "execution_count": null,
   "metadata": {
    "colab": {
     "base_uri": "https://localhost:8080/"
    },
    "id": "7lkKStVUihHM",
    "outputId": "df807210-afa4-4da4-fc4a-13a69285b38b"
   },
   "outputs": [
    {
     "data": {
      "text/plain": [
       "3277"
      ]
     },
     "execution_count": 81,
     "metadata": {
      "tags": []
     },
     "output_type": "execute_result"
    }
   ],
   "source": [
    "tf.keras.backend.clear_session()\n",
    "gc.collect()"
   ]
  },
  {
   "cell_type": "code",
   "execution_count": null,
   "metadata": {
    "colab": {
     "base_uri": "https://localhost:8080/"
    },
    "id": "VmesjCIKfAg3",
    "outputId": "1a3fbf80-bc7c-47a1-b148-ceb7915e0649"
   },
   "outputs": [
    {
     "name": "stdout",
     "output_type": "stream",
     "text": [
      "Model: \"sequential\"\n",
      "_________________________________________________________________\n",
      "Layer (type)                 Output Shape              Param #   \n",
      "=================================================================\n",
      "keras_layer_1 (KerasLayer)   (None, 128)               124642688 \n",
      "_________________________________________________________________\n",
      "dense (Dense)                (None, 64)                8256      \n",
      "_________________________________________________________________\n",
      "dense_1 (Dense)              (None, 32)                2080      \n",
      "_________________________________________________________________\n",
      "dropout (Dropout)            (None, 32)                0         \n",
      "_________________________________________________________________\n",
      "dense_2 (Dense)              (None, 16)                528       \n",
      "_________________________________________________________________\n",
      "dense_3 (Dense)              (None, 1)                 17        \n",
      "=================================================================\n",
      "Total params: 124,653,569\n",
      "Trainable params: 124,653,569\n",
      "Non-trainable params: 0\n",
      "_________________________________________________________________\n"
     ]
    }
   ],
   "source": [
    "model = tf.keras.Sequential()\n",
    "model.add(tf.keras.layers.Input(shape=(), name=\"Input\", dtype=tf.string))\n",
    "model.add(hub_layer)\n",
    "model.add(tf.keras.layers.Dense(64, activation='relu', kernel_regularizer=tf.keras.regularizers.l2(l=0.1)))\n",
    "model.add(tf.keras.layers.Dense(32, activation='relu', kernel_regularizer=tf.keras.regularizers.l2(l=0.1)))\n",
    "model.add(tf.keras.layers.Dropout(0.5))\n",
    "model.add(tf.keras.layers.Dense(16, activation='relu', kernel_regularizer=tf.keras.regularizers.l2(l=0.1)))\n",
    "model.add(tf.keras.layers.Dense(1, activation='sigmoid'))\n",
    "\n",
    "model.summary()"
   ]
  },
  {
   "cell_type": "code",
   "execution_count": null,
   "metadata": {
    "id": "EHv09vXtfiOH"
   },
   "outputs": [],
   "source": [
    "model.compile(optimizer='sgd',\n",
    "              loss=tf.losses.BinaryCrossentropy(from_logits=True),\n",
    "              metrics=['accuracy'])  "
   ]
  },
  {
   "cell_type": "code",
   "execution_count": null,
   "metadata": {
    "colab": {
     "base_uri": "https://localhost:8080/"
    },
    "id": "fc8tkrovfvi9",
    "outputId": "e599607e-7c1c-45fb-d2be-a22030dcdd24"
   },
   "outputs": [
    {
     "name": "stdout",
     "output_type": "stream",
     "text": [
      "Epoch 1/25\n",
      "79/79 [==============================] - 4s 42ms/step - loss: 14.4420 - accuracy: 0.7290 - val_loss: 11.4588 - val_accuracy: 0.8758\n",
      "Epoch 2/25\n",
      "79/79 [==============================] - 3s 40ms/step - loss: 10.5917 - accuracy: 0.9831 - val_loss: 8.4672 - val_accuracy: 0.8843\n",
      "Epoch 3/25\n",
      "79/79 [==============================] - 3s 40ms/step - loss: 7.8069 - accuracy: 0.9936 - val_loss: 6.2987 - val_accuracy: 0.8837\n",
      "Epoch 4/25\n",
      "79/79 [==============================] - 3s 40ms/step - loss: 5.7818 - accuracy: 0.9941 - val_loss: 4.7244 - val_accuracy: 0.8846\n",
      "Epoch 5/25\n",
      "79/79 [==============================] - 3s 40ms/step - loss: 4.3105 - accuracy: 0.9939 - val_loss: 3.5793 - val_accuracy: 0.8855\n",
      "Epoch 6/25\n",
      "79/79 [==============================] - 3s 39ms/step - loss: 3.2360 - accuracy: 0.9926 - val_loss: 2.7458 - val_accuracy: 0.8858\n",
      "Epoch 7/25\n",
      "79/79 [==============================] - 3s 40ms/step - loss: 2.4535 - accuracy: 0.9925 - val_loss: 2.1379 - val_accuracy: 0.8866\n",
      "Epoch 8/25\n",
      "79/79 [==============================] - 3s 39ms/step - loss: 1.8812 - accuracy: 0.9915 - val_loss: 1.6943 - val_accuracy: 0.8870\n",
      "Epoch 9/25\n",
      "79/79 [==============================] - 3s 40ms/step - loss: 1.4625 - accuracy: 0.9917 - val_loss: 1.3701 - val_accuracy: 0.8869\n",
      "Epoch 10/25\n",
      "79/79 [==============================] - 3s 40ms/step - loss: 1.1536 - accuracy: 0.9911 - val_loss: 1.1328 - val_accuracy: 0.8869\n",
      "Epoch 11/25\n",
      "79/79 [==============================] - 3s 40ms/step - loss: 0.9295 - accuracy: 0.9919 - val_loss: 0.9586 - val_accuracy: 0.8871\n",
      "Epoch 12/25\n",
      "79/79 [==============================] - 3s 39ms/step - loss: 0.7631 - accuracy: 0.9902 - val_loss: 0.8312 - val_accuracy: 0.8867\n",
      "Epoch 13/25\n",
      "79/79 [==============================] - 3s 40ms/step - loss: 0.6387 - accuracy: 0.9914 - val_loss: 0.7371 - val_accuracy: 0.8867\n",
      "Epoch 14/25\n",
      "79/79 [==============================] - 3s 39ms/step - loss: 0.5473 - accuracy: 0.9912 - val_loss: 0.6675 - val_accuracy: 0.8867\n",
      "Epoch 15/25\n",
      "79/79 [==============================] - 3s 40ms/step - loss: 0.4794 - accuracy: 0.9906 - val_loss: 0.6165 - val_accuracy: 0.8866\n",
      "Epoch 16/25\n",
      "79/79 [==============================] - 3s 39ms/step - loss: 0.4260 - accuracy: 0.9921 - val_loss: 0.5784 - val_accuracy: 0.8864\n",
      "Epoch 17/25\n",
      "79/79 [==============================] - 3s 40ms/step - loss: 0.3888 - accuracy: 0.9910 - val_loss: 0.5498 - val_accuracy: 0.8865\n",
      "Epoch 18/25\n",
      "79/79 [==============================] - 3s 39ms/step - loss: 0.3591 - accuracy: 0.9915 - val_loss: 0.5288 - val_accuracy: 0.8862\n",
      "Epoch 19/25\n",
      "79/79 [==============================] - 3s 39ms/step - loss: 0.3360 - accuracy: 0.9926 - val_loss: 0.5123 - val_accuracy: 0.8862\n",
      "Epoch 20/25\n",
      "79/79 [==============================] - 3s 39ms/step - loss: 0.3186 - accuracy: 0.9928 - val_loss: 0.5001 - val_accuracy: 0.8864\n",
      "Epoch 21/25\n",
      "79/79 [==============================] - 3s 39ms/step - loss: 0.3034 - accuracy: 0.9920 - val_loss: 0.4908 - val_accuracy: 0.8863\n",
      "Epoch 22/25\n",
      "79/79 [==============================] - 3s 40ms/step - loss: 0.2924 - accuracy: 0.9924 - val_loss: 0.4834 - val_accuracy: 0.8859\n",
      "Epoch 23/25\n",
      "79/79 [==============================] - 3s 39ms/step - loss: 0.2820 - accuracy: 0.9933 - val_loss: 0.4769 - val_accuracy: 0.8866\n",
      "Epoch 24/25\n",
      "79/79 [==============================] - 3s 40ms/step - loss: 0.2767 - accuracy: 0.9918 - val_loss: 0.4727 - val_accuracy: 0.8857\n",
      "Epoch 25/25\n",
      "79/79 [==============================] - 3s 39ms/step - loss: 0.2694 - accuracy: 0.9930 - val_loss: 0.4692 - val_accuracy: 0.8856\n"
     ]
    }
   ],
   "source": [
    "history = model.fit(x_train,\n",
    "                    y_train,\n",
    "                    epochs=25,\n",
    "                    batch_size=512,\n",
    "                    validation_data=(x_test, y_test),\n",
    "                    verbose=1)"
   ]
  },
  {
   "cell_type": "code",
   "execution_count": null,
   "metadata": {
    "colab": {
     "base_uri": "https://localhost:8080/"
    },
    "id": "fpoLi2bjfzdR",
    "outputId": "62105156-5e5d-4b1f-97cc-f049036f10d8"
   },
   "outputs": [
    {
     "name": "stdout",
     "output_type": "stream",
     "text": [
      "313/313 [==============================] - 1s 4ms/step - loss: 0.4692 - accuracy: 0.8856\n",
      "[0.46918848156929016, 0.8855999708175659]\n"
     ]
    }
   ],
   "source": [
    "results = model.evaluate(x_test, y_test)\n",
    "\n",
    "print(results)"
   ]
  },
  {
   "cell_type": "markdown",
   "metadata": {
    "id": "xrSL2cE6jTM-"
   },
   "source": [
    "Comparision of 3 models\n",
    "\n",
    "1. Base Model: \n",
    "\n",
    "  --->Training set : loss: 0.2919 - accuracy: 0.9493 <br>\n",
    "  --->Test Set: loss: 0.371 - accuracy: 0.894 \n",
    "\n",
    "<br><br>\n",
    "2. Model 1: loss:\n",
    "\n",
    "  --->Training set : loss: 0.1692 - accuracy: 0.9908 <br>\n",
    "  --->Test Set: loss: 0.3843 - accuracy: 0.8881\n",
    "\n",
    "<br><br>\n",
    "3. Model 2:\n",
    "\n",
    "  --->Training set : loss: 0.2694 - accuracy: 0.9930 <br>\n",
    "  --->Test Set: loss: 0.4692 - accuracy: 0.8856\n",
    "\n",
    "\n",
    "  *Base model is the best among 3 as it has more accuracy on test data compared to other models while other models has more accuracy on training data that shows overfitting.*"
   ]
  },
  {
   "cell_type": "code",
   "execution_count": null,
   "metadata": {
    "id": "dHINhpG9f68z"
   },
   "outputs": [],
   "source": []
  }
 ],
 "metadata": {
  "accelerator": "GPU",
  "colab": {
   "collapsed_sections": [],
   "name": "DL_Q2_NLP.ipynb",
   "provenance": []
  },
  "kernelspec": {
   "display_name": "Python 3",
   "language": "python",
   "name": "python3"
  },
  "language_info": {
   "codemirror_mode": {
    "name": "ipython",
    "version": 3
   },
   "file_extension": ".py",
   "mimetype": "text/x-python",
   "name": "python",
   "nbconvert_exporter": "python",
   "pygments_lexer": "ipython3",
   "version": "3.8.3"
  }
 },
 "nbformat": 4,
 "nbformat_minor": 1
}
